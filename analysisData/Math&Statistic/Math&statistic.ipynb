{
  "cells": [
    {
      "cell_type": "code",
      "execution_count": 10,
      "outputs": [],
      "source": "import matplotlib.pyplot as plt\nimport numpy as np\nimport pandas as pd\nimport statsmodels.api as sm\nimport tushare as ts\n%matplotlib inline\n",
      "metadata": {
        "pycharm": {
          "metadata": false,
          "name": "#%%\n",
          "is_executing": false
        }
      }
    },
    {
      "cell_type": "code",
      "execution_count": 23,
      "outputs": [],
      "source": "#start ini api\npro\u003dts.pro_api(\u00279526a2198c86fb0a72fa552f74ba1140033871f755dcd769e3134b7b\u0027)\n",
      "metadata": {
        "pycharm": {
          "metadata": false,
          "name": "#%%\n",
          "is_executing": false
        }
      }
    },
    {
      "cell_type": "code",
      "execution_count": 24,
      "outputs": [],
      "source": "df_mt\u003dpro.daily(ts_code\u003d\u0027600519.SH\u0027,start_date\u003d\u002720190101\u0027,end_date\u003d\u002720190706\u0027)\ndf_dong\u003dpro.daily(ts_code\u003d\u0027600776.SH\u0027,start_date\u003d\u002720190101\u0027,end_date\u003d\u002720190706\u0027)\n",
      "metadata": {
        "pycharm": {
          "metadata": false,
          "name": "#%%\n",
          "is_executing": false
        }
      }
    },
    {
      "cell_type": "code",
      "execution_count": 28,
      "outputs": [],
      "source": "df_mt[\u0027trade_date\u0027]\u003dpd.to_datetime(df_mt[\u0027trade_date\u0027])\ndf_dong[\u0027trade_date\u0027]\u003dpd.to_datetime(df_dong[\u0027trade_date\u0027])\n",
      "metadata": {
        "pycharm": {
          "metadata": false,
          "name": "#%%\n",
          "is_executing": false
        }
      }
    },
    {
      "cell_type": "code",
      "execution_count": 30,
      "outputs": [],
      "source": "df_mt.set_index([\u0027trade_date\u0027],inplace\u003dTrue)\ndf_dong.set_index([\u0027trade_date\u0027],inplace\u003dTrue)\n",
      "metadata": {
        "pycharm": {
          "metadata": false,
          "name": "#%%\n",
          "is_executing": false
        }
      }
    },
    {
      "cell_type": "code",
      "execution_count": 35,
      "outputs": [],
      "source": "df_sum\u003dpd.merge(df_mt,df_dong,left_index\u003dTrue,right_index\u003dTrue,suffixes\u003d[\u0027_mt\u0027,\u0027_dong\u0027])\n",
      "metadata": {
        "pycharm": {
          "metadata": false,
          "name": "#%%\n",
          "is_executing": false
        }
      }
    },
    {
      "cell_type": "code",
      "execution_count": 37,
      "outputs": [
        {
          "data": {
            "text/plain": "           ts_code_mt  open_mt  high_mt  low_mt  close_mt  pre_close_mt  \\\ntrade_date                                                                \n2019-01-08  600519.SH   605.50   612.00  600.28    604.79        605.49   \n2019-01-07  600519.SH   608.00   612.00  602.22    605.49        602.00   \n2019-01-04  600519.SH   587.28   607.67  582.02    602.00        590.00   \n2019-01-03  600519.SH   599.97   601.66  585.80    590.00        598.98   \n2019-01-02  600519.SH   609.98   612.00  595.01    598.98        590.01   \n\n            change_mt  pct_chg_mt    vol_mt    amount_mt ts_code_dong  \\\ntrade_date                                                              \n2019-01-08      -0.70     -0.1156  28838.13  1750413.219    600776.SH   \n2019-01-07       3.49      0.5797  34750.13  2105981.461    600776.SH   \n2019-01-04      12.00      2.0339  37683.47  2258501.484    600776.SH   \n2019-01-03      -8.98     -1.4992  30977.35  1838179.174    600776.SH   \n2019-01-02       8.97      1.5203  62286.49  3754387.984    600776.SH   \n\n            open_dong  high_dong  low_dong  close_dong  pre_close_dong  \\\ntrade_date                                                               \n2019-01-08      15.30      16.04     14.58       15.60           14.58   \n2019-01-07      13.25      14.58     13.25       14.58           13.25   \n2019-01-04      13.08      13.94     12.90       13.25           13.88   \n2019-01-03      13.00      13.88     11.87       13.88           12.62   \n2019-01-02      11.46      12.62     11.22       12.62           11.47   \n\n            change_dong  pct_chg_dong    vol_dong  amount_dong  \ntrade_date                                                      \n2019-01-08         1.02        6.9959  1378221.64  2157031.362  \n2019-01-07         1.33       10.0377   980637.26  1381987.935  \n2019-01-04        -0.63       -4.5389  1194792.97  1602096.166  \n2019-01-03         1.26        9.9842  1511772.63  1972485.922  \n2019-01-02         1.15       10.0262   970425.74  1190179.310  ",
            "text/html": "\u003cdiv\u003e\n\u003cstyle scoped\u003e\n    .dataframe tbody tr th:only-of-type {\n        vertical-align: middle;\n    }\n\n    .dataframe tbody tr th {\n        vertical-align: top;\n    }\n\n    .dataframe thead th {\n        text-align: right;\n    }\n\u003c/style\u003e\n\u003ctable border\u003d\"1\" class\u003d\"dataframe\"\u003e\n  \u003cthead\u003e\n    \u003ctr style\u003d\"text-align: right;\"\u003e\n      \u003cth\u003e\u003c/th\u003e\n      \u003cth\u003ets_code_mt\u003c/th\u003e\n      \u003cth\u003eopen_mt\u003c/th\u003e\n      \u003cth\u003ehigh_mt\u003c/th\u003e\n      \u003cth\u003elow_mt\u003c/th\u003e\n      \u003cth\u003eclose_mt\u003c/th\u003e\n      \u003cth\u003epre_close_mt\u003c/th\u003e\n      \u003cth\u003echange_mt\u003c/th\u003e\n      \u003cth\u003epct_chg_mt\u003c/th\u003e\n      \u003cth\u003evol_mt\u003c/th\u003e\n      \u003cth\u003eamount_mt\u003c/th\u003e\n      \u003cth\u003ets_code_dong\u003c/th\u003e\n      \u003cth\u003eopen_dong\u003c/th\u003e\n      \u003cth\u003ehigh_dong\u003c/th\u003e\n      \u003cth\u003elow_dong\u003c/th\u003e\n      \u003cth\u003eclose_dong\u003c/th\u003e\n      \u003cth\u003epre_close_dong\u003c/th\u003e\n      \u003cth\u003echange_dong\u003c/th\u003e\n      \u003cth\u003epct_chg_dong\u003c/th\u003e\n      \u003cth\u003evol_dong\u003c/th\u003e\n      \u003cth\u003eamount_dong\u003c/th\u003e\n    \u003c/tr\u003e\n    \u003ctr\u003e\n      \u003cth\u003etrade_date\u003c/th\u003e\n      \u003cth\u003e\u003c/th\u003e\n      \u003cth\u003e\u003c/th\u003e\n      \u003cth\u003e\u003c/th\u003e\n      \u003cth\u003e\u003c/th\u003e\n      \u003cth\u003e\u003c/th\u003e\n      \u003cth\u003e\u003c/th\u003e\n      \u003cth\u003e\u003c/th\u003e\n      \u003cth\u003e\u003c/th\u003e\n      \u003cth\u003e\u003c/th\u003e\n      \u003cth\u003e\u003c/th\u003e\n      \u003cth\u003e\u003c/th\u003e\n      \u003cth\u003e\u003c/th\u003e\n      \u003cth\u003e\u003c/th\u003e\n      \u003cth\u003e\u003c/th\u003e\n      \u003cth\u003e\u003c/th\u003e\n      \u003cth\u003e\u003c/th\u003e\n      \u003cth\u003e\u003c/th\u003e\n      \u003cth\u003e\u003c/th\u003e\n      \u003cth\u003e\u003c/th\u003e\n      \u003cth\u003e\u003c/th\u003e\n    \u003c/tr\u003e\n  \u003c/thead\u003e\n  \u003ctbody\u003e\n    \u003ctr\u003e\n      \u003cth\u003e2019-01-08\u003c/th\u003e\n      \u003ctd\u003e600519.SH\u003c/td\u003e\n      \u003ctd\u003e605.50\u003c/td\u003e\n      \u003ctd\u003e612.00\u003c/td\u003e\n      \u003ctd\u003e600.28\u003c/td\u003e\n      \u003ctd\u003e604.79\u003c/td\u003e\n      \u003ctd\u003e605.49\u003c/td\u003e\n      \u003ctd\u003e-0.70\u003c/td\u003e\n      \u003ctd\u003e-0.1156\u003c/td\u003e\n      \u003ctd\u003e28838.13\u003c/td\u003e\n      \u003ctd\u003e1750413.219\u003c/td\u003e\n      \u003ctd\u003e600776.SH\u003c/td\u003e\n      \u003ctd\u003e15.30\u003c/td\u003e\n      \u003ctd\u003e16.04\u003c/td\u003e\n      \u003ctd\u003e14.58\u003c/td\u003e\n      \u003ctd\u003e15.60\u003c/td\u003e\n      \u003ctd\u003e14.58\u003c/td\u003e\n      \u003ctd\u003e1.02\u003c/td\u003e\n      \u003ctd\u003e6.9959\u003c/td\u003e\n      \u003ctd\u003e1378221.64\u003c/td\u003e\n      \u003ctd\u003e2157031.362\u003c/td\u003e\n    \u003c/tr\u003e\n    \u003ctr\u003e\n      \u003cth\u003e2019-01-07\u003c/th\u003e\n      \u003ctd\u003e600519.SH\u003c/td\u003e\n      \u003ctd\u003e608.00\u003c/td\u003e\n      \u003ctd\u003e612.00\u003c/td\u003e\n      \u003ctd\u003e602.22\u003c/td\u003e\n      \u003ctd\u003e605.49\u003c/td\u003e\n      \u003ctd\u003e602.00\u003c/td\u003e\n      \u003ctd\u003e3.49\u003c/td\u003e\n      \u003ctd\u003e0.5797\u003c/td\u003e\n      \u003ctd\u003e34750.13\u003c/td\u003e\n      \u003ctd\u003e2105981.461\u003c/td\u003e\n      \u003ctd\u003e600776.SH\u003c/td\u003e\n      \u003ctd\u003e13.25\u003c/td\u003e\n      \u003ctd\u003e14.58\u003c/td\u003e\n      \u003ctd\u003e13.25\u003c/td\u003e\n      \u003ctd\u003e14.58\u003c/td\u003e\n      \u003ctd\u003e13.25\u003c/td\u003e\n      \u003ctd\u003e1.33\u003c/td\u003e\n      \u003ctd\u003e10.0377\u003c/td\u003e\n      \u003ctd\u003e980637.26\u003c/td\u003e\n      \u003ctd\u003e1381987.935\u003c/td\u003e\n    \u003c/tr\u003e\n    \u003ctr\u003e\n      \u003cth\u003e2019-01-04\u003c/th\u003e\n      \u003ctd\u003e600519.SH\u003c/td\u003e\n      \u003ctd\u003e587.28\u003c/td\u003e\n      \u003ctd\u003e607.67\u003c/td\u003e\n      \u003ctd\u003e582.02\u003c/td\u003e\n      \u003ctd\u003e602.00\u003c/td\u003e\n      \u003ctd\u003e590.00\u003c/td\u003e\n      \u003ctd\u003e12.00\u003c/td\u003e\n      \u003ctd\u003e2.0339\u003c/td\u003e\n      \u003ctd\u003e37683.47\u003c/td\u003e\n      \u003ctd\u003e2258501.484\u003c/td\u003e\n      \u003ctd\u003e600776.SH\u003c/td\u003e\n      \u003ctd\u003e13.08\u003c/td\u003e\n      \u003ctd\u003e13.94\u003c/td\u003e\n      \u003ctd\u003e12.90\u003c/td\u003e\n      \u003ctd\u003e13.25\u003c/td\u003e\n      \u003ctd\u003e13.88\u003c/td\u003e\n      \u003ctd\u003e-0.63\u003c/td\u003e\n      \u003ctd\u003e-4.5389\u003c/td\u003e\n      \u003ctd\u003e1194792.97\u003c/td\u003e\n      \u003ctd\u003e1602096.166\u003c/td\u003e\n    \u003c/tr\u003e\n    \u003ctr\u003e\n      \u003cth\u003e2019-01-03\u003c/th\u003e\n      \u003ctd\u003e600519.SH\u003c/td\u003e\n      \u003ctd\u003e599.97\u003c/td\u003e\n      \u003ctd\u003e601.66\u003c/td\u003e\n      \u003ctd\u003e585.80\u003c/td\u003e\n      \u003ctd\u003e590.00\u003c/td\u003e\n      \u003ctd\u003e598.98\u003c/td\u003e\n      \u003ctd\u003e-8.98\u003c/td\u003e\n      \u003ctd\u003e-1.4992\u003c/td\u003e\n      \u003ctd\u003e30977.35\u003c/td\u003e\n      \u003ctd\u003e1838179.174\u003c/td\u003e\n      \u003ctd\u003e600776.SH\u003c/td\u003e\n      \u003ctd\u003e13.00\u003c/td\u003e\n      \u003ctd\u003e13.88\u003c/td\u003e\n      \u003ctd\u003e11.87\u003c/td\u003e\n      \u003ctd\u003e13.88\u003c/td\u003e\n      \u003ctd\u003e12.62\u003c/td\u003e\n      \u003ctd\u003e1.26\u003c/td\u003e\n      \u003ctd\u003e9.9842\u003c/td\u003e\n      \u003ctd\u003e1511772.63\u003c/td\u003e\n      \u003ctd\u003e1972485.922\u003c/td\u003e\n    \u003c/tr\u003e\n    \u003ctr\u003e\n      \u003cth\u003e2019-01-02\u003c/th\u003e\n      \u003ctd\u003e600519.SH\u003c/td\u003e\n      \u003ctd\u003e609.98\u003c/td\u003e\n      \u003ctd\u003e612.00\u003c/td\u003e\n      \u003ctd\u003e595.01\u003c/td\u003e\n      \u003ctd\u003e598.98\u003c/td\u003e\n      \u003ctd\u003e590.01\u003c/td\u003e\n      \u003ctd\u003e8.97\u003c/td\u003e\n      \u003ctd\u003e1.5203\u003c/td\u003e\n      \u003ctd\u003e62286.49\u003c/td\u003e\n      \u003ctd\u003e3754387.984\u003c/td\u003e\n      \u003ctd\u003e600776.SH\u003c/td\u003e\n      \u003ctd\u003e11.46\u003c/td\u003e\n      \u003ctd\u003e12.62\u003c/td\u003e\n      \u003ctd\u003e11.22\u003c/td\u003e\n      \u003ctd\u003e12.62\u003c/td\u003e\n      \u003ctd\u003e11.47\u003c/td\u003e\n      \u003ctd\u003e1.15\u003c/td\u003e\n      \u003ctd\u003e10.0262\u003c/td\u003e\n      \u003ctd\u003e970425.74\u003c/td\u003e\n      \u003ctd\u003e1190179.310\u003c/td\u003e\n    \u003c/tr\u003e\n  \u003c/tbody\u003e\n\u003c/table\u003e\n\u003c/div\u003e"
          },
          "metadata": {},
          "output_type": "execute_result",
          "execution_count": 37
        }
      ],
      "source": "df_sum.tail()\n\n",
      "metadata": {
        "pycharm": {
          "metadata": false,
          "name": "#%%\n",
          "is_executing": false
        }
      }
    },
    {
      "cell_type": "code",
      "execution_count": 55,
      "outputs": [
        {
          "data": {
            "text/plain": "0.3865376252895256"
          },
          "metadata": {},
          "output_type": "execute_result",
          "execution_count": 55
        }
      ],
      "source": "df_sum[\u0027close_mt\u0027].corr(df_sum[\u0027close_dong\u0027])\n",
      "metadata": {
        "pycharm": {
          "metadata": false,
          "name": "#%%\n",
          "is_executing": false
        }
      }
    },
    {
      "cell_type": "code",
      "execution_count": 62,
      "outputs": [
        {
          "data": {
            "text/plain": "array([\u003cmatplotlib.axes._subplots.AxesSubplot object at 0x0000023949CE8F98\u003e,\n       \u003cmatplotlib.axes._subplots.AxesSubplot object at 0x0000023949A249E8\u003e],\n      dtype\u003dobject)"
          },
          "metadata": {},
          "output_type": "execute_result",
          "execution_count": 62
        },
        {
          "data": {
            "text/plain": "\u003cFigure size 432x288 with 2 Axes\u003e",
            "image/png": "iVBORw0KGgoAAAANSUhEUgAAAX0AAAEFCAYAAAAPCDf9AAAABHNCSVQICAgIfAhkiAAAAAlwSFlzAAALEgAACxIB0t1+/AAAADh0RVh0U29mdHdhcmUAbWF0cGxvdGxpYiB2ZXJzaW9uMy4xLjAsIGh0dHA6Ly9tYXRwbG90bGliLm9yZy+17YcXAAAgAElEQVR4nOzdd1zV1f/A8ddhoyAgoCKogHuhJu4UV5mjtNIsNUd+s/GtbFvflv3Kpi1tmjkzR1lpajlyb1EU91ZEUJagsrn3/P44FwUZsi6XC+f5ePC4cD+fz/2czwXe93zOeB8hpUTTNE2rGmwsXQBN0zSt/Oigr2maVoXooK9pmlaF6KCvaZpWheigr2maVoXooK9pmlaF2Fm6AIXx8vKS/v7+li6GpmmaVdm7d2+clNI7v20VOuj7+/sTGhpq6WJomqZZFSHE+YK26eYdTdM0K5OWacBoLNnEWh30NU3TrMjVtEz6fLaJgdO3cuzS1WIfr4O+pmmaFfn0n+NEJ6Vy+Woa903fxq4z8cU6vkK36ecnMzOTyMhI0tLSLF0Uq+Tk5ISfnx/29vaWLoqmacUUFnGFn3edZ2xXf57p1YieUzfyR9hFOgV6Fvk1bhv0hRCzgEFAjJSylem5msBiwB84BzwkpbwihBDAV8AAIAUYK6XcZzpmDPCm6WXfl1LOLXIpc4iMjMTV1RV/f3/U6bSiklISHx9PZGQkAQEBli6OpmnFkGkw8vrvB6nt6sRLdzfFxdGOrg092XIyDillkeNhUZp35gD33PLca8C/UsrGwL+mnwH6A41NXxOA7+DGh8Q7QCegI/COEMKjSCW8RVpaGp6enjrgl4AQAk9PT32XpGlWaPa2sxy7dI3J97XExVHV1+9s5MXFxFTOx6cU+XVuG/SllJuBhFueHgxk19TnAkNyPD9PKjsBdyGED9APWCulTJBSXgHWkveDpMh0wC85/d5pmvWJvJLCF2tP0rd5Lfq1rH3j+Tsbq6H4W07F3XjuVMy1Ql+rpB25taWU0QCmx1qm532BCznLanquoOfzEEJMEEKECiFCY2NjS1g8TdM065WSkcW0f09yKSkNKSXvLDuMEPDu4Fa5Km7+ntXwdXdm28mbQX/y8iOFvnZZj97JrxopC3k+75NSzpBSBkspg729851QViFNnjyZqVOnWroYAMyZM4eoqChLF0PTtBKa9u8pPl97gsfnhbJsfxT/Hovhhb5N8HV3zrWfEII7G3mx/XQcBqNk68k4tuao9eenpEH/sqnZBtNjjOn5SKBejv38gKhCntfMQAd9Tav4klIzWbQ7guE/7ODe6VuZv+McV9MyORVzjZlbztCmnjsHLybx/OL9NPepwbhu/vm+TvcmXlxNy+L9lUf4ZPWxPB8MtyrpkM3lwBjgI9PjshzPPyOEWITqtE2SUkYLIVYDH+TovL0beL2E577h3b8OcySq+JMTCtOibg3eubflbfebN28eU6dORQhBUFAQDRs2vLFt//79PPnkk6SkpNCwYUNmzZqFh4cH06ZN4/vvv8fOzo4WLVqwaNEikpOTefbZZzl48CBZWVlMnjyZwYMH53vOOXPm8Oeff2IwGDh06BAvvfQSGRkZzJ8/H0dHR1atWsX69esJDQ1l5MiRODs7s2PHDpydC/8j0DStfGRkGdl0IpY/wiJZdzSGjCwjgd7Vcba35a1lh/m/FUdwr+ZANQdbfhoTzKLdEUxff4oP7m+FnW3+dfR7WtZhRKf6zN52DoCpw9qwvZDoWpQhmwuBnoCXECISNQrnI2CJEGI8EAEMM+2+CjVc8xRqyOY4ACllghDiPWCPab//k1Le2jlsNQ4fPsyUKVPYtm0bXl5eJCQkMG3atBvbR48ezfTp0wkJCeHtt9/m3Xff5csvv+Sjjz7i7NmzODo6kpiYCMCUKVPo3bs3s2bNIjExkY4dO9K3b1+qV6+e77kPHTpEWFgYaWlpNGrUiI8//piwsDBeeOEF5s2bx/PPP8/XX3/N1KlTCQ4OLpf3Q7Oco9FXmbfjPCM71aeVr1uh+2YZjOy/kEh4ZBLNfFzp2tCrnEqpTV19nA3HYzgXl0xyhgHP6g6M6FifB+7wpbXp93YgMomV4VFsPhHHEyGBeLk48kzvxoy/MxBnB9sCX9vO1oYP7m9N/1Z12H02gfvb5dtdenP/2xVWSvlIAZv65LOvBP5bwOvMAmbd7nzFUZQauTmsX7+eoUOH4uWl/mlq1qx5Y1tSUhKJiYmEhIQAMGbMGIYNU5+JQUFBjBw5kiFDhjBkiBrwtGbNGpYvX36jPyAtLY2IiAiaN2+e77l79eqFq6srrq6uuLm5ce+99wLQunVrwsPDzXPBWoX1xdoTrDlymYW7I3ikYz0+fCAo3/2upmUyYV4oO8+oupatjWDm6GB6NauV7/5a2bmalsk3G0/RtLYrD7b3o2dTb7o39sb+lpp723rutK3nzhsDcx9fWMDPqXtj9bq3Y3UzciuC4kyEyGnlypVs3ryZ5cuX895773H48GGklCxdupSmTZsW6TUcHR1vfG9jY3PjZxsbG7KysopdJs16xV5LZ/2xGEZ2qo8Q8PPOCPq1rEPPprkDeczVNMbM3sPJy9d4b3BLujf25pmF+/jvL/tYPKELrf0Kv0PQSicsIhEp4c2BLbizseXvrnTunRLo06cPS5YsIT5e5bxISLjZUuXm5oaHhwdbtmwBYP78+YSEhGA0Grlw4QK9evXik08+ITExkevXr9OvXz+mT5+OukmCsLCwUpfP1dWVa9cKH6urWb/f90WSZZSM6xbA24Na4u9ZjSkrj5JlMN7Y52xcMg98t53z8cnMGtuBR7v44+9VnVljOuBRzYHH5u7hQkLRJ/Zoxbf3XAK2NoK29d0tXRRA1/RLpGXLlrzxxhuEhIRga2tLu3btyLnYy9y5c2905AYGBjJ79mwMBgOjRo0iKSkJKSUvvPAC7u7uvPXWWzz//PMEBQUhpcTf358VK1aUqnxjx47lySef1B25ViohOYO/D0VzfztfnO1t+X3fRY5GX6WOmxN13Z3xMT0uCb1A+wYeNKrlAsBr/Zvz5M97mb3tHI/3CCQ8MpFxs/cggYWPd6ZNvZtBp1YNJ+aM68CD321n3Jw9LH2yK27VdD4mc9hz7grNfVxvzKK1NJFdw6yIgoOD5a2LqBw9erTA9m6taPR7WH7Sswy8tvQgT4QE0qxOjSLt/8iMneyLSMTPw5mG3i5sOhGLva0g05D3f/WTB4N4qIMaDS2lZNycPWw8HsvAIB82HIuhZnUH5j3WkUBvl3zPt/NMPKN/2k3b+u7MH98RR7uitR9rRZNpMBI0eQ3DO9Rj8n3l1wcphNgrpcx3JEfF+OjRtEpq3/lE/gi7SEpGFj88WvhoKiklb/xxiH0RiTzftzHL9kex43Q8bw1qwbiu/iSlZhKVlMqlpDSiktJIzchicLu6N44XQvDj6GCmrj7OD5vP0NynBnPHdaBWDacCz9k50JNPhwUxcdF+Xv41nK+Gt8XGRqfqKCtHo6+SmmmgfYMSpRozCx30K6DVq1czadKkXM8FBATwxx9/WKhEWkntPa/6e9YcuUxEfAr1PasVuO++iCv8tjeSZ3s34vm+TXiqZ0Oupmbh7ao66z2qO+BR3YGWdQvueLW3teH1Ac15sL0ffh7OVHO4/b/44La+RCWm8fE/amLPa/2bFfMqtYKEnrsCQLC/DvqlUtLRM9aiX79+9OvXzyyvXZGb8yqj0PNXqFPDibjr6czdcY63BrUocN81Ry5jbyuY0CMQAEc7W7xdS9bc0qS2a7H2fzIkkIuJKXy/6TS+Hs482rlBic6bn9QMA9tPx+Fsb0vXRpYfvVKetp+Ow9fdGR+3itOvZnVB38nJifj4eJ1euQSy8+k7ORV8u6+VHaNRsvf8FQYF+ZCcbmDJngs817txgR2m645cplOAJ65O5d+hKoRg8r0tiU5M451lh/Cp4UTfFrVvf+Bt7DoTz5jZu0nLNOJgZ8OO13rj6eJ4+wMrgY3HY1h3NIZnezeydFFysbqg7+fnR2RkJDoDZ8lkr5ylmd+JmGtcS8uifYOaNKvjyqqD0Ty1YC9zxnXEwS73aOlzccmcjk0u0xp2cdnZ2jB9RDsenrGTZxeGsWhC7hE/JbF0XyQOtja8N7gVr/wWzqI9F/hvr4oVBM3halomr/9+kMa1XHhGB/3Ssbe316s+aVbhRntuAw/8varzydAgXlxygKcX7GNM1wa0q+9xYxjfuqOXAejTvPS169Ko5mDHT2M68MB32xg/dw+/P9Wt0H6I29l1NoGOAZ4MC67H8gNRzN9xngk9AvPMRi2t5PQsnOxtsS2nTuiMLCOh5xNITMmkmoMt1R3t1KODHWfjk/nkn+NcvprGd093q3Ajoqwu6Guatdh7/gpeLo40MAXNB+7wI/56Bh/9c4x1Ry9jI1SCv+AGNdl5Jp5mdVypV7PkAbaseLs6MmdcRx78bjtj5+xm6ZNd8ajukGe/1AwDUUmpNCxgOOilpDTOx6fcuHsZ29Wf8XNDWX34EoOC6uZ7TEmkZhjoOXUjntUdmDqszW1zEBXXsUtXGT8nlJCm3nT0r8m/x2LYeCyGa+kFz4D383Dm25HtaVvKOyVz0EFf08qYwSj5+1A0G4/H0Ckgd9/T4z0CeaRTfcIirrDn3BVCzyWweM8FUjMNTOzT2IKlzq2htws/jg5m5MxdTFy8n7njOuTpQ/tmwym+3nCK7o29eL5vkzzDEnedVTPWOwWoRbt7Na2Fv2c13ll2GBdHuzzpIkpq2f6LxF5LJyPLyOBvtvHDqPZl0h+R7e+Dl4hKSmXp3kh+2RVBzeoODGjtQ98WtalX05mUDAMp6QaSM7JIycjCzsaGu1vWrnA1/Gw66GtaGYq/ns7j80LZF5FIQ+/qPN2rYZ59XBztciXHyjQYOR17nQCv/DOrWkoH/5r8r38zJv91hL/Co7mvTe7a+Z5zCXi7OnI46ioPfrednk29eaFvkxv9ADvPJODqaEeLumpSmo2NYOaYDjzzyz7Gzt7DhB6BvHx301z9GwajLFYTjZSSeTvO06yOK4sndOHhH3fy+h8H6eBfs8xmGO88E0/LujWY/1gnzsYnE+TrVmCaY2tgvSXXtArmfHwyD363ncNRV5k6rA1rXgghyO/2t/f2tjY0q1OjQtYMH+3iT5CfG++tOEJSauaN5w1GyaGLSfRvVYctr/Zi0j3N2H8hkcHfbGP8nD0cjb7KrrPxBPt75ArijWq58Od/uzGqc31mbD7DsO9VXiCjUfLa0nDav7+W5QeKvgDQvohEjkRfZVTnBrhVs+fToUEkJGfw7l+HCYu4wobjMSzbf5F5O84x/d+ThEcmFuv60zINhF1IpHOAJx7VHbijvodVB3zQNX1NKxMHLiTy2Jw9GKTkl8c70b5BzdsfZAVsbQQf3N+a+77eyrDvt/PGwBaENPHmbNx1kjMMBPm5U93Rjqd6NmRU5/rM3X6OGZvPMGDaFqSEh4Lr5XlNJ3tb3h/Smm4NvZi0NJyB07YS7O/BxuOx+Hk489zCMA5GJvLGwILnNIBaH+CbDadwcbRjiCmHfCtfNyb0COS7jaf5PexinmMW7o5g3UshRZq0BipDZkaWkc6BnkXa3xrooK9ppbT+2GX+uyAML1cH5ozrWGDHprVq5evGzDHBvPvXEcbM2s0Pj7bneprqxGyTIy2zq5M9z/RuzKOd/fl24yn+OhDFXYW0rfdv7UNrPzcmLtrPxuOxPNe7Ec/1acwrv4Uze9s5ngxpiKeLI1kGI2lZRgwGSabRiMEoycgy8n8rjrD+WAz/G9AsVzKzl+5qQkd/9aHrVs0eN2f1dfLydR75cSffbjjNy/2Klsp819l4hIAOAZXjQxysMOGaplUkC3dH8Oafh2jhU4OfxgZTy7XyTnxLzzLQe+omAryq09C7Or/ujeTg5H6lHiaZZTBy/PI1WvjUQAjBsUtXuefLLUy+twUDgnwY8vU2opLS8hwnBEy+tyVjuvoX+VwvLt7PivBo5o/vSMeAmred4PnwjB1cT89ixbPdi3tZFqUTrmlaGZNS8sXaE0xbf4qQJt58O/IOqleQ1Lnm4mhny0PB9fhi3QnOxiXTytetTMbF29na5Mon1KxODVr41OD3sIscjb5G7PV0Xr2nKU52ttjZCmxtBPY2NjSs5VLsRGav9W/GphOxDJ+xk8a1XPj8obZ5FpHJyDJyOCqJveevsC8ikdEWnDBnDpX7r1TTzEBKyeu/H2TRngsMa+/HBw+0LvPJRhXV0GA/vvz3BBcTU+nfqo7ZzvPAHb68v/IoBy8mMb5bAE/3LJtZrbVqOLHhlZ6sCo9m+vpTjPhxJ9MeaUeGwci+81fYe/4K4ReTyMhSC9HUq+nMfW3Lbk5BRaCDvqblIz3LwJnYZE5cvoa9rQ39W9W50RSw/XQ8i/ZcYEKPQF7v36xK5YDydXeme2NvNp+IJciME48Gt/Xlw7+PUcPJjmfLeP5CDSd7Hu5Ynx5NvBk1cxfj5uwBwMHWhla+NRjTpQHtG3hwR32PQtNSWysd9DXNZMmeC6w/FsOJmGucj0/BYLzZ3zU8uB5T7m+l8tOsP0ntGo68eFeTKhXws43r5k/ouYQbnaXm4O3qyNuDWlC/ZjXcnM2TgK6uuzO/PtmFf4/G0LCWC618K+aw2bKmO3I1DTWVv9Xk1Xi5ONC2njtNarvSuLYrTWq7sNLUFHBnIy/ua1uXV38L561BLRh/Z9XNAWU0Sr3YSgWmO3I17TYORSVhMEqmDGmdZwp/szo1qOvuzAcrj7L1VBye1R14pGPe8edViQ741ksHfU1DTa4CCKqXf7KuRzrW5+4WtZm59Sxt67kXeXKPplU0+i9X04ADkUn4ujsXOs7e08WRSffopQQ161Y1xplp2m0cuJBImwJq+ZpWmeigr1V5CckZRCSk0KYIydE0zdrpoK9VeQdMmRdLuzSgplmDUgV9IcQLQojDQohDQoiFQggnIUSAEGKXEOKkEGKxEMLBtK+j6edTpu3+ZXEBWtW1MjyaCwkppX6dAxcSsRHQuoxXXNK0iqjEQV8I4Qs8BwRLKVsBtsDDwMfAF1LKxsAVYLzpkPHAFSllI+AL036aViI/bDrNf3/Zx9ML9mE0lm6uyZ5zCTSq5VLpc+doGpS+eccOcBZC2AHVgGigN/CbaftcYIjp+8GmnzFt7yOq4nRGrdR+2xvJh38fo0ltFw5eTOKPfPKmF9Xe8wlsOxXPvWW4ZqumVWQlDvpSyovAVCACFeyTgL1AopQye8XgSMDX9L0vcMF0bJZp/zwrEwghJgghQoUQobGxsSUtnlZJrT92mUlLw+nWyJPlz9xJm3rufLL6GH8fjGbD8Zgbtf4Nx2NYtDsiVyqFW0kp+XDVMbxdHRnfverOrtWqlhLfzwohPFC19wAgEfgV6J/Prtn/dfnV6vP8R0opZwAzQKVhKGn5tPLx/abTXL6aRudATzoF1MS9moPZzrX3fAJPL9hHC58a/PBoME72trw9qAXDf9jBUwv2AdAl0JM7GrjzzYbTAPy86zwf3N8632UL1x65TOj5K0y5v5WebKVVGaX5S+8LnJVSxgIIIX4HugLuQgg7U23eD8he8DISqAdEmpqD3ICEUpxfs7CklEw++ecYRgmzt51DCJWyoHNgTToF1KRtPQ/quJVNlsITl6/x2JxQ6tRwYva4DjdWSmrfwIOtk3pzJSWD/RcSeW/FEXacief+dr70bOrN+yuPMvibbYzu3ICX+jWlhpNK3pWcnsW7fx2hUS0XhuezpJ+mVValCfoRQGchRDUgFegDhAIbgKHAImAMsMy0/3LTzztM29fLipztTbutzSdjMUpYPKEztjaCnWfi2XkmgYW7I5i97RwAd9R3Z974TrmWsyuqa2mZfLr6OLY2gn8OXcLBzob54zvh5eKYa786bk7UcXOiuU8NujX04nBUEveYUiH3alaLz9ecYO6Oc6w6dIk3BzZnQGsfPlujcsL/9mQXq1/oWtOKo1RZNoUQ7wLDgSwgDPgPqu1+EVDT9NwoKWW6EMIJmA+0Q9XwH5ZSnins9XWWzYrtxcX72XA8htA378q1glJGlpFDUUnsOpPA1DXHCWnizY+jg4u9ytIPm07z4d/HcHW0w8XJjp/GdKBF3RolKmt4ZCJv/HGIgxeTqO5gS0qmgVGdGvDekFYlej1Nq8gKy7KpUytrJWI0SoKnrKNHYy++fLhdgfvN33met/48xNM9G/JqMfLWGI2SkKkb8HFzZskTXcqiyBiMkrVHLrPlZCyx19L57KE2uDqZJ1e7plmSTq2slbnwi0kkJGfQq1mtQvd7tHMDws5fYeaWs4zq3IC67s757ielxCi5cTew6WQsFxJSebVf2SU4s7UR3NOqDveYcZk/TavodGOmViIbjsVgI6BHY+/b7vvi3U2QSL7ecCrf7ccvXWPgtK3c/+020jINAPy84zxeLo70a6kDtKaVJR30tWKLv57Ogl3n6RhQE4/qtx+i6edRjeEd6rFkz4VcaROMRsmsrWe59+utRCWlEh6ZxJSVR5m34xzrj8cwomM9HOz0n6imlSX9H6XdVnqW4cb3Ukpe//0gV1OzePe+oneCPtOrMbY2gpd+PUBapoHLV9MYM3s3/7fiCN0bebHuxRAm9Ahk/s7zvL3sMH2a1ebpXo3McTmaVqXpNv1KxmCUxF9Pp1aNvOPjo5NSmb3tHHfU9yhSu/alpDS+WHuC3/ZF8smDQTzY3o8loRdYc+Qybw5sTtM6rkUuVx03Jz4ZGsTERfsZO3s3xy9dIzXTwJT7WzGiY32EELx8d1POxCbj5+HMmwOb66GUmmYGOuhXEpkGIxMXhbHxeCwpGQbeHNic/3QPBCDmahrfbjzNL7sjyMgyIgS8N7gVozo3yPe1rqVl8sOmM8zcegajEXzcnJj812G8XR15Z/lhujb05LFuxU9bMLitL7HX0nl/5VFa+7rx5cNtaejtcmO7g50NM8fkO+BA07QyooN+JTFvx3lWHbzE8OB6RCWl8sGqo9Su4UR4ZCLzd54n0yAZeocfj/cI5MNVR3nzz0PEX8/guT6NyM57l5FlZOHuCL769yQJyRnc16Yur/RrisEoueerzYyetRsvFwe+fLhtiRfG/k/3QLo09KRxLVfdXq9pFqCDvhU6efkaqw5e4u9D0TjZ2/Ja/2Z8te4E3Rt78dGDrUnJMPDAt9t5dmEYNgKGtPNlYp/GNPCsDsD3j7Zn0tJwvlh3gsgrKYzq3IC46+lMWXmUM3HJdA6syf8GNM+Vr+Z/A5rz/oqjfDG8baHryBZFy7o6b72mWYqenGUFpJQcu3SNvw9Gs+rQJU7FXEcICG7gwdm4FOKup6tUBRO707i2ame/kJDCgl0RDG3vR6NaLvm+5udrTzB9/c1hlIFe1XljYHN6N6tFflmvUzKydGIyTbMCekauFZJScjjqKn8fiubvg5c4E5eMjYBOAZ4MaF2Hfi3rUKuGEzHX0nhn2WFa+brx3xKMdrmQkMLhqCTSMo0MaO2jm1w0rRLQQd9KSCkJj0xilSnQRySkYGsj6BLoSf/Wdbi7RR28XR1v/0KaplVpOg1DBWY0SsIuJPL3wWj+PnSJi4mp2NkIujXy4r+9GnJXizrULMIEKE3TtKLQQd8CjEbJ3ogrrAyP5p9Dl7h0NQ17W0H3xt4837cxd7eog1s1nQhM07Syp4N+OTpx+Rqztp5l3dEY4q6n42BnQ0gTbya1bkqf5rVvLPChaZpmLjro5yClZPXhy5yJu050YhrRSalEJaZx+Woa97fz5c1BLYr1ehcSUvh1byTjuvpjlJJRM3eRnJ5Fz2a1uLtFbfo0r12ixUU0TdNKSkecHBbsiuDNPw8B4OZsj4+bE3XdnXFxsmPm1rP0b12H9g1q5jpm3ZHLbDgeQ83qDni5OJq+HEhMzeS1peFcSclkZXgUPm7OJKZm8ufT3Uq8EIimaVpp6aBvIqXk553naVm3Bkue6EL1HDXw5PQs7vp8E//7/RArnrsTe1sbUjMMvL/yCAt2RVDdwZbUTAPGWwZCNarlwluDWvDO8sOcjk3m3fta6oCvaZpF6aBvsi/iCscuXePDB1rnCvgA1R3teHdwKx6fF8pjc/YwvEM9Pl97gjOxyTzRI5CX7m6KrY0gITmDuOvpxF1P53paFt2beOPiaEdrXzd2n0tgRMf6Fro6TdM0pcoGfSklCckZXLqahmd1R37eGYGrox33tamb7/53tajNO/e24Mt1J9lyMo66bk4s+E8nujXyurGPt6tjvuPoG9d2vTFTVtM0zZKqbNB/ZmEYK8Ojcz03ukuDPLX8nMZ1C+CBO/xYc/gSd7esg5uzHm2jaZp1qZJBPzk9i7WHL9O3eS0euMOP2GvpnItPZkKPwNse6+Zsz7DgeuVQSk3TtLJXJYP+zjPxZBiMjOsWkKt5RtM0rbKrktm1Np2IxdnelmB/D0sXRdM0rVxV2qBvNEq+2XCKZfsvkpZpyLVt04lYujb0xNHO1kKl0zRNs4xK27yzdF8kn64+DoCrox2D2tRlWLAfNas5cD4+hfF3Fn+5P03TNGtXKYP+tbRMPv7nOG3rufNqv6b8tjeSP8IiWbg74saImx6NvS1cSk3TtPJX6YL+hYQUpv17krjr6cwcE0zbeu50beTFu4NbsjI8mt/2RuLsYIu/V3VLF1XTNK3clSroCyHcgZlAK0ACjwHHgcWAP3AOeEhKeUWo9fe+AgYAKcBYKeW+0pw/J4NR8tyim2PvH+3cgLb1bq7x6upkz8Md6/OwnhWraVoVVtqa/lfAP1LKoUIIB6Aa8D/gXynlR0KI14DXgElAf6Cx6asT8J3psVSyDEZsbQTv/nWYleHRPNWzIQ/e4UtD77zrwmqaplV1JQ76QogaQA9gLICUMgPIEEIMBnqadpsLbEQF/cHAPKnWZ9wphHAXQvhIKaMpQM6VHI9EXWXTiViiElOJSkzlounxaloWjnY2pGcZeaJHIJPuaVbSS9I0Tav0SlPTDwRigdlCiDbAXmAiUDs7kEspo4UQtUz7+wIXchwfaXquwKB/IuYa5+OTSU43MPT77aRkGHBztlcEgg4AACAASURBVKeuuzN+Hs50DKiJZ3VHkjOyqOXqyGPd9IgcTdO0wpQm6NsBdwDPSil3CSG+QjXlFETk81yeVdmFEBOACQBOdRrx4HfbcbC1wdXJjrUvhuDr7lyKImuaplVtpZmcFQlESil3mX7+DfUhcFkI4QNgeozJsX/OpDV+QNStLyqlnCGlDJZSBjeq7YqjnS0JKRnMHN1BB3xN07RSKnFNX0p5SQhxQQjRVEp5HOgDHDF9jQE+Mj0uMx2yHHhGCLEI1YGbVFh7PoCjnQ0rn7uTxJRMPcRS0zStDJR29M6zwALTyJ0zwDjU3cMSIcR4IAIYZtp3FWq45inUkM1xRTmBezUH3Ks5lLKYmqZpGpQy6Esp9wPB+Wzqk8++Evhvac6naZqmlU6lTbimaZqm5SWkzDOApsIQQsQC58vhVG5AUjmcJycvIK4Ux1uizAUpzrVUpHIXVWl/V5ZSlPe6ol1bWf99lNf1VbQY0kBKmW+CsQod9MuLEGKGlHJCOZ8zVEqZX9NYUY8v9zIXpDjXUpHKXVSl/V1ZSlHe64p2bWX991Fe12dNMUQ37yh/WboAJWCNZQbrLbc1ssb32hrLDFZUbh30ASml1fzCslljmcF6y22NrPG9tsYyg3WVWwd9y5lh6QKUocp0LfmpzNdXma8NKvf1lejadJu+pmlaFaJr+pqmaVWIDvqapmlViA76mqZpVYgO+pqmaVWIDvqapmlViA76mqZpVYgO+pqmaVWIDvqapmlViA76mqZpVYgO+pqmaVWIDvqapmlVSGnXyDUrLy8v6e/vb+liaJqmWZW9e/fGFbSISoUO+v7+/oSGhlq6GJqmaVZFCFHgioNma94RQtgKIcKEECtMPwcIIXYJIU4KIRYLIRzMdW5N0zQtf+Zs058IHM3x88fAF1LKxsAVYLwZz61VRPGnIf26pUuhaVWaWYK+EMIPGAjMNP0sgN7Ab6Zd5gJDzHFurYIyZMIPIbD1C0uXRNOqNHO16X8JvAq4mn72BBKllFmmnyMBXzOdW6uI4k9DxjW4fMjSJdHMLDMzk8jISNLS0ixdlErPyckJPz8/7O3ti3xMmQd9IcQgIEZKuVcI0TP76Xx2zXfJLiHEBGACQP369cu6eJqlxBxRj3EnLFsOzewiIyNxdXXF398fdZOvmYOUkvj4eCIjIwkICCjyceZo3ukG3CeEOAcsQjXrfAm4CyGyP2T8gKj8DpZSzpBSBkspg7298x1xpFmjGFP3zpVzkJVu0aJo5pWWloanp6cO+GYmhMDT07PYd1RlHvSllK9LKf2klP7Aw8B6KeVIYAMw1LTbGGBZWZ9bq8Cya/rSCAlnLVsWzex0wC8fJXmfy3NG7iTgRSHEKVQb/0/leG7N0mKPgbupuU438WiaxZg16EspN0opB5m+PyOl7CilbCSlHCal1Pf4VUVmKiScgeb3qZ910Nc0i9G5dzTzizuhmnX8gqGGL8SdtHSJtCpo8uTJTJ06tVzP2bNnzwqXVUAHfc38sjtxa7UAz0a6pq9pFlShc+9olUTMEbB1gJqB4NUEwheDlKA7+yq/v1+DSwfL9jXrtIb+H912t3nz5jF16lSEEAQFBdGwYcMb2/bv38+TTz5JSkoKDRs2ZNasWXh4eDBt2jS+//577OzsaNGiBYsWLSI5OZlnn32WgwcPkpWVxeTJkxk8eHC+50xNTWXcuHEcOXKE5s2bk5qaemPbwoUL+eCDD5BSMnDgQD7++GMAXFxcmDhxIitWrMDZ2Zlly5ZRu3ZtTp8+zciRIzEYDPTv35/PP/+c69dLP6Nd1/Q184s5qoK9rb16TL8K1y9bulRaJXb48GGmTJnC+vXrOXDgAF999VWu7aNHj+bjjz8mPDyc1q1b8+677wLw0UcfERYWRnh4ON9//z0AU6ZMoXfv3uzZs4cNGzbwyiuvkJycnO95v/vuO6pVq0Z4eDhvvPEGe/fuBSAqKopJkyaxfv169u/fz549e/jzzz8BSE5OpnPnzhw4cIAePXrw448/AjBx4kQmTpzInj17qFu3bpm9N7qmr5nf5cPQoKv63quxeow9Dq51LFcmrXwUoUZuDuvXr2fo0KF4eXkBULNmzRvbkpKSSExMJCQkBIAxY8YwbNgwAIKCghg5ciRDhgxhyBCVKWbNmjUsX778Rn9AWloaERERNG/ePM95N2/ezHPPPXfjtYKCggDYs2cPPXv2JHvu0ciRI9m8eTNDhgzBwcGBQYMGAdC+fXvWrl0LwI4dO258MIwYMYKXX365TN4bHfQ180qOh6sXoY7646dOENg6qiaewBDLlk2rtKSUJRrDvnLlSjZv3szy5ct57733OHz4MFJKli5dStOmTYv0GvmdV8p8ExAAYG9vf+MYW1tbsrKyCty3LOjmHc28Lpvac+u0Vo/VPaHDeDiwUI/i0cymT58+LFmyhPj4eAASEhJubHNzc8PDw4MtW7YAMH/+fEJCQjAajVy4cIFevXrxySefkJiYyPXr1+nXrx/Tp0+/EbjDwsIKPG+PHj1YsGABAIcOHSI8PByATp06sWnTJuLi4jAYDCxcuPDGnUZBOnfuzNKlSwFYtGhRCd+JvHRNXzOvS7cEfYA7X4S9c2HDBzBstmXKpVVqLVu25I033iAkJARbW1vatWtHzlX45s6de6MjNzAwkNmzZ2MwGBg1ahRJSUlIKXnhhRdwd3fnrbfe4vnnnycoKAgpJf7+/qxYsSLf8z711FOMGzeOoKAg2rZtS8eOHQHw8fHhww8/pFevXkgpGTBgQIGdwdm+/PJLRo0axWeffcbAgQNxc3Mrk/dGFHbbYWnBwcGyoo1x1Yrp9wlwdgu8dDT38//+H2z5DJ7cmvsDQbN6R48ezbe9WyuelJQUnJ2dEUKwaNEiFi5cyLJlebPX5Pd+CyH2SimD83td3byjmdelg/kH9a7PgqMbrJ9S/mXSNCuwd+9e2rZtS1BQEN9++y2fffZZmbyubt7RzCczTY3SaTog7zZnD+j2LKx/HyJD1WxdgO1fQ61m0Khv+ZZV04ph9erVTJo0KddzAQEB/PHHH2V2ju7du3PgwIEye71sOuhr5hN7FKSh4OabTk/Bzu9g/XswehkkRsCaN6Fhbx30rVxJR89Yi379+tGvXz9LF6PQUUEF0c07WuHSr6lZldcuFf/Y/Dpxc3J0UZ26Zzaqdv+wnwGpV9eyck5OTsTHx5coIGlFl72IipOTU7GO0zV9rXDrp8Cu78CjAXR+qnjHRoeDgwt4FLKqT4fxsONr1bF79SIIGzVb93osuOhFdKyRn58fkZGRxMbGWroolV72conFoYO+VrCo/bD7B/X9xX0lOD4MfNqATSE3lPbO0OMVWPmi+jl4PIT+pGr7Lr0KPi4rHZaMhqDh0OqB4pdNMxt7e/tiLd+nlS/dvKPlz2iAFS9ANU/w7w4X9xbv+KwM1bxTt93t9233KLg3gGpe6gMAVNDPSofdP+a/vOLWL+HEP7B/QfHKpWlVnK7pa/kLnQVR++CBmZB4XnW2piaCs3vRjo85AoZ08L3j9vvaOcCIJZCZAjV8wNUHLh1Ss3ZXvQxObhD00M39407BlqlgYwcRu8CQBbb6T1nTikLX9LW8rl2Gf9+DgBBoPfRm4I4qePp5HlGm5qC6RQj6oIZpZp+nditV0w8z1eLPbb25n5Sw4nmwc4a73oOMazdTPWiadls66Gt5rXkDslJh4Ocq5312E01UMdr1L+4D55rg4V/889duqe4UIner2vz5bTe3HVgI57bAXZOh5f3qufPbi38OTauidNDXcju9AQ7+qoZSejVSzzl7qAVQitOZGxWmPixKMla7Tmu1vKKwhc5PQ/wpNWQ0OR5WvwH1OsEdY1VTUM1A8wf9lATY8rlq8tI0K2eWoC+EcBJC7BZCHBBCHBZCvGt6PkAIsUsIcVIIsVgI4WCO82sllJkGK19SgfTOF3Jvq3tH0Zt3MlLUwilFac/PT+1W6rHJPTdr8+e2qolb6Vdh0Jc3RwQ16KruBIzGkp3rdo7+BV+0gn/fVfMVUhPNcx5NKyfmqumnA72llG2AtsA9QojOwMfAF1LKxsAVYLyZzq+VxM5vIeE0DPwM7G+Z8OF7hxpHfzX69q9zKVzNxC1qe/6tvBrDHWMg5BWVf9/BFbZPgwO/QLeJULvFzX0bdIPUK7B3thphVJYTgq5Gw7JnVHkGf6s6po/ln12x3GWmQsTOsr1erUowS9CXSvZijvamLwn0Bn4zPT8XGGKO82sldHwV+HVUaRBu5X+nejy9/vavc9iUf6SkNX0bW7hvmmoesrWDBl0g+oCa5JU9pDNbQA+wsVfj/H/sDb8Mh8QLJTtvTtkdxllp8OBP0HaEOv/BX0v/2qWRfh22TYMvg2BWPzi5xrLl0ayO2dr0hRC2Qoj9QAywFjgNJEops5eFiQR8zXV+rZgy09RkrAZd8t9eJ0gNpTy5uvDXObcNdv2gJlmV1XKIAabFJgZ9riZz5eTmBy+fUCma735fNQP90EO1/5fGgUVqHkCfd1TfhhDQehic3VyylBSllZYEmz+FL1vD2rdUZ7dzTVVOTSsGswV9KaVBStkW8AM6Avkl2M5zbyqEmCCECBVChOpp3OUoej8YM1UnaX6EgMZ3w6n1auJVftKvwZ9PqRE7d/1f2ZWtw39gwsb870AAqtVUnb9dn4XxqyEtEbZ+nnsfQxac+hc2fKjG+RfmahT8PQnqd4FOT958vvVQ1cF8aGlprqb4whaoYL/+fajXEcavg9F/qpnIx/9W77umFZHZR+9IKROBjUBnwF0IkT2Lxg+Iymf/GVLKYCllcPYiwlo5uLBbPfp1LHifJv3UuPiIHflvX/OWypQ55DuVTK2s2DsVbWYvqODf5hE1kzfxgpq8teoV+LwZ/PwAbPoIvuuias35tYdLCX9NBEMGDP4mdwoJ76bqQ3HTxxB/umyu7VZpV3P/fO2y6lz3bgZPbIYRi6FeB7Wt9UNqaO3RCtLPoFkFc43e8RZCuJu+dwb6AkeBDcBQ025jgLzLwGiWcWGXarMuLMlZQAjYOsCJfJp4Tq5Tnaldnym4iai89HwdkPB1B5h1N+ybp0b5PDQfJoZD0/6q1nxqXd5j9y9Q7eR9J4Nnw7zbH5ihhpIufBguHyn4rseQBTu+hfMFfEDm58wm+CQAdnxz87ktU9Ud2JDvVB6jnOp1VOkrdn0PK15Uy09q2m2Ya+66DzBXCGGL+mBZIqVcIYQ4AiwSQrwPhAE/men8WnFIqWr6BTWfZHN0UXl4jq9SzTfZqQ9Sr8DyZ1RttNeb5i/v7bjXU0H77GZoMQSaDQSnGje3PzBTzTnY9InK2589lyDpIvzzuhoR1HFC/q/t4Q8PzYP5Q9Qdg42d+rD0bgpeTdRXzUB1R3F6vfqQHDobmg8qvMxGA6z+Hxiz1B2TT1twqQWhs1Vuovw+gISANg+rO4/Lh9Sx9btAw0IS1WlVnl4jV4Mr5+CrNmoGbofbjKI9/Af8Oha6vwR93lbPLX1ctXM//m/Rm2Esbc9M1Wzy8C9q8telQ2qoaWIEPLVNBe7CxJ9WK37FHVerg8WdVMNdjaZxCjb2qmP54K9qfsP9P0DQsIJfb+8c1ax07zTY9pXKd2TMAjsneC4MatTN/7jMNLh8WA0r/f5OsK+mOrV1LqIqrbA1cvVfhnazPb+gTtycWt6vOkS3fAY1fFXH5sElEPKa9QR8gLajYPNUWDRC/ezeAByqw33Tbx/wQdW8b619GzLVB2jscfBspPIJtRulhpH+MQGSY9WHxOn1al9jlunLABnXoV5nuGM01O+ssojWagaN+xUc8EH1d/i1V9/f/T4seRR2z4AuT5fobdEqP13T11QN89DvMOmcGiN/O5mp8NNdN1fG8mkD//kXbO3NWswyd2S5mnHb+amSzykoioxkWPAQnN+qau5N+qnMoTZ2N79sHdQoJfd6JT+PlLBgGJz+F4Z8D22Gl901aFalsJq+DvoaTG+vaqYjFhf9mMxU1ayQekXdIeRsM9fyykhWHzCN+kJ1L/Oe55fhar7CQ3OhxWDznctc/n4Nrpwt3t+jlkthQV8nXKvqrl1SbdoNuhXvOHtn8AuGxnfpgF8UDtVVp6s5A372eUYsAd/2sPxZ1TltTaRU/UMn/oGEs5YuTaWkg35Vl52rPjvNgmb9HKqpoaWGLDVZzlzJ6Mwh9jgkx6jvy3sSXBWhg35Vd24rONZQaRa0ysOzIfSbAmc3qY5da3Fui3p0bwAHfyt8X61EdNCv6s5vU6NF9BC/yqf9WDX6Z907qgZtDc5uhhp+KqVG7FHVb6SVKR30q7JrlyHuhG7aqayEUENQHarD748XPHu4ojAa1Z1nQHc1NFjYqvkUt5JSzYuI2KXmKWjFoqt3VVn2rbQO+pWXa2249ytYPAo2fwK9K8CM6YLEHIHUBDXru7oXBD8Ge36Emg3VKKSzm1Vz1dnNcM20roOtAwQ9pCYW2jlatvxWQgf9quz0erUUok9bS5dEM6fm90LbkWpCXeO7Vc6eiii7EhLQXT32/1hNaFvzhvoCqOap1lAICIHq3mpOQugsuHIehv8Mzu75v3bscbUOQf1OagJcFaaDflUlpQr6gT2LNiFLs273fARnt8AfT8BTO/KujFYRnN6gZkO711c/29jCAz+CTxDYOatgX6tF7synzQepmczLnlZZVEcvA0fXm9vjTqncRAd/BSSEL1Yzx+u0LtdLq0h0m35VFXNU3SLfLsmaVjk41YDB0yHhjMrtU9FkpqmafqO+uZ+3c1B5nro8DXVa5Q742doMV0nwovbDLw+rmeJxJ+HPp+GbDmqJy27PwTOh6s729ycgK718rqsC0kG/qspe9jBQZ2SsMgJ7qg7SrZ+rHEEVScQOyEyBhn1KdnyzgWpuQsR2lXju62A1zr/TUzDxgMoK69VYdWzHHIbZA1RHcHkzZJV+XWNDpsqXVcLV4XTzTlV1er1KA1yaXC+a9bl7CpxYA7+NV0Eyv5TNlnBqneqULc2ggtZD1SzxyFB1F9tqKNTwyb1P03vg/hmw9m211sLoZerD0JykhKsX1ToJe35Sk+dqtzJ9tVRf1b0gJUGl7nZ2h4wUlcLc9w7V5JV6Ra1ZceJv9ZieBNVrqX6M+kVIlJiDDvpVUWaaGp/ffqylS6KVNzdfGPINLJ8I33ZRTSd3Pm/5kS+n16u1AEq74pqHv/oqTJvh6s5gWju10E1gz8L3T0uCffNVRtmsdJUq26MB9Pvg5loMtzq1DjZ9CtcvqVQnWWkgbCBouHqvLx9Wi/tkJuc+ztFNNWUdWqqGUyPUh0PMEZAG1Xnd4l6VNmXTJzDHdIfT6oEivT2gg37VdHaz+iO8tf1Uqxpa3g/1u8Lq12HjByo19sDPITCkeK+Tkaz6CGq3Kjj4Zaaq3E6FdZwmXVRBrSzXVb4dRxdV6dn8qcrxUzMg//0yUlSG1As7bz7n6gPHV6q7ilYP5j0mJQF+n6DmR9TrBC61wc0PGt0FXo1u7mc0qsRylw9BaqLqd9k3HzZ+CK51VT/FpUNq7sKdz0OT/iqnUna/RtP+sPARWPof1eldxOR6OstmVbTiBTiwGF49UzFHcWjl59S/ajGZK2dVLfTuKYUvmZlNSlg0UgU/3/bQ9Tk1NDTnSLDIUDVaKP4U3PkC9H47b0esIQt+HaM6W5/epdYQKC9Xo+CLVqpmfff7al2D6zFwLQquRqvtR5eroDt0lhruCio99k93qQV3/rsbqnvmft3lz6rF7J/coppuikNKuLhXZb0taPhpTunX4OcHIXKPWt/aowFE7ES8cFCnVtZMpIQvWqphaw8vsHRptIogM1WN4d/6paqd3vUutBud/0iZbEeWwZLR6q4h+oCq8Xv4Q5dnoPUw2D4Ntn6hFtqp1wkO/aY+VB7IkQdISlOAnK+GlHZ+yuyXmseS0WrN52qeqhlGGnJvt3OCAZ/mHdt/+TD80AMQqo3evpra195Z3bV0fQ7ufq98riHtqhqRdWaj+iCq1xHxyC866Gsm0QfUH+t9X8Mdj1q6NFpFEntC3QWe36oC9aAv8q+pXjkHP/VTdwSPb1RNO8dWqkAfuUe1XUujWp3sng9UQr+1b6vtT22/+ZrrJqsPhu4vQ5+3yvFCc7h0CP59VwX9GnVV000NX9UBXMMXqnkV/OF3ap1qKs1MUyOPstLUB2h1L3XHVNr+iVLQi6hoN238WLUZvnxCLbytaTlJCQcWwpo3VQdml/+qjs6Le1VzR8JZVaO0dYDH/sm94piUcGGXmgjVqK9qc86WkgCfN4c2j8C9X8L26eoc7cepD5eC+gS0EinXNXKFEPWAeUAdwAjMkFJ+JYSoCSwG/IFzwENSyitlfX6tEFkZcORP1QGlA76WHyGg7Qhoco+qnW/76uZkrmpeavRIj5dVJ6ibX95j63dWX7eqVlN1eoYvAe9mKuC3GAIDP9MBv5yVeU1fCOED+Egp9wkhXIG9wBBgLJAgpfxICPEa4CGlnFTYa+mafhnKylAdZsdXwYM/qTHNmnY70QcgOU5VFJzcSvdaUWEwo6f6PrCXWg7R0kNFK6lyrelLKaOBaNP314QQRwFfYDDQ07TbXGAjUGjQ18pIVgb8OlYF/AFTdcDXis6nTdm9Vt12asZtZoqaVKQDvkWYdZy+EMIfaAfsAmqbPhCQUkYLIXT7QnkwZMJv49TQuv6fQsfHLV0irSob+avq6NVNOhZjttw7QggXYCnwvJTyajGOmyCECBVChMbGxpqreFVDdsA/tgL6fwKdJli6RFpVZ2OrA76FmSXoCyHsUQF/gZTyd9PTl03t/dnt/jH5HSulnCGlDJZSBnt7F2GSiJY/Qyb89hgc/UuNge70hKVLpGlaBVDmQV8IIYCfgKNSys9zbFoOjDF9PwZYVtbn1kykVOOtjy6Hfh9aZtKLpmkVkjna9LsBjwIHhRD7Tc/9D/gIWCKEGA9EAMPMcG4NVOrcsPnQ4xU1xVzTNM3EHKN3tgIFNdqVMFm2VmTRB+Df/1NpZXu9YenSaJpWwehFVCqbffPB1hEGTtUdZpqm5aGDfmWSmaamwDcfpJaF0zRNu0XVzae/6we1cIOtPbQZAc0GWLpEpXd8FaQlQtuRli6JpmkVVNWs6e/5Cf5+VS2efHEfLBqh8otU4ORzRbJ/gcoMGNjT0iXRNK2CqlxB/2oUxJ8ufJ+jK2DVK9C4n1oA4dm90HKISi4VNr98ymkOiRHqzqXNI7kXstA0Tcuh8gT9hLMqmdP3d8L5HXm3G41qTcnFo1Q+kaGzwNZOLXrw4CyVP3zDB2p5tPwYDWp7dLhZL6PEQmerR73uraZphagcQf96DMy/HwwZahGEBcMgcu/N7amJqglnwxS1es/YlbkXOLCxgb6T4Vo07J5x66sr++bCpo/VmpQpCea8muLLSleLLDfpD+71LF0aTdMqsMoR9P+aqJY6G7EExq5Qa1YuHK6aPC4fgR97w6m1KuHY/d+r5c1u1aCrWgNzy+eqRn/8H/VhAirI//se1GoB1y/DsmfU+p8JZ8v3Ogty+E9IiYOO/7F0STRNq+Csf/TOsZVq1Mpd70G9juq5Eb/CzL4w9z4VuB1dVO0+v8Udcur3gcpXs/lTtdwbQA0/tUp9WiKM+QvObFALQBxfqbIFjvv79q9rTlKquxPPRhDQ03Ll0DTNKlh30E9LglWvQq2WufPLeDeBh+aqVeL9OqjvXevc/vW8GqsV7NOvw6VwNbInah9E7VfreNZppdb39G2vVqFf8QKsfBkmbFT9A5YQsRMuhqo8+YUtZK1pmoY1B/0Lu+H3x1U7/NBZarx9Tg17wQuH1fJuxQ3Iji6quadB17zbhLj5fL8panGSHdMheLy6Iyhv26eDc009Nl/TtCKp+EE/OU4F9jqt1c+GLNX8svlTcPM1Ndt0yv/YGj7mLVuLIWpM/LrJ6suxhlo3NPurVgt1p1G3rXnOH3dSNW2FvJp/P4WmadotKn7QXzJaNWE8OFMNtfx9gmrOaPMI9P+49Ot2loYQMHwBnFwNSZGQdNH0eAEu7IK0WWq/AVPLZsWq6zGqqSl6v3qM3KOWnOugV8PSNK1oKnbQT78O50+qJpql/wE7J9VUM3Q2tHrA0qVTHF2g1YN5n5dSTRZb+SL8PQk8AqBx36K/7rVLuQN89H51xwOAUB23gSFqCKqLXmxG07SiEbICpx4I9neToc/Ugae2wx+mpf7unaaadaxF+nWYfY8a3vnwgrwpEqRUwfzWAH/9smkHAV5NVBORTxvwaQs+QeDoWs4XommatRBC7JVSBue7rUIH/bq2MvSPb61/qb+r0fDzA6oNvscr4FpbNQNF7Vf575NN8wGEDXg1VcG9blsV4Ou0zj2RTNM07TasN+g3cJGhp+LA3snSRSm91Cuw+FE4t0X9LGzBu9ktAb4VOFS3bDk1TbN6hQX9it2m792scgR8UPntx/ylZvdmpaphlnrEjaZp5axiB/3KRgiVIkLTNM1C9BROTdO0KqRCt+kLIWKB8+VwKjcgqRzOk5MXEFeK4y1R5oIU51oqUrmLqrS/K0spyntd0a6trP8+yuv6KloMaSClzHcsd4UO+uVFCDFDSjmhnM8ZWlBHSxGPL/cyF6Q411KRyl1Upf1dWUpR3uuKdm1l/fdRXtdnTTFEN+8of1m6ACVgjWUG6y23NbLG99oaywxWVG4d9AEppdX8wrJZY5nBesttjazxvbbGMoN1lVsHfcspYIkuq1SZriU/lfn6KvO1QeW+vhJdm27T1zRNq0J0TV/TNK0K0UFf0zStCtFB34yEEMLSZSgrlela8lPZr0/Tsumgb16VKZDcSNlRSQOkO4AQotKlJhFCNBVCVNr/dSFEbyFEERbBtj5CiBFCiDam78vk/67S/iFYkhBigBBiGfCpEKKnpctTGkKIe4QQq4GpQoj7AWQlu1LuggAACtpJREFU6v0XQrgJIdYA/wBIKbMsXKQyI4S4SwixC/gPlfB/XQjRVQhxGBgLVKr840KIvkKILcCXQDsou/+7SlersRTTp7A98CHQHXgH6AA8IoRIlVLusmT5iiPHtXwAdAE+BvyAYUKIQ1LKk5YsXxlLA64A3YQQw6SUvwohbKWUBksXrCRMvzs74C3gEWCSlPL3nNsrw4e2EMIWeByYIqX8xdLlKQum350TMBeoBbwPDAaqmbaXyd9lpfv0txSpZAAngBFSyr+BmahmA6sKIDmu5R8gREq5HNgOZAJnLVq4MmQKHO7ATmA4MB1ASmmw1iYs0+8uEzACv2UHfCFEdyGEvWVLV6ZqoJpPVwkhHIQQjwohGgkhHMA6myBNv7tUYIGUsqeUcjXq/+5R0/YyiSN6nH4pCSGeA1oDu6WUP+ZoO7WTUmYIIVYBX5l+gRVajmvZJaWcmeP5AcDXwGVgC7BXSrnY2mqNOa5vBzBbSimFEM7AX1LKvqZmnq3A71LKQ9Z0fTmubY+UcoapjfsjQALBwDnUHc0mKeVP1nRtkOv6dprK7wn8AbwJvASkm3ZNllKOE0LYSCmNFipusdwaQ3I8bwt0BsYB70opL5TF+XRNvxSEEGOBEcBSYJQQ4nUgUEppNAV8D8AROGDBYhbJLdfyqBDif0KIRqbNccA9UsouwEbgMSGEv5UFjbHcvL4xwOtCiIaAK6qmD7AIeBuYY/rZKpo/b7m2kUKIN1FB8E/AARgG3Gfa/oAQor4V/+5Gm64vBVULng38IqV8CHgMGCSECLaigD+W3DHkf0KIQLhRs78KtAESy+qcOuiXTh/gYynlP6jahhPqF5jNH0iSUl4SQvgJIXpboIxFdeu1OAAjAaSUu6WUJ0z7HQFiAWvr8MzvdzUMSAX6m2r5zwHruZnO21qu8dZrcwSekFL+CUyQUh4zBflwVPDItFxRSyS/393TqA/o6qYvpJTXUR/cHhYqZ0nk9383KnujlPIg6m/04bI6oQ76JZCjCScMGAQgpQxFNRvUFUJ0N233BWyFEM8CK4EKN6yskGvZCfgIIbrdcshYVMdSfHmVsTQKub7tQABwJ7AWdWvdVkp5N9BTCBFQ0WvDhVzbNiBACNFNSpmc45AxgDOqmafCK+T6tgItAB/gVeAeIf6/vXOLsbMqw/DzAm3acLBBaGWEgiJKTT2lxICYglIgWIkR8BBRtF4Y1AZvNFFSiFYviBovDAEhMQIGUJNGJC3RCrYUhlNTDqVgKCJE25JAW5RiKSH09WKt3e5Od2e6Z9rZe77/e5JJZv+ntZ5Zs7///9dRF9Y3gDOBv/cgu10xwvduoPW9q20Ty4Ep2WVzHKl1a7sah9peHQeBQyTNrZ/XAS+yO7ifC1wIvAf4VD/0MhiFy0A9/jJJ6yiB8pu1wanv6MLvKWAjpXrnatuL2i4z03bfNVh3WXab2F12F0t6Ang3pex2jGvG95Mu/TYAc2zfAvyKcvOeCXza9oZxzfh+MNrvXX3wmE5pq8gumwcbSWdQ6gmfUVkk4dW6/bDan/tZSvD4gqRB2xtqA1qrUWkJcKfte3qR/3bG4NIK7mspVQUP9CL/IzEKv39LGgBer+0vh1K+YzuHPB33nANQduuBy20/2Iv8j8Qo/aYDpwDY/puklf1Yjz+Gstvedpnv1t50B4R80t8H9c57LaWOd4DS8Hce7DGAZxulN8tkyuClSZT6xJfqcav6JOCPxWVzPe7xPg74o/WbRq2msv1WnwaNA1F2T/ZxwB+L38ut6wQsu13Vpwcy4EMG/eE4DRi0fTtlkMQMykCrGQCSfgLcRlkX82pKQd1XP9/ckxzvm0gunYjsF9kNYvv1pVtW71QknQ5sbeul8gzwIUkDtjdJeo2yEPFnJK2k1I9+3/Zz9fyvA4fb3taD7O9BJJdORPaL7Aax/SaKW+Of9CVNk7SM0oPj85Jac3g8S+kje5OkJcAJlJb2o2yvt/0l28+ptsLXuuCe/iNGculEZL/IbhDbb6K5NX5ErqR3AhdTCud9wH2276r7JlO6gM2w/TtJFwALbc+v+/tq1F8kl05E9ovsBrH9JppbI4O+pMsoA3Aes/2qpCmUt57vUebzuNH2pg7nLQL+Y/vacc3wMERy6URkv8huENtvIrs1pnpHheMkraAMUrkUuF7SMbZ32N4O3E1pTPnkkHM/LmkNZfbMpeOd96FEculEZL/IbhDbL4pbI4K+ypSkpgzE2Wj7HMow7q20rShve5AyMdWpKvOsH153/RO4yvb5tl8Y18wPIZJLJyL7RXaD2H6R3EJX76isgrQYOBS4izId6yW2v1r3izJy8Yu2763bjqB0r/oYcCJl1F/PR/hFculEZL/IbhDbL6Jb2Cd9SWcBayivWv8AfkyZaOoTkj4Ku4Y4LwZ+2HbqfMod/AngA/1QWJFcOhHZL7IbxPaL6ha5n/5O4Oe2fwsg6SPAuyiDIK4H5qh0lfojpRBPqq9dO4B5tlf1JtsdieTSich+kd0gtl9It7BP+pQ79B9UJzqiTGw00/ZN1Jkva1ep44G3WvVstv/Uh4UVyaUTkf0iu0Fsv5BuYYO+7e223/DuJcbOZfdcHQuAWZKWArcDj8Ku+rm+I5JLJyL7RXaD2H5R3SJX7wCl1Z2yZNwM4M66eRtwJTAbeN72Rjhwq80fLCK5dCKyX2Q3iO0XzS3sk34bO4FJlBkHP1jvzFcBO23f3yqsCUIkl05E9ovsBrH9QrmF7rLZQmUipAfqz29s/7rHWRo1kVw6EdkvshvE9ovk1pSgfzzwFeAXtt8Y6fh+JpJLJyL7RXaD2H6R3BoR9JMkSZJCE+r0kyRJkkoG/SRJkgaRQT9JkqRBZNBPkiRpEBn0kyRJGkQG/SQUKuuVfmuM1/iapDGvbCTpBUnHjHDMlWNNJ0m6IYN+Eo1plGlt96Bt0qx+I4N+Mq5k0E+icQ1wsqTHJa2WtELSbcCTAJLukLRG0lOSvtE6SdICSesl3UtZyLq1/VhJS+q1Vks6c68Udx/7dknLJT0m6QbKWqmtfXulK+kaYGrN661125clPVK33dDHN6tkgpKDs5JQSDoJWGp7tqSzgWXAbNvP1/1H294qaSqwGjgLmAw8DMwB/gusoCx4vbDeMK6zfb+kmcBfbM/aR9q/BDbbXixpPmUt1GNtb+6Uru0tkl6zfUQ9fxbwU+Ai229Kug54yPYtB+NvlTST8LNsJo3nkVbAr1wh6bP19xOAU4B3ACttvwwg6ffAe+sx84D3t82Ye5SkI21v65DWXOAiANvLJL0yQrpbhpx/DuXGs7qmNxV4qRvZJBmJDPpJdP7X+qU++c8DzrC9XdJKYErdva9X3kPq8a/vZ3p7XWeEdPc4FLjZ9g/2M60k6Zqs00+isQ04ch/73ga8UgPvqcDpdfvDwNm1Tn4S8Lm2c5YDC1sfJH14mLRXAZfW4y6grK06XLoAb9Y0Ae4BLpE0vV7jaEknDq+bJN2RQT8Jhe0twKCkdcDPhuz+M3CYpLWURa4fque8SFnY+kHgbuoqSJUrgNMkrZX0NHD5MMn/CJgr6VHgPOBfw6VbuRFYK+lW208Di4Dl9di/Asd1458kI5ENuUmSJA0in/STJEkaRDbkJkmXSFoAfGfI5kHb3+5FfpKkG7J6J0mSpEFk9U6SJEmDyKCfJEnSIDLoJ0mSNIgM+kmSJA0ig36SJEmD+D/sVz6jJRfZ+AAAAABJRU5ErkJggg\u003d\u003d\n"
          },
          "metadata": {
            "needs_background": "light"
          },
          "output_type": "display_data"
        }
      ],
      "source": "df_sum[[\u0027close_mt\u0027,\u0027close_dong\u0027]].plot(subplots\u003dTrue)\n",
      "metadata": {
        "pycharm": {
          "metadata": false,
          "name": "#%%\n",
          "is_executing": false
        }
      }
    },
    {
      "cell_type": "code",
      "execution_count": 84,
      "outputs": [
        {
          "data": {
            "text/plain": "array([\u003cmatplotlib.axes._subplots.AxesSubplot object at 0x000002394B4ED6D8\u003e,\n       \u003cmatplotlib.axes._subplots.AxesSubplot object at 0x000002394B1A9A58\u003e],\n      dtype\u003dobject)"
          },
          "metadata": {},
          "output_type": "execute_result",
          "execution_count": 84
        },
        {
          "data": {
            "text/plain": "\u003cFigure size 432x288 with 2 Axes\u003e",
            "image/png": "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\u003d\u003d\n"
          },
          "metadata": {
            "needs_background": "light"
          },
          "output_type": "display_data"
        }
      ],
      "source": "df_sum[[\u0027close_mt\u0027,\u0027close_dong\u0027]].plot(subplots\u003dTrue)\n",
      "metadata": {
        "pycharm": {
          "metadata": false,
          "name": "#%%\n",
          "is_executing": false
        }
      }
    },
    {
      "cell_type": "code",
      "execution_count": 87,
      "outputs": [
        {
          "data": {
            "text/plain": "             open_mt   high_mt    low_mt  close_mt  pre_close_mt  change_mt  \\\ntrade_date                                                                    \n2019-03-31  41445.56  42098.36  40995.01  41592.53      41328.55     263.98   \n2019-06-30  54776.60  55709.77  54020.30  54970.51      54825.96     144.55   \n2019-09-30   5021.32   5084.90   4945.24   5025.78       5009.96      15.82   \n\n            pct_chg_mt      vol_mt     amount_mt  open_dong  high_dong  \\\ntrade_date                                                               \n2019-03-31     38.3052  2576342.58  1.869149e+08    1318.21    1386.69   \n2019-06-30     17.1419  3052315.26  2.783321e+08    1494.06    1548.04   \n2019-09-30      1.7990   254787.03  2.553366e+07     114.73     115.43   \n\n            low_dong  close_dong  pre_close_dong  change_dong  pct_chg_dong  \\\ntrade_date                                                                    \n2019-03-31   1268.28     1333.85         1317.15        16.70      104.2922   \n2019-06-30   1455.65     1495.95         1501.14        -5.19      -14.9706   \n2019-09-30    112.75      113.63          114.21        -0.58       -2.4579   \n\n               vol_dong   amount_dong  \ntrade_date                             \n2019-03-31  62582302.71  1.452350e+08  \n2019-06-30  32638514.15  8.562544e+07  \n2019-09-30   1066776.66  2.448574e+06  ",
            "text/html": "\u003cdiv\u003e\n\u003cstyle scoped\u003e\n    .dataframe tbody tr th:only-of-type {\n        vertical-align: middle;\n    }\n\n    .dataframe tbody tr th {\n        vertical-align: top;\n    }\n\n    .dataframe thead th {\n        text-align: right;\n    }\n\u003c/style\u003e\n\u003ctable border\u003d\"1\" class\u003d\"dataframe\"\u003e\n  \u003cthead\u003e\n    \u003ctr style\u003d\"text-align: right;\"\u003e\n      \u003cth\u003e\u003c/th\u003e\n      \u003cth\u003eopen_mt\u003c/th\u003e\n      \u003cth\u003ehigh_mt\u003c/th\u003e\n      \u003cth\u003elow_mt\u003c/th\u003e\n      \u003cth\u003eclose_mt\u003c/th\u003e\n      \u003cth\u003epre_close_mt\u003c/th\u003e\n      \u003cth\u003echange_mt\u003c/th\u003e\n      \u003cth\u003epct_chg_mt\u003c/th\u003e\n      \u003cth\u003evol_mt\u003c/th\u003e\n      \u003cth\u003eamount_mt\u003c/th\u003e\n      \u003cth\u003eopen_dong\u003c/th\u003e\n      \u003cth\u003ehigh_dong\u003c/th\u003e\n      \u003cth\u003elow_dong\u003c/th\u003e\n      \u003cth\u003eclose_dong\u003c/th\u003e\n      \u003cth\u003epre_close_dong\u003c/th\u003e\n      \u003cth\u003echange_dong\u003c/th\u003e\n      \u003cth\u003epct_chg_dong\u003c/th\u003e\n      \u003cth\u003evol_dong\u003c/th\u003e\n      \u003cth\u003eamount_dong\u003c/th\u003e\n    \u003c/tr\u003e\n    \u003ctr\u003e\n      \u003cth\u003etrade_date\u003c/th\u003e\n      \u003cth\u003e\u003c/th\u003e\n      \u003cth\u003e\u003c/th\u003e\n      \u003cth\u003e\u003c/th\u003e\n      \u003cth\u003e\u003c/th\u003e\n      \u003cth\u003e\u003c/th\u003e\n      \u003cth\u003e\u003c/th\u003e\n      \u003cth\u003e\u003c/th\u003e\n      \u003cth\u003e\u003c/th\u003e\n      \u003cth\u003e\u003c/th\u003e\n      \u003cth\u003e\u003c/th\u003e\n      \u003cth\u003e\u003c/th\u003e\n      \u003cth\u003e\u003c/th\u003e\n      \u003cth\u003e\u003c/th\u003e\n      \u003cth\u003e\u003c/th\u003e\n      \u003cth\u003e\u003c/th\u003e\n      \u003cth\u003e\u003c/th\u003e\n      \u003cth\u003e\u003c/th\u003e\n      \u003cth\u003e\u003c/th\u003e\n    \u003c/tr\u003e\n  \u003c/thead\u003e\n  \u003ctbody\u003e\n    \u003ctr\u003e\n      \u003cth\u003e2019-03-31\u003c/th\u003e\n      \u003ctd\u003e41445.56\u003c/td\u003e\n      \u003ctd\u003e42098.36\u003c/td\u003e\n      \u003ctd\u003e40995.01\u003c/td\u003e\n      \u003ctd\u003e41592.53\u003c/td\u003e\n      \u003ctd\u003e41328.55\u003c/td\u003e\n      \u003ctd\u003e263.98\u003c/td\u003e\n      \u003ctd\u003e38.3052\u003c/td\u003e\n      \u003ctd\u003e2576342.58\u003c/td\u003e\n      \u003ctd\u003e1.869149e+08\u003c/td\u003e\n      \u003ctd\u003e1318.21\u003c/td\u003e\n      \u003ctd\u003e1386.69\u003c/td\u003e\n      \u003ctd\u003e1268.28\u003c/td\u003e\n      \u003ctd\u003e1333.85\u003c/td\u003e\n      \u003ctd\u003e1317.15\u003c/td\u003e\n      \u003ctd\u003e16.70\u003c/td\u003e\n      \u003ctd\u003e104.2922\u003c/td\u003e\n      \u003ctd\u003e62582302.71\u003c/td\u003e\n      \u003ctd\u003e1.452350e+08\u003c/td\u003e\n    \u003c/tr\u003e\n    \u003ctr\u003e\n      \u003cth\u003e2019-06-30\u003c/th\u003e\n      \u003ctd\u003e54776.60\u003c/td\u003e\n      \u003ctd\u003e55709.77\u003c/td\u003e\n      \u003ctd\u003e54020.30\u003c/td\u003e\n      \u003ctd\u003e54970.51\u003c/td\u003e\n      \u003ctd\u003e54825.96\u003c/td\u003e\n      \u003ctd\u003e144.55\u003c/td\u003e\n      \u003ctd\u003e17.1419\u003c/td\u003e\n      \u003ctd\u003e3052315.26\u003c/td\u003e\n      \u003ctd\u003e2.783321e+08\u003c/td\u003e\n      \u003ctd\u003e1494.06\u003c/td\u003e\n      \u003ctd\u003e1548.04\u003c/td\u003e\n      \u003ctd\u003e1455.65\u003c/td\u003e\n      \u003ctd\u003e1495.95\u003c/td\u003e\n      \u003ctd\u003e1501.14\u003c/td\u003e\n      \u003ctd\u003e-5.19\u003c/td\u003e\n      \u003ctd\u003e-14.9706\u003c/td\u003e\n      \u003ctd\u003e32638514.15\u003c/td\u003e\n      \u003ctd\u003e8.562544e+07\u003c/td\u003e\n    \u003c/tr\u003e\n    \u003ctr\u003e\n      \u003cth\u003e2019-09-30\u003c/th\u003e\n      \u003ctd\u003e5021.32\u003c/td\u003e\n      \u003ctd\u003e5084.90\u003c/td\u003e\n      \u003ctd\u003e4945.24\u003c/td\u003e\n      \u003ctd\u003e5025.78\u003c/td\u003e\n      \u003ctd\u003e5009.96\u003c/td\u003e\n      \u003ctd\u003e15.82\u003c/td\u003e\n      \u003ctd\u003e1.7990\u003c/td\u003e\n      \u003ctd\u003e254787.03\u003c/td\u003e\n      \u003ctd\u003e2.553366e+07\u003c/td\u003e\n      \u003ctd\u003e114.73\u003c/td\u003e\n      \u003ctd\u003e115.43\u003c/td\u003e\n      \u003ctd\u003e112.75\u003c/td\u003e\n      \u003ctd\u003e113.63\u003c/td\u003e\n      \u003ctd\u003e114.21\u003c/td\u003e\n      \u003ctd\u003e-0.58\u003c/td\u003e\n      \u003ctd\u003e-2.4579\u003c/td\u003e\n      \u003ctd\u003e1066776.66\u003c/td\u003e\n      \u003ctd\u003e2.448574e+06\u003c/td\u003e\n    \u003c/tr\u003e\n  \u003c/tbody\u003e\n\u003c/table\u003e\n\u003c/div\u003e"
          },
          "metadata": {},
          "output_type": "execute_result",
          "execution_count": 87
        }
      ],
      "source": "df_sum.resample(\u0027Q-DEC\u0027).sum()\n",
      "metadata": {
        "pycharm": {
          "metadata": false,
          "name": "#%%\n",
          "is_executing": false
        }
      }
    },
    {
      "cell_type": "code",
      "execution_count": 88,
      "outputs": [
        {
          "data": {
            "text/plain": "             open        high         low       close   pre_close      change  \\\ncount  123.000000  123.000000  123.000000  123.000000  123.000000  123.000000   \nmean    23.796748   24.798049   23.062439   23.930325   23.841463    0.088862   \nstd      6.143779    6.451289    5.906788    6.083149    6.184672    1.457526   \nmin     11.460000   12.620000   11.220000   12.500000   11.470000   -4.050000   \n25%     20.760000   22.080000   20.205000   21.130000   20.995000   -0.655000   \n50%     23.500000   24.200000   22.920000   23.460000   23.460000    0.020000   \n75%     28.420000   29.610000   27.640000   28.440000   28.440000    0.975000   \nmax     38.680000   41.880000   37.500000   40.490000   40.490000    3.680000   \n\n          pct_chg           vol        amount  \ncount  123.000000  1.230000e+02  1.230000e+02  \nmean     0.706209  7.828260e+05  1.896821e+06  \nstd      5.729807  4.297616e+05  1.280333e+06  \nmin    -10.011000  1.161964e+05  2.559459e+05  \n25%     -2.849700  4.160795e+05  9.146990e+05  \n50%      0.071000  6.792635e+05  1.583568e+06  \n75%      4.327950  1.150108e+06  2.508825e+06  \nmax     10.037700  1.827801e+06  5.939590e+06  ",
            "text/html": "\u003cdiv\u003e\n\u003cstyle scoped\u003e\n    .dataframe tbody tr th:only-of-type {\n        vertical-align: middle;\n    }\n\n    .dataframe tbody tr th {\n        vertical-align: top;\n    }\n\n    .dataframe thead th {\n        text-align: right;\n    }\n\u003c/style\u003e\n\u003ctable border\u003d\"1\" class\u003d\"dataframe\"\u003e\n  \u003cthead\u003e\n    \u003ctr style\u003d\"text-align: right;\"\u003e\n      \u003cth\u003e\u003c/th\u003e\n      \u003cth\u003eopen\u003c/th\u003e\n      \u003cth\u003ehigh\u003c/th\u003e\n      \u003cth\u003elow\u003c/th\u003e\n      \u003cth\u003eclose\u003c/th\u003e\n      \u003cth\u003epre_close\u003c/th\u003e\n      \u003cth\u003echange\u003c/th\u003e\n      \u003cth\u003epct_chg\u003c/th\u003e\n      \u003cth\u003evol\u003c/th\u003e\n      \u003cth\u003eamount\u003c/th\u003e\n    \u003c/tr\u003e\n  \u003c/thead\u003e\n  \u003ctbody\u003e\n    \u003ctr\u003e\n      \u003cth\u003ecount\u003c/th\u003e\n      \u003ctd\u003e123.000000\u003c/td\u003e\n      \u003ctd\u003e123.000000\u003c/td\u003e\n      \u003ctd\u003e123.000000\u003c/td\u003e\n      \u003ctd\u003e123.000000\u003c/td\u003e\n      \u003ctd\u003e123.000000\u003c/td\u003e\n      \u003ctd\u003e123.000000\u003c/td\u003e\n      \u003ctd\u003e123.000000\u003c/td\u003e\n      \u003ctd\u003e1.230000e+02\u003c/td\u003e\n      \u003ctd\u003e1.230000e+02\u003c/td\u003e\n    \u003c/tr\u003e\n    \u003ctr\u003e\n      \u003cth\u003emean\u003c/th\u003e\n      \u003ctd\u003e23.796748\u003c/td\u003e\n      \u003ctd\u003e24.798049\u003c/td\u003e\n      \u003ctd\u003e23.062439\u003c/td\u003e\n      \u003ctd\u003e23.930325\u003c/td\u003e\n      \u003ctd\u003e23.841463\u003c/td\u003e\n      \u003ctd\u003e0.088862\u003c/td\u003e\n      \u003ctd\u003e0.706209\u003c/td\u003e\n      \u003ctd\u003e7.828260e+05\u003c/td\u003e\n      \u003ctd\u003e1.896821e+06\u003c/td\u003e\n    \u003c/tr\u003e\n    \u003ctr\u003e\n      \u003cth\u003estd\u003c/th\u003e\n      \u003ctd\u003e6.143779\u003c/td\u003e\n      \u003ctd\u003e6.451289\u003c/td\u003e\n      \u003ctd\u003e5.906788\u003c/td\u003e\n      \u003ctd\u003e6.083149\u003c/td\u003e\n      \u003ctd\u003e6.184672\u003c/td\u003e\n      \u003ctd\u003e1.457526\u003c/td\u003e\n      \u003ctd\u003e5.729807\u003c/td\u003e\n      \u003ctd\u003e4.297616e+05\u003c/td\u003e\n      \u003ctd\u003e1.280333e+06\u003c/td\u003e\n    \u003c/tr\u003e\n    \u003ctr\u003e\n      \u003cth\u003emin\u003c/th\u003e\n      \u003ctd\u003e11.460000\u003c/td\u003e\n      \u003ctd\u003e12.620000\u003c/td\u003e\n      \u003ctd\u003e11.220000\u003c/td\u003e\n      \u003ctd\u003e12.500000\u003c/td\u003e\n      \u003ctd\u003e11.470000\u003c/td\u003e\n      \u003ctd\u003e-4.050000\u003c/td\u003e\n      \u003ctd\u003e-10.011000\u003c/td\u003e\n      \u003ctd\u003e1.161964e+05\u003c/td\u003e\n      \u003ctd\u003e2.559459e+05\u003c/td\u003e\n    \u003c/tr\u003e\n    \u003ctr\u003e\n      \u003cth\u003e25%\u003c/th\u003e\n      \u003ctd\u003e20.760000\u003c/td\u003e\n      \u003ctd\u003e22.080000\u003c/td\u003e\n      \u003ctd\u003e20.205000\u003c/td\u003e\n      \u003ctd\u003e21.130000\u003c/td\u003e\n      \u003ctd\u003e20.995000\u003c/td\u003e\n      \u003ctd\u003e-0.655000\u003c/td\u003e\n      \u003ctd\u003e-2.849700\u003c/td\u003e\n      \u003ctd\u003e4.160795e+05\u003c/td\u003e\n      \u003ctd\u003e9.146990e+05\u003c/td\u003e\n    \u003c/tr\u003e\n    \u003ctr\u003e\n      \u003cth\u003e50%\u003c/th\u003e\n      \u003ctd\u003e23.500000\u003c/td\u003e\n      \u003ctd\u003e24.200000\u003c/td\u003e\n      \u003ctd\u003e22.920000\u003c/td\u003e\n      \u003ctd\u003e23.460000\u003c/td\u003e\n      \u003ctd\u003e23.460000\u003c/td\u003e\n      \u003ctd\u003e0.020000\u003c/td\u003e\n      \u003ctd\u003e0.071000\u003c/td\u003e\n      \u003ctd\u003e6.792635e+05\u003c/td\u003e\n      \u003ctd\u003e1.583568e+06\u003c/td\u003e\n    \u003c/tr\u003e\n    \u003ctr\u003e\n      \u003cth\u003e75%\u003c/th\u003e\n      \u003ctd\u003e28.420000\u003c/td\u003e\n      \u003ctd\u003e29.610000\u003c/td\u003e\n      \u003ctd\u003e27.640000\u003c/td\u003e\n      \u003ctd\u003e28.440000\u003c/td\u003e\n      \u003ctd\u003e28.440000\u003c/td\u003e\n      \u003ctd\u003e0.975000\u003c/td\u003e\n      \u003ctd\u003e4.327950\u003c/td\u003e\n      \u003ctd\u003e1.150108e+06\u003c/td\u003e\n      \u003ctd\u003e2.508825e+06\u003c/td\u003e\n    \u003c/tr\u003e\n    \u003ctr\u003e\n      \u003cth\u003emax\u003c/th\u003e\n      \u003ctd\u003e38.680000\u003c/td\u003e\n      \u003ctd\u003e41.880000\u003c/td\u003e\n      \u003ctd\u003e37.500000\u003c/td\u003e\n      \u003ctd\u003e40.490000\u003c/td\u003e\n      \u003ctd\u003e40.490000\u003c/td\u003e\n      \u003ctd\u003e3.680000\u003c/td\u003e\n      \u003ctd\u003e10.037700\u003c/td\u003e\n      \u003ctd\u003e1.827801e+06\u003c/td\u003e\n      \u003ctd\u003e5.939590e+06\u003c/td\u003e\n    \u003c/tr\u003e\n  \u003c/tbody\u003e\n\u003c/table\u003e\n\u003c/div\u003e"
          },
          "metadata": {},
          "output_type": "execute_result",
          "execution_count": 88
        }
      ],
      "source": "df_dong.describe()\n",
      "metadata": {
        "pycharm": {
          "metadata": false,
          "name": "#%%\n",
          "is_executing": false
        }
      }
    },
    {
      "cell_type": "code",
      "execution_count": 89,
      "outputs": [],
      "source": "#逼近法\ndef f(x):\n    return np.sin(x)+0.5*x\n",
      "metadata": {
        "pycharm": {
          "metadata": false,
          "name": "#%%\n",
          "is_executing": false
        }
      }
    },
    {
      "cell_type": "code",
      "execution_count": 90,
      "outputs": [],
      "source": "x\u003dnp.linspace(-2*np.pi,2*np.pi,50)\n",
      "metadata": {
        "pycharm": {
          "metadata": false,
          "name": "#%%\n",
          "is_executing": false
        }
      }
    },
    {
      "cell_type": "code",
      "execution_count": 91,
      "outputs": [
        {
          "data": {
            "text/plain": "Text(0, 0.5, \u0027y\u0027)"
          },
          "metadata": {},
          "output_type": "execute_result",
          "execution_count": 91
        },
        {
          "data": {
            "text/plain": "\u003cFigure size 432x288 with 1 Axes\u003e",
            "image/png": "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\u003d\n"
          },
          "metadata": {
            "needs_background": "light"
          },
          "output_type": "display_data"
        }
      ],
      "source": "plt.plot(x,f(x),\u0027b\u0027)\nplt.grid(True)\nplt.xlabel(\u0027x\u0027)\nplt.ylabel(\u0027y\u0027)\n",
      "metadata": {
        "pycharm": {
          "metadata": false,
          "name": "#%%\n",
          "is_executing": false
        }
      }
    },
    {
      "cell_type": "code",
      "execution_count": 109,
      "outputs": [],
      "source": "rho\u003dnp.polyfit(x,f(x),deg\u003d7)\ny\u003dnp.polyval(rho,x)\n",
      "metadata": {
        "pycharm": {
          "metadata": false,
          "name": "#%%\n",
          "is_executing": false
        }
      }
    },
    {
      "cell_type": "code",
      "execution_count": 110,
      "outputs": [
        {
          "data": {
            "text/plain": "\u003cmatplotlib.legend.Legend at 0x2394c9faf98\u003e"
          },
          "metadata": {},
          "output_type": "execute_result",
          "execution_count": 110
        },
        {
          "data": {
            "text/plain": "\u003cFigure size 432x288 with 1 Axes\u003e",
            "image/png": "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\u003d\u003d\n"
          },
          "metadata": {
            "needs_background": "light"
          },
          "output_type": "display_data"
        }
      ],
      "source": "plt.plot(x,y,\u0027yo\u0027,label\u003d\u0027regression\u0027)\nplt.plot(x,f(x),label\u003d\u0027f(x)\u0027)\nplt.legend(loc\u003d\u0027best\u0027)\n",
      "metadata": {
        "pycharm": {
          "metadata": false,
          "name": "#%%\n",
          "is_executing": false
        }
      }
    },
    {
      "cell_type": "code",
      "execution_count": 111,
      "outputs": [
        {
          "data": {
            "text/plain": "0.0017769134759517593"
          },
          "metadata": {},
          "output_type": "execute_result",
          "execution_count": 111
        }
      ],
      "source": "np.sum((f(x)-y)**2)/len(x)\n",
      "metadata": {
        "pycharm": {
          "metadata": false,
          "name": "#%%\n",
          "is_executing": false
        }
      }
    },
    {
      "cell_type": "code",
      "execution_count": 112,
      "outputs": [
        {
          "data": {
            "text/plain": "False"
          },
          "metadata": {},
          "output_type": "execute_result",
          "execution_count": 112
        }
      ],
      "source": "np.allclose(f(x),y)\n",
      "metadata": {
        "pycharm": {
          "metadata": false,
          "name": "#%%\n",
          "is_executing": false
        }
      }
    },
    {
      "cell_type": "code",
      "execution_count": 113,
      "outputs": [],
      "source": "model\u003dsm.OLS(y,x).fit()\n",
      "metadata": {
        "pycharm": {
          "metadata": false,
          "name": "#%%\n",
          "is_executing": false
        }
      }
    },
    {
      "cell_type": "code",
      "execution_count": 114,
      "outputs": [
        {
          "data": {
            "text/plain": "\u003cclass \u0027statsmodels.iolib.summary.Summary\u0027\u003e\n\"\"\"\n                                 OLS Regression Results                                \n\u003d\u003d\u003d\u003d\u003d\u003d\u003d\u003d\u003d\u003d\u003d\u003d\u003d\u003d\u003d\u003d\u003d\u003d\u003d\u003d\u003d\u003d\u003d\u003d\u003d\u003d\u003d\u003d\u003d\u003d\u003d\u003d\u003d\u003d\u003d\u003d\u003d\u003d\u003d\u003d\u003d\u003d\u003d\u003d\u003d\u003d\u003d\u003d\u003d\u003d\u003d\u003d\u003d\u003d\u003d\u003d\u003d\u003d\u003d\u003d\u003d\u003d\u003d\u003d\u003d\u003d\u003d\u003d\u003d\u003d\u003d\u003d\u003d\u003d\u003d\u003d\u003d\u003d\u003d\u003d\u003d\u003d\u003d\u003d\u003d\u003d\u003d\nDep. Variable:                      y   R-squared (uncentered):                   0.857\nModel:                            OLS   Adj. R-squared (uncentered):              0.855\nMethod:                 Least Squares   F-statistic:                              294.7\nDate:                Tue, 09 Jul 2019   Prob (F-statistic):                    2.30e-22\nTime:                        20:32:19   Log-Likelihood:                         -49.192\nNo. Observations:                  50   AIC:                                      100.4\nDf Residuals:                      49   BIC:                                      102.3\nDf Model:                           1                                                  \nCovariance Type:            nonrobust                                                  \n\u003d\u003d\u003d\u003d\u003d\u003d\u003d\u003d\u003d\u003d\u003d\u003d\u003d\u003d\u003d\u003d\u003d\u003d\u003d\u003d\u003d\u003d\u003d\u003d\u003d\u003d\u003d\u003d\u003d\u003d\u003d\u003d\u003d\u003d\u003d\u003d\u003d\u003d\u003d\u003d\u003d\u003d\u003d\u003d\u003d\u003d\u003d\u003d\u003d\u003d\u003d\u003d\u003d\u003d\u003d\u003d\u003d\u003d\u003d\u003d\u003d\u003d\u003d\u003d\u003d\u003d\u003d\u003d\u003d\u003d\u003d\u003d\u003d\u003d\u003d\u003d\u003d\u003d\n                 coef    std err          t      P\u003e|t|      [0.025      0.975]\n------------------------------------------------------------------------------\nx1             0.4288      0.025     17.166      0.000       0.379       0.479\n\u003d\u003d\u003d\u003d\u003d\u003d\u003d\u003d\u003d\u003d\u003d\u003d\u003d\u003d\u003d\u003d\u003d\u003d\u003d\u003d\u003d\u003d\u003d\u003d\u003d\u003d\u003d\u003d\u003d\u003d\u003d\u003d\u003d\u003d\u003d\u003d\u003d\u003d\u003d\u003d\u003d\u003d\u003d\u003d\u003d\u003d\u003d\u003d\u003d\u003d\u003d\u003d\u003d\u003d\u003d\u003d\u003d\u003d\u003d\u003d\u003d\u003d\u003d\u003d\u003d\u003d\u003d\u003d\u003d\u003d\u003d\u003d\u003d\u003d\u003d\u003d\u003d\u003d\nOmnibus:                       11.433   Durbin-Watson:                   0.075\nProb(Omnibus):                  0.003   Jarque-Bera (JB):                2.964\nSkew:                          -0.000   Prob(JB):                        0.227\nKurtosis:                       1.807   Cond. No.                         1.00\n\u003d\u003d\u003d\u003d\u003d\u003d\u003d\u003d\u003d\u003d\u003d\u003d\u003d\u003d\u003d\u003d\u003d\u003d\u003d\u003d\u003d\u003d\u003d\u003d\u003d\u003d\u003d\u003d\u003d\u003d\u003d\u003d\u003d\u003d\u003d\u003d\u003d\u003d\u003d\u003d\u003d\u003d\u003d\u003d\u003d\u003d\u003d\u003d\u003d\u003d\u003d\u003d\u003d\u003d\u003d\u003d\u003d\u003d\u003d\u003d\u003d\u003d\u003d\u003d\u003d\u003d\u003d\u003d\u003d\u003d\u003d\u003d\u003d\u003d\u003d\u003d\u003d\u003d\n\nWarnings:\n[1] Standard Errors assume that the covariance matrix of the errors is correctly specified.\n\"\"\"",
            "text/html": "\u003ctable class\u003d\"simpletable\"\u003e\n\u003ccaption\u003eOLS Regression Results\u003c/caption\u003e\n\u003ctr\u003e\n  \u003cth\u003eDep. Variable:\u003c/th\u003e            \u003ctd\u003ey\u003c/td\u003e        \u003cth\u003e  R-squared (uncentered):\u003c/th\u003e      \u003ctd\u003e   0.857\u003c/td\u003e\n\u003c/tr\u003e\n\u003ctr\u003e\n  \u003cth\u003eModel:\u003c/th\u003e                   \u003ctd\u003eOLS\u003c/td\u003e       \u003cth\u003e  Adj. R-squared (uncentered):\u003c/th\u003e \u003ctd\u003e   0.855\u003c/td\u003e\n\u003c/tr\u003e\n\u003ctr\u003e\n  \u003cth\u003eMethod:\u003c/th\u003e             \u003ctd\u003eLeast Squares\u003c/td\u003e  \u003cth\u003e  F-statistic:       \u003c/th\u003e          \u003ctd\u003e   294.7\u003c/td\u003e\n\u003c/tr\u003e\n\u003ctr\u003e\n  \u003cth\u003eDate:\u003c/th\u003e             \u003ctd\u003eTue, 09 Jul 2019\u003c/td\u003e \u003cth\u003e  Prob (F-statistic):\u003c/th\u003e          \u003ctd\u003e2.30e-22\u003c/td\u003e\n\u003c/tr\u003e\n\u003ctr\u003e\n  \u003cth\u003eTime:\u003c/th\u003e                 \u003ctd\u003e20:32:19\u003c/td\u003e     \u003cth\u003e  Log-Likelihood:    \u003c/th\u003e          \u003ctd\u003e -49.192\u003c/td\u003e\n\u003c/tr\u003e\n\u003ctr\u003e\n  \u003cth\u003eNo. Observations:\u003c/th\u003e      \u003ctd\u003e    50\u003c/td\u003e      \u003cth\u003e  AIC:               \u003c/th\u003e          \u003ctd\u003e   100.4\u003c/td\u003e\n\u003c/tr\u003e\n\u003ctr\u003e\n  \u003cth\u003eDf Residuals:\u003c/th\u003e          \u003ctd\u003e    49\u003c/td\u003e      \u003cth\u003e  BIC:               \u003c/th\u003e          \u003ctd\u003e   102.3\u003c/td\u003e\n\u003c/tr\u003e\n\u003ctr\u003e\n  \u003cth\u003eDf Model:\u003c/th\u003e              \u003ctd\u003e     1\u003c/td\u003e      \u003cth\u003e                     \u003c/th\u003e              \u003ctd\u003e \u003c/td\u003e   \n\u003c/tr\u003e\n\u003ctr\u003e\n  \u003cth\u003eCovariance Type:\u003c/th\u003e      \u003ctd\u003enonrobust\u003c/td\u003e    \u003cth\u003e                     \u003c/th\u003e              \u003ctd\u003e \u003c/td\u003e   \n\u003c/tr\u003e\n\u003c/table\u003e\n\u003ctable class\u003d\"simpletable\"\u003e\n\u003ctr\u003e\n   \u003ctd\u003e\u003c/td\u003e     \u003cth\u003ecoef\u003c/th\u003e     \u003cth\u003estd err\u003c/th\u003e      \u003cth\u003et\u003c/th\u003e      \u003cth\u003eP\u003e|t|\u003c/th\u003e  \u003cth\u003e[0.025\u003c/th\u003e    \u003cth\u003e0.975]\u003c/th\u003e  \n\u003c/tr\u003e\n\u003ctr\u003e\n  \u003cth\u003ex1\u003c/th\u003e \u003ctd\u003e    0.4288\u003c/td\u003e \u003ctd\u003e    0.025\u003c/td\u003e \u003ctd\u003e   17.166\u003c/td\u003e \u003ctd\u003e 0.000\u003c/td\u003e \u003ctd\u003e    0.379\u003c/td\u003e \u003ctd\u003e    0.479\u003c/td\u003e\n\u003c/tr\u003e\n\u003c/table\u003e\n\u003ctable class\u003d\"simpletable\"\u003e\n\u003ctr\u003e\n  \u003cth\u003eOmnibus:\u003c/th\u003e       \u003ctd\u003e11.433\u003c/td\u003e \u003cth\u003e  Durbin-Watson:     \u003c/th\u003e \u003ctd\u003e   0.075\u003c/td\u003e\n\u003c/tr\u003e\n\u003ctr\u003e\n  \u003cth\u003eProb(Omnibus):\u003c/th\u003e \u003ctd\u003e 0.003\u003c/td\u003e \u003cth\u003e  Jarque-Bera (JB):  \u003c/th\u003e \u003ctd\u003e   2.964\u003c/td\u003e\n\u003c/tr\u003e\n\u003ctr\u003e\n  \u003cth\u003eSkew:\u003c/th\u003e          \u003ctd\u003e-0.000\u003c/td\u003e \u003cth\u003e  Prob(JB):          \u003c/th\u003e \u003ctd\u003e   0.227\u003c/td\u003e\n\u003c/tr\u003e\n\u003ctr\u003e\n  \u003cth\u003eKurtosis:\u003c/th\u003e      \u003ctd\u003e 1.807\u003c/td\u003e \u003cth\u003e  Cond. No.          \u003c/th\u003e \u003ctd\u003e    1.00\u003c/td\u003e\n\u003c/tr\u003e\n\u003c/table\u003e\u003cbr/\u003e\u003cbr/\u003eWarnings:\u003cbr/\u003e[1] Standard Errors assume that the covariance matrix of the errors is correctly specified."
          },
          "metadata": {},
          "output_type": "execute_result",
          "execution_count": 114
        }
      ],
      "source": "model.summary()\n",
      "metadata": {
        "pycharm": {
          "metadata": false,
          "name": "#%%\n",
          "is_executing": false
        }
      }
    },
    {
      "cell_type": "code",
      "execution_count": 116,
      "outputs": [
        {
          "data": {
            "text/plain": "[\u003cmatplotlib.lines.Line2D at 0x2394ca9bbe0\u003e]"
          },
          "metadata": {},
          "output_type": "execute_result",
          "execution_count": 116
        },
        {
          "data": {
            "text/plain": "\u003cFigure size 432x288 with 1 Axes\u003e",
            "image/png": "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\u003d\u003d\n"
          },
          "metadata": {
            "needs_background": "light"
          },
          "output_type": "display_data"
        }
      ],
      "source": "plt.plot(x,model.predict(),\u0027yo\u0027)\nplt.plot(x,f(x))\n",
      "metadata": {
        "pycharm": {
          "metadata": false,
          "name": "#%%\n",
          "is_executing": false
        }
      }
    },
    {
      "cell_type": "code",
      "execution_count": 117,
      "outputs": [],
      "source": "nsample \u003d 50\nsig \u003d 0.5\nx \u003d np.linspace(0, 20, nsample)\nX \u003d np.column_stack((x, np.sin(x), (x-5)**2, np.ones(nsample)))\nbeta \u003d [0.5, 0.5, -0.02, 5.]\n\n",
      "metadata": {
        "pycharm": {
          "metadata": false,
          "name": "#%%\n",
          "is_executing": false
        }
      }
    },
    {
      "cell_type": "code",
      "execution_count": 124,
      "outputs": [
        {
          "data": {
            "text/plain": "array([0.42884195])"
          },
          "metadata": {},
          "output_type": "execute_result",
          "execution_count": 124
        }
      ],
      "source": "model.params\n",
      "metadata": {
        "pycharm": {
          "metadata": false,
          "name": "#%%\n",
          "is_executing": false
        }
      }
    },
    {
      "cell_type": "code",
      "execution_count": 122,
      "outputs": [
        {
          "data": {
            "text/plain": "array([-3.07314707, -2.81257734, -2.46322158, -2.09827793, -1.76760511,\n       -1.50193401, -1.3166466 , -1.21514192, -1.19180963, -1.23463095,\n       -1.32742739, -1.45177718, -1.58861969, -1.71956787, -1.82794897,\n       -1.89959347, -1.92339261, -1.89164437, -1.80020835, -1.64848936,\n       -1.43927015, -1.1784131 , -0.87445138, -0.53808935, -0.18163257,\n        0.18163257,  0.53808935,  0.87445138,  1.1784131 ,  1.43927015,\n        1.64848936,  1.80020835,  1.89164437,  1.92339261,  1.89959347,\n        1.82794897,  1.71956787,  1.58861969,  1.45177718,  1.32742739,\n        1.23463095,  1.19180963,  1.21514192,  1.3166466 ,  1.50193401,\n        1.76760511,  2.09827793,  2.46322158,  2.81257734,  3.07314707])"
          },
          "metadata": {},
          "output_type": "execute_result",
          "execution_count": 122
        }
      ],
      "source": "y\n",
      "metadata": {
        "pycharm": {
          "metadata": false,
          "name": "#%%\n",
          "is_executing": false
        }
      }
    },
    {
      "cell_type": "code",
      "execution_count": 125,
      "outputs": [
        {
          "data": {
            "text/plain": "array([[ 0.00000000e+00,  0.00000000e+00,  2.50000000e+01,\n         1.00000000e+00],\n       [ 4.08163265e-01,  3.96924149e-01,  2.10849646e+01,\n         1.00000000e+00],\n       [ 8.16326531e-01,  7.28634783e-01,  1.75031237e+01,\n         1.00000000e+00],\n       [ 1.22448980e+00,  9.40632785e-01,  1.42544773e+01,\n         1.00000000e+00],\n       [ 1.63265306e+00,  9.98087482e-01,  1.13390254e+01,\n         1.00000000e+00],\n       [ 2.04081633e+00,  8.91559230e-01,  8.75676801e+00,\n         1.00000000e+00],\n       [ 2.44897959e+00,  6.38550320e-01,  6.50770512e+00,\n         1.00000000e+00],\n       [ 2.85714286e+00,  2.80629400e-01,  4.59183673e+00,\n         1.00000000e+00],\n       [ 3.26530612e+00, -1.23398137e-01,  3.00916285e+00,\n         1.00000000e+00],\n       [ 3.67346939e+00, -5.07151709e-01,  1.75968347e+00,\n         1.00000000e+00],\n       [ 4.08163265e+00, -8.07581691e-01,  8.43398584e-01,\n         1.00000000e+00],\n       [ 4.48979592e+00, -9.75328286e-01,  2.60308205e-01,\n         1.00000000e+00],\n       [ 4.89795918e+00, -9.82831204e-01,  1.04123282e-02,\n         1.00000000e+00],\n       [ 5.30612245e+00, -8.28857736e-01,  9.37109538e-02,\n         1.00000000e+00],\n       [ 5.71428571e+00, -5.38705288e-01,  5.10204082e-01,\n         1.00000000e+00],\n       [ 6.12244898e+00, -1.60045086e-01,  1.25989171e+00,\n         1.00000000e+00],\n       [ 6.53061224e+00,  2.44910071e-01,  2.34277384e+00,\n         1.00000000e+00],\n       [ 6.93877551e+00,  6.09627196e-01,  3.75885048e+00,\n         1.00000000e+00],\n       [ 7.34693878e+00,  8.74184299e-01,  5.50812162e+00,\n         1.00000000e+00],\n       [ 7.75510204e+00,  9.95115395e-01,  7.59058726e+00,\n         1.00000000e+00],\n       [ 8.16326531e+00,  9.52551848e-01,  1.00062474e+01,\n         1.00000000e+00],\n       [ 8.57142857e+00,  7.53486727e-01,  1.27551020e+01,\n         1.00000000e+00],\n       [ 8.97959184e+00,  4.30625870e-01,  1.58371512e+01,\n         1.00000000e+00],\n       [ 9.38775510e+00,  3.70144015e-02,  1.92523948e+01,\n         1.00000000e+00],\n       [ 9.79591837e+00, -3.62678429e-01,  2.30008330e+01,\n         1.00000000e+00],\n       [ 1.02040816e+01, -7.02784220e-01,  2.70824656e+01,\n         1.00000000e+00],\n       [ 1.06122449e+01, -9.27424552e-01,  3.14972928e+01,\n         1.00000000e+00],\n       [ 1.10204082e+01, -9.99691655e-01,  3.62453145e+01,\n         1.00000000e+00],\n       [ 1.14285714e+01, -9.07712248e-01,  4.13265306e+01,\n         1.00000000e+00],\n       [ 1.18367347e+01, -6.66598288e-01,  4.67409413e+01,\n         1.00000000e+00],\n       [ 1.22448980e+01, -3.15964115e-01,  5.24885464e+01,\n         1.00000000e+00],\n       [ 1.26530612e+01,  8.65820672e-02,  5.85693461e+01,\n         1.00000000e+00],\n       [ 1.30612245e+01,  4.74903061e-01,  6.49833403e+01,\n         1.00000000e+00],\n       [ 1.34693878e+01,  7.85198826e-01,  7.17305289e+01,\n         1.00000000e+00],\n       [ 1.38775510e+01,  9.66488646e-01,  7.88109121e+01,\n         1.00000000e+00],\n       [ 1.42857143e+01,  9.88987117e-01,  8.62244898e+01,\n         1.00000000e+00],\n       [ 1.46938776e+01,  8.48997803e-01,  9.39712620e+01,\n         1.00000000e+00],\n       [ 1.51020408e+01,  5.69520553e-01,  1.02051229e+02,\n         1.00000000e+00],\n       [ 1.55102041e+01,  1.96472687e-01,  1.10464390e+02,\n         1.00000000e+00],\n       [ 1.59183673e+01, -2.08855085e-01,  1.19210746e+02,\n         1.00000000e+00],\n       [ 1.63265306e+01, -5.79868557e-01,  1.28290296e+02,\n         1.00000000e+00],\n       [ 1.67346939e+01, -8.55611267e-01,  1.37703040e+02,\n         1.00000000e+00],\n       [ 1.71428571e+01, -9.90779466e-01,  1.47448980e+02,\n         1.00000000e+00],\n       [ 1.75510204e+01, -9.63165404e-01,  1.57528113e+02,\n         1.00000000e+00],\n       [ 1.79591837e+01, -7.77305991e-01,  1.67940441e+02,\n         1.00000000e+00],\n       [ 1.83673469e+01, -4.63737404e-01,  1.78685964e+02,\n         1.00000000e+00],\n       [ 1.87755102e+01, -7.39780734e-02,  1.89764681e+02,\n         1.00000000e+00],\n       [ 1.91836735e+01,  3.27935645e-01,  2.01176593e+02,\n         1.00000000e+00],\n       [ 1.95918367e+01,  6.75970465e-01,  2.12921699e+02,\n         1.00000000e+00],\n       [ 2.00000000e+01,  9.12945251e-01,  2.25000000e+02,\n         1.00000000e+00]])"
          },
          "metadata": {},
          "output_type": "execute_result",
          "execution_count": 125
        }
      ],
      "source": "X\n",
      "metadata": {
        "pycharm": {
          "metadata": false,
          "name": "#%%\n",
          "is_executing": false
        }
      }
    },
    {
      "cell_type": "code",
      "execution_count": 13,
      "outputs": [],
      "source": "import scipy.interpolate as spi\nx\u003dnp.linspace(-2*np.pi,2*np.pi,25)\n",
      "metadata": {
        "pycharm": {
          "metadata": false,
          "name": "#%%\n",
          "is_executing": false
        }
      }
    },
    {
      "cell_type": "code",
      "execution_count": 14,
      "outputs": [],
      "source": "def f(x):\n    return np.sin(x)+0.5*x\n",
      "metadata": {
        "pycharm": {
          "metadata": false,
          "name": "#%%\n",
          "is_executing": false
        }
      }
    },
    {
      "cell_type": "code",
      "execution_count": 21,
      "outputs": [],
      "source": "ipo\u003dspi.splrep(x,f(x),k\u003d3)\niy\u003dspi.splev(x,ipo)\n",
      "metadata": {
        "pycharm": {
          "metadata": false,
          "name": "#%%\n",
          "is_executing": false
        }
      }
    },
    {
      "cell_type": "code",
      "execution_count": 17,
      "outputs": [
        {
          "data": {
            "text/plain": "Text(0, 0.5, \u0027y\u0027)"
          },
          "metadata": {},
          "output_type": "execute_result",
          "execution_count": 17
        },
        {
          "data": {
            "text/plain": "\u003cFigure size 432x288 with 1 Axes\u003e",
            "image/png": "iVBORw0KGgoAAAANSUhEUgAAAYAAAAEGCAYAAABsLkJ6AAAABHNCSVQICAgIfAhkiAAAAAlwSFlzAAALEgAACxIB0t1+/AAAADh0RVh0U29mdHdhcmUAbWF0cGxvdGxpYiB2ZXJzaW9uMy4xLjAsIGh0dHA6Ly9tYXRwbG90bGliLm9yZy+17YcXAAAgAElEQVR4nO3deXhTVf7H8fdpSikDiAwqKqioI27IgEUkuJBSdHBDURlFR3BFnBH3EQERZHVDHRz5IQouCIMoorgwLqUZWYLIooigDIMbihvKUpGmTc/vj1P2Am1JcnObz+t58mia9N7Pacv55p577znGWouIiKSfDK8DiIiIN1QARETSlAqAiEiaUgEQEUlTKgAiImkq0+sAlbHffvvZJk2axH27v/76K7Vr1477dpPF7/nB/23we37wfxv8nh8S14YFCxb8ZK3df8ev+6oANGnShPnz58d9u+FwmFAoFPftJovf84P/2+D3/OD/Nvg9PySuDcaYL8v7uoaARETSlAqAiEiaUgEQEUlTvjoHUJ7i4mJWrVrFpk2bqryNevXqsWzZsjimSq5UyZ+dnU3jxo2pUaOG11FEpAJ8XwBWrVpF3bp1adKkCcaYKm1jw4YN1K1bN87JkicV8ltrWbNmDatWreLwww/3NIuIVIzvh4A2bdpEgwYNqtz5S3wYY2jQoMFeHYmJSHL5vgAA6vxThH4PIgkSicDw4e6/ceT7ISARkeqsKBzBnJFHDRvFZGVBfj4Eg3HZdrU4AhARqa7evz9MRkkUE4tBNArhcNy2rQIQByNHjuTYY4/l8ssv55VXXmHQoEG7ff8dd9zBjBkzkpRORPxq7VoYOjtESUYWBAKQlQVxvFPYsyEgY0w28B5QsyzHS9baAV7l2RujRo1i+vTpHH744bRt25Zp06bt9v29evXiuuuuo3379klKKCJ+9NBD8PaGIF8+nc/Rq8Ou84/T8A94ew6gCGhvrS00xtQAZhljpltr51Z1g7fcAh9+WPnvi8VqEQiU/1qLFvDoo7v+3p49e7Jy5Uo6derEX/7yF2rWrMl+++0HwPnnn89FF11Et27deOKJJ3jvvfeYMGEChx12GGvWrOG7777jwAMPrHxgEan2vv/e9T2XXAJHXxkE4tfxb+bZEJB1Csue1ih7+G6B4tGjR3PwwQdTUFDAAQccwIknnrjltTFjxjBo0CBmzpzJiBEjeOyxx7a8duKJJzJ79mwvIouIDwwdCps2weDBiduHp1cBGWMCwALgD8Dj1tr3y3lPD6AHQMOGDQnvcAKkXr16bNiwAaj6DyoWixHY1SEAULb5XbLWUlhYyBdffME+++yzJc/vfvc7+vTpQ25uLhMnTqRGjRpbXtt3331ZuXLllud7IxaLxWU78bBp06adfkcVUVhYWKXvSxV+zw/+b4Pf88PWNqxenc3//V9rzjrrO775ZjnffJOY/XlaAKy1MaCFMWZfYKoxppm1dskO7xkDjAFo1aqV3XGq1GXLlu31XbB7eyetMYY6deqw7777sm7duu22tWLFCho0aMAvv/yy3ddLS0upX79+XO7gTYU7gTfLzs6mZcuWlf4+v0/l6/f84P82+D0/bG1D9+6QmQmjRx9Mo0YHJ2x/KXEVkLV2LRAGOnocZa8ce+yxrFixYsvzefPmMX36dBYtWsRDDz3E559/vuW15cuX06xZMy9iikgKW7IExo+HXr2gUaPE7suzAmCM2b/skz/GmFpAB+BTr/LEw+mnn86iRYuw1lJUVMR1113HuHHjOPjggxkxYgRXX3011lqKi4tZsWIFrVq18jqyiKSYu++GunWhd+/E78vLIaCDgGfLzgNkAJOtta97mKfKvvjiiy3/36FDB/Lz8+nQoQMfffTRlq936tSJTp06AfD6669z8cUXk5mpG7FFZKtPPtmHV1915zMbNEj8/jzrgay1i4HKDxanuL59+/L++zudy95OSUkJt99+e5ISiYgfWAtPPnkEBxzgLmlPBn0EjbOGDRtu+aS/K126dElSGhHxi7ffho8+2peRI6FOneTsMyVOAouIpLPSUujbFw488Dd69EjeflUAREQ8NmUKLFwIV175BTVrJm+/KgAiIh4qKXFX/hx/PHTo8H1S960CEAdt27bd43seffRRNm7cmPAszzzzDDfeeONu3xMOh5kzZ86W56NHj+a5555LdDQRKcczz8Dy5W7qh91MSJAQKgBxsG1nuitVKQCxWKyqkXZrxwLQs2dPunXrlpB9iciu/fYbDBwIbdrAHq4dSYj0LABxXl6tTtkp+823cV988cUcc8wxXH755VhrGTlyJN9++y25ubnk5uYC8PbbbxMMBjnxxBPp0qULhYVuXrwmTZowaNAgTj31VF588UVCoRC33HILbdu2pVmzZsybNw+An3/+mQsuuIDmzZvTvn17Fi9evFOu1157jZNPPpmWLVvSoUMHvv/+e7744gtGjx7NI488QosWLZg5cyYDBw7koYceAuDDDz+kTZs2NG/enM6dO/PLL78AEAqF6N27N61bt6Zp06bMnDkzLj87kXQ2ahR8843rjrxYUTX9CkAkAnl50L+/+2+c19hctGgRjz76KEuXLmXlypXMnj2bm266acuMoQUFBfz0008MGTKEd999l4ULF9KqVSsefvjhLdvIzs5m1qxZXHrppQD8+uuvzJkzh1GjRnH11VcDMGDAAFq2bMnixYsZMGBAuZ/gTz31VObOncuiRYu49NJLeeCBB2jSpAk9e/bk1ltv5cMPP+S0007b7nu6devG/fffz+LFiznhhBO49957t7xWUlLCvHnzePTRR7f7uohU3rp1MGwYnHlmXNd4qZT0uw8gHHbLqm27vFoc5+Rp3bo1jRs3BqBFixZ88cUXnHrqqdu9Z+7cuSxdupRTTjkFgGg0SnCbRR4uueSS7d7ftWtXwE01sX79etauXcusWbOYMmUKAO3atWPNmjWsW7duu+9btWoVl1xyCatXryYajXL44YfvNvu6detYu3Yt7dq1A6B79+7b3bNw4YUXApCTk7Pd3c8iUnkjRsDPP7si4JX0KwChkFtWLRqN+/JqADW3uYYrEAhQUlKy03ustZxxxhn861//KncbtWvX3u652eHY0BiDtTsvnbDj+3r16sVtt91Gp06dCIfDDBw4sKLNKNfmtu2qXSJSMT/8AA8/DF26QE6OdznSbwgoGIT8fDfZRn5+XJdX2526detumbO/TZs2zJ49e8vMoRs3bmT58uW7/N4XXngBgFmzZlGvXj3q1avH6aefzoQJEwCYOXMm++23H/vss89237du3ToalU0n+Oyzz5abZVv16tWjfv36W8b3x48fv+VoQETiJxmLvVRE+h0BgOv0k9Txb9ajRw/OOussDjroIAoKCnjmmWfo2rUrRUVFAAwZMoSmTZuW+73169enbdu2rF+/nnHjxgEwcOBArrrqKpo3b07NmjW36+A3GzhwIF26dKFRo0a0adNmy3TU5513HhdffDGvvvrqdquUgSsUPXv2ZOPGjRxxxBE8/fTT8fwxiKS91S9HqPt4mMFnhzj66OT2Qzux1vrmkZOTY3e0dOnSnb5WWevXr9/rbSRKu3bt7AcffLDb96RS/qr+PgoKCuIbJMn8nt9a/7fBF/nnzLGbArVsMQEby65l7Zw5272cqDYA8205fWr6DQGJiHjk82fCBGJRMomRUVx2EYqH0nMIyEf8vsapiDibNkGff4d42mQRyIhiEnARSmVViwJgrd3pChhJPlvOlUki4gwdCi98FeTWR/I5+bew6/yTfC5yR74vANnZ2axZs4YGDRqoCHjIWsuaNWvIzs72OopIylm8GO67D7p1g5NvCQIen/wt4/sC0LhxY1atWsWPP/5Y5W1s2rTJ1x1XquTPzs7echOciDixGFx7LdSv7679TyW+LwA1atTY4x2uexIOh2nZ0r+rU/o9v0h1NnIkfPABTJyYnHV+K0NXAYmIJMjnn7u5/s85B8qm9kopKgAiIglgLfTsCRkZbtbPVDxF6fshIBGRVDR+vFvo/Z//hEMP9TpN+Tw7AjDGHGKMKTDGLDPGfGKMudmrLCIi8fTDD3Drre4qzxtu8DrNrnl5BFAC3G6tXWiMqQssMMa8Y61d6mEmEZG9dvPNUFgITz3lhoBSlWfRrLWrrbULy/5/A7AMaORVHhGReHj9dZg0Cfr1g+OO8zrN7plUuHvTGNMEeA9oZq1dv8NrPYAeAA0bNsyZNGlS3PdfWFi4ZVlHP/J7fvB/G/yeH/zfhlTIv3FjgCuvPInatWOMGTOfGjUq178mqg25ubkLrLWtdnqhvBnikvkA6gALgAv39N7yZgONB1/MIrgbfs9vrf/b4Pf81pa1Yc4ca4cN22mWSj9Ihd/B3/5mrTFV//ElezZQT68CMsbUAKYAE6y1L3uZRSSdff89LH7iO9pMvprM0iilmVl89HA+za4NUquW1+n8YfZsd7lnr16eT/FTYV5eBWSAscAya22K3SAtUv2tXOnWpT31VDjoIFg96XMyS91UxaYkyss3halfH9q3hyFDYM4cKC72OnVqKiqC666DQw5xk775hZdHAKcAVwAfG2M+LPtaX2vtmx5mEqm2rHWTkk2d6h6LF7uvt2gBAwfCiUUHEHjErZedmZXFeYNDFK+GGTPgnnugf3+oXRtOPx3y8lxh+OMfIeP9iJvXPgVmt/TKsGGwbBm8+Sb46TSKZwXAWjsLSMF740SqiUiE0oIwSxqEeO6/QaZOdZ/6jXGf+h9+GC64ADZPpRUOH4k5Nx/CYUwoRNtgkLZlm1qzxvXxM2a4xx13uK+fWTfCtI151LBRMmpmJXWd7VSxZAkMHw6XXw5nneV1msrRncAi1VEkQiyUh41G+QNZvB/I5+gzg9x1F3TqBA0b7uL7drFedoMGcNFF7gHw7bdQUADZj4QJLIiSQYyS36JsmBqmfhoVgNisCO91DdO+VohHHvFfu1UARKqhpf8Xpmm0bOnBjCjv9AuTfW/8OqiDD3afeDkihM3LIrYpStRm0fkfIXJrw513Uv1PHkcilLbPo0dxlB5ZWWSuyIf9/VUEUvgeNRGpipdfhusnhijJyMIGAmTUzCK7YygxOwsGMfn5BIYOZsPUfBpeEGTgQHcD1CuvuPMO1dV/BoUxxa7IBmLer+9bFSoAItXI5Mnw5z9DrHWQkn/nYwYPTvy4fDAIffrQ8IIgL7zgzhHUrg2dO0PHjvDpp4nbtVeGDYO7/h0iFnBFNhXW960KFQCRamLiROjaFdq2hbfegjpnuI452Sdlc3Nh0SJ49FGYOxdOOAH+/nfYsCGpMRJm0CA3zcORlwcJFCSpyCaICoBINTB+PFxxhbtEc/p0qFvX2zw1argJ0f77X7cO7kMPwdFHw/PP+3dYyFp3OeyAAdC9Ozz7LGSe5k2RjRcVABGfGzfOdUi5ufDGG274JVUccACMHeuOBBo3dkWq5x8jfNtrOEQiXserMGuhb18YPBiuucb9zAMBr1PtPV0FJOJjY8bA9dfDn/7kbu5K1StvTj7ZFYE37o6QNzyPrI+jREdn8dtr+dTrmNqfnq11Q1gjRrgVvh5/PLWneK6MatIMkfQzapTr/M85x11xk6qd/2YZGXBe3TC1Alunmxh5YZjRoyEW8zpd+ax1C7uMGAE33uh+5tWl8wcVABFfGjkS/vY3d1PXlCmQne11ogoKhdwVM4EAgewsVh8d4oYb4KST3FxDqaS01E3s9o9/wC23uJ95Kq7ruzdUAER8ZsQId4L1wgvhxRehZk2vE1VCMOiumBk8mIwZ+Ty+MMikSW4JxVNOcSeMV6/2OqTr/G+4wQ33/P3vbtqM6tb5gwqAiH9EIoQ7DuelOyJ06eJWncrK8jpUFQS3XjljDFxyibtXoE8feOEFd7XQiBHezTxaWupm9hwzxp34vf/+6tn5gwqAiD9EIhS3y+PUt/oTDuQxsVeEGjW8DhU/deq4m6uWLHGXst5xBzRvDu+8k8QQkQilQ4cz5NwI48a5Sz6HDKm+nT+oAIj4wn+f3DrtQBZRMmeFvY6UEEcd5dbUfe01dwRw5pluArrVL0fclJuJunQ0EsG2z8Pe3Z87pucx9toI995bvTt/UAEQSXm//gq9p4coNv6edqAyzj3XHQ0MHQo/vxGh3kV5xPr1J5abR1E4fkXg66/dyd0nLw8T2xQlQIyaJsrVR4Tjto9UpvsARFJc//4w9bsgn43Kp8XacNosvJKd7cbg/7ouTM0HogRsjOKiKIM7hJl9WpD27d2iNK1bU6nhsGXLti6KM3+++1rXJiG6Z2ZhbZRAGhTYzVQARFLYvHnuMsSePaHFDUGg+nf8O9r3ghA8loWNRskIZHHgxSHWLXNTMtxzz9ZVyg477BD22cetUhYI4IaLwmFsuxAfZAa3dPqffea2e/LJcN99btK6pk2DEMlPu5XNVABEUlRxMVx7rVuv9777vE7jobJLR004TCAU4sZgkBtxq5T95z9bVymbPv1IRo+G+vWhxwkRBkfyyCiJEiWLm20+8zODhEJw001w/vnQqFE5+0mTjn8zFQCRFPXAA/Dxx/Dqq1CvntdpPFZO59yggbsX4sIL3fMpU+ZQVNSW/Hz4/cvupHmAGDWIMqpLmCZPBKlf34PsKUwFQCQFffqpm3a4Sxd3t6/sWYMGUUIhuOwy4NoQpe2zsMVugfuWt4ZAnf9OVABEUszmG5Fq14bHHvM6jU8Fg2TMSL8x/cpSARBJMWPGwKxZbsrhXS7eLnuWhmP6leXpfQDGmHHGmB+MMUu8zCGSKr75xi2onpcHV17pdRqp7ry+EewZoKPHGURSgrXw179CSQk88UT1vwtVvOfpEJC19j1jTBMvM4ikipdegmnT4MEH4cgjvU4j6cDrIwARAX7+2S04kpPj5p4XSQZjPV6huewI4HVrbbNdvN4D6AHQsGHDnEmTJsU9Q2FhIXXq1In7dpPF7/nB/23Y2/z33380b799IE88sYA//KEwjskqLt1/B6kgUW3Izc1dYK1ttdML1lpPH0ATYElF3puTk2MToaCgICHbTRa/57fW/23Ym/zvvGMtWHvXXfHLUxXp/DtIFYlqAzDfltOnaghIxEMbN7p1fY86ys1rI5JMXl8G+i8gAhxtjFlljLnGyzwiyTZgAKxcCU8+mfqLukv14/VVQF293L+IlxYscGvNXncdtGvndRpJRxoCEvFAycwIs88dztn1IzzwgNdpJF1pKgiRZItEsHl5/LU4yl+zsshclq8pC8QTOgIQSbLCN7au75sZi7oJy0Q8oAIgkmRjV4SI4tb3JY2WH5TUoyEgkST66ivo/UqQwnPy6XdKWFMVi6dUAESS6N573aRvV4wKwqHq+MVbGgISSZJPP4VnnnEzfh56qNdpRFQARJLm7rvhd7+Dvn29TiLiqACIJMEHH8CUKXD77bD//l6nEXFUAESSoG9f2G8/uO02r5OIbKWTwCIJNmMGvPuum/Zhn328TiOylY4ARBLIWujTBw45BG64wes0ItvTEYBIAr3yCsybB2PHQna212lEtqcjAJEEicWgXz845hjo1s3rNCI70xGASIKMHw/LlrnF3jP1L01SkI4ARBKgqMgt9tKqFVx4oddpRMqnzyUiCTB6tJv3Z+xYMMbrNCLl0xGASJxt2ABDh0L79tChg9dpRHZNBUAkzh59FH78EYYP9zqJyO6pAIjE0U8/wYMPQufO0Lq112lEdk8FQCSO7rsPfv0VhgzxOonInqkAiMTJ11/DP//prvk/7jiv04jsmQqASJwMGuSmfhg40OskIhXjaQEwxnQ0xnxmjFlhjLnLyywie+Orr2oxbpyb7+eww7xOI1IxnhUAY0wAeBw4CzgO6GqM0YGz+E8kwqaB0wjVjGixF/GVPRYAY8yNxpj6Cdh3a2CFtXaltTYKTALOT8B+RBInEqE0N4+rP7+ffxfnccD/Il4nEqmwitwJfCDwgTFmITAOeMtaa+Ow70bA19s8XwWcvOObjDE9gB4ADRs2JBwOx2HX2yssLEzIdpPF7/nBv204dMIEDi2KkkmM0tIiVo4bx1dFRV7HqhK//g4283t+8KAN1to9PgAD/An3KX0FMAw4siLfu5ttdgGe2ub5FcBju/uenJwcmwgFBQUJ2W6y+D2/tf5tw/zH5thfqWVLTMDaWrWsnTPH60hV5tffwWZ+z29t4toAzLfl9KkVOgdQtoHvyh4lQH3gJWPMA3tRe1YBh2zzvDHw7V5sTySprIW/PR+k6/75rLzyasjPh2DQ61giFbbHISBjzE1Ad+An4Cng79baYmNMBvBf4M4q7vsD4ChjzOHAN8ClwGVV3JZI0k2bBu+/D089FeSbI4s4Sp2/+ExFzgHsB1xorf1y2y9aa0uNMedWdcfW2hJjzI3AW0AAGGet/aSq2xNJpljMLfR+9NHQvTvMmuV1IpHK22MBsNbes5vXlu3Nzq21bwJv7s02RLwwYQIsXQovvqjFXsS/dCewSCUVFcE990BODlx0kddpRKpOn11EKmnMGPjyS3jySS32Iv6mIwCRSigshMGDITdXi72I/6kAiFTCtou96NO/+J0KgEgFrVnjFnu54AI4ead71kX8RwVApILuu88NAWmxF6kuVABEKmDVKnjsMbjiCjj+eK/TiMSHCoBIBQwaBKWlWuxFqhcVAJE9WL6cLYu9NGnidRqR+FEBENmD/v0hOxv69fM6iUh8qQCI7MbChTB5Mtx2GxxwgNdpROJLBUBkN/r2hd//Hm6/3eskIvGnqSBEdiEchrfegocegnr1vE4jEn86AhAph7XQpw80agR//avXaUQSQ0cAIuWYNg3mznUTvtWq5XUakcTQEYDIDmIxd8VP06Zw5ZVepxFJHBUAkR28dW+E8z4ZzqgrIlrsRao1/XmLbKMoHCF3SB5nEiUwLAvytNC7VF86AhDZxn/uDVPDRskkholG3aVAItWUCoBImcWLYfDMELFAFgQCkJUFoZDXsUQSRkNAIrgTv9dcA1/+Psim5/KpuSjsOn8N/0g1pgIgAowcCfPnw6RJUK9jEDqq45fqz5MhIGNMF2PMJ8aYUmNMKy8yiGz2+edw991w7rnw5z97nUYkebw6B7AEuBB4z6P9iwDujt/rr3dD/qNGaZ1fSS+eDAFZa5cBGP1rE4+NHw/vvAOPPw6HHOJ1GpHk0lVAkrZ++AFuvRVOOQV69vQ6jUjyGWttYjZszLvAgeW81M9a+2rZe8LAHdba+bvZTg+gB0DDhg1zJk2aFPeshYWF1KlTJ+7bTRa/5wdv2jB48LHMnLk/Tz45n8MO27hX29LvwHt+zw+Ja0Nubu4Ca+3O51uttZ49gDDQqqLvz8nJsYlQUFCQkO0mi9/zW5v8Nrz2mrVg7aBB8dmefgfe83t+axPXBmC+LadP1RCQpJ316936vs2aQe/eXqcR8Y5Xl4F2NsasAoLAG8aYt7zIIempb1/45ht46il3s69IuvLqKqCpwFQv9i3pbfZsd7nnTTfBySd7nUbEWxoC8ptIBIYPd/+VSikqguuug0MPhSFDvE4j4j1NBeEDv/3mrlVf/ESE297MI4sosUAW7/TOp/n1mrKgooYNg2XLYPp08PnFIiJxoSOAFLV2LUyYABdfDPvvD+efD6UzwtTETVWcEYsye1iYww6Dyy8/mR493Dw233/vdfLUtGSJO3D6y1+gY0ev04ikBh0BpJDvvoNXX4WpU2HGDCguhoMOgm7doHNnyM0OEfhTFkSjZGZlce2YEAf9DJMn/8rkybV48km3neOPh7w8aN8e2rWDfZdF3Lz2aTq7ZSwG114L9erBI494nUYkdagAeCkSYc2UMP/eFGLUoiCRiJub5g9/gFtugQsvhNatIWPLcVoQ8vMhHMaEQhwZDHIT0Lz5Ek47LcTCha5wzJjhFjMfORLamgj55JFlopiaWZj89Fvh6vHH4f333RHVfvt5nUYkdagAeKR0doSSdnnUi0XpTBbvNM2n471BOnd2n+B3OU1SMFhuBx4IwEknuUfv3u6E57x5UDQwTOaMKBk2RslvUX6eHOaANCoAq1+OsOaOMLe2CdG1a/q0W6QiVAA8EIvB1JvCXBBz4/mBQJRnrgxDn/h1UDVrwmmnAUNC2LwsSouiREuzuOixEK0zYMAA2GefuO0uJf02I0L9Lnn0L42S8WEWZm76Hf2I7I5OAidZLAZXXgkjFoawmW7pQZPIpQeDQUx+PhlDBlP0Rj7HXBXkkUegaVN47jkoLU3Mbr22YQOMvyZMZmnZSfNire8rsiMVgCQqKXFXoTz/PJw3NEiN9/Jh8GA3rp/IT6bBIPTpQ/2zgzz5pBsaatIEuneHU0+FhQsTt2svrF8PZ50Fz30Vcrf6an1fkXJpCChJiovhssvgpZfg/vvhzjsByh/PT7RWrWDOHHcE0Lu3e37ddTB0qP9Pkq5b5y7znD8fJk0OknlwflpfASWyOzoCSIJoFC65xHX+Dz+8ufP3VkaGG4pavhxuvhnGjnXDQqNGQWyWP+82/uUX6NABFixwP+uLLmLL0Y86f5GdqQAkWFGRu5lr6lR3Weatt3qdaHubr43/6CNo2RLG/y1C9PQ87N393c0EPikCa9a4uIsXw8svuxvnRGT3VAASaNMmdy3/a6+5T9a9enmdaNeOPx7efRfGXBamho1iSmPENkVZPy3sdbQ9+vFHd9Pb0qXuRrpzz/U6kYg/qAAkyG+/uU+h06fDmDFu/vlUZwyccGOIQK0sYiZAkc2i8z9CPPCAG8ZKRd9/D7m5bijrtdc0zYNIZagAJMDGjXDeeW4Ct7Fj3QlW3yi7bDQwdDA/T86ndocgvXvDCSfAWym2asPq1a7z//xzePNNOOMMrxOJ+IsKQJwVFsLZZ0NBATz7LFx1ldeJqqDsxGnjLkGmTXOdq7Xu0/UFF7gO12vffOMu7PnqK3eUlZvrdSIR/1EBiKNf340wodlwSmZGeP55uOIKrxPFx1lnwccfw333ufMExx7r7iTeuHfrqFfZ11+7Se5Wr3ZHJaef7k0OEb9TAYiT32ZECPwpj2u+7E84M4+uTfxx9UxF1azp7hn47DN3YnvQIFcIXn7ZHR0kRSTCL7YE+l4AAAuZSURBVHcO55aTI/z4I7z9NpxySpL2LVINqQDEyYx7tk47kBmrvtMONGoEEye65tWr5661P/NM+OJfib13IPqfCLFQHnUf7M/41XnMfSRCmzYJ2ZVI2lABiIN582DYnBClmekz7UC7dm4KicceAzM3wgGX5RHr25+Sdnmsfjk+RWDDBpg8Gbp2hWFnhrFRV2BrBaIc+304LvsQSWeaCmIvRaNusZGfDw5S/Ew+WR+E02bagcxMuPFGuPK7MDWHRQnYGMXFUUZeFGbyEUHat2fLo2HDim3zp59g2jR349w777gb6fbfH044M4R5OwsbiyZ28jyRNKICsJcefNCdIH31VajdIQgdqn/Hv6M654Tg4SxsNEqgRhYn3hBi2Up48UV46in3nuOP31oM2rWD+vVxw0XhMN8dE2LKjEYMHAgzZ7oZSg87zN070bmzG+cPBIIQ0bw+IvGkArAXPv3UnQz985+hUyev03go6FYqM2UrlXUJBumCm/p60aKtq5SNHeuGjDIyoHvTCKNX5JFREmUfsphPPoXNjqJfP9fpt2hRzqI4u1gMR0SqxpMCYIx5EDgPiAL/A66y1q71IktVlZa6G7xq13Zz/KS9cjrnQMDNNNqqlZsALxp1SzPOmAEHPRMmo8SN6RsTZdTF42k5WZ27SDJ5dRL4HaCZtbY5sBzo41GOKhszBmbNcrN7VnR8O91lZblVygYMgB4TQ2TWcifNA9lZ2HbHex1PJO14cgRgrX17m6dzgYu9yFFVq1a5T7R5eW5RFamC4NYF7gmFWF9U5HUikbRjbNLu4tlFAGNeA16w1j6/i9d7AD0AGjZsmDNp0qS4ZygsLKROnToVeq+1cPfdzViwoD7jxn3AwQdvinueyqpM/lTl9zb4PT/4vw1+zw+Ja0Nubu4Ca22rnV6w1ibkAbwLLCnncf427+kHTKWsEO3pkZOTYxOhoKCgwu+dPNlasPahhxISpUoqkz9V+b0Nfs9vrf/b4Pf81iauDcB8W06fmrAhIGtth929bozpDpwL5JUFTHk//+yue8/JcatoiYj4mVdXAXUEegPtrLUeTSlWeXfc4VaeeustdxOUiIifeXUV0D+BusA7xpgPjTGjPcpRYe++C08/7U7+tmjhdRoRkb3n1VVAf/Biv1W1cSNcfz0cdRT07+91GhGR+NBARgUMGAArV7orFmvV8jqNiEh8aDbQPZg/393s1aOHm8NGRKS6UAHYjeJiN9Nnw4Zw//1epxERiS8NAe3GiBHw0Udu1at99/U6jYhIfOkIYBe+eiHCr3cPp08oQufOXqcREYk/HQGUw85xK1wNKI2SMTfLzUOvaYhFpJrREUA5Pnti6/q+GcXVd31fEUlvKgA7KC2FobNDFJssbJqs7ysi6UlDQDuYNAme/1+QKwbmc2ZWWMsPiki1pQKwjWjU3enbvDl06B+EDHX8IlJ9qQBsY+xYd8fv66+7dWtFRKozdXNlNm6EwYPh1FPh7LO9TiMikng6Aijz2GOwejVMngzGeJ1GRCTxdAQAbNiQyX33wTnnuCMAEZF0oAIATJp0CGvXwtChXicREUmetC8Aq1fDlCmNuewy+OMfvU4jIpI8aV8AhgyBkhLDoEFeJxERSa60LgD/+x+MGQPnnLOaI4/0Oo2ISHKldQEYMABq1IBu3b70OoqISNKlbQFYvBgmToSbb4YGDaJexxERSbq0LQD9+kG9enDnnV4nERHxRloWgNmz3XQPvXtD/fpepxER8YYnBcAYM9gYs9gY86Ex5m1jzMHJ2re1cNddcOCBcNNNydqriEjq8eoI4EFrbXNrbQvgdeCeZO14+nSYNQvuuQd+97tk7VVEJPV4UgCsteu3eVobsMnYb2kp9O0LRxwB11yTjD2KiKQuY21S+t6dd2zMUKAbsA7Itdb+uIv39QB6ADRs2DBn0qRJVd7njBkHMHjwcfTrt5QOHX7Y8vXCwkLq1KlT5e16ze/5wf9t8Ht+8H8b/J4fEteG3NzcBdbaVju9YK1NyAN4F1hSzuP8Hd7XB7i3ItvMycmxVRWNWnvkkdY2b25tLLb9awUFBVXebirwe35r/d8Gv+e31v9t8Ht+axPXBmC+LadPTdh00NbaDhV860TgDWBAorIAjBvn7vzVYi8iIo5XVwEdtc3TTsCnidzfpoIIa/4+nB4nRLTYi4hIGa8WhLnPGHM0UAp8CfRM2J4iEQJ/yuPO4ihmeRZmbr4WeRcRwaMCYK29KGk7C4cJxKJkEIOSKITDKgAiIqTDncChEBk1syAQgKwsCIW8TiQikhKq/5rAwSDk57tP/qGQPv2LiJSp/gUAXKevjl9EZDvVfwhIRETKpQIgIpKmVABERNKUCoCISJpSARARSVMqACIiacqz6aCrwhjzI27qiHjbD/gpAdtNFr/nB/+3we/5wf9t8Ht+SFwbDrPW7r/jF31VABLFGDPfljdXtk/4PT/4vw1+zw/+b4Pf80Py26AhIBGRNKUCICKSplQAnDFeB9hLfs8P/m+D3/OD/9vg9/yQ5DboHICISJrSEYCISJpSARARSVMqANswxvQyxnxmjPnEGPOA13mqwhhzhzHGGmP28zpLZRljHjTGfGqMWWyMmWqM2dfrTBVhjOlY9nezwhhzl9d5KsMYc4gxpsAYs6zs7/5mrzNVlTEmYIxZZIx53esslWWM2dcY81LZ3/8yY0xS5q9XAShjjMkFzgeaW2uPBx7yOFKlGWMOAc4AvvI6SxW9AzSz1jYHlgN9PM6zR8aYAPA4cBZwHNDVGHOct6kqpQS43Vp7LNAG+JvP8m/rZmCZ1yGq6B/Av621xwB/JEntUAHY6gbgPmttEYC19geP81TFI8CdgC/P7Ftr37bWlpQ9nQs09jJPBbUGVlhrV1pro8Ak3AcJX7DWrrbWLiz7/w24jqeRt6kqzxjTGDgHeMrrLJVljNkHOB0YC2CtjVpr1yZj3yoAWzUFTjPGvG+M+Y8x5iSvA1WGMaYT8I219iOvs8TJ1cB0r0NUQCPg622er8KHHSiAMaYJ0BJ439skVfIo7sNPqddBquAI4Efg6bIhrKeMMbWTseP0WBKyjDHmXeDAcl7qh/tZ1McdBp8ETDbGHGFT6DrZPeTvC5yZ3ESVt7s2WGtfLXtPP9zQxIRkZqsiU87XUuZvpqKMMXWAKcAt1tr1XuepDGPMucAP1toFxpiQ13mqIBM4EehlrX3fGPMP4C6gfzJ2nDastR129Zox5gbg5bIOf54xphQ3MdOPycq3J7vKb4w5ATgc+MgYA27oZKExprW19rskRtyj3f0OAIwx3YFzgbxUKr67sQo4ZJvnjYFvPcpSJcaYGrjOf4K19mWv81TBKUAnY8zZQDawjzHmeWvtXzzOVVGrgFXW2s1HXi/hCkDCaQhoq1eA9gDGmKZAFj6ZWdBa+7G19gBrbRNrbRPcH9SJqdb574kxpiPQG+hkrd3odZ4K+gA4yhhzuDEmC7gUmOZxpgoz7hPDWGCZtfZhr/NUhbW2j7W2cdnf/qXADB91/pT9O/3aGHN02ZfygKXJ2HdaHQHswThgnDFmCRAFuvvkE2h18k+gJvBO2ZHMXGttT28j7Z61tsQYcyPwFhAAxllrP/E4VmWcAlwBfGyM+bDsa32ttW96mCkd9QImlH2IWAlclYydaioIEZE0pSEgEZE0pQIgIpKmVABERNKUCoCISJpSARARSVMqACIiaUoFQEQkTakAiOwFY8xJZesXZBtjapfNqd/M61wiFaEbwUT2kjFmCG4Omlq4OV2GexxJpEJUAET2Utnt+x8Am4C21tqYx5FEKkRDQCJ77/dAHaAu7khAxBd0BCCyl4wx03ArgR0OHGStvdHjSCIVotlARfaCMaYbUGKtnVi2PvAcY0x7a+0Mr7OJ7ImOAERE0pTOAYiIpCkVABGRNKUCICKSplQARETSlAqAiEiaUgEQEUlTKgAiImnq/wFlFX4CHHETEwAAAABJRU5ErkJggg\u003d\u003d\n"
          },
          "metadata": {
            "needs_background": "light"
          },
          "output_type": "display_data"
        }
      ],
      "source": "plt.plot(x,f(x),\u0027b\u0027,label\u003d\u0027f(x)\u0027)\nplt.plot(x,iy,\u0027r.\u0027,label\u003d\u0027interpolation\u0027)\nplt.legend(loc\u003d\u0027best\u0027)\nplt.grid(True)\nplt.xlabel(\u0027x\u0027)\nplt.ylabel(\u0027y\u0027)\n",
      "metadata": {
        "pycharm": {
          "metadata": false,
          "name": "#%%\n",
          "is_executing": false
        }
      }
    },
    {
      "cell_type": "code",
      "execution_count": 18,
      "outputs": [
        {
          "data": {
            "text/plain": "True"
          },
          "metadata": {},
          "output_type": "execute_result",
          "execution_count": 18
        }
      ],
      "source": "np.allclose(f(x),iy)\n",
      "metadata": {
        "pycharm": {
          "metadata": false,
          "name": "#%%\n",
          "is_executing": false
        }
      }
    },
    {
      "cell_type": "code",
      "execution_count": 23,
      "outputs": [],
      "source": "xd\u003dnp.linspace(1.0,3.0,50)\niyd\u003dspi.splev(xd,ipo)\n",
      "metadata": {
        "pycharm": {
          "metadata": false,
          "name": "#%%\n",
          "is_executing": false
        }
      }
    },
    {
      "cell_type": "code",
      "execution_count": 24,
      "outputs": [
        {
          "data": {
            "text/plain": "Text(0, 0.5, \u0027y\u0027)"
          },
          "metadata": {},
          "output_type": "execute_result",
          "execution_count": 24
        },
        {
          "data": {
            "text/plain": "\u003cFigure size 432x288 with 1 Axes\u003e",
            "image/png": "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\u003d\u003d\n"
          },
          "metadata": {
            "needs_background": "light"
          },
          "output_type": "display_data"
        }
      ],
      "source": "plt.plot(xd,f(xd),\u0027b\u0027,label\u003d\u0027f(x)\u0027)\nplt.plot(xd,iyd,\u0027r.\u0027,label\u003d\u0027interpolation\u0027)\nplt.legend(loc\u003d\u0027best\u0027)\nplt.xlabel(\u0027x\u0027)\nplt.ylabel(\u0027y\u0027)\n",
      "metadata": {
        "pycharm": {
          "metadata": false,
          "name": "#%%\n",
          "is_executing": false
        }
      }
    },
    {
      "cell_type": "code",
      "execution_count": 53,
      "outputs": [],
      "source": "def fm(z):\n    x,y\u003dz\n    return (np.sin(x)+0.05*x**2+np.sin(y)+0.05*y**2)\n",
      "metadata": {
        "pycharm": {
          "metadata": false,
          "name": "#%%\n",
          "is_executing": false
        }
      }
    },
    {
      "cell_type": "code",
      "execution_count": 54,
      "outputs": [],
      "source": "x\u003dnp.linspace(-10,10.50)\ny\u003dnp.linspace(-10,10,50)\nx,y\u003dnp.meshgrid(x,y)\nz\u003dfm((x,y))\n",
      "metadata": {
        "pycharm": {
          "metadata": false,
          "name": "#%%\n",
          "is_executing": false
        }
      }
    },
    {
      "cell_type": "code",
      "execution_count": 55,
      "outputs": [],
      "source": "import scipy.optimize as spo",
      "metadata": {
        "pycharm": {
          "metadata": false,
          "name": "#%%\n",
          "is_executing": false
        }
      }
    },
    {
      "cell_type": "code",
      "execution_count": 58,
      "outputs": [],
      "source": "opt1\u003dspo.brute(func\u003dfm,ranges\u003d((-10,10.1,0.1),(-10,10.1,0.1)),finish\u003dNone)",
      "metadata": {
        "pycharm": {
          "metadata": false,
          "name": "#%%\n",
          "is_executing": false
        }
      }
    },
    {
      "cell_type": "code",
      "execution_count": 59,
      "outputs": [
        {
          "data": {
            "text/plain": "array([-1.4, -1.4])"
          },
          "metadata": {},
          "output_type": "execute_result",
          "execution_count": 59
        }
      ],
      "source": "opt1",
      "metadata": {
        "pycharm": {
          "metadata": false,
          "name": "#%%\n",
          "is_executing": false
        }
      }
    },
    {
      "cell_type": "code",
      "execution_count": 61,
      "outputs": [
        {
          "data": {
            "text/plain": "-1.7748994599769203"
          },
          "metadata": {},
          "output_type": "execute_result",
          "execution_count": 61
        }
      ],
      "source": "fm(opt1)\n",
      "metadata": {
        "pycharm": {
          "metadata": false,
          "name": "#%%\n",
          "is_executing": false
        }
      }
    },
    {
      "cell_type": "code",
      "execution_count": 68,
      "outputs": [
        {
          "name": "stdout",
          "text": [
            "Optimization terminated successfully.\n         Current function value: -1.775726\n         Iterations: 16\n         Function evaluations: 32\n"
          ],
          "output_type": "stream"
        }
      ],
      "source": "opt2\u003dspo.fmin(func\u003dfm,x0\u003dopt1,xtol\u003d0.001,ftol\u003d0.001,maxiter\u003d1000,maxfun\u003d100)",
      "metadata": {
        "pycharm": {
          "metadata": false,
          "name": "#%%\n",
          "is_executing": false
        }
      }
    },
    {
      "cell_type": "code",
      "execution_count": 65,
      "outputs": [
        {
          "data": {
            "text/plain": "array([-1.42702972, -1.42876755])"
          },
          "metadata": {},
          "output_type": "execute_result",
          "execution_count": 65
        }
      ],
      "source": "opt2\n",
      "metadata": {
        "pycharm": {
          "metadata": false,
          "name": "#%%\n",
          "is_executing": false
        }
      }
    },
    {
      "cell_type": "code",
      "execution_count": 72,
      "outputs": [],
      "source": "def Eu(z):\n    s,b\u003dz\n    return -(0.5*np.sqrt(s*15+b*5)+0.5*np.sqrt(s*5+b*12))\n",
      "metadata": {
        "pycharm": {
          "metadata": false,
          "name": "#%%\n",
          "is_executing": false
        }
      }
    },
    {
      "cell_type": "code",
      "execution_count": 79,
      "outputs": [],
      "source": "cons\u003d[{\u0027type\u0027:\u0027ineq\u0027,\u0027fun\u0027:lambda z:100-z[0]*10-z[1]*10}]\nbnds\u003d((0,1000),(0,1000))\n",
      "metadata": {
        "pycharm": {
          "metadata": false,
          "name": "#%%\n",
          "is_executing": false
        }
      }
    },
    {
      "cell_type": "code",
      "execution_count": 80,
      "outputs": [],
      "source": "result\u003dspo.minimize(fun\u003dEu,x0\u003d[5,5],method\u003d\u0027SLSQP\u0027,bounds\u003dbnds,constraints\u003dcons)",
      "metadata": {
        "pycharm": {
          "metadata": false,
          "name": "#%%\n",
          "is_executing": false
        }
      }
    },
    {
      "cell_type": "code",
      "execution_count": 81,
      "outputs": [
        {
          "data": {
            "text/plain": "     fun: -9.700883611487832\n     jac: array([-0.48508096, -0.48489535])\n message: \u0027Optimization terminated successfully.\u0027\n    nfev: 21\n     nit: 5\n    njev: 5\n  status: 0\n success: True\n       x: array([8.02547122, 1.97452878])"
          },
          "metadata": {},
          "output_type": "execute_result",
          "execution_count": 81
        }
      ],
      "source": "result\n",
      "metadata": {
        "pycharm": {
          "metadata": false,
          "name": "#%%\n",
          "is_executing": false
        }
      }
    },
    {
      "cell_type": "code",
      "execution_count": 82,
      "outputs": [],
      "source": "import scipy.integrate as sci\ndef f(x):\n    return np.sin(x)+0.5*x\n",
      "metadata": {
        "pycharm": {
          "metadata": false,
          "name": "#%%\n",
          "is_executing": false
        }
      }
    },
    {
      "cell_type": "code",
      "execution_count": 87,
      "outputs": [
        {
          "data": {
            "text/plain": "(24.366995967084602, None)"
          },
          "metadata": {},
          "output_type": "execute_result",
          "execution_count": 87
        }
      ],
      "source": "a\u003d0.5\nb\u003d9.5\nsci.fixed_quad(func\u003df,a\u003da,b\u003db)",
      "metadata": {
        "pycharm": {
          "metadata": false,
          "name": "#%%\n",
          "is_executing": false
        }
      }
    },
    {
      "cell_type": "code",
      "execution_count": 89,
      "outputs": [
        {
          "data": {
            "text/plain": "(0.010416666666666668, 4.101620128472366e-16)"
          },
          "metadata": {},
          "output_type": "execute_result",
          "execution_count": 89
        }
      ],
      "source": "sci.dblquad(func\u003dlambda x,y:x*y,a\u003d0,b\u003d0.5,gfun\u003dlambda x:0,hfun\u003dlambda y:1-2*y)\n",
      "metadata": {
        "pycharm": {
          "metadata": false,
          "name": "#%%\n",
          "is_executing": false
        }
      }
    },
    {
      "cell_type": "code",
      "execution_count": 90,
      "outputs": [],
      "source": "import sympy as sy\n",
      "metadata": {
        "pycharm": {
          "metadata": false,
          "name": "#%%\n",
          "is_executing": false
        }
      }
    },
    {
      "cell_type": "code",
      "execution_count": 91,
      "outputs": [
        {
          "data": {
            "text/plain": "sympy.core.symbol.Symbol"
          },
          "metadata": {},
          "output_type": "execute_result",
          "execution_count": 91
        }
      ],
      "source": "x\u003dsy.Symbol(\u0027x\u0027)\ny\u003dsy.Symbol(\u0027y\u0027)\ntype(x)",
      "metadata": {
        "pycharm": {
          "metadata": false,
          "name": "#%%\n",
          "is_executing": false
        }
      }
    },
    {
      "cell_type": "code",
      "execution_count": 93,
      "outputs": [
        {
          "data": {
            "text/plain": "1.5*x**2 + 4.5",
            "text/latex": "$\\displaystyle 1.5 x^{2} + 4.5$"
          },
          "metadata": {},
          "output_type": "execute_result",
          "execution_count": 93
        }
      ],
      "source": "f\u003dx**2+3+0.5*x**2+3/2\nsy.simplify(f)",
      "metadata": {
        "pycharm": {
          "metadata": false,
          "name": "#%%\n",
          "is_executing": false
        }
      }
    },
    {
      "cell_type": "code",
      "execution_count": 95,
      "outputs": [
        {
          "data": {
            "text/plain": "\u0027√x + 0.5\u0027"
          },
          "metadata": {},
          "output_type": "execute_result",
          "execution_count": 95
        }
      ],
      "source": "sy.pretty(sy.sqrt(x)+0.5)",
      "metadata": {
        "pycharm": {
          "metadata": false,
          "name": "#%%\n",
          "is_executing": false
        }
      }
    },
    {
      "cell_type": "code",
      "execution_count": 96,
      "outputs": [
        {
          "data": {
            "text/plain": "[-1, 1]"
          },
          "metadata": {},
          "output_type": "execute_result",
          "execution_count": 96
        }
      ],
      "source": "sy.solve(x**2-1)\n",
      "metadata": {
        "pycharm": {
          "metadata": false,
          "name": "#%%\n",
          "is_executing": false
        }
      }
    },
    {
      "cell_type": "code",
      "execution_count": 101,
      "outputs": [
        {
          "data": {
            "text/plain": "{x: 4/5, y: 23/5}"
          },
          "metadata": {},
          "output_type": "execute_result",
          "execution_count": 101
        }
      ],
      "source": "sy.solve([2*x-y+3,3*x+y-7],*[x,y])",
      "metadata": {
        "pycharm": {
          "metadata": false,
          "name": "#%%\n",
          "is_executing": false
        }
      }
    },
    {
      "cell_type": "code",
      "execution_count": null,
      "outputs": [],
      "source": "",
      "metadata": {
        "pycharm": {
          "metadata": false,
          "name": "#%%\n"
        }
      }
    }
  ],
  "metadata": {
    "kernelspec": {
      "name": "pycharm-77c020f0",
      "language": "python",
      "display_name": "PyCharm (analysisData)"
    },
    "language_info": {
      "codemirror_mode": {
        "name": "ipython",
        "version": 2
      },
      "file_extension": ".py",
      "mimetype": "text/x-python",
      "name": "python",
      "nbconvert_exporter": "python",
      "pygments_lexer": "ipython2",
      "version": "2.7.6"
    },
    "stem_cell": {
      "cell_type": "raw",
      "source": "",
      "metadata": {
        "pycharm": {
          "metadata": false
        }
      }
    }
  },
  "nbformat": 4,
  "nbformat_minor": 0
}