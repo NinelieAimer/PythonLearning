{
  "cells": [
    {
      "cell_type": "code",
      "execution_count": 26,
      "metadata": {
        "collapsed": true,
        "pycharm": {
          "is_executing": false
        }
      },
      "outputs": [],
      "source": "import numpy as np\nimport pandas as pd\nimport statsmodels.api as sm"
    },
    {
      "cell_type": "code",
      "execution_count": 27,
      "outputs": [],
      "source": "#读取表格\ndf\u003dpd.read_excel(\u0027fut_date.xlsx\u0027)",
      "metadata": {
        "pycharm": {
          "metadata": false,
          "name": "#%%\n",
          "is_executing": false
        }
      }
    },
    {
      "cell_type": "code",
      "execution_count": 28,
      "outputs": [],
      "source": "#筛选出CFO01和RB1911\ndf_cf\u003ddf[df[\u0027name\u0027]\u003d\u003d\u0027CF001\u0027]\ndf_rb\u003ddf[df[\u0027name\u0027]\u003d\u003d\u0027RB1911\u0027]",
      "metadata": {
        "pycharm": {
          "metadata": false,
          "name": "#%%\n",
          "is_executing": false
        }
      }
    },
    {
      "cell_type": "code",
      "execution_count": 36,
      "outputs": [],
      "source": "#进行拼接\ndf_new\u003dpd.merge(df_cf,df_rb,left_on\u003d[\u0027date\u0027],right_on\u003d[\u0027date\u0027],suffixes\u003d[\u0027_cf\u0027,\u0027_rb\u0027])\ndf_new.sort_values(by\u003d[\u0027date\u0027],ascending\u003dTrue,inplace\u003dTrue)",
      "metadata": {
        "pycharm": {
          "metadata": false,
          "name": "#%%\n",
          "is_executing": false
        }
      }
    },
    {
      "cell_type": "code",
      "execution_count": 44,
      "outputs": [],
      "source": "#让时间变成索引\ndf_new.set_index(\u0027date\u0027,inplace\u003dTrue)",
      "metadata": {
        "pycharm": {
          "metadata": false,
          "name": "#%%\n",
          "is_executing": false
        }
      }
    },
    {
      "cell_type": "code",
      "execution_count": 46,
      "outputs": [],
      "source": "#算出每天变化\ndf_new[\u0027delta_cf\u0027]\u003ddf_new[\u0027open_cf\u0027]-df_new[\u0027open_cf\u0027].shift(1)\ndf_new[\u0027delta_rb\u0027]\u003ddf_new[\u0027open_rb\u0027]-df_new[\u0027open_rb\u0027].shift(1)",
      "metadata": {
        "pycharm": {
          "metadata": false,
          "name": "#%%\n",
          "is_executing": false
        }
      }
    },
    {
      "cell_type": "code",
      "execution_count": 49,
      "outputs": [],
      "source": "#舍弃第一行\ndf_daily\u003ddf_new[1:]",
      "metadata": {
        "pycharm": {
          "metadata": false,
          "name": "#%%\n",
          "is_executing": false
        }
      }
    },
    {
      "cell_type": "code",
      "execution_count": 50,
      "outputs": [],
      "source": "#选出两列\ndf_daily\u003ddf_daily[[\u0027delta_cf\u0027,\u0027delta_rb\u0027]]",
      "metadata": {
        "pycharm": {
          "metadata": false,
          "name": "#%%\n",
          "is_executing": false
        }
      }
    },
    {
      "cell_type": "code",
      "execution_count": 57,
      "outputs": [],
      "source": "#计算方差\ncf_std\u003ddf_daily[\u0027delta_cf\u0027].std()*4\nrb_std\u003ddf_daily[\u0027delta_rb\u0027].std()",
      "metadata": {
        "pycharm": {
          "metadata": false,
          "name": "#%%\n",
          "is_executing": false
        }
      }
    },
    {
      "cell_type": "code",
      "execution_count": 56,
      "outputs": [],
      "source": "#计算相关系数\ncorr\u003ddf_daily[\u0027delta_cf\u0027].corr(df_daily[\u0027delta_rb\u0027])",
      "metadata": {
        "pycharm": {
          "metadata": false,
          "name": "#%%\n",
          "is_executing": false
        }
      }
    },
    {
      "cell_type": "code",
      "execution_count": 58,
      "outputs": [],
      "source": "#计算h\nh\u003dcorr*cf_std/rb_std",
      "metadata": {
        "pycharm": {
          "metadata": false,
          "name": "#%%\n",
          "is_executing": false
        }
      }
    },
    {
      "cell_type": "code",
      "execution_count": 4,
      "outputs": [
        {
          "traceback": [
            "\u001b[1;36m  File \u001b[1;32m\"\u003cipython-input-4-89ad668ddb76\u003e\"\u001b[1;36m, line \u001b[1;32m1\u001b[0m\n\u001b[1;33m    TabNine::version\u001b[0m\n\u001b[1;37m            ^\u001b[0m\n\u001b[1;31mSyntaxError\u001b[0m\u001b[1;31m:\u001b[0m invalid syntax\n"
          ],
          "ename": "SyntaxError",
          "evalue": "invalid syntax (\u003cipython-input-4-89ad668ddb76\u003e, line 1)",
          "output_type": "error"
        }
      ],
      "source": "TabNine::version\nTabNine::config\n",
      "metadata": {
        "pycharm": {
          "metadata": false,
          "name": "#%%\n",
          "is_executing": false
        }
      }
    },
    {
      "cell_type": "code",
      "execution_count": null,
      "outputs": [],
      "source": "\n",
      "metadata": {
        "pycharm": {
          "metadata": false,
          "name": "#%%\n"
        }
      }
    }
  ],
  "metadata": {
    "language_info": {
      "codemirror_mode": {
        "name": "ipython",
        "version": 2
      },
      "file_extension": ".py",
      "mimetype": "text/x-python",
      "name": "python",
      "nbconvert_exporter": "python",
      "pygments_lexer": "ipython2",
      "version": "2.7.6"
    },
    "kernelspec": {
      "name": "pycharm-48846474",
      "language": "python",
      "display_name": "PyCharm (Review\u0026Test)"
    }
  },
  "nbformat": 4,
  "nbformat_minor": 0
}