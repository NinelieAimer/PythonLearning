{
  "cells": [
    {
      "cell_type": "code",
      "execution_count": 1,
      "metadata": {
        "collapsed": true,
        "pycharm": {
          "is_executing": false
        }
      },
      "outputs": [],
      "source": "import pandas as pd\nimport numpy as np\nimport matplotlib.pyplot as plt\n%matplotlib inline"
    },
    {
      "cell_type": "code",
      "execution_count": 2,
      "outputs": [
        {
          "name": "stderr",
          "text": [
            "D:\\software\\Anaconda\\envs\\data\\lib\\site-packages\\IPython\\core\\interactiveshell.py:3057: DtypeWarning: Columns (6) have mixed types. Specify dtype option on import or set low_memory\u003dFalse.\n  interactivity\u003dinteractivity, compiler\u003dcompiler, result\u003dresult)\n"
          ],
          "output_type": "stream"
        }
      ],
      "source": "\nfec\u003dpd.read_csv(r\u0027Review\u0026Test/pydata-book/datasets/fec/P00000001-ALL.csv\u0027)",
      "metadata": {
        "pycharm": {
          "metadata": false,
          "name": "#%%\n",
          "is_executing": false
        }
      }
    },
    {
      "cell_type": "code",
      "execution_count": 5,
      "outputs": [
        {
          "name": "stdout",
          "text": [
            "\u003cclass \u0027pandas.core.frame.DataFrame\u0027\u003e\nRangeIndex: 1001731 entries, 0 to 1001730\nData columns (total 16 columns):\ncmte_id              1001731 non-null object\ncand_id              1001731 non-null object\ncand_nm              1001731 non-null object\ncontbr_nm            1001731 non-null object\ncontbr_city          1001712 non-null object\ncontbr_st            1001727 non-null object\ncontbr_zip           1001620 non-null object\ncontbr_employer      988002 non-null object\ncontbr_occupation    993301 non-null object\ncontb_receipt_amt    1001731 non-null float64\ncontb_receipt_dt     1001731 non-null object\nreceipt_desc         14166 non-null object\nmemo_cd              92482 non-null object\nmemo_text            97770 non-null object\nform_tp              1001731 non-null object\nfile_num             1001731 non-null int64\ndtypes: float64(1), int64(1), object(14)\nmemory usage: 122.3+ MB\n"
          ],
          "output_type": "stream"
        }
      ],
      "source": "fec.info()",
      "metadata": {
        "pycharm": {
          "metadata": false,
          "name": "#%%\n",
          "is_executing": false
        }
      }
    },
    {
      "cell_type": "code",
      "execution_count": 6,
      "outputs": [],
      "source": "unique_cands\u003dfec[\u0027cand_nm\u0027].unique()",
      "metadata": {
        "pycharm": {
          "metadata": false,
          "name": "#%%\n",
          "is_executing": false
        }
      }
    },
    {
      "cell_type": "code",
      "execution_count": 7,
      "outputs": [
        {
          "data": {
            "text/plain": "array([\u0027Bachmann, Michelle\u0027, \u0027Romney, Mitt\u0027, \u0027Obama, Barack\u0027,\n       \"Roemer, Charles E. \u0027Buddy\u0027 III\", \u0027Pawlenty, Timothy\u0027,\n       \u0027Johnson, Gary Earl\u0027, \u0027Paul, Ron\u0027, \u0027Santorum, Rick\u0027,\n       \u0027Cain, Herman\u0027, \u0027Gingrich, Newt\u0027, \u0027McCotter, Thaddeus G\u0027,\n       \u0027Huntsman, Jon\u0027, \u0027Perry, Rick\u0027], dtype\u003dobject)"
          },
          "metadata": {},
          "output_type": "execute_result",
          "execution_count": 7
        }
      ],
      "source": "unique_cands",
      "metadata": {
        "pycharm": {
          "metadata": false,
          "name": "#%%\n",
          "is_executing": false
        }
      }
    },
    {
      "cell_type": "code",
      "execution_count": 8,
      "outputs": [],
      "source": "arr\u003d[\u0027Republican\u0027]*6+[\u0027Democrat\u0027]+6*[\u0027Republican\u0027]",
      "metadata": {
        "pycharm": {
          "metadata": false,
          "name": "#%%\n",
          "is_executing": false
        }
      }
    },
    {
      "cell_type": "code",
      "execution_count": 11,
      "outputs": [],
      "source": "dic\u003ddict(zip(unique_cands,arr))",
      "metadata": {
        "pycharm": {
          "metadata": false,
          "name": "#%%\n",
          "is_executing": false
        }
      }
    },
    {
      "cell_type": "code",
      "execution_count": 12,
      "outputs": [
        {
          "data": {
            "text/plain": "{\u0027Bachmann, Michelle\u0027: \u0027Republican\u0027,\n \u0027Romney, Mitt\u0027: \u0027Republican\u0027,\n \u0027Obama, Barack\u0027: \u0027Republican\u0027,\n \"Roemer, Charles E. \u0027Buddy\u0027 III\": \u0027Republican\u0027,\n \u0027Pawlenty, Timothy\u0027: \u0027Republican\u0027,\n \u0027Johnson, Gary Earl\u0027: \u0027Republican\u0027,\n \u0027Paul, Ron\u0027: \u0027Democrat\u0027,\n \u0027Santorum, Rick\u0027: \u0027Republican\u0027,\n \u0027Cain, Herman\u0027: \u0027Republican\u0027,\n \u0027Gingrich, Newt\u0027: \u0027Republican\u0027,\n \u0027McCotter, Thaddeus G\u0027: \u0027Republican\u0027,\n \u0027Huntsman, Jon\u0027: \u0027Republican\u0027,\n \u0027Perry, Rick\u0027: \u0027Republican\u0027}"
          },
          "metadata": {},
          "output_type": "execute_result",
          "execution_count": 12
        }
      ],
      "source": "dic",
      "metadata": {
        "pycharm": {
          "metadata": false,
          "name": "#%%\n",
          "is_executing": false
        }
      }
    },
    {
      "cell_type": "code",
      "execution_count": 13,
      "outputs": [],
      "source": "dic[\u0027Obama, Barack\u0027]\u003d\u0027Republican\u0027\ndic[\u0027Paul,Ron\u0027]\u003d\u0027Republican\u0027",
      "metadata": {
        "pycharm": {
          "metadata": false,
          "name": "#%%\n",
          "is_executing": false
        }
      }
    },
    {
      "cell_type": "code",
      "execution_count": 15,
      "outputs": [],
      "source": "del dic[\u0027Paul,Ron\u0027]",
      "metadata": {
        "pycharm": {
          "metadata": false,
          "name": "#%%\n",
          "is_executing": false
        }
      }
    },
    {
      "cell_type": "code",
      "execution_count": 16,
      "outputs": [],
      "source": "dic[\u0027Paul, Ron\u0027]\u003d\u0027Republican\u0027",
      "metadata": {
        "pycharm": {
          "metadata": false,
          "name": "#%%\n",
          "is_executing": false
        }
      }
    },
    {
      "cell_type": "code",
      "execution_count": 17,
      "outputs": [
        {
          "data": {
            "text/plain": "{\u0027Bachmann, Michelle\u0027: \u0027Republican\u0027,\n \u0027Romney, Mitt\u0027: \u0027Republican\u0027,\n \u0027Obama, Barack\u0027: \u0027Republican\u0027,\n \"Roemer, Charles E. \u0027Buddy\u0027 III\": \u0027Republican\u0027,\n \u0027Pawlenty, Timothy\u0027: \u0027Republican\u0027,\n \u0027Johnson, Gary Earl\u0027: \u0027Republican\u0027,\n \u0027Paul, Ron\u0027: \u0027Republican\u0027,\n \u0027Santorum, Rick\u0027: \u0027Republican\u0027,\n \u0027Cain, Herman\u0027: \u0027Republican\u0027,\n \u0027Gingrich, Newt\u0027: \u0027Republican\u0027,\n \u0027McCotter, Thaddeus G\u0027: \u0027Republican\u0027,\n \u0027Huntsman, Jon\u0027: \u0027Republican\u0027,\n \u0027Perry, Rick\u0027: \u0027Republican\u0027}"
          },
          "metadata": {},
          "output_type": "execute_result",
          "execution_count": 17
        }
      ],
      "source": "dic",
      "metadata": {
        "pycharm": {
          "metadata": false,
          "name": "#%%\n",
          "is_executing": false
        }
      }
    },
    {
      "cell_type": "code",
      "execution_count": 18,
      "outputs": [],
      "source": "dic[\u0027Obama, Barack\u0027]\u003d\u0027Democrat\u0027",
      "metadata": {
        "pycharm": {
          "metadata": false,
          "name": "#%%\n",
          "is_executing": false
        }
      }
    },
    {
      "cell_type": "code",
      "execution_count": 19,
      "outputs": [
        {
          "data": {
            "text/plain": "{\u0027Bachmann, Michelle\u0027: \u0027Republican\u0027,\n \u0027Romney, Mitt\u0027: \u0027Republican\u0027,\n \u0027Obama, Barack\u0027: \u0027Democrat\u0027,\n \"Roemer, Charles E. \u0027Buddy\u0027 III\": \u0027Republican\u0027,\n \u0027Pawlenty, Timothy\u0027: \u0027Republican\u0027,\n \u0027Johnson, Gary Earl\u0027: \u0027Republican\u0027,\n \u0027Paul, Ron\u0027: \u0027Republican\u0027,\n \u0027Santorum, Rick\u0027: \u0027Republican\u0027,\n \u0027Cain, Herman\u0027: \u0027Republican\u0027,\n \u0027Gingrich, Newt\u0027: \u0027Republican\u0027,\n \u0027McCotter, Thaddeus G\u0027: \u0027Republican\u0027,\n \u0027Huntsman, Jon\u0027: \u0027Republican\u0027,\n \u0027Perry, Rick\u0027: \u0027Republican\u0027}"
          },
          "metadata": {},
          "output_type": "execute_result",
          "execution_count": 19
        }
      ],
      "source": "dic",
      "metadata": {
        "pycharm": {
          "metadata": false,
          "name": "#%%\n",
          "is_executing": false
        }
      }
    },
    {
      "cell_type": "code",
      "execution_count": 21,
      "outputs": [
        {
          "data": {
            "text/plain": "123456    Democrat\n123457    Democrat\n123458    Democrat\n123459    Democrat\n123460    Democrat\nName: cand_nm, dtype: object"
          },
          "metadata": {},
          "output_type": "execute_result",
          "execution_count": 21
        }
      ],
      "source": "fec[\u0027cand_nm\u0027][123456:123461].map(dic)",
      "metadata": {
        "pycharm": {
          "metadata": false,
          "name": "#%%\n",
          "is_executing": false
        }
      }
    },
    {
      "cell_type": "code",
      "execution_count": 22,
      "outputs": [
        {
          "traceback": [
            "\u001b[1;31m---------------------------------------------------------------------------\u001b[0m",
            "\u001b[1;31mKeyError\u001b[0m                                  Traceback (most recent call last)",
            "\u001b[1;32mD:\\software\\Anaconda\\envs\\data\\lib\\site-packages\\pandas\\core\\indexes\\base.py\u001b[0m in \u001b[0;36mget_loc\u001b[1;34m(self, key, method, tolerance)\u001b[0m\n\u001b[0;32m   2656\u001b[0m             \u001b[1;32mtry\u001b[0m\u001b[1;33m:\u001b[0m\u001b[1;33m\u001b[0m\u001b[1;33m\u001b[0m\u001b[0m\n\u001b[1;32m-\u003e 2657\u001b[1;33m                 \u001b[1;32mreturn\u001b[0m \u001b[0mself\u001b[0m\u001b[1;33m.\u001b[0m\u001b[0m_engine\u001b[0m\u001b[1;33m.\u001b[0m\u001b[0mget_loc\u001b[0m\u001b[1;33m(\u001b[0m\u001b[0mkey\u001b[0m\u001b[1;33m)\u001b[0m\u001b[1;33m\u001b[0m\u001b[1;33m\u001b[0m\u001b[0m\n\u001b[0m\u001b[0;32m   2658\u001b[0m             \u001b[1;32mexcept\u001b[0m \u001b[0mKeyError\u001b[0m\u001b[1;33m:\u001b[0m\u001b[1;33m\u001b[0m\u001b[1;33m\u001b[0m\u001b[0m\n",
            "\u001b[1;32mpandas/_libs/index.pyx\u001b[0m in \u001b[0;36mpandas._libs.index.IndexEngine.get_loc\u001b[1;34m()\u001b[0m\n",
            "\u001b[1;32mpandas/_libs/index.pyx\u001b[0m in \u001b[0;36mpandas._libs.index.IndexEngine.get_loc\u001b[1;34m()\u001b[0m\n",
            "\u001b[1;32mpandas/_libs/hashtable_class_helper.pxi\u001b[0m in \u001b[0;36mpandas._libs.hashtable.PyObjectHashTable.get_item\u001b[1;34m()\u001b[0m\n",
            "\u001b[1;32mpandas/_libs/hashtable_class_helper.pxi\u001b[0m in \u001b[0;36mpandas._libs.hashtable.PyObjectHashTable.get_item\u001b[1;34m()\u001b[0m\n",
            "\u001b[1;31mKeyError\u001b[0m: \u0027party\u0027",
            "\nDuring handling of the above exception, another exception occurred:\n",
            "\u001b[1;31mKeyError\u001b[0m                                  Traceback (most recent call last)",
            "\u001b[1;32m\u003cipython-input-22-9660afd2db4c\u003e\u001b[0m in \u001b[0;36m\u003cmodule\u003e\u001b[1;34m\u001b[0m\n\u001b[1;32m----\u003e 1\u001b[1;33m \u001b[0mfec\u001b[0m\u001b[1;33m[\u001b[0m\u001b[1;34m\u0027party\u0027\u001b[0m\u001b[1;33m]\u001b[0m\u001b[1;33m.\u001b[0m\u001b[0mhead\u001b[0m\u001b[1;33m(\u001b[0m\u001b[1;33m)\u001b[0m\u001b[1;33m\u001b[0m\u001b[1;33m\u001b[0m\u001b[0m\n\u001b[0m",
            "\u001b[1;32mD:\\software\\Anaconda\\envs\\data\\lib\\site-packages\\pandas\\core\\frame.py\u001b[0m in \u001b[0;36m__getitem__\u001b[1;34m(self, key)\u001b[0m\n\u001b[0;32m   2925\u001b[0m             \u001b[1;32mif\u001b[0m \u001b[0mself\u001b[0m\u001b[1;33m.\u001b[0m\u001b[0mcolumns\u001b[0m\u001b[1;33m.\u001b[0m\u001b[0mnlevels\u001b[0m \u001b[1;33m\u003e\u001b[0m \u001b[1;36m1\u001b[0m\u001b[1;33m:\u001b[0m\u001b[1;33m\u001b[0m\u001b[1;33m\u001b[0m\u001b[0m\n\u001b[0;32m   2926\u001b[0m                 \u001b[1;32mreturn\u001b[0m \u001b[0mself\u001b[0m\u001b[1;33m.\u001b[0m\u001b[0m_getitem_multilevel\u001b[0m\u001b[1;33m(\u001b[0m\u001b[0mkey\u001b[0m\u001b[1;33m)\u001b[0m\u001b[1;33m\u001b[0m\u001b[1;33m\u001b[0m\u001b[0m\n\u001b[1;32m-\u003e 2927\u001b[1;33m             \u001b[0mindexer\u001b[0m \u001b[1;33m\u003d\u001b[0m \u001b[0mself\u001b[0m\u001b[1;33m.\u001b[0m\u001b[0mcolumns\u001b[0m\u001b[1;33m.\u001b[0m\u001b[0mget_loc\u001b[0m\u001b[1;33m(\u001b[0m\u001b[0mkey\u001b[0m\u001b[1;33m)\u001b[0m\u001b[1;33m\u001b[0m\u001b[1;33m\u001b[0m\u001b[0m\n\u001b[0m\u001b[0;32m   2928\u001b[0m             \u001b[1;32mif\u001b[0m \u001b[0mis_integer\u001b[0m\u001b[1;33m(\u001b[0m\u001b[0mindexer\u001b[0m\u001b[1;33m)\u001b[0m\u001b[1;33m:\u001b[0m\u001b[1;33m\u001b[0m\u001b[1;33m\u001b[0m\u001b[0m\n\u001b[0;32m   2929\u001b[0m                 \u001b[0mindexer\u001b[0m \u001b[1;33m\u003d\u001b[0m \u001b[1;33m[\u001b[0m\u001b[0mindexer\u001b[0m\u001b[1;33m]\u001b[0m\u001b[1;33m\u001b[0m\u001b[1;33m\u001b[0m\u001b[0m\n",
            "\u001b[1;32mD:\\software\\Anaconda\\envs\\data\\lib\\site-packages\\pandas\\core\\indexes\\base.py\u001b[0m in \u001b[0;36mget_loc\u001b[1;34m(self, key, method, tolerance)\u001b[0m\n\u001b[0;32m   2657\u001b[0m                 \u001b[1;32mreturn\u001b[0m \u001b[0mself\u001b[0m\u001b[1;33m.\u001b[0m\u001b[0m_engine\u001b[0m\u001b[1;33m.\u001b[0m\u001b[0mget_loc\u001b[0m\u001b[1;33m(\u001b[0m\u001b[0mkey\u001b[0m\u001b[1;33m)\u001b[0m\u001b[1;33m\u001b[0m\u001b[1;33m\u001b[0m\u001b[0m\n\u001b[0;32m   2658\u001b[0m             \u001b[1;32mexcept\u001b[0m \u001b[0mKeyError\u001b[0m\u001b[1;33m:\u001b[0m\u001b[1;33m\u001b[0m\u001b[1;33m\u001b[0m\u001b[0m\n\u001b[1;32m-\u003e 2659\u001b[1;33m                 \u001b[1;32mreturn\u001b[0m \u001b[0mself\u001b[0m\u001b[1;33m.\u001b[0m\u001b[0m_engine\u001b[0m\u001b[1;33m.\u001b[0m\u001b[0mget_loc\u001b[0m\u001b[1;33m(\u001b[0m\u001b[0mself\u001b[0m\u001b[1;33m.\u001b[0m\u001b[0m_maybe_cast_indexer\u001b[0m\u001b[1;33m(\u001b[0m\u001b[0mkey\u001b[0m\u001b[1;33m)\u001b[0m\u001b[1;33m)\u001b[0m\u001b[1;33m\u001b[0m\u001b[1;33m\u001b[0m\u001b[0m\n\u001b[0m\u001b[0;32m   2660\u001b[0m         \u001b[0mindexer\u001b[0m \u001b[1;33m\u003d\u001b[0m \u001b[0mself\u001b[0m\u001b[1;33m.\u001b[0m\u001b[0mget_indexer\u001b[0m\u001b[1;33m(\u001b[0m\u001b[1;33m[\u001b[0m\u001b[0mkey\u001b[0m\u001b[1;33m]\u001b[0m\u001b[1;33m,\u001b[0m \u001b[0mmethod\u001b[0m\u001b[1;33m\u003d\u001b[0m\u001b[0mmethod\u001b[0m\u001b[1;33m,\u001b[0m \u001b[0mtolerance\u001b[0m\u001b[1;33m\u003d\u001b[0m\u001b[0mtolerance\u001b[0m\u001b[1;33m)\u001b[0m\u001b[1;33m\u001b[0m\u001b[1;33m\u001b[0m\u001b[0m\n\u001b[0;32m   2661\u001b[0m         \u001b[1;32mif\u001b[0m \u001b[0mindexer\u001b[0m\u001b[1;33m.\u001b[0m\u001b[0mndim\u001b[0m \u001b[1;33m\u003e\u001b[0m \u001b[1;36m1\u001b[0m \u001b[1;32mor\u001b[0m \u001b[0mindexer\u001b[0m\u001b[1;33m.\u001b[0m\u001b[0msize\u001b[0m \u001b[1;33m\u003e\u001b[0m \u001b[1;36m1\u001b[0m\u001b[1;33m:\u001b[0m\u001b[1;33m\u001b[0m\u001b[1;33m\u001b[0m\u001b[0m\n",
            "\u001b[1;32mpandas/_libs/index.pyx\u001b[0m in \u001b[0;36mpandas._libs.index.IndexEngine.get_loc\u001b[1;34m()\u001b[0m\n",
            "\u001b[1;32mpandas/_libs/index.pyx\u001b[0m in \u001b[0;36mpandas._libs.index.IndexEngine.get_loc\u001b[1;34m()\u001b[0m\n",
            "\u001b[1;32mpandas/_libs/hashtable_class_helper.pxi\u001b[0m in \u001b[0;36mpandas._libs.hashtable.PyObjectHashTable.get_item\u001b[1;34m()\u001b[0m\n",
            "\u001b[1;32mpandas/_libs/hashtable_class_helper.pxi\u001b[0m in \u001b[0;36mpandas._libs.hashtable.PyObjectHashTable.get_item\u001b[1;34m()\u001b[0m\n",
            "\u001b[1;31mKeyError\u001b[0m: \u0027party\u0027"
          ],
          "ename": "KeyError",
          "evalue": "\u0027party\u0027",
          "output_type": "error"
        }
      ],
      "source": "fec[\u0027party\u0027].head()",
      "metadata": {
        "pycharm": {
          "metadata": false,
          "name": "#%%\n",
          "is_executing": false
        }
      }
    },
    {
      "cell_type": "code",
      "execution_count": 23,
      "outputs": [],
      "source": "fec[\u0027party\u0027]\u003dfec[\u0027cand_nm\u0027].map(dic)",
      "metadata": {
        "pycharm": {
          "metadata": false,
          "name": "#%%\n",
          "is_executing": false
        }
      }
    },
    {
      "cell_type": "code",
      "execution_count": 24,
      "outputs": [
        {
          "data": {
            "text/plain": "Democrat      593746\nRepublican    407985\nName: party, dtype: int64"
          },
          "metadata": {},
          "output_type": "execute_result",
          "execution_count": 24
        }
      ],
      "source": "fec[\u0027party\u0027].value_counts()",
      "metadata": {
        "pycharm": {
          "metadata": false,
          "name": "#%%\n",
          "is_executing": false
        }
      }
    },
    {
      "cell_type": "code",
      "execution_count": 25,
      "outputs": [],
      "source": "fec\u003dfec[fec[\u0027contb_receipt_amt\u0027]\u003e0]",
      "metadata": {
        "pycharm": {
          "metadata": false,
          "name": "#%%\n",
          "is_executing": false
        }
      }
    },
    {
      "cell_type": "code",
      "execution_count": 26,
      "outputs": [
        {
          "data": {
            "text/plain": "     cmte_id    cand_id             cand_nm           contbr_nm  \\\n0  C00410118  P20002978  Bachmann, Michelle     HARVEY, WILLIAM   \n1  C00410118  P20002978  Bachmann, Michelle     HARVEY, WILLIAM   \n2  C00410118  P20002978  Bachmann, Michelle       SMITH, LANIER   \n3  C00410118  P20002978  Bachmann, Michelle    BLEVINS, DARONDA   \n4  C00410118  P20002978  Bachmann, Michelle  WARDENBURG, HAROLD   \n\n          contbr_city contbr_st   contbr_zip        contbr_employer  \\\n0              MOBILE        AL   3.6601e+08                RETIRED   \n1              MOBILE        AL   3.6601e+08                RETIRED   \n2              LANETT        AL  3.68633e+08  INFORMATION REQUESTED   \n3             PIGGOTT        AR  7.24548e+08                   NONE   \n4  HOT SPRINGS NATION        AR  7.19016e+08                   NONE   \n\n       contbr_occupation  contb_receipt_amt contb_receipt_dt receipt_desc  \\\n0                RETIRED              250.0        20-JUN-11          NaN   \n1                RETIRED               50.0        23-JUN-11          NaN   \n2  INFORMATION REQUESTED              250.0        05-JUL-11          NaN   \n3                RETIRED              250.0        01-AUG-11          NaN   \n4                RETIRED              300.0        20-JUN-11          NaN   \n\n  memo_cd memo_text form_tp  file_num       party  \n0     NaN       NaN   SA17A    736166  Republican  \n1     NaN       NaN   SA17A    736166  Republican  \n2     NaN       NaN   SA17A    749073  Republican  \n3     NaN       NaN   SA17A    749073  Republican  \n4     NaN       NaN   SA17A    736166  Republican  ",
            "text/html": "\u003cdiv\u003e\n\u003cstyle scoped\u003e\n    .dataframe tbody tr th:only-of-type {\n        vertical-align: middle;\n    }\n\n    .dataframe tbody tr th {\n        vertical-align: top;\n    }\n\n    .dataframe thead th {\n        text-align: right;\n    }\n\u003c/style\u003e\n\u003ctable border\u003d\"1\" class\u003d\"dataframe\"\u003e\n  \u003cthead\u003e\n    \u003ctr style\u003d\"text-align: right;\"\u003e\n      \u003cth\u003e\u003c/th\u003e\n      \u003cth\u003ecmte_id\u003c/th\u003e\n      \u003cth\u003ecand_id\u003c/th\u003e\n      \u003cth\u003ecand_nm\u003c/th\u003e\n      \u003cth\u003econtbr_nm\u003c/th\u003e\n      \u003cth\u003econtbr_city\u003c/th\u003e\n      \u003cth\u003econtbr_st\u003c/th\u003e\n      \u003cth\u003econtbr_zip\u003c/th\u003e\n      \u003cth\u003econtbr_employer\u003c/th\u003e\n      \u003cth\u003econtbr_occupation\u003c/th\u003e\n      \u003cth\u003econtb_receipt_amt\u003c/th\u003e\n      \u003cth\u003econtb_receipt_dt\u003c/th\u003e\n      \u003cth\u003ereceipt_desc\u003c/th\u003e\n      \u003cth\u003ememo_cd\u003c/th\u003e\n      \u003cth\u003ememo_text\u003c/th\u003e\n      \u003cth\u003eform_tp\u003c/th\u003e\n      \u003cth\u003efile_num\u003c/th\u003e\n      \u003cth\u003eparty\u003c/th\u003e\n    \u003c/tr\u003e\n  \u003c/thead\u003e\n  \u003ctbody\u003e\n    \u003ctr\u003e\n      \u003cth\u003e0\u003c/th\u003e\n      \u003ctd\u003eC00410118\u003c/td\u003e\n      \u003ctd\u003eP20002978\u003c/td\u003e\n      \u003ctd\u003eBachmann, Michelle\u003c/td\u003e\n      \u003ctd\u003eHARVEY, WILLIAM\u003c/td\u003e\n      \u003ctd\u003eMOBILE\u003c/td\u003e\n      \u003ctd\u003eAL\u003c/td\u003e\n      \u003ctd\u003e3.6601e+08\u003c/td\u003e\n      \u003ctd\u003eRETIRED\u003c/td\u003e\n      \u003ctd\u003eRETIRED\u003c/td\u003e\n      \u003ctd\u003e250.0\u003c/td\u003e\n      \u003ctd\u003e20-JUN-11\u003c/td\u003e\n      \u003ctd\u003eNaN\u003c/td\u003e\n      \u003ctd\u003eNaN\u003c/td\u003e\n      \u003ctd\u003eNaN\u003c/td\u003e\n      \u003ctd\u003eSA17A\u003c/td\u003e\n      \u003ctd\u003e736166\u003c/td\u003e\n      \u003ctd\u003eRepublican\u003c/td\u003e\n    \u003c/tr\u003e\n    \u003ctr\u003e\n      \u003cth\u003e1\u003c/th\u003e\n      \u003ctd\u003eC00410118\u003c/td\u003e\n      \u003ctd\u003eP20002978\u003c/td\u003e\n      \u003ctd\u003eBachmann, Michelle\u003c/td\u003e\n      \u003ctd\u003eHARVEY, WILLIAM\u003c/td\u003e\n      \u003ctd\u003eMOBILE\u003c/td\u003e\n      \u003ctd\u003eAL\u003c/td\u003e\n      \u003ctd\u003e3.6601e+08\u003c/td\u003e\n      \u003ctd\u003eRETIRED\u003c/td\u003e\n      \u003ctd\u003eRETIRED\u003c/td\u003e\n      \u003ctd\u003e50.0\u003c/td\u003e\n      \u003ctd\u003e23-JUN-11\u003c/td\u003e\n      \u003ctd\u003eNaN\u003c/td\u003e\n      \u003ctd\u003eNaN\u003c/td\u003e\n      \u003ctd\u003eNaN\u003c/td\u003e\n      \u003ctd\u003eSA17A\u003c/td\u003e\n      \u003ctd\u003e736166\u003c/td\u003e\n      \u003ctd\u003eRepublican\u003c/td\u003e\n    \u003c/tr\u003e\n    \u003ctr\u003e\n      \u003cth\u003e2\u003c/th\u003e\n      \u003ctd\u003eC00410118\u003c/td\u003e\n      \u003ctd\u003eP20002978\u003c/td\u003e\n      \u003ctd\u003eBachmann, Michelle\u003c/td\u003e\n      \u003ctd\u003eSMITH, LANIER\u003c/td\u003e\n      \u003ctd\u003eLANETT\u003c/td\u003e\n      \u003ctd\u003eAL\u003c/td\u003e\n      \u003ctd\u003e3.68633e+08\u003c/td\u003e\n      \u003ctd\u003eINFORMATION REQUESTED\u003c/td\u003e\n      \u003ctd\u003eINFORMATION REQUESTED\u003c/td\u003e\n      \u003ctd\u003e250.0\u003c/td\u003e\n      \u003ctd\u003e05-JUL-11\u003c/td\u003e\n      \u003ctd\u003eNaN\u003c/td\u003e\n      \u003ctd\u003eNaN\u003c/td\u003e\n      \u003ctd\u003eNaN\u003c/td\u003e\n      \u003ctd\u003eSA17A\u003c/td\u003e\n      \u003ctd\u003e749073\u003c/td\u003e\n      \u003ctd\u003eRepublican\u003c/td\u003e\n    \u003c/tr\u003e\n    \u003ctr\u003e\n      \u003cth\u003e3\u003c/th\u003e\n      \u003ctd\u003eC00410118\u003c/td\u003e\n      \u003ctd\u003eP20002978\u003c/td\u003e\n      \u003ctd\u003eBachmann, Michelle\u003c/td\u003e\n      \u003ctd\u003eBLEVINS, DARONDA\u003c/td\u003e\n      \u003ctd\u003ePIGGOTT\u003c/td\u003e\n      \u003ctd\u003eAR\u003c/td\u003e\n      \u003ctd\u003e7.24548e+08\u003c/td\u003e\n      \u003ctd\u003eNONE\u003c/td\u003e\n      \u003ctd\u003eRETIRED\u003c/td\u003e\n      \u003ctd\u003e250.0\u003c/td\u003e\n      \u003ctd\u003e01-AUG-11\u003c/td\u003e\n      \u003ctd\u003eNaN\u003c/td\u003e\n      \u003ctd\u003eNaN\u003c/td\u003e\n      \u003ctd\u003eNaN\u003c/td\u003e\n      \u003ctd\u003eSA17A\u003c/td\u003e\n      \u003ctd\u003e749073\u003c/td\u003e\n      \u003ctd\u003eRepublican\u003c/td\u003e\n    \u003c/tr\u003e\n    \u003ctr\u003e\n      \u003cth\u003e4\u003c/th\u003e\n      \u003ctd\u003eC00410118\u003c/td\u003e\n      \u003ctd\u003eP20002978\u003c/td\u003e\n      \u003ctd\u003eBachmann, Michelle\u003c/td\u003e\n      \u003ctd\u003eWARDENBURG, HAROLD\u003c/td\u003e\n      \u003ctd\u003eHOT SPRINGS NATION\u003c/td\u003e\n      \u003ctd\u003eAR\u003c/td\u003e\n      \u003ctd\u003e7.19016e+08\u003c/td\u003e\n      \u003ctd\u003eNONE\u003c/td\u003e\n      \u003ctd\u003eRETIRED\u003c/td\u003e\n      \u003ctd\u003e300.0\u003c/td\u003e\n      \u003ctd\u003e20-JUN-11\u003c/td\u003e\n      \u003ctd\u003eNaN\u003c/td\u003e\n      \u003ctd\u003eNaN\u003c/td\u003e\n      \u003ctd\u003eNaN\u003c/td\u003e\n      \u003ctd\u003eSA17A\u003c/td\u003e\n      \u003ctd\u003e736166\u003c/td\u003e\n      \u003ctd\u003eRepublican\u003c/td\u003e\n    \u003c/tr\u003e\n  \u003c/tbody\u003e\n\u003c/table\u003e\n\u003c/div\u003e"
          },
          "metadata": {},
          "output_type": "execute_result",
          "execution_count": 26
        }
      ],
      "source": "fec.head()",
      "metadata": {
        "pycharm": {
          "metadata": false,
          "name": "#%%\n",
          "is_executing": false
        }
      }
    },
    {
      "cell_type": "code",
      "execution_count": 27,
      "outputs": [],
      "source": "fec_mrbo\u003dfec[fec.cand_nm.isin([\u0027Obama, Barack\u0027,\u0027Romney, Mitt\u0027])]",
      "metadata": {
        "pycharm": {
          "metadata": false,
          "name": "#%%\n",
          "is_executing": false
        }
      }
    },
    {
      "cell_type": "code",
      "execution_count": 28,
      "outputs": [
        {
          "data": {
            "text/plain": "       cmte_id    cand_id       cand_nm           contbr_nm contbr_city  \\\n411  C00431171  P80003353  Romney, Mitt  ELDERBAUM, WILLIAM         DPO   \n412  C00431171  P80003353  Romney, Mitt  ELDERBAUM, WILLIAM         DPO   \n413  C00431171  P80003353  Romney, Mitt    CARLSEN, RICHARD         APO   \n414  C00431171  P80003353  Romney, Mitt      DELUCA, PIERRE         APO   \n415  C00431171  P80003353  Romney, Mitt    SARGENT, MICHAEL         APO   \n\n    contbr_st   contbr_zip                   contbr_employer  \\\n411        AA   3.4023e+08                     US GOVERNMENT   \n412        AA   3.4023e+08                     US GOVERNMENT   \n413        AE    9.128e+07       DEFENSE INTELLIGENCE AGENCY   \n414        AE    9.128e+07                             CISCO   \n415        AE  9.01201e+07  RAYTHEON TECHNICAL SERVICES CORP   \n\n             contbr_occupation  contb_receipt_amt contb_receipt_dt  \\\n411    FOREIGN SERVICE OFFICER               25.0        01-FEB-12   \n412    FOREIGN SERVICE OFFICER              110.0        01-FEB-12   \n413       INTELLIGENCE ANALYST              250.0        13-APR-12   \n414                   ENGINEER               30.0        21-AUG-11   \n415  COMPUTER SYSTEMS ENGINEER              100.0        07-MAR-12   \n\n    receipt_desc memo_cd memo_text form_tp  file_num       party  \n411          NaN     NaN       NaN   SA17A    780124  Republican  \n412          NaN     NaN       NaN   SA17A    780124  Republican  \n413          NaN     NaN       NaN   SA17A    785689  Republican  \n414          NaN     NaN       NaN   SA17A    760261  Republican  \n415          NaN     NaN       NaN   SA17A    780128  Republican  ",
            "text/html": "\u003cdiv\u003e\n\u003cstyle scoped\u003e\n    .dataframe tbody tr th:only-of-type {\n        vertical-align: middle;\n    }\n\n    .dataframe tbody tr th {\n        vertical-align: top;\n    }\n\n    .dataframe thead th {\n        text-align: right;\n    }\n\u003c/style\u003e\n\u003ctable border\u003d\"1\" class\u003d\"dataframe\"\u003e\n  \u003cthead\u003e\n    \u003ctr style\u003d\"text-align: right;\"\u003e\n      \u003cth\u003e\u003c/th\u003e\n      \u003cth\u003ecmte_id\u003c/th\u003e\n      \u003cth\u003ecand_id\u003c/th\u003e\n      \u003cth\u003ecand_nm\u003c/th\u003e\n      \u003cth\u003econtbr_nm\u003c/th\u003e\n      \u003cth\u003econtbr_city\u003c/th\u003e\n      \u003cth\u003econtbr_st\u003c/th\u003e\n      \u003cth\u003econtbr_zip\u003c/th\u003e\n      \u003cth\u003econtbr_employer\u003c/th\u003e\n      \u003cth\u003econtbr_occupation\u003c/th\u003e\n      \u003cth\u003econtb_receipt_amt\u003c/th\u003e\n      \u003cth\u003econtb_receipt_dt\u003c/th\u003e\n      \u003cth\u003ereceipt_desc\u003c/th\u003e\n      \u003cth\u003ememo_cd\u003c/th\u003e\n      \u003cth\u003ememo_text\u003c/th\u003e\n      \u003cth\u003eform_tp\u003c/th\u003e\n      \u003cth\u003efile_num\u003c/th\u003e\n      \u003cth\u003eparty\u003c/th\u003e\n    \u003c/tr\u003e\n  \u003c/thead\u003e\n  \u003ctbody\u003e\n    \u003ctr\u003e\n      \u003cth\u003e411\u003c/th\u003e\n      \u003ctd\u003eC00431171\u003c/td\u003e\n      \u003ctd\u003eP80003353\u003c/td\u003e\n      \u003ctd\u003eRomney, Mitt\u003c/td\u003e\n      \u003ctd\u003eELDERBAUM, WILLIAM\u003c/td\u003e\n      \u003ctd\u003eDPO\u003c/td\u003e\n      \u003ctd\u003eAA\u003c/td\u003e\n      \u003ctd\u003e3.4023e+08\u003c/td\u003e\n      \u003ctd\u003eUS GOVERNMENT\u003c/td\u003e\n      \u003ctd\u003eFOREIGN SERVICE OFFICER\u003c/td\u003e\n      \u003ctd\u003e25.0\u003c/td\u003e\n      \u003ctd\u003e01-FEB-12\u003c/td\u003e\n      \u003ctd\u003eNaN\u003c/td\u003e\n      \u003ctd\u003eNaN\u003c/td\u003e\n      \u003ctd\u003eNaN\u003c/td\u003e\n      \u003ctd\u003eSA17A\u003c/td\u003e\n      \u003ctd\u003e780124\u003c/td\u003e\n      \u003ctd\u003eRepublican\u003c/td\u003e\n    \u003c/tr\u003e\n    \u003ctr\u003e\n      \u003cth\u003e412\u003c/th\u003e\n      \u003ctd\u003eC00431171\u003c/td\u003e\n      \u003ctd\u003eP80003353\u003c/td\u003e\n      \u003ctd\u003eRomney, Mitt\u003c/td\u003e\n      \u003ctd\u003eELDERBAUM, WILLIAM\u003c/td\u003e\n      \u003ctd\u003eDPO\u003c/td\u003e\n      \u003ctd\u003eAA\u003c/td\u003e\n      \u003ctd\u003e3.4023e+08\u003c/td\u003e\n      \u003ctd\u003eUS GOVERNMENT\u003c/td\u003e\n      \u003ctd\u003eFOREIGN SERVICE OFFICER\u003c/td\u003e\n      \u003ctd\u003e110.0\u003c/td\u003e\n      \u003ctd\u003e01-FEB-12\u003c/td\u003e\n      \u003ctd\u003eNaN\u003c/td\u003e\n      \u003ctd\u003eNaN\u003c/td\u003e\n      \u003ctd\u003eNaN\u003c/td\u003e\n      \u003ctd\u003eSA17A\u003c/td\u003e\n      \u003ctd\u003e780124\u003c/td\u003e\n      \u003ctd\u003eRepublican\u003c/td\u003e\n    \u003c/tr\u003e\n    \u003ctr\u003e\n      \u003cth\u003e413\u003c/th\u003e\n      \u003ctd\u003eC00431171\u003c/td\u003e\n      \u003ctd\u003eP80003353\u003c/td\u003e\n      \u003ctd\u003eRomney, Mitt\u003c/td\u003e\n      \u003ctd\u003eCARLSEN, RICHARD\u003c/td\u003e\n      \u003ctd\u003eAPO\u003c/td\u003e\n      \u003ctd\u003eAE\u003c/td\u003e\n      \u003ctd\u003e9.128e+07\u003c/td\u003e\n      \u003ctd\u003eDEFENSE INTELLIGENCE AGENCY\u003c/td\u003e\n      \u003ctd\u003eINTELLIGENCE ANALYST\u003c/td\u003e\n      \u003ctd\u003e250.0\u003c/td\u003e\n      \u003ctd\u003e13-APR-12\u003c/td\u003e\n      \u003ctd\u003eNaN\u003c/td\u003e\n      \u003ctd\u003eNaN\u003c/td\u003e\n      \u003ctd\u003eNaN\u003c/td\u003e\n      \u003ctd\u003eSA17A\u003c/td\u003e\n      \u003ctd\u003e785689\u003c/td\u003e\n      \u003ctd\u003eRepublican\u003c/td\u003e\n    \u003c/tr\u003e\n    \u003ctr\u003e\n      \u003cth\u003e414\u003c/th\u003e\n      \u003ctd\u003eC00431171\u003c/td\u003e\n      \u003ctd\u003eP80003353\u003c/td\u003e\n      \u003ctd\u003eRomney, Mitt\u003c/td\u003e\n      \u003ctd\u003eDELUCA, PIERRE\u003c/td\u003e\n      \u003ctd\u003eAPO\u003c/td\u003e\n      \u003ctd\u003eAE\u003c/td\u003e\n      \u003ctd\u003e9.128e+07\u003c/td\u003e\n      \u003ctd\u003eCISCO\u003c/td\u003e\n      \u003ctd\u003eENGINEER\u003c/td\u003e\n      \u003ctd\u003e30.0\u003c/td\u003e\n      \u003ctd\u003e21-AUG-11\u003c/td\u003e\n      \u003ctd\u003eNaN\u003c/td\u003e\n      \u003ctd\u003eNaN\u003c/td\u003e\n      \u003ctd\u003eNaN\u003c/td\u003e\n      \u003ctd\u003eSA17A\u003c/td\u003e\n      \u003ctd\u003e760261\u003c/td\u003e\n      \u003ctd\u003eRepublican\u003c/td\u003e\n    \u003c/tr\u003e\n    \u003ctr\u003e\n      \u003cth\u003e415\u003c/th\u003e\n      \u003ctd\u003eC00431171\u003c/td\u003e\n      \u003ctd\u003eP80003353\u003c/td\u003e\n      \u003ctd\u003eRomney, Mitt\u003c/td\u003e\n      \u003ctd\u003eSARGENT, MICHAEL\u003c/td\u003e\n      \u003ctd\u003eAPO\u003c/td\u003e\n      \u003ctd\u003eAE\u003c/td\u003e\n      \u003ctd\u003e9.01201e+07\u003c/td\u003e\n      \u003ctd\u003eRAYTHEON TECHNICAL SERVICES CORP\u003c/td\u003e\n      \u003ctd\u003eCOMPUTER SYSTEMS ENGINEER\u003c/td\u003e\n      \u003ctd\u003e100.0\u003c/td\u003e\n      \u003ctd\u003e07-MAR-12\u003c/td\u003e\n      \u003ctd\u003eNaN\u003c/td\u003e\n      \u003ctd\u003eNaN\u003c/td\u003e\n      \u003ctd\u003eNaN\u003c/td\u003e\n      \u003ctd\u003eSA17A\u003c/td\u003e\n      \u003ctd\u003e780128\u003c/td\u003e\n      \u003ctd\u003eRepublican\u003c/td\u003e\n    \u003c/tr\u003e\n  \u003c/tbody\u003e\n\u003c/table\u003e\n\u003c/div\u003e"
          },
          "metadata": {},
          "output_type": "execute_result",
          "execution_count": 28
        }
      ],
      "source": "fec_mrbo.head()",
      "metadata": {
        "pycharm": {
          "metadata": false,
          "name": "#%%\n",
          "is_executing": false
        }
      }
    },
    {
      "cell_type": "code",
      "execution_count": 29,
      "outputs": [
        {
          "data": {
            "text/plain": "RETIRED                                   233990\nINFORMATION REQUESTED                      35107\nATTORNEY                                   34286\nHOMEMAKER                                  29931\nPHYSICIAN                                  23432\nINFORMATION REQUESTED PER BEST EFFORTS     21138\nENGINEER                                   14334\nTEACHER                                    13990\nCONSULTANT                                 13273\nPROFESSOR                                  12555\nNOT EMPLOYED                                9828\nSALES                                       8333\nLAWYER                                      8283\nMANAGER                                     8024\nPRESIDENT                                   7758\nSTUDENT                                     7071\nOWNER                                       6343\nEXECUTIVE                                   5506\nSELF-EMPLOYED                               5472\nWRITER                                      5128\nSOFTWARE ENGINEER                           4960\nCEO                                         4932\nBUSINESS OWNER                              4380\nACCOUNTANT                                  4175\nARTIST                                      3724\nEDUCATOR                                    3576\nRN                                          3262\nREGISTERED NURSE                            3079\nINVESTOR                                    2708\nREAL ESTATE                                 2644\n                                           ...  \nINSURANCE AGENT RETIRED                        1\nPRODUCE CLERK                                  1\nPILOT AFGHANISTAN                              1\nRESEARCH HEALTH SCIENTIST                      1\nLEGISLATIVE MANAGEMENT OFFICER                 1\nENV. PROTECTION SPECIALIST                     1\nLABORER, AND A GOOD ONE AT THAT                1\nSHOP SUPERVISOR                                1\nFEDERAL SERVICE                                1\nBRANDING \u0026 DESIGN SPECIALIST                   1\nUS GOV\u0027T                                       1\nSECURITY BOND                                  1\nGM/VP                                          1\nASST. VC SPECIAL PROJECTS/ADVANCEMENT          1\nTEACHER/ASST PRINCIPAL                         1\nSENIOR PORTFOLIO ANALYST                       1\nCONSULTING BUSINESS DEVELOPMENT                1\nMANAGER, LEGACY AND CREATIVE DEVELOPME         1\nDIABETES EDUCATOR                              1\nDIRECTOR, PARTNER RELATIONS                    1\nINTELLIGENCE SUPERVISOR                        1\nVP SUPPLY - APAC                               1\nVICE PRESIDENT - PREFERRED LOSS MITIGA         1\nRECEPTIONIST/ADMIN                             1\nSUB - SCHOOL BUS DRIVER                        1\nDIRECTOR COMMUNITY RELATIONS                   1\nTEACHER/ACTOR                                  1\nARTIST, HOMEMAKER                              1\nPROGRAMMER/RETIRED                             1\nUTILITY COMMISSIONER                           1\nName: contbr_occupation, Length: 45067, dtype: int64"
          },
          "metadata": {},
          "output_type": "execute_result",
          "execution_count": 29
        }
      ],
      "source": "fec[\u0027contbr_occupation\u0027].value_counts()",
      "metadata": {
        "pycharm": {
          "metadata": false,
          "name": "#%%\n",
          "is_executing": false
        }
      }
    },
    {
      "cell_type": "code",
      "execution_count": null,
      "outputs": [],
      "source": "#使用字典映射，真是个好办法\nf\u003dlambda x:dic.get(x,x)",
      "metadata": {
        "pycharm": {
          "metadata": false,
          "name": "#%%\n"
        }
      }
    },
    {
      "cell_type": "code",
      "execution_count": 32,
      "outputs": [],
      "source": "bins\u003dnp.array([0,1,10,100,1000,10000,100000,1000000,10000000])",
      "metadata": {
        "pycharm": {
          "metadata": false,
          "name": "#%%\n",
          "is_executing": false
        }
      }
    },
    {
      "cell_type": "code",
      "execution_count": 33,
      "outputs": [],
      "source": "labels\u003dpd.cut(fec_mrbo[\u0027contb_receipt_amt\u0027],bins)",
      "metadata": {
        "pycharm": {
          "metadata": false,
          "name": "#%%\n",
          "is_executing": false
        }
      }
    },
    {
      "cell_type": "code",
      "execution_count": 34,
      "outputs": [
        {
          "data": {
            "text/plain": "411           (10, 100]\n412         (100, 1000]\n413         (100, 1000]\n414           (10, 100]\n415           (10, 100]\n416           (10, 100]\n417         (100, 1000]\n418           (10, 100]\n419         (100, 1000]\n420           (10, 100]\n421           (10, 100]\n422         (100, 1000]\n423         (100, 1000]\n424         (100, 1000]\n425         (100, 1000]\n426         (100, 1000]\n427       (1000, 10000]\n428         (100, 1000]\n429         (100, 1000]\n430           (10, 100]\n431       (1000, 10000]\n432         (100, 1000]\n433         (100, 1000]\n434         (100, 1000]\n435         (100, 1000]\n436         (100, 1000]\n437           (10, 100]\n438         (100, 1000]\n439         (100, 1000]\n440           (10, 100]\n              ...      \n701356        (10, 100]\n701357          (1, 10]\n701358        (10, 100]\n701359        (10, 100]\n701360        (10, 100]\n701361        (10, 100]\n701362      (100, 1000]\n701363        (10, 100]\n701364        (10, 100]\n701365        (10, 100]\n701366        (10, 100]\n701367        (10, 100]\n701368      (100, 1000]\n701369        (10, 100]\n701370        (10, 100]\n701371        (10, 100]\n701372        (10, 100]\n701373        (10, 100]\n701374        (10, 100]\n701375        (10, 100]\n701376    (1000, 10000]\n701377        (10, 100]\n701378        (10, 100]\n701379      (100, 1000]\n701380    (1000, 10000]\n701381        (10, 100]\n701382      (100, 1000]\n701383          (1, 10]\n701384        (10, 100]\n701385      (100, 1000]\nName: contb_receipt_amt, Length: 694282, dtype: category\nCategories (8, interval[int64]): [(0, 1] \u003c (1, 10] \u003c (10, 100] \u003c (100, 1000] \u003c (1000, 10000] \u003c (10000, 100000] \u003c (100000, 1000000] \u003c (1000000, 10000000]]"
          },
          "metadata": {},
          "output_type": "execute_result",
          "execution_count": 34
        }
      ],
      "source": "labels",
      "metadata": {
        "pycharm": {
          "metadata": false,
          "name": "#%%\n",
          "is_executing": false
        }
      }
    },
    {
      "cell_type": "code",
      "execution_count": 35,
      "outputs": [],
      "source": "grouped\u003dfec_mrbo.groupby([\u0027cand_nm\u0027,labels])",
      "metadata": {
        "pycharm": {
          "metadata": false,
          "name": "#%%\n",
          "is_executing": false
        }
      }
    },
    {
      "cell_type": "code",
      "execution_count": 38,
      "outputs": [
        {
          "data": {
            "text/plain": "cand_nm              Obama, Barack  Romney, Mitt\ncontb_receipt_amt                               \n(0, 1]                       493.0          77.0\n(1, 10]                    40070.0        3681.0\n(10, 100]                 372280.0       31853.0\n(100, 1000]               153991.0       43357.0\n(1000, 10000]              22284.0       26186.0\n(10000, 100000]                2.0           1.0\n(100000, 1000000]              3.0           NaN\n(1000000, 10000000]            4.0           NaN",
            "text/html": "\u003cdiv\u003e\n\u003cstyle scoped\u003e\n    .dataframe tbody tr th:only-of-type {\n        vertical-align: middle;\n    }\n\n    .dataframe tbody tr th {\n        vertical-align: top;\n    }\n\n    .dataframe thead th {\n        text-align: right;\n    }\n\u003c/style\u003e\n\u003ctable border\u003d\"1\" class\u003d\"dataframe\"\u003e\n  \u003cthead\u003e\n    \u003ctr style\u003d\"text-align: right;\"\u003e\n      \u003cth\u003ecand_nm\u003c/th\u003e\n      \u003cth\u003eObama, Barack\u003c/th\u003e\n      \u003cth\u003eRomney, Mitt\u003c/th\u003e\n    \u003c/tr\u003e\n    \u003ctr\u003e\n      \u003cth\u003econtb_receipt_amt\u003c/th\u003e\n      \u003cth\u003e\u003c/th\u003e\n      \u003cth\u003e\u003c/th\u003e\n    \u003c/tr\u003e\n  \u003c/thead\u003e\n  \u003ctbody\u003e\n    \u003ctr\u003e\n      \u003cth\u003e(0, 1]\u003c/th\u003e\n      \u003ctd\u003e493.0\u003c/td\u003e\n      \u003ctd\u003e77.0\u003c/td\u003e\n    \u003c/tr\u003e\n    \u003ctr\u003e\n      \u003cth\u003e(1, 10]\u003c/th\u003e\n      \u003ctd\u003e40070.0\u003c/td\u003e\n      \u003ctd\u003e3681.0\u003c/td\u003e\n    \u003c/tr\u003e\n    \u003ctr\u003e\n      \u003cth\u003e(10, 100]\u003c/th\u003e\n      \u003ctd\u003e372280.0\u003c/td\u003e\n      \u003ctd\u003e31853.0\u003c/td\u003e\n    \u003c/tr\u003e\n    \u003ctr\u003e\n      \u003cth\u003e(100, 1000]\u003c/th\u003e\n      \u003ctd\u003e153991.0\u003c/td\u003e\n      \u003ctd\u003e43357.0\u003c/td\u003e\n    \u003c/tr\u003e\n    \u003ctr\u003e\n      \u003cth\u003e(1000, 10000]\u003c/th\u003e\n      \u003ctd\u003e22284.0\u003c/td\u003e\n      \u003ctd\u003e26186.0\u003c/td\u003e\n    \u003c/tr\u003e\n    \u003ctr\u003e\n      \u003cth\u003e(10000, 100000]\u003c/th\u003e\n      \u003ctd\u003e2.0\u003c/td\u003e\n      \u003ctd\u003e1.0\u003c/td\u003e\n    \u003c/tr\u003e\n    \u003ctr\u003e\n      \u003cth\u003e(100000, 1000000]\u003c/th\u003e\n      \u003ctd\u003e3.0\u003c/td\u003e\n      \u003ctd\u003eNaN\u003c/td\u003e\n    \u003c/tr\u003e\n    \u003ctr\u003e\n      \u003cth\u003e(1000000, 10000000]\u003c/th\u003e\n      \u003ctd\u003e4.0\u003c/td\u003e\n      \u003ctd\u003eNaN\u003c/td\u003e\n    \u003c/tr\u003e\n  \u003c/tbody\u003e\n\u003c/table\u003e\n\u003c/div\u003e"
          },
          "metadata": {},
          "output_type": "execute_result",
          "execution_count": 38
        }
      ],
      "source": "grouped.size().unstack(0)",
      "metadata": {
        "pycharm": {
          "metadata": false,
          "name": "#%%\n",
          "is_executing": false
        }
      }
    },
    {
      "cell_type": "code",
      "execution_count": null,
      "outputs": [],
      "source": "\n",
      "metadata": {
        "pycharm": {
          "metadata": false,
          "name": "#%%\n"
        }
      }
    }
  ],
  "metadata": {
    "language_info": {
      "codemirror_mode": {
        "name": "ipython",
        "version": 2
      },
      "file_extension": ".py",
      "mimetype": "text/x-python",
      "name": "python",
      "nbconvert_exporter": "python",
      "pygments_lexer": "ipython2",
      "version": "2.7.6"
    },
    "kernelspec": {
      "name": "pycharm-77c020f0",
      "language": "python",
      "display_name": "PyCharm (analysisData)"
    }
  },
  "nbformat": 4,
  "nbformat_minor": 0
}