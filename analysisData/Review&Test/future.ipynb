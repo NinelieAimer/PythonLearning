{
  "cells": [
    {
      "cell_type": "code",
      "execution_count": 40,
      "metadata": {
        "collapsed": true,
        "pycharm": {
          "is_executing": false
        }
      },
      "outputs": [],
      "source": "import pandas as pd\nimport numpy as np\nimport matplotlib.pyplot as plt\nimport seaborn as sns\n%matplotlib inline"
    },
    {
      "cell_type": "code",
      "execution_count": 41,
      "outputs": [],
      "source": "df\u003dpd.read_excel(\u0027data.xlsx\u0027,encoding\u003d\u0027utf8\u0027)",
      "metadata": {
        "pycharm": {
          "metadata": false,
          "name": "#%%\n",
          "is_executing": false
        }
      }
    },
    {
      "cell_type": "code",
      "execution_count": 43,
      "outputs": [],
      "source": "new_df\u003ddf[df[\u0027Fee\u0027]\u003e0]",
      "metadata": {
        "pycharm": {
          "metadata": false,
          "name": "#%%\n",
          "is_executing": false
        }
      }
    },
    {
      "cell_type": "code",
      "execution_count": 44,
      "outputs": [
        {
          "name": "stderr",
          "text": [
            "D:\\software\\Anaconda\\envs\\data\\lib\\site-packages\\ipykernel_launcher.py:1: SettingWithCopyWarning: \nA value is trying to be set on a copy of a slice from a DataFrame.\nTry using .loc[row_indexer,col_indexer] \u003d value instead\n\nSee the caveats in the documentation: http://pandas.pydata.org/pandas-docs/stable/indexing.html#indexing-view-versus-copy\n  \"\"\"Entry point for launching an IPython kernel.\n"
          ],
          "output_type": "stream"
        }
      ],
      "source": "new_df[\u0027count\u0027]\u003d1",
      "metadata": {
        "pycharm": {
          "metadata": false,
          "name": "#%%\n",
          "is_executing": false
        }
      }
    },
    {
      "cell_type": "code",
      "execution_count": 45,
      "outputs": [],
      "source": "usually\u003dnew_df.groupby([\u0027mobile\u0027])[\u0027count\u0027].sum()",
      "metadata": {
        "pycharm": {
          "metadata": false,
          "name": "#%%\n",
          "is_executing": false
        }
      }
    },
    {
      "cell_type": "code",
      "execution_count": 46,
      "outputs": [],
      "source": "usually\u003dusually[usually\u003e13]",
      "metadata": {
        "pycharm": {
          "metadata": false,
          "name": "#%%\n",
          "is_executing": false
        }
      }
    },
    {
      "cell_type": "code",
      "execution_count": 47,
      "outputs": [],
      "source": "index\u003dusually.index\n",
      "metadata": {
        "pycharm": {
          "metadata": false,
          "name": "#%%\n",
          "is_executing": false
        }
      }
    },
    {
      "cell_type": "code",
      "execution_count": 12,
      "outputs": [
        {
          "data": {
            "text/plain": "Int64Index([13014790159, 13029201139, 13073785897, 13107605136, 13207611445,\n            13223076614, 13223905512, 13277746080, 13298134818, 13298311220,\n            ...\n            18749310274, 18757209733, 18758563382, 18814665031, 18837130493,\n            18858716751, 18951051660, 19817443714, 19939963154, 19967304168],\n           dtype\u003d\u0027int64\u0027, name\u003d\u0027mobile\u0027, length\u003d119)"
          },
          "metadata": {},
          "output_type": "execute_result",
          "execution_count": 12
        }
      ],
      "source": "index",
      "metadata": {
        "pycharm": {
          "metadata": false,
          "name": "#%%\n",
          "is_executing": false
        }
      }
    },
    {
      "cell_type": "code",
      "execution_count": 48,
      "outputs": [],
      "source": "last_df\u003dnew_df[new_df[\u0027mobile\u0027].isin(index)]",
      "metadata": {
        "pycharm": {
          "metadata": false,
          "name": "#%%\n",
          "is_executing": false
        }
      }
    },
    {
      "cell_type": "code",
      "execution_count": 49,
      "outputs": [
        {
          "data": {
            "text/plain": "     Unnamed: 0  Available  Deposit     Equity    Fee       Id  InitFund   MD  \\\n162           0  2026332.8      0.0  2026332.8   21.5  1636610   2000000  0.0   \n163           1  2026229.3      0.0  2026229.3  494.5  1625790   2000000  0.0   \n164           2  2025848.8      0.0  2025848.8   43.0  1614971   2000000  0.0   \n165           3  2025641.8      0.0  2025641.8  630.0  1604159   2000000  0.0   \n166           4  2025121.8      0.0  2025121.8   21.5  1593348   2000000  0.0   \n\n     MDMAX     NAVPS  ...  Profit  Ranks  SettleDate TotalFee  \\\n162    0.0  1.024232  ...     125     52  2019-09-23   3162.2   \n163    0.0  1.024180  ...     875     62  2019-09-20   3140.7   \n164    0.0  1.023987  ...     250     70  2019-09-19   2646.2   \n165    0.0  1.023883  ...    1150     74  2019-09-18   2603.2   \n166    0.0  1.023620  ...     125     68  2019-09-17   1973.2   \n\n     TotalMarketValue     company rank  school       mobile  count  \n162         2026332.8  江海汇鑫期货有限公司   52    辽东学院  13470093082      1  \n163         2026229.3  江海汇鑫期货有限公司   52    辽东学院  13470093082      1  \n164         2025848.8  江海汇鑫期货有限公司   52    辽东学院  13470093082      1  \n165         2025641.8  江海汇鑫期货有限公司   52    辽东学院  13470093082      1  \n166         2025121.8  江海汇鑫期货有限公司   52    辽东学院  13470093082      1  \n\n[5 rows x 21 columns]",
            "text/html": "\u003cdiv\u003e\n\u003cstyle scoped\u003e\n    .dataframe tbody tr th:only-of-type {\n        vertical-align: middle;\n    }\n\n    .dataframe tbody tr th {\n        vertical-align: top;\n    }\n\n    .dataframe thead th {\n        text-align: right;\n    }\n\u003c/style\u003e\n\u003ctable border\u003d\"1\" class\u003d\"dataframe\"\u003e\n  \u003cthead\u003e\n    \u003ctr style\u003d\"text-align: right;\"\u003e\n      \u003cth\u003e\u003c/th\u003e\n      \u003cth\u003eUnnamed: 0\u003c/th\u003e\n      \u003cth\u003eAvailable\u003c/th\u003e\n      \u003cth\u003eDeposit\u003c/th\u003e\n      \u003cth\u003eEquity\u003c/th\u003e\n      \u003cth\u003eFee\u003c/th\u003e\n      \u003cth\u003eId\u003c/th\u003e\n      \u003cth\u003eInitFund\u003c/th\u003e\n      \u003cth\u003eMD\u003c/th\u003e\n      \u003cth\u003eMDMAX\u003c/th\u003e\n      \u003cth\u003eNAVPS\u003c/th\u003e\n      \u003cth\u003e...\u003c/th\u003e\n      \u003cth\u003eProfit\u003c/th\u003e\n      \u003cth\u003eRanks\u003c/th\u003e\n      \u003cth\u003eSettleDate\u003c/th\u003e\n      \u003cth\u003eTotalFee\u003c/th\u003e\n      \u003cth\u003eTotalMarketValue\u003c/th\u003e\n      \u003cth\u003ecompany\u003c/th\u003e\n      \u003cth\u003erank\u003c/th\u003e\n      \u003cth\u003eschool\u003c/th\u003e\n      \u003cth\u003emobile\u003c/th\u003e\n      \u003cth\u003ecount\u003c/th\u003e\n    \u003c/tr\u003e\n  \u003c/thead\u003e\n  \u003ctbody\u003e\n    \u003ctr\u003e\n      \u003cth\u003e162\u003c/th\u003e\n      \u003ctd\u003e0\u003c/td\u003e\n      \u003ctd\u003e2026332.8\u003c/td\u003e\n      \u003ctd\u003e0.0\u003c/td\u003e\n      \u003ctd\u003e2026332.8\u003c/td\u003e\n      \u003ctd\u003e21.5\u003c/td\u003e\n      \u003ctd\u003e1636610\u003c/td\u003e\n      \u003ctd\u003e2000000\u003c/td\u003e\n      \u003ctd\u003e0.0\u003c/td\u003e\n      \u003ctd\u003e0.0\u003c/td\u003e\n      \u003ctd\u003e1.024232\u003c/td\u003e\n      \u003ctd\u003e...\u003c/td\u003e\n      \u003ctd\u003e125\u003c/td\u003e\n      \u003ctd\u003e52\u003c/td\u003e\n      \u003ctd\u003e2019-09-23\u003c/td\u003e\n      \u003ctd\u003e3162.2\u003c/td\u003e\n      \u003ctd\u003e2026332.8\u003c/td\u003e\n      \u003ctd\u003e江海汇鑫期货有限公司\u003c/td\u003e\n      \u003ctd\u003e52\u003c/td\u003e\n      \u003ctd\u003e辽东学院\u003c/td\u003e\n      \u003ctd\u003e13470093082\u003c/td\u003e\n      \u003ctd\u003e1\u003c/td\u003e\n    \u003c/tr\u003e\n    \u003ctr\u003e\n      \u003cth\u003e163\u003c/th\u003e\n      \u003ctd\u003e1\u003c/td\u003e\n      \u003ctd\u003e2026229.3\u003c/td\u003e\n      \u003ctd\u003e0.0\u003c/td\u003e\n      \u003ctd\u003e2026229.3\u003c/td\u003e\n      \u003ctd\u003e494.5\u003c/td\u003e\n      \u003ctd\u003e1625790\u003c/td\u003e\n      \u003ctd\u003e2000000\u003c/td\u003e\n      \u003ctd\u003e0.0\u003c/td\u003e\n      \u003ctd\u003e0.0\u003c/td\u003e\n      \u003ctd\u003e1.024180\u003c/td\u003e\n      \u003ctd\u003e...\u003c/td\u003e\n      \u003ctd\u003e875\u003c/td\u003e\n      \u003ctd\u003e62\u003c/td\u003e\n      \u003ctd\u003e2019-09-20\u003c/td\u003e\n      \u003ctd\u003e3140.7\u003c/td\u003e\n      \u003ctd\u003e2026229.3\u003c/td\u003e\n      \u003ctd\u003e江海汇鑫期货有限公司\u003c/td\u003e\n      \u003ctd\u003e52\u003c/td\u003e\n      \u003ctd\u003e辽东学院\u003c/td\u003e\n      \u003ctd\u003e13470093082\u003c/td\u003e\n      \u003ctd\u003e1\u003c/td\u003e\n    \u003c/tr\u003e\n    \u003ctr\u003e\n      \u003cth\u003e164\u003c/th\u003e\n      \u003ctd\u003e2\u003c/td\u003e\n      \u003ctd\u003e2025848.8\u003c/td\u003e\n      \u003ctd\u003e0.0\u003c/td\u003e\n      \u003ctd\u003e2025848.8\u003c/td\u003e\n      \u003ctd\u003e43.0\u003c/td\u003e\n      \u003ctd\u003e1614971\u003c/td\u003e\n      \u003ctd\u003e2000000\u003c/td\u003e\n      \u003ctd\u003e0.0\u003c/td\u003e\n      \u003ctd\u003e0.0\u003c/td\u003e\n      \u003ctd\u003e1.023987\u003c/td\u003e\n      \u003ctd\u003e...\u003c/td\u003e\n      \u003ctd\u003e250\u003c/td\u003e\n      \u003ctd\u003e70\u003c/td\u003e\n      \u003ctd\u003e2019-09-19\u003c/td\u003e\n      \u003ctd\u003e2646.2\u003c/td\u003e\n      \u003ctd\u003e2025848.8\u003c/td\u003e\n      \u003ctd\u003e江海汇鑫期货有限公司\u003c/td\u003e\n      \u003ctd\u003e52\u003c/td\u003e\n      \u003ctd\u003e辽东学院\u003c/td\u003e\n      \u003ctd\u003e13470093082\u003c/td\u003e\n      \u003ctd\u003e1\u003c/td\u003e\n    \u003c/tr\u003e\n    \u003ctr\u003e\n      \u003cth\u003e165\u003c/th\u003e\n      \u003ctd\u003e3\u003c/td\u003e\n      \u003ctd\u003e2025641.8\u003c/td\u003e\n      \u003ctd\u003e0.0\u003c/td\u003e\n      \u003ctd\u003e2025641.8\u003c/td\u003e\n      \u003ctd\u003e630.0\u003c/td\u003e\n      \u003ctd\u003e1604159\u003c/td\u003e\n      \u003ctd\u003e2000000\u003c/td\u003e\n      \u003ctd\u003e0.0\u003c/td\u003e\n      \u003ctd\u003e0.0\u003c/td\u003e\n      \u003ctd\u003e1.023883\u003c/td\u003e\n      \u003ctd\u003e...\u003c/td\u003e\n      \u003ctd\u003e1150\u003c/td\u003e\n      \u003ctd\u003e74\u003c/td\u003e\n      \u003ctd\u003e2019-09-18\u003c/td\u003e\n      \u003ctd\u003e2603.2\u003c/td\u003e\n      \u003ctd\u003e2025641.8\u003c/td\u003e\n      \u003ctd\u003e江海汇鑫期货有限公司\u003c/td\u003e\n      \u003ctd\u003e52\u003c/td\u003e\n      \u003ctd\u003e辽东学院\u003c/td\u003e\n      \u003ctd\u003e13470093082\u003c/td\u003e\n      \u003ctd\u003e1\u003c/td\u003e\n    \u003c/tr\u003e\n    \u003ctr\u003e\n      \u003cth\u003e166\u003c/th\u003e\n      \u003ctd\u003e4\u003c/td\u003e\n      \u003ctd\u003e2025121.8\u003c/td\u003e\n      \u003ctd\u003e0.0\u003c/td\u003e\n      \u003ctd\u003e2025121.8\u003c/td\u003e\n      \u003ctd\u003e21.5\u003c/td\u003e\n      \u003ctd\u003e1593348\u003c/td\u003e\n      \u003ctd\u003e2000000\u003c/td\u003e\n      \u003ctd\u003e0.0\u003c/td\u003e\n      \u003ctd\u003e0.0\u003c/td\u003e\n      \u003ctd\u003e1.023620\u003c/td\u003e\n      \u003ctd\u003e...\u003c/td\u003e\n      \u003ctd\u003e125\u003c/td\u003e\n      \u003ctd\u003e68\u003c/td\u003e\n      \u003ctd\u003e2019-09-17\u003c/td\u003e\n      \u003ctd\u003e1973.2\u003c/td\u003e\n      \u003ctd\u003e2025121.8\u003c/td\u003e\n      \u003ctd\u003e江海汇鑫期货有限公司\u003c/td\u003e\n      \u003ctd\u003e52\u003c/td\u003e\n      \u003ctd\u003e辽东学院\u003c/td\u003e\n      \u003ctd\u003e13470093082\u003c/td\u003e\n      \u003ctd\u003e1\u003c/td\u003e\n    \u003c/tr\u003e\n  \u003c/tbody\u003e\n\u003c/table\u003e\n\u003cp\u003e5 rows × 21 columns\u003c/p\u003e\n\u003c/div\u003e"
          },
          "metadata": {},
          "output_type": "execute_result",
          "execution_count": 49
        }
      ],
      "source": "last_df.head()",
      "metadata": {
        "pycharm": {
          "metadata": false,
          "name": "#%%\n",
          "is_executing": false
        }
      }
    },
    {
      "cell_type": "code",
      "execution_count": 50,
      "outputs": [],
      "source": "sorted_df\u003dlast_df.sort_values(by\u003d[\u0027rank\u0027])\n",
      "metadata": {
        "pycharm": {
          "metadata": false,
          "name": "#%%\n",
          "is_executing": false
        }
      }
    },
    {
      "cell_type": "code",
      "execution_count": 51,
      "outputs": [],
      "source": "test\u003dsorted_df[[\u0027mobile\u0027,\u0027rank\u0027]]",
      "metadata": {
        "pycharm": {
          "metadata": false,
          "name": "#%%\n",
          "is_executing": false
        }
      }
    },
    {
      "cell_type": "code",
      "execution_count": 52,
      "outputs": [
        {
          "name": "stderr",
          "text": [
            "D:\\software\\Anaconda\\envs\\data\\lib\\site-packages\\ipykernel_launcher.py:1: SettingWithCopyWarning: \nA value is trying to be set on a copy of a slice from a DataFrame.\nTry using .loc[row_indexer,col_indexer] \u003d value instead\n\nSee the caveats in the documentation: http://pandas.pydata.org/pandas-docs/stable/indexing.html#indexing-view-versus-copy\n  \"\"\"Entry point for launching an IPython kernel.\n"
          ],
          "output_type": "stream"
        }
      ],
      "source": "test[\u0027rank\u0027]\u003dtest[\u0027rank\u0027].rank(method\u003d\u0027dense\u0027)",
      "metadata": {
        "pycharm": {
          "metadata": false,
          "name": "#%%\n",
          "is_executing": false
        }
      }
    },
    {
      "cell_type": "code",
      "execution_count": 53,
      "outputs": [],
      "source": "sorted_df[\u0027rank\u0027]\u003dtest[\u0027rank\u0027]",
      "metadata": {
        "pycharm": {
          "metadata": false,
          "name": "#%%\n",
          "is_executing": false
        }
      }
    },
    {
      "cell_type": "code",
      "execution_count": 54,
      "outputs": [],
      "source": "sorted_df.to_excel(\u0027new.xlsx\u0027)",
      "metadata": {
        "pycharm": {
          "metadata": false,
          "name": "#%%\n",
          "is_executing": false
        }
      }
    },
    {
      "cell_type": "code",
      "execution_count": 55,
      "outputs": [
        {
          "data": {
            "text/plain": "        Unnamed: 0     Available       Deposit        Equity           Fee  \\\ncount  8501.000000  8.501000e+03  8.501000e+03  8.501000e+03   8501.000000   \nmean     23.354311  1.646547e+06  1.837944e+03  1.668853e+06     77.010034   \nstd      15.559589  4.890230e+05  3.977145e+04  4.818193e+05    522.356336   \nmin       0.000000  1.429460e+05  0.000000e+00  9.991590e+05      0.000000   \n25%      10.000000  1.025004e+06  0.000000e+00  1.041076e+06      0.000000   \n50%      21.000000  2.002005e+06  0.000000e+00  2.002538e+06      0.000000   \n75%      35.000000  2.013002e+06  0.000000e+00  2.013566e+06      6.000000   \nmax      59.000000  2.479353e+06  1.947920e+06  2.479353e+06  22397.000000   \n\n                 Id      InitFund           MD        MDMAX        NAVPS  \\\ncount  8.501000e+03  8.501000e+03  8501.000000  8501.000000  8501.000000   \nmean   1.334576e+06  1.634161e+06     0.000045     0.000070     1.032911   \nstd    1.804031e+05  4.816931e+05     0.000181     0.000213     0.059715   \nmin    1.016406e+06  1.000000e+06     0.000000     0.000000     0.999159   \n25%    1.190737e+06  1.000000e+06     0.000000     0.000000     1.002456   \n50%    1.330975e+06  2.000000e+06     0.000000     0.000000     1.007267   \n75%    1.528686e+06  2.000000e+06     0.000000     0.000000     1.046790   \nmax    1.636758e+06  2.000000e+06     0.001501     0.001501     1.479205   \n\n          NAVPSMAX         Profit        Ranks      TotalFee  \\\ncount  8501.000000    8501.000000  8501.000000   8501.000000   \nmean      1.032958     870.369956   176.136925   2135.579614   \nstd       0.059718    8111.305980   187.226164   3195.914102   \nmin       1.000000   -1080.000000     1.000000      1.500000   \n25%       1.002456       0.000000    55.000000    273.000000   \n50%       1.007267       0.000000   121.000000   1120.500000   \n75%       1.046790      30.000000   214.000000   2756.600000   \nmax       1.479205  445000.000000  1528.000000  38170.200000   \n\n       TotalMarketValue         rank        mobile  \ncount      8.501000e+03  8501.000000  8.501000e+03  \nmean       1.668853e+06    96.974591  1.655651e+10  \nstd        4.818193e+05    60.011682  1.999735e+09  \nmin        9.991590e+05     1.000000  1.301479e+10  \n25%        1.041076e+06    42.000000  1.516683e+10  \n50%        2.002538e+06    97.000000  1.737656e+10  \n75%        2.013566e+06   149.000000  1.826589e+10  \nmax        2.479353e+06   200.000000  1.997527e+10  ",
            "text/html": "\u003cdiv\u003e\n\u003cstyle scoped\u003e\n    .dataframe tbody tr th:only-of-type {\n        vertical-align: middle;\n    }\n\n    .dataframe tbody tr th {\n        vertical-align: top;\n    }\n\n    .dataframe thead th {\n        text-align: right;\n    }\n\u003c/style\u003e\n\u003ctable border\u003d\"1\" class\u003d\"dataframe\"\u003e\n  \u003cthead\u003e\n    \u003ctr style\u003d\"text-align: right;\"\u003e\n      \u003cth\u003e\u003c/th\u003e\n      \u003cth\u003eUnnamed: 0\u003c/th\u003e\n      \u003cth\u003eAvailable\u003c/th\u003e\n      \u003cth\u003eDeposit\u003c/th\u003e\n      \u003cth\u003eEquity\u003c/th\u003e\n      \u003cth\u003eFee\u003c/th\u003e\n      \u003cth\u003eId\u003c/th\u003e\n      \u003cth\u003eInitFund\u003c/th\u003e\n      \u003cth\u003eMD\u003c/th\u003e\n      \u003cth\u003eMDMAX\u003c/th\u003e\n      \u003cth\u003eNAVPS\u003c/th\u003e\n      \u003cth\u003eNAVPSMAX\u003c/th\u003e\n      \u003cth\u003eProfit\u003c/th\u003e\n      \u003cth\u003eRanks\u003c/th\u003e\n      \u003cth\u003eTotalFee\u003c/th\u003e\n      \u003cth\u003eTotalMarketValue\u003c/th\u003e\n      \u003cth\u003erank\u003c/th\u003e\n      \u003cth\u003emobile\u003c/th\u003e\n    \u003c/tr\u003e\n  \u003c/thead\u003e\n  \u003ctbody\u003e\n    \u003ctr\u003e\n      \u003cth\u003ecount\u003c/th\u003e\n      \u003ctd\u003e8501.000000\u003c/td\u003e\n      \u003ctd\u003e8.501000e+03\u003c/td\u003e\n      \u003ctd\u003e8.501000e+03\u003c/td\u003e\n      \u003ctd\u003e8.501000e+03\u003c/td\u003e\n      \u003ctd\u003e8501.000000\u003c/td\u003e\n      \u003ctd\u003e8.501000e+03\u003c/td\u003e\n      \u003ctd\u003e8.501000e+03\u003c/td\u003e\n      \u003ctd\u003e8501.000000\u003c/td\u003e\n      \u003ctd\u003e8501.000000\u003c/td\u003e\n      \u003ctd\u003e8501.000000\u003c/td\u003e\n      \u003ctd\u003e8501.000000\u003c/td\u003e\n      \u003ctd\u003e8501.000000\u003c/td\u003e\n      \u003ctd\u003e8501.000000\u003c/td\u003e\n      \u003ctd\u003e8501.000000\u003c/td\u003e\n      \u003ctd\u003e8.501000e+03\u003c/td\u003e\n      \u003ctd\u003e8501.000000\u003c/td\u003e\n      \u003ctd\u003e8.501000e+03\u003c/td\u003e\n    \u003c/tr\u003e\n    \u003ctr\u003e\n      \u003cth\u003emean\u003c/th\u003e\n      \u003ctd\u003e23.354311\u003c/td\u003e\n      \u003ctd\u003e1.646547e+06\u003c/td\u003e\n      \u003ctd\u003e1.837944e+03\u003c/td\u003e\n      \u003ctd\u003e1.668853e+06\u003c/td\u003e\n      \u003ctd\u003e77.010034\u003c/td\u003e\n      \u003ctd\u003e1.334576e+06\u003c/td\u003e\n      \u003ctd\u003e1.634161e+06\u003c/td\u003e\n      \u003ctd\u003e0.000045\u003c/td\u003e\n      \u003ctd\u003e0.000070\u003c/td\u003e\n      \u003ctd\u003e1.032911\u003c/td\u003e\n      \u003ctd\u003e1.032958\u003c/td\u003e\n      \u003ctd\u003e870.369956\u003c/td\u003e\n      \u003ctd\u003e176.136925\u003c/td\u003e\n      \u003ctd\u003e2135.579614\u003c/td\u003e\n      \u003ctd\u003e1.668853e+06\u003c/td\u003e\n      \u003ctd\u003e96.974591\u003c/td\u003e\n      \u003ctd\u003e1.655651e+10\u003c/td\u003e\n    \u003c/tr\u003e\n    \u003ctr\u003e\n      \u003cth\u003estd\u003c/th\u003e\n      \u003ctd\u003e15.559589\u003c/td\u003e\n      \u003ctd\u003e4.890230e+05\u003c/td\u003e\n      \u003ctd\u003e3.977145e+04\u003c/td\u003e\n      \u003ctd\u003e4.818193e+05\u003c/td\u003e\n      \u003ctd\u003e522.356336\u003c/td\u003e\n      \u003ctd\u003e1.804031e+05\u003c/td\u003e\n      \u003ctd\u003e4.816931e+05\u003c/td\u003e\n      \u003ctd\u003e0.000181\u003c/td\u003e\n      \u003ctd\u003e0.000213\u003c/td\u003e\n      \u003ctd\u003e0.059715\u003c/td\u003e\n      \u003ctd\u003e0.059718\u003c/td\u003e\n      \u003ctd\u003e8111.305980\u003c/td\u003e\n      \u003ctd\u003e187.226164\u003c/td\u003e\n      \u003ctd\u003e3195.914102\u003c/td\u003e\n      \u003ctd\u003e4.818193e+05\u003c/td\u003e\n      \u003ctd\u003e60.011682\u003c/td\u003e\n      \u003ctd\u003e1.999735e+09\u003c/td\u003e\n    \u003c/tr\u003e\n    \u003ctr\u003e\n      \u003cth\u003emin\u003c/th\u003e\n      \u003ctd\u003e0.000000\u003c/td\u003e\n      \u003ctd\u003e1.429460e+05\u003c/td\u003e\n      \u003ctd\u003e0.000000e+00\u003c/td\u003e\n      \u003ctd\u003e9.991590e+05\u003c/td\u003e\n      \u003ctd\u003e0.000000\u003c/td\u003e\n      \u003ctd\u003e1.016406e+06\u003c/td\u003e\n      \u003ctd\u003e1.000000e+06\u003c/td\u003e\n      \u003ctd\u003e0.000000\u003c/td\u003e\n      \u003ctd\u003e0.000000\u003c/td\u003e\n      \u003ctd\u003e0.999159\u003c/td\u003e\n      \u003ctd\u003e1.000000\u003c/td\u003e\n      \u003ctd\u003e-1080.000000\u003c/td\u003e\n      \u003ctd\u003e1.000000\u003c/td\u003e\n      \u003ctd\u003e1.500000\u003c/td\u003e\n      \u003ctd\u003e9.991590e+05\u003c/td\u003e\n      \u003ctd\u003e1.000000\u003c/td\u003e\n      \u003ctd\u003e1.301479e+10\u003c/td\u003e\n    \u003c/tr\u003e\n    \u003ctr\u003e\n      \u003cth\u003e25%\u003c/th\u003e\n      \u003ctd\u003e10.000000\u003c/td\u003e\n      \u003ctd\u003e1.025004e+06\u003c/td\u003e\n      \u003ctd\u003e0.000000e+00\u003c/td\u003e\n      \u003ctd\u003e1.041076e+06\u003c/td\u003e\n      \u003ctd\u003e0.000000\u003c/td\u003e\n      \u003ctd\u003e1.190737e+06\u003c/td\u003e\n      \u003ctd\u003e1.000000e+06\u003c/td\u003e\n      \u003ctd\u003e0.000000\u003c/td\u003e\n      \u003ctd\u003e0.000000\u003c/td\u003e\n      \u003ctd\u003e1.002456\u003c/td\u003e\n      \u003ctd\u003e1.002456\u003c/td\u003e\n      \u003ctd\u003e0.000000\u003c/td\u003e\n      \u003ctd\u003e55.000000\u003c/td\u003e\n      \u003ctd\u003e273.000000\u003c/td\u003e\n      \u003ctd\u003e1.041076e+06\u003c/td\u003e\n      \u003ctd\u003e42.000000\u003c/td\u003e\n      \u003ctd\u003e1.516683e+10\u003c/td\u003e\n    \u003c/tr\u003e\n    \u003ctr\u003e\n      \u003cth\u003e50%\u003c/th\u003e\n      \u003ctd\u003e21.000000\u003c/td\u003e\n      \u003ctd\u003e2.002005e+06\u003c/td\u003e\n      \u003ctd\u003e0.000000e+00\u003c/td\u003e\n      \u003ctd\u003e2.002538e+06\u003c/td\u003e\n      \u003ctd\u003e0.000000\u003c/td\u003e\n      \u003ctd\u003e1.330975e+06\u003c/td\u003e\n      \u003ctd\u003e2.000000e+06\u003c/td\u003e\n      \u003ctd\u003e0.000000\u003c/td\u003e\n      \u003ctd\u003e0.000000\u003c/td\u003e\n      \u003ctd\u003e1.007267\u003c/td\u003e\n      \u003ctd\u003e1.007267\u003c/td\u003e\n      \u003ctd\u003e0.000000\u003c/td\u003e\n      \u003ctd\u003e121.000000\u003c/td\u003e\n      \u003ctd\u003e1120.500000\u003c/td\u003e\n      \u003ctd\u003e2.002538e+06\u003c/td\u003e\n      \u003ctd\u003e97.000000\u003c/td\u003e\n      \u003ctd\u003e1.737656e+10\u003c/td\u003e\n    \u003c/tr\u003e\n    \u003ctr\u003e\n      \u003cth\u003e75%\u003c/th\u003e\n      \u003ctd\u003e35.000000\u003c/td\u003e\n      \u003ctd\u003e2.013002e+06\u003c/td\u003e\n      \u003ctd\u003e0.000000e+00\u003c/td\u003e\n      \u003ctd\u003e2.013566e+06\u003c/td\u003e\n      \u003ctd\u003e6.000000\u003c/td\u003e\n      \u003ctd\u003e1.528686e+06\u003c/td\u003e\n      \u003ctd\u003e2.000000e+06\u003c/td\u003e\n      \u003ctd\u003e0.000000\u003c/td\u003e\n      \u003ctd\u003e0.000000\u003c/td\u003e\n      \u003ctd\u003e1.046790\u003c/td\u003e\n      \u003ctd\u003e1.046790\u003c/td\u003e\n      \u003ctd\u003e30.000000\u003c/td\u003e\n      \u003ctd\u003e214.000000\u003c/td\u003e\n      \u003ctd\u003e2756.600000\u003c/td\u003e\n      \u003ctd\u003e2.013566e+06\u003c/td\u003e\n      \u003ctd\u003e149.000000\u003c/td\u003e\n      \u003ctd\u003e1.826589e+10\u003c/td\u003e\n    \u003c/tr\u003e\n    \u003ctr\u003e\n      \u003cth\u003emax\u003c/th\u003e\n      \u003ctd\u003e59.000000\u003c/td\u003e\n      \u003ctd\u003e2.479353e+06\u003c/td\u003e\n      \u003ctd\u003e1.947920e+06\u003c/td\u003e\n      \u003ctd\u003e2.479353e+06\u003c/td\u003e\n      \u003ctd\u003e22397.000000\u003c/td\u003e\n      \u003ctd\u003e1.636758e+06\u003c/td\u003e\n      \u003ctd\u003e2.000000e+06\u003c/td\u003e\n      \u003ctd\u003e0.001501\u003c/td\u003e\n      \u003ctd\u003e0.001501\u003c/td\u003e\n      \u003ctd\u003e1.479205\u003c/td\u003e\n      \u003ctd\u003e1.479205\u003c/td\u003e\n      \u003ctd\u003e445000.000000\u003c/td\u003e\n      \u003ctd\u003e1528.000000\u003c/td\u003e\n      \u003ctd\u003e38170.200000\u003c/td\u003e\n      \u003ctd\u003e2.479353e+06\u003c/td\u003e\n      \u003ctd\u003e200.000000\u003c/td\u003e\n      \u003ctd\u003e1.997527e+10\u003c/td\u003e\n    \u003c/tr\u003e\n  \u003c/tbody\u003e\n\u003c/table\u003e\n\u003c/div\u003e"
          },
          "metadata": {},
          "output_type": "execute_result",
          "execution_count": 55
        }
      ],
      "source": "df.describe()",
      "metadata": {
        "pycharm": {
          "metadata": false,
          "name": "#%%\n",
          "is_executing": false
        }
      }
    },
    {
      "cell_type": "code",
      "execution_count": null,
      "outputs": [],
      "source": "\n",
      "metadata": {
        "pycharm": {
          "metadata": false,
          "name": "#%%\n"
        }
      }
    }
  ],
  "metadata": {
    "language_info": {
      "codemirror_mode": {
        "name": "ipython",
        "version": 2
      },
      "file_extension": ".py",
      "mimetype": "text/x-python",
      "name": "python",
      "nbconvert_exporter": "python",
      "pygments_lexer": "ipython2",
      "version": "2.7.6"
    },
    "kernelspec": {
      "name": "pycharm-48846474",
      "language": "python",
      "display_name": "PyCharm (Review\u0026Test)"
    }
  },
  "nbformat": 4,
  "nbformat_minor": 0
}