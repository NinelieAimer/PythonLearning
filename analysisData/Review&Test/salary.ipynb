{
  "cells": [
    {
      "cell_type": "code",
      "execution_count": 3,
      "metadata": {
        "collapsed": true,
        "pycharm": {
          "is_executing": false
        }
      },
      "outputs": [],
      "source": "import statsmodels.api as sm\nimport numpy as np\nimport matplotlib.pyplot as plt\nimport pandas as pd\n%matplotlib inline\nimport seaborn as sns"
    },
    {
      "cell_type": "code",
      "execution_count": 4,
      "outputs": [],
      "source": "df\u003dpd.read_excel(\u0027ceosal1.xls\u0027,header\u003dNone)",
      "metadata": {
        "pycharm": {
          "metadata": false,
          "name": "#%%\n",
          "is_executing": false
        }
      }
    },
    {
      "cell_type": "code",
      "execution_count": 5,
      "outputs": [
        {
          "data": {
            "text/plain": "     0   1        2     3      4    5   6   7   8   9         10         11\n0  1095  20  27595.0  14.1  106.4  191   1   0   0   0  6.998509  10.225390\n1  1001  32   9958.0  10.9  -30.6   13   1   0   0   0  6.908755   9.206132\n2  1122   9   6125.9  23.5  -16.3   14   1   0   0   0  7.022868   8.720281\n3   578  -9  16246.0   5.9  -25.7  -21   1   0   0   0  6.359574   9.695602\n4  1368   7  21783.2  13.8   -3.0   56   1   0   0   0  7.221105   9.988894",
            "text/html": "\u003cdiv\u003e\n\u003cstyle scoped\u003e\n    .dataframe tbody tr th:only-of-type {\n        vertical-align: middle;\n    }\n\n    .dataframe tbody tr th {\n        vertical-align: top;\n    }\n\n    .dataframe thead th {\n        text-align: right;\n    }\n\u003c/style\u003e\n\u003ctable border\u003d\"1\" class\u003d\"dataframe\"\u003e\n  \u003cthead\u003e\n    \u003ctr style\u003d\"text-align: right;\"\u003e\n      \u003cth\u003e\u003c/th\u003e\n      \u003cth\u003e0\u003c/th\u003e\n      \u003cth\u003e1\u003c/th\u003e\n      \u003cth\u003e2\u003c/th\u003e\n      \u003cth\u003e3\u003c/th\u003e\n      \u003cth\u003e4\u003c/th\u003e\n      \u003cth\u003e5\u003c/th\u003e\n      \u003cth\u003e6\u003c/th\u003e\n      \u003cth\u003e7\u003c/th\u003e\n      \u003cth\u003e8\u003c/th\u003e\n      \u003cth\u003e9\u003c/th\u003e\n      \u003cth\u003e10\u003c/th\u003e\n      \u003cth\u003e11\u003c/th\u003e\n    \u003c/tr\u003e\n  \u003c/thead\u003e\n  \u003ctbody\u003e\n    \u003ctr\u003e\n      \u003cth\u003e0\u003c/th\u003e\n      \u003ctd\u003e1095\u003c/td\u003e\n      \u003ctd\u003e20\u003c/td\u003e\n      \u003ctd\u003e27595.0\u003c/td\u003e\n      \u003ctd\u003e14.1\u003c/td\u003e\n      \u003ctd\u003e106.4\u003c/td\u003e\n      \u003ctd\u003e191\u003c/td\u003e\n      \u003ctd\u003e1\u003c/td\u003e\n      \u003ctd\u003e0\u003c/td\u003e\n      \u003ctd\u003e0\u003c/td\u003e\n      \u003ctd\u003e0\u003c/td\u003e\n      \u003ctd\u003e6.998509\u003c/td\u003e\n      \u003ctd\u003e10.225390\u003c/td\u003e\n    \u003c/tr\u003e\n    \u003ctr\u003e\n      \u003cth\u003e1\u003c/th\u003e\n      \u003ctd\u003e1001\u003c/td\u003e\n      \u003ctd\u003e32\u003c/td\u003e\n      \u003ctd\u003e9958.0\u003c/td\u003e\n      \u003ctd\u003e10.9\u003c/td\u003e\n      \u003ctd\u003e-30.6\u003c/td\u003e\n      \u003ctd\u003e13\u003c/td\u003e\n      \u003ctd\u003e1\u003c/td\u003e\n      \u003ctd\u003e0\u003c/td\u003e\n      \u003ctd\u003e0\u003c/td\u003e\n      \u003ctd\u003e0\u003c/td\u003e\n      \u003ctd\u003e6.908755\u003c/td\u003e\n      \u003ctd\u003e9.206132\u003c/td\u003e\n    \u003c/tr\u003e\n    \u003ctr\u003e\n      \u003cth\u003e2\u003c/th\u003e\n      \u003ctd\u003e1122\u003c/td\u003e\n      \u003ctd\u003e9\u003c/td\u003e\n      \u003ctd\u003e6125.9\u003c/td\u003e\n      \u003ctd\u003e23.5\u003c/td\u003e\n      \u003ctd\u003e-16.3\u003c/td\u003e\n      \u003ctd\u003e14\u003c/td\u003e\n      \u003ctd\u003e1\u003c/td\u003e\n      \u003ctd\u003e0\u003c/td\u003e\n      \u003ctd\u003e0\u003c/td\u003e\n      \u003ctd\u003e0\u003c/td\u003e\n      \u003ctd\u003e7.022868\u003c/td\u003e\n      \u003ctd\u003e8.720281\u003c/td\u003e\n    \u003c/tr\u003e\n    \u003ctr\u003e\n      \u003cth\u003e3\u003c/th\u003e\n      \u003ctd\u003e578\u003c/td\u003e\n      \u003ctd\u003e-9\u003c/td\u003e\n      \u003ctd\u003e16246.0\u003c/td\u003e\n      \u003ctd\u003e5.9\u003c/td\u003e\n      \u003ctd\u003e-25.7\u003c/td\u003e\n      \u003ctd\u003e-21\u003c/td\u003e\n      \u003ctd\u003e1\u003c/td\u003e\n      \u003ctd\u003e0\u003c/td\u003e\n      \u003ctd\u003e0\u003c/td\u003e\n      \u003ctd\u003e0\u003c/td\u003e\n      \u003ctd\u003e6.359574\u003c/td\u003e\n      \u003ctd\u003e9.695602\u003c/td\u003e\n    \u003c/tr\u003e\n    \u003ctr\u003e\n      \u003cth\u003e4\u003c/th\u003e\n      \u003ctd\u003e1368\u003c/td\u003e\n      \u003ctd\u003e7\u003c/td\u003e\n      \u003ctd\u003e21783.2\u003c/td\u003e\n      \u003ctd\u003e13.8\u003c/td\u003e\n      \u003ctd\u003e-3.0\u003c/td\u003e\n      \u003ctd\u003e56\u003c/td\u003e\n      \u003ctd\u003e1\u003c/td\u003e\n      \u003ctd\u003e0\u003c/td\u003e\n      \u003ctd\u003e0\u003c/td\u003e\n      \u003ctd\u003e0\u003c/td\u003e\n      \u003ctd\u003e7.221105\u003c/td\u003e\n      \u003ctd\u003e9.988894\u003c/td\u003e\n    \u003c/tr\u003e\n  \u003c/tbody\u003e\n\u003c/table\u003e\n\u003c/div\u003e"
          },
          "metadata": {},
          "output_type": "execute_result",
          "execution_count": 5
        }
      ],
      "source": "df.head()",
      "metadata": {
        "pycharm": {
          "metadata": false,
          "name": "#%%\n",
          "is_executing": false
        }
      }
    },
    {
      "cell_type": "code",
      "execution_count": 6,
      "outputs": [],
      "source": "df.columns\u003d[\u0027salary\u0027,\u0027pcsalary\u0027,\u0027sales\u0027,\u0027roe\u0027,\u0027pcroe\u0027,\u0027ros\u0027,\u0027indus\u0027,\u0027finance\u0027,\u0027consprod\u0027,\u0027utility\u0027,\u0027lsalary\u0027,\u0027lsale\u0027]",
      "metadata": {
        "pycharm": {
          "metadata": false,
          "name": "#%%\n",
          "is_executing": false
        }
      }
    },
    {
      "cell_type": "code",
      "execution_count": 7,
      "outputs": [
        {
          "data": {
            "text/plain": "   salary  pcsalary    sales   roe  pcroe  ros  indus  finance  consprod  \\\n0    1095        20  27595.0  14.1  106.4  191      1        0         0   \n1    1001        32   9958.0  10.9  -30.6   13      1        0         0   \n2    1122         9   6125.9  23.5  -16.3   14      1        0         0   \n3     578        -9  16246.0   5.9  -25.7  -21      1        0         0   \n4    1368         7  21783.2  13.8   -3.0   56      1        0         0   \n\n   utility   lsalary      lsale  \n0        0  6.998509  10.225390  \n1        0  6.908755   9.206132  \n2        0  7.022868   8.720281  \n3        0  6.359574   9.695602  \n4        0  7.221105   9.988894  ",
            "text/html": "\u003cdiv\u003e\n\u003cstyle scoped\u003e\n    .dataframe tbody tr th:only-of-type {\n        vertical-align: middle;\n    }\n\n    .dataframe tbody tr th {\n        vertical-align: top;\n    }\n\n    .dataframe thead th {\n        text-align: right;\n    }\n\u003c/style\u003e\n\u003ctable border\u003d\"1\" class\u003d\"dataframe\"\u003e\n  \u003cthead\u003e\n    \u003ctr style\u003d\"text-align: right;\"\u003e\n      \u003cth\u003e\u003c/th\u003e\n      \u003cth\u003esalary\u003c/th\u003e\n      \u003cth\u003epcsalary\u003c/th\u003e\n      \u003cth\u003esales\u003c/th\u003e\n      \u003cth\u003eroe\u003c/th\u003e\n      \u003cth\u003epcroe\u003c/th\u003e\n      \u003cth\u003eros\u003c/th\u003e\n      \u003cth\u003eindus\u003c/th\u003e\n      \u003cth\u003efinance\u003c/th\u003e\n      \u003cth\u003econsprod\u003c/th\u003e\n      \u003cth\u003eutility\u003c/th\u003e\n      \u003cth\u003elsalary\u003c/th\u003e\n      \u003cth\u003elsale\u003c/th\u003e\n    \u003c/tr\u003e\n  \u003c/thead\u003e\n  \u003ctbody\u003e\n    \u003ctr\u003e\n      \u003cth\u003e0\u003c/th\u003e\n      \u003ctd\u003e1095\u003c/td\u003e\n      \u003ctd\u003e20\u003c/td\u003e\n      \u003ctd\u003e27595.0\u003c/td\u003e\n      \u003ctd\u003e14.1\u003c/td\u003e\n      \u003ctd\u003e106.4\u003c/td\u003e\n      \u003ctd\u003e191\u003c/td\u003e\n      \u003ctd\u003e1\u003c/td\u003e\n      \u003ctd\u003e0\u003c/td\u003e\n      \u003ctd\u003e0\u003c/td\u003e\n      \u003ctd\u003e0\u003c/td\u003e\n      \u003ctd\u003e6.998509\u003c/td\u003e\n      \u003ctd\u003e10.225390\u003c/td\u003e\n    \u003c/tr\u003e\n    \u003ctr\u003e\n      \u003cth\u003e1\u003c/th\u003e\n      \u003ctd\u003e1001\u003c/td\u003e\n      \u003ctd\u003e32\u003c/td\u003e\n      \u003ctd\u003e9958.0\u003c/td\u003e\n      \u003ctd\u003e10.9\u003c/td\u003e\n      \u003ctd\u003e-30.6\u003c/td\u003e\n      \u003ctd\u003e13\u003c/td\u003e\n      \u003ctd\u003e1\u003c/td\u003e\n      \u003ctd\u003e0\u003c/td\u003e\n      \u003ctd\u003e0\u003c/td\u003e\n      \u003ctd\u003e0\u003c/td\u003e\n      \u003ctd\u003e6.908755\u003c/td\u003e\n      \u003ctd\u003e9.206132\u003c/td\u003e\n    \u003c/tr\u003e\n    \u003ctr\u003e\n      \u003cth\u003e2\u003c/th\u003e\n      \u003ctd\u003e1122\u003c/td\u003e\n      \u003ctd\u003e9\u003c/td\u003e\n      \u003ctd\u003e6125.9\u003c/td\u003e\n      \u003ctd\u003e23.5\u003c/td\u003e\n      \u003ctd\u003e-16.3\u003c/td\u003e\n      \u003ctd\u003e14\u003c/td\u003e\n      \u003ctd\u003e1\u003c/td\u003e\n      \u003ctd\u003e0\u003c/td\u003e\n      \u003ctd\u003e0\u003c/td\u003e\n      \u003ctd\u003e0\u003c/td\u003e\n      \u003ctd\u003e7.022868\u003c/td\u003e\n      \u003ctd\u003e8.720281\u003c/td\u003e\n    \u003c/tr\u003e\n    \u003ctr\u003e\n      \u003cth\u003e3\u003c/th\u003e\n      \u003ctd\u003e578\u003c/td\u003e\n      \u003ctd\u003e-9\u003c/td\u003e\n      \u003ctd\u003e16246.0\u003c/td\u003e\n      \u003ctd\u003e5.9\u003c/td\u003e\n      \u003ctd\u003e-25.7\u003c/td\u003e\n      \u003ctd\u003e-21\u003c/td\u003e\n      \u003ctd\u003e1\u003c/td\u003e\n      \u003ctd\u003e0\u003c/td\u003e\n      \u003ctd\u003e0\u003c/td\u003e\n      \u003ctd\u003e0\u003c/td\u003e\n      \u003ctd\u003e6.359574\u003c/td\u003e\n      \u003ctd\u003e9.695602\u003c/td\u003e\n    \u003c/tr\u003e\n    \u003ctr\u003e\n      \u003cth\u003e4\u003c/th\u003e\n      \u003ctd\u003e1368\u003c/td\u003e\n      \u003ctd\u003e7\u003c/td\u003e\n      \u003ctd\u003e21783.2\u003c/td\u003e\n      \u003ctd\u003e13.8\u003c/td\u003e\n      \u003ctd\u003e-3.0\u003c/td\u003e\n      \u003ctd\u003e56\u003c/td\u003e\n      \u003ctd\u003e1\u003c/td\u003e\n      \u003ctd\u003e0\u003c/td\u003e\n      \u003ctd\u003e0\u003c/td\u003e\n      \u003ctd\u003e0\u003c/td\u003e\n      \u003ctd\u003e7.221105\u003c/td\u003e\n      \u003ctd\u003e9.988894\u003c/td\u003e\n    \u003c/tr\u003e\n  \u003c/tbody\u003e\n\u003c/table\u003e\n\u003c/div\u003e"
          },
          "metadata": {},
          "output_type": "execute_result",
          "execution_count": 7
        }
      ],
      "source": "df.head()",
      "metadata": {
        "pycharm": {
          "metadata": false,
          "name": "#%%\n",
          "is_executing": false
        }
      }
    },
    {
      "cell_type": "code",
      "execution_count": 8,
      "outputs": [
        {
          "name": "stderr",
          "text": [
            "D:\\software\\Anaconda\\envs\\data\\lib\\site-packages\\numpy\\core\\fromnumeric.py:2389: FutureWarning: Method .ptp is deprecated and will be removed in a future version. Use numpy.ptp instead.\n  return ptp(axis\u003daxis, out\u003dout, **kwargs)\n"
          ],
          "output_type": "stream"
        }
      ],
      "source": "x\u003ddf[\u0027roe\u0027]\ny\u003ddf[\u0027salary\u0027]\n\nX\u003dsm.add_constant(x)\nmodel\u003dsm.OLS(y,X).fit()",
      "metadata": {
        "pycharm": {
          "metadata": false,
          "name": "#%%\n",
          "is_executing": false
        }
      }
    },
    {
      "cell_type": "code",
      "execution_count": 9,
      "outputs": [
        {
          "data": {
            "text/plain": "\u003cclass \u0027statsmodels.iolib.summary.Summary\u0027\u003e\n\"\"\"\n                            OLS Regression Results                            \n\u003d\u003d\u003d\u003d\u003d\u003d\u003d\u003d\u003d\u003d\u003d\u003d\u003d\u003d\u003d\u003d\u003d\u003d\u003d\u003d\u003d\u003d\u003d\u003d\u003d\u003d\u003d\u003d\u003d\u003d\u003d\u003d\u003d\u003d\u003d\u003d\u003d\u003d\u003d\u003d\u003d\u003d\u003d\u003d\u003d\u003d\u003d\u003d\u003d\u003d\u003d\u003d\u003d\u003d\u003d\u003d\u003d\u003d\u003d\u003d\u003d\u003d\u003d\u003d\u003d\u003d\u003d\u003d\u003d\u003d\u003d\u003d\u003d\u003d\u003d\u003d\u003d\u003d\nDep. Variable:                 salary   R-squared:                       0.013\nModel:                            OLS   Adj. R-squared:                  0.008\nMethod:                 Least Squares   F-statistic:                     2.767\nDate:                Thu, 19 Sep 2019   Prob (F-statistic):             0.0978\nTime:                        22:07:54   Log-Likelihood:                -1804.5\nNo. Observations:                 209   AIC:                             3613.\nDf Residuals:                     207   BIC:                             3620.\nDf Model:                           1                                         \nCovariance Type:            nonrobust                                         \n\u003d\u003d\u003d\u003d\u003d\u003d\u003d\u003d\u003d\u003d\u003d\u003d\u003d\u003d\u003d\u003d\u003d\u003d\u003d\u003d\u003d\u003d\u003d\u003d\u003d\u003d\u003d\u003d\u003d\u003d\u003d\u003d\u003d\u003d\u003d\u003d\u003d\u003d\u003d\u003d\u003d\u003d\u003d\u003d\u003d\u003d\u003d\u003d\u003d\u003d\u003d\u003d\u003d\u003d\u003d\u003d\u003d\u003d\u003d\u003d\u003d\u003d\u003d\u003d\u003d\u003d\u003d\u003d\u003d\u003d\u003d\u003d\u003d\u003d\u003d\u003d\u003d\u003d\n                 coef    std err          t      P\u003e|t|      [0.025      0.975]\n------------------------------------------------------------------------------\nconst        963.1913    213.240      4.517      0.000     542.790    1383.592\nroe           18.5012     11.123      1.663      0.098      -3.428      40.431\n\u003d\u003d\u003d\u003d\u003d\u003d\u003d\u003d\u003d\u003d\u003d\u003d\u003d\u003d\u003d\u003d\u003d\u003d\u003d\u003d\u003d\u003d\u003d\u003d\u003d\u003d\u003d\u003d\u003d\u003d\u003d\u003d\u003d\u003d\u003d\u003d\u003d\u003d\u003d\u003d\u003d\u003d\u003d\u003d\u003d\u003d\u003d\u003d\u003d\u003d\u003d\u003d\u003d\u003d\u003d\u003d\u003d\u003d\u003d\u003d\u003d\u003d\u003d\u003d\u003d\u003d\u003d\u003d\u003d\u003d\u003d\u003d\u003d\u003d\u003d\u003d\u003d\u003d\nOmnibus:                      311.096   Durbin-Watson:                   2.105\nProb(Omnibus):                  0.000   Jarque-Bera (JB):            31120.901\nSkew:                           6.915   Prob(JB):                         0.00\nKurtosis:                      61.158   Cond. No.                         43.3\n\u003d\u003d\u003d\u003d\u003d\u003d\u003d\u003d\u003d\u003d\u003d\u003d\u003d\u003d\u003d\u003d\u003d\u003d\u003d\u003d\u003d\u003d\u003d\u003d\u003d\u003d\u003d\u003d\u003d\u003d\u003d\u003d\u003d\u003d\u003d\u003d\u003d\u003d\u003d\u003d\u003d\u003d\u003d\u003d\u003d\u003d\u003d\u003d\u003d\u003d\u003d\u003d\u003d\u003d\u003d\u003d\u003d\u003d\u003d\u003d\u003d\u003d\u003d\u003d\u003d\u003d\u003d\u003d\u003d\u003d\u003d\u003d\u003d\u003d\u003d\u003d\u003d\u003d\n\nWarnings:\n[1] Standard Errors assume that the covariance matrix of the errors is correctly specified.\n\"\"\"",
            "text/html": "\u003ctable class\u003d\"simpletable\"\u003e\n\u003ccaption\u003eOLS Regression Results\u003c/caption\u003e\n\u003ctr\u003e\n  \u003cth\u003eDep. Variable:\u003c/th\u003e         \u003ctd\u003esalary\u003c/td\u003e      \u003cth\u003e  R-squared:         \u003c/th\u003e \u003ctd\u003e   0.013\u003c/td\u003e\n\u003c/tr\u003e\n\u003ctr\u003e\n  \u003cth\u003eModel:\u003c/th\u003e                   \u003ctd\u003eOLS\u003c/td\u003e       \u003cth\u003e  Adj. R-squared:    \u003c/th\u003e \u003ctd\u003e   0.008\u003c/td\u003e\n\u003c/tr\u003e\n\u003ctr\u003e\n  \u003cth\u003eMethod:\u003c/th\u003e             \u003ctd\u003eLeast Squares\u003c/td\u003e  \u003cth\u003e  F-statistic:       \u003c/th\u003e \u003ctd\u003e   2.767\u003c/td\u003e\n\u003c/tr\u003e\n\u003ctr\u003e\n  \u003cth\u003eDate:\u003c/th\u003e             \u003ctd\u003eThu, 19 Sep 2019\u003c/td\u003e \u003cth\u003e  Prob (F-statistic):\u003c/th\u003e  \u003ctd\u003e0.0978\u003c/td\u003e \n\u003c/tr\u003e\n\u003ctr\u003e\n  \u003cth\u003eTime:\u003c/th\u003e                 \u003ctd\u003e22:07:54\u003c/td\u003e     \u003cth\u003e  Log-Likelihood:    \u003c/th\u003e \u003ctd\u003e -1804.5\u003c/td\u003e\n\u003c/tr\u003e\n\u003ctr\u003e\n  \u003cth\u003eNo. Observations:\u003c/th\u003e      \u003ctd\u003e   209\u003c/td\u003e      \u003cth\u003e  AIC:               \u003c/th\u003e \u003ctd\u003e   3613.\u003c/td\u003e\n\u003c/tr\u003e\n\u003ctr\u003e\n  \u003cth\u003eDf Residuals:\u003c/th\u003e          \u003ctd\u003e   207\u003c/td\u003e      \u003cth\u003e  BIC:               \u003c/th\u003e \u003ctd\u003e   3620.\u003c/td\u003e\n\u003c/tr\u003e\n\u003ctr\u003e\n  \u003cth\u003eDf Model:\u003c/th\u003e              \u003ctd\u003e     1\u003c/td\u003e      \u003cth\u003e                     \u003c/th\u003e     \u003ctd\u003e \u003c/td\u003e   \n\u003c/tr\u003e\n\u003ctr\u003e\n  \u003cth\u003eCovariance Type:\u003c/th\u003e      \u003ctd\u003enonrobust\u003c/td\u003e    \u003cth\u003e                     \u003c/th\u003e     \u003ctd\u003e \u003c/td\u003e   \n\u003c/tr\u003e\n\u003c/table\u003e\n\u003ctable class\u003d\"simpletable\"\u003e\n\u003ctr\u003e\n    \u003ctd\u003e\u003c/td\u003e       \u003cth\u003ecoef\u003c/th\u003e     \u003cth\u003estd err\u003c/th\u003e      \u003cth\u003et\u003c/th\u003e      \u003cth\u003eP\u003e|t|\u003c/th\u003e  \u003cth\u003e[0.025\u003c/th\u003e    \u003cth\u003e0.975]\u003c/th\u003e  \n\u003c/tr\u003e\n\u003ctr\u003e\n  \u003cth\u003econst\u003c/th\u003e \u003ctd\u003e  963.1913\u003c/td\u003e \u003ctd\u003e  213.240\u003c/td\u003e \u003ctd\u003e    4.517\u003c/td\u003e \u003ctd\u003e 0.000\u003c/td\u003e \u003ctd\u003e  542.790\u003c/td\u003e \u003ctd\u003e 1383.592\u003c/td\u003e\n\u003c/tr\u003e\n\u003ctr\u003e\n  \u003cth\u003eroe\u003c/th\u003e   \u003ctd\u003e   18.5012\u003c/td\u003e \u003ctd\u003e   11.123\u003c/td\u003e \u003ctd\u003e    1.663\u003c/td\u003e \u003ctd\u003e 0.098\u003c/td\u003e \u003ctd\u003e   -3.428\u003c/td\u003e \u003ctd\u003e   40.431\u003c/td\u003e\n\u003c/tr\u003e\n\u003c/table\u003e\n\u003ctable class\u003d\"simpletable\"\u003e\n\u003ctr\u003e\n  \u003cth\u003eOmnibus:\u003c/th\u003e       \u003ctd\u003e311.096\u003c/td\u003e \u003cth\u003e  Durbin-Watson:     \u003c/th\u003e \u003ctd\u003e   2.105\u003c/td\u003e \n\u003c/tr\u003e\n\u003ctr\u003e\n  \u003cth\u003eProb(Omnibus):\u003c/th\u003e \u003ctd\u003e 0.000\u003c/td\u003e  \u003cth\u003e  Jarque-Bera (JB):  \u003c/th\u003e \u003ctd\u003e31120.901\u003c/td\u003e\n\u003c/tr\u003e\n\u003ctr\u003e\n  \u003cth\u003eSkew:\u003c/th\u003e          \u003ctd\u003e 6.915\u003c/td\u003e  \u003cth\u003e  Prob(JB):          \u003c/th\u003e \u003ctd\u003e    0.00\u003c/td\u003e \n\u003c/tr\u003e\n\u003ctr\u003e\n  \u003cth\u003eKurtosis:\u003c/th\u003e      \u003ctd\u003e61.158\u003c/td\u003e  \u003cth\u003e  Cond. No.          \u003c/th\u003e \u003ctd\u003e    43.3\u003c/td\u003e \n\u003c/tr\u003e\n\u003c/table\u003e\u003cbr/\u003e\u003cbr/\u003eWarnings:\u003cbr/\u003e[1] Standard Errors assume that the covariance matrix of the errors is correctly specified."
          },
          "metadata": {},
          "output_type": "execute_result",
          "execution_count": 9
        }
      ],
      "source": "model.summary()",
      "metadata": {
        "pycharm": {
          "metadata": false,
          "name": "#%%\n",
          "is_executing": false
        }
      }
    },
    {
      "cell_type": "code",
      "execution_count": 10,
      "outputs": [],
      "source": "SSR\u003dmodel.ssr",
      "metadata": {
        "pycharm": {
          "metadata": false,
          "name": "#%%\n",
          "is_executing": false
        }
      }
    },
    {
      "cell_type": "code",
      "execution_count": 11,
      "outputs": [],
      "source": "SSE\u003dmodel.ess",
      "metadata": {
        "pycharm": {
          "metadata": false,
          "name": "#%%\n",
          "is_executing": false
        }
      }
    },
    {
      "cell_type": "code",
      "execution_count": 12,
      "outputs": [],
      "source": "SST\u003dmodel.centered_tss",
      "metadata": {
        "pycharm": {
          "metadata": false,
          "name": "#%%\n",
          "is_executing": false
        }
      }
    },
    {
      "cell_type": "code",
      "execution_count": 13,
      "outputs": [
        {
          "data": {
            "text/plain": "True"
          },
          "metadata": {},
          "output_type": "execute_result",
          "execution_count": 13
        }
      ],
      "source": "SSR+SSE\u003d\u003dSST",
      "metadata": {
        "pycharm": {
          "metadata": false,
          "name": "#%%\n",
          "is_executing": false
        }
      }
    },
    {
      "cell_type": "code",
      "execution_count": 18,
      "outputs": [
        {
          "data": {
            "text/plain": "-2.349890617020963e-13"
          },
          "metadata": {},
          "output_type": "execute_result",
          "execution_count": 18
        }
      ],
      "source": "model.resid.mean()",
      "metadata": {
        "pycharm": {
          "metadata": false,
          "name": "#%%\n",
          "is_executing": false
        }
      }
    },
    {
      "cell_type": "code",
      "execution_count": 15,
      "outputs": [
        {
          "data": {
            "text/plain": "1867471.3173068557"
          },
          "metadata": {},
          "output_type": "execute_result",
          "execution_count": 15
        }
      ],
      "source": "model.mse_resid",
      "metadata": {
        "pycharm": {
          "metadata": false,
          "name": "#%%\n",
          "is_executing": false
        }
      }
    },
    {
      "cell_type": "code",
      "execution_count": 16,
      "outputs": [
        {
          "data": {
            "text/plain": "1867471.3173068557"
          },
          "metadata": {},
          "output_type": "execute_result",
          "execution_count": 16
        }
      ],
      "source": "SSR/207",
      "metadata": {
        "pycharm": {
          "metadata": false,
          "name": "#%%\n",
          "is_executing": false
        }
      }
    },
    {
      "cell_type": "code",
      "execution_count": 22,
      "outputs": [
        {
          "data": {
            "text/plain": "[\u003cmatplotlib.lines.Line2D at 0x1b7963d1da0\u003e]"
          },
          "metadata": {},
          "output_type": "execute_result",
          "execution_count": 22
        },
        {
          "data": {
            "text/plain": "\u003cFigure size 432x288 with 1 Axes\u003e",
            "image/png": "[encoded data removed]"
          },
          "metadata": {
            "needs_background": "light"
          },
          "output_type": "display_data"
        }
      ],
      "source": "plt.plot(model.resid,\u0027o\u0027)",
      "metadata": {
        "pycharm": {
          "metadata": false,
          "name": "#%%\n",
          "is_executing": false
        }
      }
    },
    {
      "cell_type": "code",
      "execution_count": 23,
      "outputs": [
        {
          "data": {
            "text/plain": "\u003cmatplotlib.axes._subplots.AxesSubplot at 0x1b796402438\u003e"
          },
          "metadata": {},
          "output_type": "execute_result",
          "execution_count": 23
        },
        {
          "data": {
            "text/plain": "\u003cFigure size 432x288 with 1 Axes\u003e",
            "image/png": "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\u003d\n"
          },
          "metadata": {
            "needs_background": "light"
          },
          "output_type": "display_data"
        }
      ],
      "source": "sns.distplot(model.resid)",
      "metadata": {
        "pycharm": {
          "metadata": false,
          "name": "#%%\n",
          "is_executing": false
        }
      }
    },
    {
      "cell_type": "code",
      "execution_count": null,
      "outputs": [],
      "source": "\n",
      "metadata": {
        "pycharm": {
          "metadata": false,
          "name": "#%%\n"
        }
      }
    }
  ],
  "metadata": {
    "language_info": {
      "codemirror_mode": {
        "name": "ipython",
        "version": 2
      },
      "file_extension": ".py",
      "mimetype": "text/x-python",
      "name": "python",
      "nbconvert_exporter": "python",
      "pygments_lexer": "ipython2",
      "version": "2.7.6"
    },
    "kernelspec": {
      "name": "pycharm-48846474",
      "language": "python",
      "display_name": "PyCharm (Review\u0026Test)"
    }
  },
  "nbformat": 4,
  "nbformat_minor": 0
}