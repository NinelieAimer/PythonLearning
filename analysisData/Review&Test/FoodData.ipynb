{
  "cells": [
    {
      "cell_type": "code",
      "execution_count": 3,
      "metadata": {
        "collapsed": true,
        "pycharm": {
          "is_executing": false
        }
      },
      "outputs": [],
      "source": "import pandas as pd\nimport numpy as np\nimport matplotlib.pyplot as plt\n%matplotlib inline\nimport json"
    },
    {
      "cell_type": "code",
      "execution_count": 6,
      "outputs": [],
      "source": "db\u003djson.load(open(r\u0027Review\u0026Test/pydata-book/datasets/usda_food/database.json\u0027))\n",
      "metadata": {
        "pycharm": {
          "metadata": false,
          "name": "#%%\n",
          "is_executing": false
        }
      }
    },
    {
      "cell_type": "code",
      "execution_count": 7,
      "outputs": [
        {
          "data": {
            "text/plain": "6636"
          },
          "metadata": {},
          "output_type": "execute_result",
          "execution_count": 7
        }
      ],
      "source": "len(db)",
      "metadata": {
        "pycharm": {
          "metadata": false,
          "name": "#%%\n",
          "is_executing": false
        }
      }
    },
    {
      "cell_type": "code",
      "execution_count": 8,
      "outputs": [
        {
          "data": {
            "text/plain": "{\u0027id\u0027: 1008,\n \u0027description\u0027: \u0027Cheese, caraway\u0027,\n \u0027tags\u0027: [],\n \u0027manufacturer\u0027: \u0027\u0027,\n \u0027group\u0027: \u0027Dairy and Egg Products\u0027,\n \u0027portions\u0027: [{\u0027amount\u0027: 1, \u0027unit\u0027: \u0027oz\u0027, \u0027grams\u0027: 28.35}],\n \u0027nutrients\u0027: [{\u0027value\u0027: 25.18,\n   \u0027units\u0027: \u0027g\u0027,\n   \u0027description\u0027: \u0027Protein\u0027,\n   \u0027group\u0027: \u0027Composition\u0027},\n  {\u0027value\u0027: 29.2,\n   \u0027units\u0027: \u0027g\u0027,\n   \u0027description\u0027: \u0027Total lipid (fat)\u0027,\n   \u0027group\u0027: \u0027Composition\u0027},\n  {\u0027value\u0027: 3.06,\n   \u0027units\u0027: \u0027g\u0027,\n   \u0027description\u0027: \u0027Carbohydrate, by difference\u0027,\n   \u0027group\u0027: \u0027Composition\u0027},\n  {\u0027value\u0027: 3.28, \u0027units\u0027: \u0027g\u0027, \u0027description\u0027: \u0027Ash\u0027, \u0027group\u0027: \u0027Other\u0027},\n  {\u0027value\u0027: 376.0,\n   \u0027units\u0027: \u0027kcal\u0027,\n   \u0027description\u0027: \u0027Energy\u0027,\n   \u0027group\u0027: \u0027Energy\u0027},\n  {\u0027value\u0027: 39.28,\n   \u0027units\u0027: \u0027g\u0027,\n   \u0027description\u0027: \u0027Water\u0027,\n   \u0027group\u0027: \u0027Composition\u0027},\n  {\u0027value\u0027: 1573.0, \u0027units\u0027: \u0027kJ\u0027, \u0027description\u0027: \u0027Energy\u0027, \u0027group\u0027: \u0027Energy\u0027},\n  {\u0027value\u0027: 0.0,\n   \u0027units\u0027: \u0027g\u0027,\n   \u0027description\u0027: \u0027Fiber, total dietary\u0027,\n   \u0027group\u0027: \u0027Composition\u0027},\n  {\u0027value\u0027: 673.0,\n   \u0027units\u0027: \u0027mg\u0027,\n   \u0027description\u0027: \u0027Calcium, Ca\u0027,\n   \u0027group\u0027: \u0027Elements\u0027},\n  {\u0027value\u0027: 0.64,\n   \u0027units\u0027: \u0027mg\u0027,\n   \u0027description\u0027: \u0027Iron, Fe\u0027,\n   \u0027group\u0027: \u0027Elements\u0027},\n  {\u0027value\u0027: 22.0,\n   \u0027units\u0027: \u0027mg\u0027,\n   \u0027description\u0027: \u0027Magnesium, Mg\u0027,\n   \u0027group\u0027: \u0027Elements\u0027},\n  {\u0027value\u0027: 490.0,\n   \u0027units\u0027: \u0027mg\u0027,\n   \u0027description\u0027: \u0027Phosphorus, P\u0027,\n   \u0027group\u0027: \u0027Elements\u0027},\n  {\u0027value\u0027: 93.0,\n   \u0027units\u0027: \u0027mg\u0027,\n   \u0027description\u0027: \u0027Potassium, K\u0027,\n   \u0027group\u0027: \u0027Elements\u0027},\n  {\u0027value\u0027: 690.0,\n   \u0027units\u0027: \u0027mg\u0027,\n   \u0027description\u0027: \u0027Sodium, Na\u0027,\n   \u0027group\u0027: \u0027Elements\u0027},\n  {\u0027value\u0027: 2.94,\n   \u0027units\u0027: \u0027mg\u0027,\n   \u0027description\u0027: \u0027Zinc, Zn\u0027,\n   \u0027group\u0027: \u0027Elements\u0027},\n  {\u0027value\u0027: 0.024,\n   \u0027units\u0027: \u0027mg\u0027,\n   \u0027description\u0027: \u0027Copper, Cu\u0027,\n   \u0027group\u0027: \u0027Elements\u0027},\n  {\u0027value\u0027: 0.021,\n   \u0027units\u0027: \u0027mg\u0027,\n   \u0027description\u0027: \u0027Manganese, Mn\u0027,\n   \u0027group\u0027: \u0027Elements\u0027},\n  {\u0027value\u0027: 14.5,\n   \u0027units\u0027: \u0027mcg\u0027,\n   \u0027description\u0027: \u0027Selenium, Se\u0027,\n   \u0027group\u0027: \u0027Elements\u0027},\n  {\u0027value\u0027: 1054.0,\n   \u0027units\u0027: \u0027IU\u0027,\n   \u0027description\u0027: \u0027Vitamin A, IU\u0027,\n   \u0027group\u0027: \u0027Vitamins\u0027},\n  {\u0027value\u0027: 262.0,\n   \u0027units\u0027: \u0027mcg\u0027,\n   \u0027description\u0027: \u0027Retinol\u0027,\n   \u0027group\u0027: \u0027Vitamins\u0027},\n  {\u0027value\u0027: 271.0,\n   \u0027units\u0027: \u0027mcg_RAE\u0027,\n   \u0027description\u0027: \u0027Vitamin A, RAE\u0027,\n   \u0027group\u0027: \u0027Vitamins\u0027},\n  {\u0027value\u0027: 0.0,\n   \u0027units\u0027: \u0027mg\u0027,\n   \u0027description\u0027: \u0027Vitamin C, total ascorbic acid\u0027,\n   \u0027group\u0027: \u0027Vitamins\u0027},\n  {\u0027value\u0027: 0.031,\n   \u0027units\u0027: \u0027mg\u0027,\n   \u0027description\u0027: \u0027Thiamin\u0027,\n   \u0027group\u0027: \u0027Vitamins\u0027},\n  {\u0027value\u0027: 0.45,\n   \u0027units\u0027: \u0027mg\u0027,\n   \u0027description\u0027: \u0027Riboflavin\u0027,\n   \u0027group\u0027: \u0027Vitamins\u0027},\n  {\u0027value\u0027: 0.18, \u0027units\u0027: \u0027mg\u0027, \u0027description\u0027: \u0027Niacin\u0027, \u0027group\u0027: \u0027Vitamins\u0027},\n  {\u0027value\u0027: 0.19,\n   \u0027units\u0027: \u0027mg\u0027,\n   \u0027description\u0027: \u0027Pantothenic acid\u0027,\n   \u0027group\u0027: \u0027Vitamins\u0027},\n  {\u0027value\u0027: 0.074,\n   \u0027units\u0027: \u0027mg\u0027,\n   \u0027description\u0027: \u0027Vitamin B-6\u0027,\n   \u0027group\u0027: \u0027Vitamins\u0027},\n  {\u0027value\u0027: 18.0,\n   \u0027units\u0027: \u0027mcg\u0027,\n   \u0027description\u0027: \u0027Folate, total\u0027,\n   \u0027group\u0027: \u0027Vitamins\u0027},\n  {\u0027value\u0027: 0.27,\n   \u0027units\u0027: \u0027mcg\u0027,\n   \u0027description\u0027: \u0027Vitamin B-12\u0027,\n   \u0027group\u0027: \u0027Vitamins\u0027},\n  {\u0027value\u0027: 0.0,\n   \u0027units\u0027: \u0027mcg\u0027,\n   \u0027description\u0027: \u0027Folic acid\u0027,\n   \u0027group\u0027: \u0027Vitamins\u0027},\n  {\u0027value\u0027: 18.0,\n   \u0027units\u0027: \u0027mcg\u0027,\n   \u0027description\u0027: \u0027Folate, food\u0027,\n   \u0027group\u0027: \u0027Vitamins\u0027},\n  {\u0027value\u0027: 18.0,\n   \u0027units\u0027: \u0027mcg_DFE\u0027,\n   \u0027description\u0027: \u0027Folate, DFE\u0027,\n   \u0027group\u0027: \u0027Vitamins\u0027},\n  {\u0027value\u0027: 93.0,\n   \u0027units\u0027: \u0027mg\u0027,\n   \u0027description\u0027: \u0027Cholesterol\u0027,\n   \u0027group\u0027: \u0027Other\u0027},\n  {\u0027value\u0027: 18.584,\n   \u0027units\u0027: \u0027g\u0027,\n   \u0027description\u0027: \u0027Fatty acids, total saturated\u0027,\n   \u0027group\u0027: \u0027Other\u0027},\n  {\u0027value\u0027: 8.275,\n   \u0027units\u0027: \u0027g\u0027,\n   \u0027description\u0027: \u0027Fatty acids, total monounsaturated\u0027,\n   \u0027group\u0027: \u0027Other\u0027},\n  {\u0027value\u0027: 0.83,\n   \u0027units\u0027: \u0027g\u0027,\n   \u0027description\u0027: \u0027Fatty acids, total polyunsaturated\u0027,\n   \u0027group\u0027: \u0027Other\u0027},\n  {\u0027value\u0027: 0.324,\n   \u0027units\u0027: \u0027g\u0027,\n   \u0027description\u0027: \u0027Tryptophan\u0027,\n   \u0027group\u0027: \u0027Amino Acids\u0027},\n  {\u0027value\u0027: 0.896,\n   \u0027units\u0027: \u0027g\u0027,\n   \u0027description\u0027: \u0027Threonine\u0027,\n   \u0027group\u0027: \u0027Amino Acids\u0027},\n  {\u0027value\u0027: 1.563,\n   \u0027units\u0027: \u0027g\u0027,\n   \u0027description\u0027: \u0027Isoleucine\u0027,\n   \u0027group\u0027: \u0027Amino Acids\u0027},\n  {\u0027value\u0027: 2.412,\n   \u0027units\u0027: \u0027g\u0027,\n   \u0027description\u0027: \u0027Leucine\u0027,\n   \u0027group\u0027: \u0027Amino Acids\u0027},\n  {\u0027value\u0027: 2.095,\n   \u0027units\u0027: \u0027g\u0027,\n   \u0027description\u0027: \u0027Lysine\u0027,\n   \u0027group\u0027: \u0027Amino Acids\u0027},\n  {\u0027value\u0027: 0.659,\n   \u0027units\u0027: \u0027g\u0027,\n   \u0027description\u0027: \u0027Methionine\u0027,\n   \u0027group\u0027: \u0027Amino Acids\u0027},\n  {\u0027value\u0027: 0.126,\n   \u0027units\u0027: \u0027g\u0027,\n   \u0027description\u0027: \u0027Cystine\u0027,\n   \u0027group\u0027: \u0027Amino Acids\u0027},\n  {\u0027value\u0027: 1.326,\n   \u0027units\u0027: \u0027g\u0027,\n   \u0027description\u0027: \u0027Phenylalanine\u0027,\n   \u0027group\u0027: \u0027Amino Acids\u0027},\n  {\u0027value\u0027: 1.216,\n   \u0027units\u0027: \u0027g\u0027,\n   \u0027description\u0027: \u0027Tyrosine\u0027,\n   \u0027group\u0027: \u0027Amino Acids\u0027},\n  {\u0027value\u0027: 1.682,\n   \u0027units\u0027: \u0027g\u0027,\n   \u0027description\u0027: \u0027Valine\u0027,\n   \u0027group\u0027: \u0027Amino Acids\u0027},\n  {\u0027value\u0027: 0.952,\n   \u0027units\u0027: \u0027g\u0027,\n   \u0027description\u0027: \u0027Arginine\u0027,\n   \u0027group\u0027: \u0027Amino Acids\u0027},\n  {\u0027value\u0027: 0.884,\n   \u0027units\u0027: \u0027g\u0027,\n   \u0027description\u0027: \u0027Histidine\u0027,\n   \u0027group\u0027: \u0027Amino Acids\u0027},\n  {\u0027value\u0027: 0.711,\n   \u0027units\u0027: \u0027g\u0027,\n   \u0027description\u0027: \u0027Alanine\u0027,\n   \u0027group\u0027: \u0027Amino Acids\u0027},\n  {\u0027value\u0027: 1.618,\n   \u0027units\u0027: \u0027g\u0027,\n   \u0027description\u0027: \u0027Aspartic acid\u0027,\n   \u0027group\u0027: \u0027Amino Acids\u0027},\n  {\u0027value\u0027: 6.16,\n   \u0027units\u0027: \u0027g\u0027,\n   \u0027description\u0027: \u0027Glutamic acid\u0027,\n   \u0027group\u0027: \u0027Amino Acids\u0027},\n  {\u0027value\u0027: 0.439,\n   \u0027units\u0027: \u0027g\u0027,\n   \u0027description\u0027: \u0027Glycine\u0027,\n   \u0027group\u0027: \u0027Amino Acids\u0027},\n  {\u0027value\u0027: 2.838,\n   \u0027units\u0027: \u0027g\u0027,\n   \u0027description\u0027: \u0027Proline\u0027,\n   \u0027group\u0027: \u0027Amino Acids\u0027},\n  {\u0027value\u0027: 1.472,\n   \u0027units\u0027: \u0027g\u0027,\n   \u0027description\u0027: \u0027Serine\u0027,\n   \u0027group\u0027: \u0027Amino Acids\u0027},\n  {\u0027value\u0027: 25.18,\n   \u0027units\u0027: \u0027g\u0027,\n   \u0027description\u0027: \u0027Protein\u0027,\n   \u0027group\u0027: \u0027Composition\u0027},\n  {\u0027value\u0027: 29.2,\n   \u0027units\u0027: \u0027g\u0027,\n   \u0027description\u0027: \u0027Total lipid (fat)\u0027,\n   \u0027group\u0027: \u0027Composition\u0027},\n  {\u0027value\u0027: 3.06,\n   \u0027units\u0027: \u0027g\u0027,\n   \u0027description\u0027: \u0027Carbohydrate, by difference\u0027,\n   \u0027group\u0027: \u0027Composition\u0027},\n  {\u0027value\u0027: 3.28, \u0027units\u0027: \u0027g\u0027, \u0027description\u0027: \u0027Ash\u0027, \u0027group\u0027: \u0027Other\u0027},\n  {\u0027value\u0027: 376.0,\n   \u0027units\u0027: \u0027kcal\u0027,\n   \u0027description\u0027: \u0027Energy\u0027,\n   \u0027group\u0027: \u0027Energy\u0027},\n  {\u0027value\u0027: 39.28,\n   \u0027units\u0027: \u0027g\u0027,\n   \u0027description\u0027: \u0027Water\u0027,\n   \u0027group\u0027: \u0027Composition\u0027},\n  {\u0027value\u0027: 1573.0, \u0027units\u0027: \u0027kJ\u0027, \u0027description\u0027: \u0027Energy\u0027, \u0027group\u0027: \u0027Energy\u0027},\n  {\u0027value\u0027: 0.0,\n   \u0027units\u0027: \u0027g\u0027,\n   \u0027description\u0027: \u0027Fiber, total dietary\u0027,\n   \u0027group\u0027: \u0027Composition\u0027},\n  {\u0027value\u0027: 673.0,\n   \u0027units\u0027: \u0027mg\u0027,\n   \u0027description\u0027: \u0027Calcium, Ca\u0027,\n   \u0027group\u0027: \u0027Elements\u0027},\n  {\u0027value\u0027: 0.64,\n   \u0027units\u0027: \u0027mg\u0027,\n   \u0027description\u0027: \u0027Iron, Fe\u0027,\n   \u0027group\u0027: \u0027Elements\u0027},\n  {\u0027value\u0027: 22.0,\n   \u0027units\u0027: \u0027mg\u0027,\n   \u0027description\u0027: \u0027Magnesium, Mg\u0027,\n   \u0027group\u0027: \u0027Elements\u0027},\n  {\u0027value\u0027: 490.0,\n   \u0027units\u0027: \u0027mg\u0027,\n   \u0027description\u0027: \u0027Phosphorus, P\u0027,\n   \u0027group\u0027: \u0027Elements\u0027},\n  {\u0027value\u0027: 93.0,\n   \u0027units\u0027: \u0027mg\u0027,\n   \u0027description\u0027: \u0027Potassium, K\u0027,\n   \u0027group\u0027: \u0027Elements\u0027},\n  {\u0027value\u0027: 690.0,\n   \u0027units\u0027: \u0027mg\u0027,\n   \u0027description\u0027: \u0027Sodium, Na\u0027,\n   \u0027group\u0027: \u0027Elements\u0027},\n  {\u0027value\u0027: 2.94,\n   \u0027units\u0027: \u0027mg\u0027,\n   \u0027description\u0027: \u0027Zinc, Zn\u0027,\n   \u0027group\u0027: \u0027Elements\u0027},\n  {\u0027value\u0027: 0.024,\n   \u0027units\u0027: \u0027mg\u0027,\n   \u0027description\u0027: \u0027Copper, Cu\u0027,\n   \u0027group\u0027: \u0027Elements\u0027},\n  {\u0027value\u0027: 0.021,\n   \u0027units\u0027: \u0027mg\u0027,\n   \u0027description\u0027: \u0027Manganese, Mn\u0027,\n   \u0027group\u0027: \u0027Elements\u0027},\n  {\u0027value\u0027: 14.5,\n   \u0027units\u0027: \u0027mcg\u0027,\n   \u0027description\u0027: \u0027Selenium, Se\u0027,\n   \u0027group\u0027: \u0027Elements\u0027},\n  {\u0027value\u0027: 1054.0,\n   \u0027units\u0027: \u0027IU\u0027,\n   \u0027description\u0027: \u0027Vitamin A, IU\u0027,\n   \u0027group\u0027: \u0027Vitamins\u0027},\n  {\u0027value\u0027: 262.0,\n   \u0027units\u0027: \u0027mcg\u0027,\n   \u0027description\u0027: \u0027Retinol\u0027,\n   \u0027group\u0027: \u0027Vitamins\u0027},\n  {\u0027value\u0027: 271.0,\n   \u0027units\u0027: \u0027mcg_RAE\u0027,\n   \u0027description\u0027: \u0027Vitamin A, RAE\u0027,\n   \u0027group\u0027: \u0027Vitamins\u0027},\n  {\u0027value\u0027: 0.0,\n   \u0027units\u0027: \u0027mg\u0027,\n   \u0027description\u0027: \u0027Vitamin C, total ascorbic acid\u0027,\n   \u0027group\u0027: \u0027Vitamins\u0027},\n  {\u0027value\u0027: 0.031,\n   \u0027units\u0027: \u0027mg\u0027,\n   \u0027description\u0027: \u0027Thiamin\u0027,\n   \u0027group\u0027: \u0027Vitamins\u0027},\n  {\u0027value\u0027: 0.45,\n   \u0027units\u0027: \u0027mg\u0027,\n   \u0027description\u0027: \u0027Riboflavin\u0027,\n   \u0027group\u0027: \u0027Vitamins\u0027},\n  {\u0027value\u0027: 0.18, \u0027units\u0027: \u0027mg\u0027, \u0027description\u0027: \u0027Niacin\u0027, \u0027group\u0027: \u0027Vitamins\u0027},\n  {\u0027value\u0027: 0.19,\n   \u0027units\u0027: \u0027mg\u0027,\n   \u0027description\u0027: \u0027Pantothenic acid\u0027,\n   \u0027group\u0027: \u0027Vitamins\u0027},\n  {\u0027value\u0027: 0.074,\n   \u0027units\u0027: \u0027mg\u0027,\n   \u0027description\u0027: \u0027Vitamin B-6\u0027,\n   \u0027group\u0027: \u0027Vitamins\u0027},\n  {\u0027value\u0027: 18.0,\n   \u0027units\u0027: \u0027mcg\u0027,\n   \u0027description\u0027: \u0027Folate, total\u0027,\n   \u0027group\u0027: \u0027Vitamins\u0027},\n  {\u0027value\u0027: 0.27,\n   \u0027units\u0027: \u0027mcg\u0027,\n   \u0027description\u0027: \u0027Vitamin B-12\u0027,\n   \u0027group\u0027: \u0027Vitamins\u0027},\n  {\u0027value\u0027: 0.0,\n   \u0027units\u0027: \u0027mcg\u0027,\n   \u0027description\u0027: \u0027Folic acid\u0027,\n   \u0027group\u0027: \u0027Vitamins\u0027},\n  {\u0027value\u0027: 18.0,\n   \u0027units\u0027: \u0027mcg\u0027,\n   \u0027description\u0027: \u0027Folate, food\u0027,\n   \u0027group\u0027: \u0027Vitamins\u0027},\n  {\u0027value\u0027: 18.0,\n   \u0027units\u0027: \u0027mcg_DFE\u0027,\n   \u0027description\u0027: \u0027Folate, DFE\u0027,\n   \u0027group\u0027: \u0027Vitamins\u0027},\n  {\u0027value\u0027: 0.324,\n   \u0027units\u0027: \u0027g\u0027,\n   \u0027description\u0027: \u0027Tryptophan\u0027,\n   \u0027group\u0027: \u0027Amino Acids\u0027},\n  {\u0027value\u0027: 0.896,\n   \u0027units\u0027: \u0027g\u0027,\n   \u0027description\u0027: \u0027Threonine\u0027,\n   \u0027group\u0027: \u0027Amino Acids\u0027},\n  {\u0027value\u0027: 1.563,\n   \u0027units\u0027: \u0027g\u0027,\n   \u0027description\u0027: \u0027Isoleucine\u0027,\n   \u0027group\u0027: \u0027Amino Acids\u0027},\n  {\u0027value\u0027: 2.412,\n   \u0027units\u0027: \u0027g\u0027,\n   \u0027description\u0027: \u0027Leucine\u0027,\n   \u0027group\u0027: \u0027Amino Acids\u0027},\n  {\u0027value\u0027: 2.095,\n   \u0027units\u0027: \u0027g\u0027,\n   \u0027description\u0027: \u0027Lysine\u0027,\n   \u0027group\u0027: \u0027Amino Acids\u0027},\n  {\u0027value\u0027: 0.659,\n   \u0027units\u0027: \u0027g\u0027,\n   \u0027description\u0027: \u0027Methionine\u0027,\n   \u0027group\u0027: \u0027Amino Acids\u0027},\n  {\u0027value\u0027: 0.126,\n   \u0027units\u0027: \u0027g\u0027,\n   \u0027description\u0027: \u0027Cystine\u0027,\n   \u0027group\u0027: \u0027Amino Acids\u0027},\n  {\u0027value\u0027: 1.326,\n   \u0027units\u0027: \u0027g\u0027,\n   \u0027description\u0027: \u0027Phenylalanine\u0027,\n   \u0027group\u0027: \u0027Amino Acids\u0027},\n  {\u0027value\u0027: 1.216,\n   \u0027units\u0027: \u0027g\u0027,\n   \u0027description\u0027: \u0027Tyrosine\u0027,\n   \u0027group\u0027: \u0027Amino Acids\u0027},\n  {\u0027value\u0027: 1.682,\n   \u0027units\u0027: \u0027g\u0027,\n   \u0027description\u0027: \u0027Valine\u0027,\n   \u0027group\u0027: \u0027Amino Acids\u0027},\n  {\u0027value\u0027: 0.952,\n   \u0027units\u0027: \u0027g\u0027,\n   \u0027description\u0027: \u0027Arginine\u0027,\n   \u0027group\u0027: \u0027Amino Acids\u0027},\n  {\u0027value\u0027: 0.884,\n   \u0027units\u0027: \u0027g\u0027,\n   \u0027description\u0027: \u0027Histidine\u0027,\n   \u0027group\u0027: \u0027Amino Acids\u0027},\n  {\u0027value\u0027: 0.711,\n   \u0027units\u0027: \u0027g\u0027,\n   \u0027description\u0027: \u0027Alanine\u0027,\n   \u0027group\u0027: \u0027Amino Acids\u0027},\n  {\u0027value\u0027: 1.618,\n   \u0027units\u0027: \u0027g\u0027,\n   \u0027description\u0027: \u0027Aspartic acid\u0027,\n   \u0027group\u0027: \u0027Amino Acids\u0027},\n  {\u0027value\u0027: 6.16,\n   \u0027units\u0027: \u0027g\u0027,\n   \u0027description\u0027: \u0027Glutamic acid\u0027,\n   \u0027group\u0027: \u0027Amino Acids\u0027},\n  {\u0027value\u0027: 0.439,\n   \u0027units\u0027: \u0027g\u0027,\n   \u0027description\u0027: \u0027Glycine\u0027,\n   \u0027group\u0027: \u0027Amino Acids\u0027},\n  {\u0027value\u0027: 2.838,\n   \u0027units\u0027: \u0027g\u0027,\n   \u0027description\u0027: \u0027Proline\u0027,\n   \u0027group\u0027: \u0027Amino Acids\u0027},\n  {\u0027value\u0027: 1.472,\n   \u0027units\u0027: \u0027g\u0027,\n   \u0027description\u0027: \u0027Serine\u0027,\n   \u0027group\u0027: \u0027Amino Acids\u0027},\n  {\u0027value\u0027: 93.0,\n   \u0027units\u0027: \u0027mg\u0027,\n   \u0027description\u0027: \u0027Cholesterol\u0027,\n   \u0027group\u0027: \u0027Other\u0027},\n  {\u0027value\u0027: 18.584,\n   \u0027units\u0027: \u0027g\u0027,\n   \u0027description\u0027: \u0027Fatty acids, total saturated\u0027,\n   \u0027group\u0027: \u0027Other\u0027},\n  {\u0027value\u0027: 8.275,\n   \u0027units\u0027: \u0027g\u0027,\n   \u0027description\u0027: \u0027Fatty acids, total monounsaturated\u0027,\n   \u0027group\u0027: \u0027Other\u0027},\n  {\u0027value\u0027: 0.83,\n   \u0027units\u0027: \u0027g\u0027,\n   \u0027description\u0027: \u0027Fatty acids, total polyunsaturated\u0027,\n   \u0027group\u0027: \u0027Other\u0027},\n  {\u0027value\u0027: 25.18,\n   \u0027units\u0027: \u0027g\u0027,\n   \u0027description\u0027: \u0027Protein\u0027,\n   \u0027group\u0027: \u0027Composition\u0027},\n  {\u0027value\u0027: 29.2,\n   \u0027units\u0027: \u0027g\u0027,\n   \u0027description\u0027: \u0027Total lipid (fat)\u0027,\n   \u0027group\u0027: \u0027Composition\u0027},\n  {\u0027value\u0027: 3.06,\n   \u0027units\u0027: \u0027g\u0027,\n   \u0027description\u0027: \u0027Carbohydrate, by difference\u0027,\n   \u0027group\u0027: \u0027Composition\u0027},\n  {\u0027value\u0027: 3.28, \u0027units\u0027: \u0027g\u0027, \u0027description\u0027: \u0027Ash\u0027, \u0027group\u0027: \u0027Other\u0027},\n  {\u0027value\u0027: 376.0,\n   \u0027units\u0027: \u0027kcal\u0027,\n   \u0027description\u0027: \u0027Energy\u0027,\n   \u0027group\u0027: \u0027Energy\u0027},\n  {\u0027value\u0027: 39.28,\n   \u0027units\u0027: \u0027g\u0027,\n   \u0027description\u0027: \u0027Water\u0027,\n   \u0027group\u0027: \u0027Composition\u0027},\n  {\u0027value\u0027: 1573.0, \u0027units\u0027: \u0027kJ\u0027, \u0027description\u0027: \u0027Energy\u0027, \u0027group\u0027: \u0027Energy\u0027},\n  {\u0027value\u0027: 0.0,\n   \u0027units\u0027: \u0027g\u0027,\n   \u0027description\u0027: \u0027Fiber, total dietary\u0027,\n   \u0027group\u0027: \u0027Composition\u0027},\n  {\u0027value\u0027: 673.0,\n   \u0027units\u0027: \u0027mg\u0027,\n   \u0027description\u0027: \u0027Calcium, Ca\u0027,\n   \u0027group\u0027: \u0027Elements\u0027},\n  {\u0027value\u0027: 0.64,\n   \u0027units\u0027: \u0027mg\u0027,\n   \u0027description\u0027: \u0027Iron, Fe\u0027,\n   \u0027group\u0027: \u0027Elements\u0027},\n  {\u0027value\u0027: 22.0,\n   \u0027units\u0027: \u0027mg\u0027,\n   \u0027description\u0027: \u0027Magnesium, Mg\u0027,\n   \u0027group\u0027: \u0027Elements\u0027},\n  {\u0027value\u0027: 490.0,\n   \u0027units\u0027: \u0027mg\u0027,\n   \u0027description\u0027: \u0027Phosphorus, P\u0027,\n   \u0027group\u0027: \u0027Elements\u0027},\n  {\u0027value\u0027: 93.0,\n   \u0027units\u0027: \u0027mg\u0027,\n   \u0027description\u0027: \u0027Potassium, K\u0027,\n   \u0027group\u0027: \u0027Elements\u0027},\n  {\u0027value\u0027: 690.0,\n   \u0027units\u0027: \u0027mg\u0027,\n   \u0027description\u0027: \u0027Sodium, Na\u0027,\n   \u0027group\u0027: \u0027Elements\u0027},\n  {\u0027value\u0027: 2.94,\n   \u0027units\u0027: \u0027mg\u0027,\n   \u0027description\u0027: \u0027Zinc, Zn\u0027,\n   \u0027group\u0027: \u0027Elements\u0027},\n  {\u0027value\u0027: 0.024,\n   \u0027units\u0027: \u0027mg\u0027,\n   \u0027description\u0027: \u0027Copper, Cu\u0027,\n   \u0027group\u0027: \u0027Elements\u0027},\n  {\u0027value\u0027: 0.021,\n   \u0027units\u0027: \u0027mg\u0027,\n   \u0027description\u0027: \u0027Manganese, Mn\u0027,\n   \u0027group\u0027: \u0027Elements\u0027},\n  {\u0027value\u0027: 14.5,\n   \u0027units\u0027: \u0027mcg\u0027,\n   \u0027description\u0027: \u0027Selenium, Se\u0027,\n   \u0027group\u0027: \u0027Elements\u0027},\n  {\u0027value\u0027: 1054.0,\n   \u0027units\u0027: \u0027IU\u0027,\n   \u0027description\u0027: \u0027Vitamin A, IU\u0027,\n   \u0027group\u0027: \u0027Vitamins\u0027},\n  {\u0027value\u0027: 262.0,\n   \u0027units\u0027: \u0027mcg\u0027,\n   \u0027description\u0027: \u0027Retinol\u0027,\n   \u0027group\u0027: \u0027Vitamins\u0027},\n  {\u0027value\u0027: 271.0,\n   \u0027units\u0027: \u0027mcg_RAE\u0027,\n   \u0027description\u0027: \u0027Vitamin A, RAE\u0027,\n   \u0027group\u0027: \u0027Vitamins\u0027},\n  {\u0027value\u0027: 0.0,\n   \u0027units\u0027: \u0027mg\u0027,\n   \u0027description\u0027: \u0027Vitamin C, total ascorbic acid\u0027,\n   \u0027group\u0027: \u0027Vitamins\u0027},\n  {\u0027value\u0027: 0.031,\n   \u0027units\u0027: \u0027mg\u0027,\n   \u0027description\u0027: \u0027Thiamin\u0027,\n   \u0027group\u0027: \u0027Vitamins\u0027},\n  {\u0027value\u0027: 0.45,\n   \u0027units\u0027: \u0027mg\u0027,\n   \u0027description\u0027: \u0027Riboflavin\u0027,\n   \u0027group\u0027: \u0027Vitamins\u0027},\n  {\u0027value\u0027: 0.18, \u0027units\u0027: \u0027mg\u0027, \u0027description\u0027: \u0027Niacin\u0027, \u0027group\u0027: \u0027Vitamins\u0027},\n  {\u0027value\u0027: 0.19,\n   \u0027units\u0027: \u0027mg\u0027,\n   \u0027description\u0027: \u0027Pantothenic acid\u0027,\n   \u0027group\u0027: \u0027Vitamins\u0027},\n  {\u0027value\u0027: 0.074,\n   \u0027units\u0027: \u0027mg\u0027,\n   \u0027description\u0027: \u0027Vitamin B-6\u0027,\n   \u0027group\u0027: \u0027Vitamins\u0027},\n  {\u0027value\u0027: 18.0,\n   \u0027units\u0027: \u0027mcg\u0027,\n   \u0027description\u0027: \u0027Folate, total\u0027,\n   \u0027group\u0027: \u0027Vitamins\u0027},\n  {\u0027value\u0027: 0.27,\n   \u0027units\u0027: \u0027mcg\u0027,\n   \u0027description\u0027: \u0027Vitamin B-12\u0027,\n   \u0027group\u0027: \u0027Vitamins\u0027},\n  {\u0027value\u0027: 0.0,\n   \u0027units\u0027: \u0027mcg\u0027,\n   \u0027description\u0027: \u0027Folic acid\u0027,\n   \u0027group\u0027: \u0027Vitamins\u0027},\n  {\u0027value\u0027: 18.0,\n   \u0027units\u0027: \u0027mcg\u0027,\n   \u0027description\u0027: \u0027Folate, food\u0027,\n   \u0027group\u0027: \u0027Vitamins\u0027},\n  {\u0027value\u0027: 18.0,\n   \u0027units\u0027: \u0027mcg_DFE\u0027,\n   \u0027description\u0027: \u0027Folate, DFE\u0027,\n   \u0027group\u0027: \u0027Vitamins\u0027},\n  {\u0027value\u0027: 0.324,\n   \u0027units\u0027: \u0027g\u0027,\n   \u0027description\u0027: \u0027Tryptophan\u0027,\n   \u0027group\u0027: \u0027Amino Acids\u0027},\n  {\u0027value\u0027: 0.896,\n   \u0027units\u0027: \u0027g\u0027,\n   \u0027description\u0027: \u0027Threonine\u0027,\n   \u0027group\u0027: \u0027Amino Acids\u0027},\n  {\u0027value\u0027: 1.563,\n   \u0027units\u0027: \u0027g\u0027,\n   \u0027description\u0027: \u0027Isoleucine\u0027,\n   \u0027group\u0027: \u0027Amino Acids\u0027},\n  {\u0027value\u0027: 2.412,\n   \u0027units\u0027: \u0027g\u0027,\n   \u0027description\u0027: \u0027Leucine\u0027,\n   \u0027group\u0027: \u0027Amino Acids\u0027},\n  {\u0027value\u0027: 2.095,\n   \u0027units\u0027: \u0027g\u0027,\n   \u0027description\u0027: \u0027Lysine\u0027,\n   \u0027group\u0027: \u0027Amino Acids\u0027},\n  {\u0027value\u0027: 0.659,\n   \u0027units\u0027: \u0027g\u0027,\n   \u0027description\u0027: \u0027Methionine\u0027,\n   \u0027group\u0027: \u0027Amino Acids\u0027},\n  {\u0027value\u0027: 0.126,\n   \u0027units\u0027: \u0027g\u0027,\n   \u0027description\u0027: \u0027Cystine\u0027,\n   \u0027group\u0027: \u0027Amino Acids\u0027},\n  {\u0027value\u0027: 1.326,\n   \u0027units\u0027: \u0027g\u0027,\n   \u0027description\u0027: \u0027Phenylalanine\u0027,\n   \u0027group\u0027: \u0027Amino Acids\u0027},\n  {\u0027value\u0027: 1.216,\n   \u0027units\u0027: \u0027g\u0027,\n   \u0027description\u0027: \u0027Tyrosine\u0027,\n   \u0027group\u0027: \u0027Amino Acids\u0027},\n  {\u0027value\u0027: 1.682,\n   \u0027units\u0027: \u0027g\u0027,\n   \u0027description\u0027: \u0027Valine\u0027,\n   \u0027group\u0027: \u0027Amino Acids\u0027},\n  {\u0027value\u0027: 0.952,\n   \u0027units\u0027: \u0027g\u0027,\n   \u0027description\u0027: \u0027Arginine\u0027,\n   \u0027group\u0027: \u0027Amino Acids\u0027},\n  {\u0027value\u0027: 0.884,\n   \u0027units\u0027: \u0027g\u0027,\n   \u0027description\u0027: \u0027Histidine\u0027,\n   \u0027group\u0027: \u0027Amino Acids\u0027},\n  {\u0027value\u0027: 0.711,\n   \u0027units\u0027: \u0027g\u0027,\n   \u0027description\u0027: \u0027Alanine\u0027,\n   \u0027group\u0027: \u0027Amino Acids\u0027},\n  {\u0027value\u0027: 1.618,\n   \u0027units\u0027: \u0027g\u0027,\n   \u0027description\u0027: \u0027Aspartic acid\u0027,\n   \u0027group\u0027: \u0027Amino Acids\u0027},\n  {\u0027value\u0027: 6.16,\n   \u0027units\u0027: \u0027g\u0027,\n   \u0027description\u0027: \u0027Glutamic acid\u0027,\n   \u0027group\u0027: \u0027Amino Acids\u0027},\n  {\u0027value\u0027: 0.439,\n   \u0027units\u0027: \u0027g\u0027,\n   \u0027description\u0027: \u0027Glycine\u0027,\n   \u0027group\u0027: \u0027Amino Acids\u0027},\n  {\u0027value\u0027: 2.838,\n   \u0027units\u0027: \u0027g\u0027,\n   \u0027description\u0027: \u0027Proline\u0027,\n   \u0027group\u0027: \u0027Amino Acids\u0027},\n  {\u0027value\u0027: 1.472,\n   \u0027units\u0027: \u0027g\u0027,\n   \u0027description\u0027: \u0027Serine\u0027,\n   \u0027group\u0027: \u0027Amino Acids\u0027},\n  {\u0027value\u0027: 93.0,\n   \u0027units\u0027: \u0027mg\u0027,\n   \u0027description\u0027: \u0027Cholesterol\u0027,\n   \u0027group\u0027: \u0027Other\u0027},\n  {\u0027value\u0027: 18.584,\n   \u0027units\u0027: \u0027g\u0027,\n   \u0027description\u0027: \u0027Fatty acids, total saturated\u0027,\n   \u0027group\u0027: \u0027Other\u0027},\n  {\u0027value\u0027: 8.275,\n   \u0027units\u0027: \u0027g\u0027,\n   \u0027description\u0027: \u0027Fatty acids, total monounsaturated\u0027,\n   \u0027group\u0027: \u0027Other\u0027},\n  {\u0027value\u0027: 0.83,\n   \u0027units\u0027: \u0027g\u0027,\n   \u0027description\u0027: \u0027Fatty acids, total polyunsaturated\u0027,\n   \u0027group\u0027: \u0027Other\u0027}]}"
          },
          "metadata": {},
          "output_type": "execute_result",
          "execution_count": 8
        }
      ],
      "source": "db[0]",
      "metadata": {
        "pycharm": {
          "metadata": false,
          "name": "#%%\n",
          "is_executing": false
        }
      }
    },
    {
      "cell_type": "code",
      "execution_count": 9,
      "outputs": [],
      "source": "nutrients\u003dpd.DataFrame(db[0][\u0027nutrients\u0027])",
      "metadata": {
        "pycharm": {
          "metadata": false,
          "name": "#%%\n",
          "is_executing": false
        }
      }
    },
    {
      "cell_type": "code",
      "execution_count": 10,
      "outputs": [
        {
          "data": {
            "text/plain": "                   description        group units   value\n0                      Protein  Composition     g   25.18\n1            Total lipid (fat)  Composition     g   29.20\n2  Carbohydrate, by difference  Composition     g    3.06\n3                          Ash        Other     g    3.28\n4                       Energy       Energy  kcal  376.00",
            "text/html": "\u003cdiv\u003e\n\u003cstyle scoped\u003e\n    .dataframe tbody tr th:only-of-type {\n        vertical-align: middle;\n    }\n\n    .dataframe tbody tr th {\n        vertical-align: top;\n    }\n\n    .dataframe thead th {\n        text-align: right;\n    }\n\u003c/style\u003e\n\u003ctable border\u003d\"1\" class\u003d\"dataframe\"\u003e\n  \u003cthead\u003e\n    \u003ctr style\u003d\"text-align: right;\"\u003e\n      \u003cth\u003e\u003c/th\u003e\n      \u003cth\u003edescription\u003c/th\u003e\n      \u003cth\u003egroup\u003c/th\u003e\n      \u003cth\u003eunits\u003c/th\u003e\n      \u003cth\u003evalue\u003c/th\u003e\n    \u003c/tr\u003e\n  \u003c/thead\u003e\n  \u003ctbody\u003e\n    \u003ctr\u003e\n      \u003cth\u003e0\u003c/th\u003e\n      \u003ctd\u003eProtein\u003c/td\u003e\n      \u003ctd\u003eComposition\u003c/td\u003e\n      \u003ctd\u003eg\u003c/td\u003e\n      \u003ctd\u003e25.18\u003c/td\u003e\n    \u003c/tr\u003e\n    \u003ctr\u003e\n      \u003cth\u003e1\u003c/th\u003e\n      \u003ctd\u003eTotal lipid (fat)\u003c/td\u003e\n      \u003ctd\u003eComposition\u003c/td\u003e\n      \u003ctd\u003eg\u003c/td\u003e\n      \u003ctd\u003e29.20\u003c/td\u003e\n    \u003c/tr\u003e\n    \u003ctr\u003e\n      \u003cth\u003e2\u003c/th\u003e\n      \u003ctd\u003eCarbohydrate, by difference\u003c/td\u003e\n      \u003ctd\u003eComposition\u003c/td\u003e\n      \u003ctd\u003eg\u003c/td\u003e\n      \u003ctd\u003e3.06\u003c/td\u003e\n    \u003c/tr\u003e\n    \u003ctr\u003e\n      \u003cth\u003e3\u003c/th\u003e\n      \u003ctd\u003eAsh\u003c/td\u003e\n      \u003ctd\u003eOther\u003c/td\u003e\n      \u003ctd\u003eg\u003c/td\u003e\n      \u003ctd\u003e3.28\u003c/td\u003e\n    \u003c/tr\u003e\n    \u003ctr\u003e\n      \u003cth\u003e4\u003c/th\u003e\n      \u003ctd\u003eEnergy\u003c/td\u003e\n      \u003ctd\u003eEnergy\u003c/td\u003e\n      \u003ctd\u003ekcal\u003c/td\u003e\n      \u003ctd\u003e376.00\u003c/td\u003e\n    \u003c/tr\u003e\n  \u003c/tbody\u003e\n\u003c/table\u003e\n\u003c/div\u003e"
          },
          "metadata": {},
          "output_type": "execute_result",
          "execution_count": 10
        }
      ],
      "source": "nutrients.head()",
      "metadata": {
        "pycharm": {
          "metadata": false,
          "name": "#%%\n",
          "is_executing": false
        }
      }
    },
    {
      "cell_type": "code",
      "execution_count": 11,
      "outputs": [],
      "source": "info_keys\u003d[\u0027description\u0027,\u0027group\u0027,\u0027id\u0027,\u0027manufacturer\u0027]\ninfo\u003dpd.DataFrame(db,columns\u003dinfo_keys)",
      "metadata": {
        "pycharm": {
          "metadata": false,
          "name": "#%%\n",
          "is_executing": false
        }
      }
    },
    {
      "cell_type": "code",
      "execution_count": 25,
      "outputs": [
        {
          "data": {
            "text/plain": "                                 food                  fgroup    id  \\\n0                     Cheese, caraway  Dairy and Egg Products  1008   \n1                     Cheese, cheddar  Dairy and Egg Products  1009   \n2                        Cheese, edam  Dairy and Egg Products  1018   \n3                        Cheese, feta  Dairy and Egg Products  1019   \n4  Cheese, mozzarella, part skim milk  Dairy and Egg Products  1028   \n\n  manufacturer  \n0               \n1               \n2               \n3               \n4               ",
            "text/html": "\u003cdiv\u003e\n\u003cstyle scoped\u003e\n    .dataframe tbody tr th:only-of-type {\n        vertical-align: middle;\n    }\n\n    .dataframe tbody tr th {\n        vertical-align: top;\n    }\n\n    .dataframe thead th {\n        text-align: right;\n    }\n\u003c/style\u003e\n\u003ctable border\u003d\"1\" class\u003d\"dataframe\"\u003e\n  \u003cthead\u003e\n    \u003ctr style\u003d\"text-align: right;\"\u003e\n      \u003cth\u003e\u003c/th\u003e\n      \u003cth\u003efood\u003c/th\u003e\n      \u003cth\u003efgroup\u003c/th\u003e\n      \u003cth\u003eid\u003c/th\u003e\n      \u003cth\u003emanufacturer\u003c/th\u003e\n    \u003c/tr\u003e\n  \u003c/thead\u003e\n  \u003ctbody\u003e\n    \u003ctr\u003e\n      \u003cth\u003e0\u003c/th\u003e\n      \u003ctd\u003eCheese, caraway\u003c/td\u003e\n      \u003ctd\u003eDairy and Egg Products\u003c/td\u003e\n      \u003ctd\u003e1008\u003c/td\u003e\n      \u003ctd\u003e\u003c/td\u003e\n    \u003c/tr\u003e\n    \u003ctr\u003e\n      \u003cth\u003e1\u003c/th\u003e\n      \u003ctd\u003eCheese, cheddar\u003c/td\u003e\n      \u003ctd\u003eDairy and Egg Products\u003c/td\u003e\n      \u003ctd\u003e1009\u003c/td\u003e\n      \u003ctd\u003e\u003c/td\u003e\n    \u003c/tr\u003e\n    \u003ctr\u003e\n      \u003cth\u003e2\u003c/th\u003e\n      \u003ctd\u003eCheese, edam\u003c/td\u003e\n      \u003ctd\u003eDairy and Egg Products\u003c/td\u003e\n      \u003ctd\u003e1018\u003c/td\u003e\n      \u003ctd\u003e\u003c/td\u003e\n    \u003c/tr\u003e\n    \u003ctr\u003e\n      \u003cth\u003e3\u003c/th\u003e\n      \u003ctd\u003eCheese, feta\u003c/td\u003e\n      \u003ctd\u003eDairy and Egg Products\u003c/td\u003e\n      \u003ctd\u003e1019\u003c/td\u003e\n      \u003ctd\u003e\u003c/td\u003e\n    \u003c/tr\u003e\n    \u003ctr\u003e\n      \u003cth\u003e4\u003c/th\u003e\n      \u003ctd\u003eCheese, mozzarella, part skim milk\u003c/td\u003e\n      \u003ctd\u003eDairy and Egg Products\u003c/td\u003e\n      \u003ctd\u003e1028\u003c/td\u003e\n      \u003ctd\u003e\u003c/td\u003e\n    \u003c/tr\u003e\n  \u003c/tbody\u003e\n\u003c/table\u003e\n\u003c/div\u003e"
          },
          "metadata": {},
          "output_type": "execute_result",
          "execution_count": 25
        }
      ],
      "source": "info.head()",
      "metadata": {
        "pycharm": {
          "metadata": false,
          "name": "#%%\n",
          "is_executing": false
        }
      }
    },
    {
      "cell_type": "code",
      "execution_count": 13,
      "outputs": [
        {
          "name": "stdout",
          "text": [
            "\u003cclass \u0027pandas.core.frame.DataFrame\u0027\u003e\nRangeIndex: 6636 entries, 0 to 6635\nData columns (total 4 columns):\ndescription     6636 non-null object\ngroup           6636 non-null object\nid              6636 non-null int64\nmanufacturer    5195 non-null object\ndtypes: int64(1), object(3)\nmemory usage: 207.5+ KB\n"
          ],
          "output_type": "stream"
        }
      ],
      "source": "info.info()",
      "metadata": {
        "pycharm": {
          "metadata": false,
          "name": "#%%\n",
          "is_executing": false
        }
      }
    },
    {
      "cell_type": "code",
      "execution_count": 14,
      "outputs": [
        {
          "data": {
            "text/plain": "                 id\ncount   6636.000000\nmean   15733.055304\nstd     8715.095274\nmin     1008.000000\n25%    10170.750000\n50%    14445.000000\n75%    19188.250000\nmax    93600.000000",
            "text/html": "\u003cdiv\u003e\n\u003cstyle scoped\u003e\n    .dataframe tbody tr th:only-of-type {\n        vertical-align: middle;\n    }\n\n    .dataframe tbody tr th {\n        vertical-align: top;\n    }\n\n    .dataframe thead th {\n        text-align: right;\n    }\n\u003c/style\u003e\n\u003ctable border\u003d\"1\" class\u003d\"dataframe\"\u003e\n  \u003cthead\u003e\n    \u003ctr style\u003d\"text-align: right;\"\u003e\n      \u003cth\u003e\u003c/th\u003e\n      \u003cth\u003eid\u003c/th\u003e\n    \u003c/tr\u003e\n  \u003c/thead\u003e\n  \u003ctbody\u003e\n    \u003ctr\u003e\n      \u003cth\u003ecount\u003c/th\u003e\n      \u003ctd\u003e6636.000000\u003c/td\u003e\n    \u003c/tr\u003e\n    \u003ctr\u003e\n      \u003cth\u003emean\u003c/th\u003e\n      \u003ctd\u003e15733.055304\u003c/td\u003e\n    \u003c/tr\u003e\n    \u003ctr\u003e\n      \u003cth\u003estd\u003c/th\u003e\n      \u003ctd\u003e8715.095274\u003c/td\u003e\n    \u003c/tr\u003e\n    \u003ctr\u003e\n      \u003cth\u003emin\u003c/th\u003e\n      \u003ctd\u003e1008.000000\u003c/td\u003e\n    \u003c/tr\u003e\n    \u003ctr\u003e\n      \u003cth\u003e25%\u003c/th\u003e\n      \u003ctd\u003e10170.750000\u003c/td\u003e\n    \u003c/tr\u003e\n    \u003ctr\u003e\n      \u003cth\u003e50%\u003c/th\u003e\n      \u003ctd\u003e14445.000000\u003c/td\u003e\n    \u003c/tr\u003e\n    \u003ctr\u003e\n      \u003cth\u003e75%\u003c/th\u003e\n      \u003ctd\u003e19188.250000\u003c/td\u003e\n    \u003c/tr\u003e\n    \u003ctr\u003e\n      \u003cth\u003emax\u003c/th\u003e\n      \u003ctd\u003e93600.000000\u003c/td\u003e\n    \u003c/tr\u003e\n  \u003c/tbody\u003e\n\u003c/table\u003e\n\u003c/div\u003e"
          },
          "metadata": {},
          "output_type": "execute_result",
          "execution_count": 14
        }
      ],
      "source": "info.describe()",
      "metadata": {
        "pycharm": {
          "metadata": false,
          "name": "#%%\n",
          "is_executing": false
        }
      }
    },
    {
      "cell_type": "code",
      "execution_count": 17,
      "outputs": [
        {
          "data": {
            "text/plain": "Vegetables and Vegetable Products    812\nBeef Products                        618\nBaked Products                       496\nBreakfast Cereals                    403\nFast Foods                           365\nLegumes and Legume Products          365\nLamb, Veal, and Game Products        345\nSweets                               341\nFruits and Fruit Juices              328\nPork Products                        328\nBeverages                            278\nSoups, Sauces, and Gravies           275\nFinfish and Shellfish Products       255\nBaby Foods                           209\nCereal Grains and Pasta              183\nEthnic Foods                         165\nSnacks                               162\nNut and Seed Products                128\nPoultry Products                     116\nSausages and Luncheon Meats          111\nDairy and Egg Products               107\nFats and Oils                         97\nMeals, Entrees, and Sidedishes        57\nRestaurant Foods                      51\nSpices and Herbs                      41\nName: group, dtype: int64"
          },
          "metadata": {},
          "output_type": "execute_result",
          "execution_count": 17
        }
      ],
      "source": "pd.value_counts(info[\u0027group\u0027])",
      "metadata": {
        "pycharm": {
          "metadata": false,
          "name": "#%%\n",
          "is_executing": false
        }
      }
    },
    {
      "cell_type": "code",
      "execution_count": 18,
      "outputs": [
        {
          "data": {
            "text/plain": "0      False\n1      False\n2      False\n3      False\n4      False\n5      False\n6      False\n7      False\n8      False\n9      False\n10     False\n11     False\n12     False\n13     False\n14     False\n15     False\n16     False\n17     False\n18     False\n19     False\n20     False\n21     False\n22     False\n23     False\n24     False\n25     False\n26     False\n27     False\n28     False\n29     False\n       ...  \n132     True\n133     True\n134     True\n135     True\n136     True\n137     True\n138     True\n139     True\n140     True\n141     True\n142     True\n143     True\n144     True\n145     True\n146     True\n147     True\n148     True\n149     True\n150     True\n151     True\n152     True\n153     True\n154     True\n155     True\n156     True\n157     True\n158     True\n159     True\n160     True\n161     True\nLength: 162, dtype: bool"
          },
          "metadata": {},
          "output_type": "execute_result",
          "execution_count": 18
        }
      ],
      "source": "nutrients.duplicated()",
      "metadata": {
        "pycharm": {
          "metadata": false,
          "name": "#%%\n",
          "is_executing": false
        }
      }
    },
    {
      "cell_type": "code",
      "execution_count": 19,
      "outputs": [],
      "source": "nutrients\u003dnutrients.drop_duplicates()",
      "metadata": {
        "pycharm": {
          "metadata": false,
          "name": "#%%\n",
          "is_executing": false
        }
      }
    },
    {
      "cell_type": "code",
      "execution_count": 20,
      "outputs": [],
      "source": "info\u003dinfo.rename(columns\u003d{\u0027description\u0027:\u0027food\u0027,\n                          \u0027group\u0027:\u0027fgroup\u0027},copy\u003dFalse)",
      "metadata": {
        "pycharm": {
          "metadata": false,
          "name": "#%%\n",
          "is_executing": false
        }
      }
    },
    {
      "cell_type": "code",
      "execution_count": 21,
      "outputs": [
        {
          "name": "stdout",
          "text": [
            "\u003cclass \u0027pandas.core.frame.DataFrame\u0027\u003e\nRangeIndex: 6636 entries, 0 to 6635\nData columns (total 4 columns):\nfood            6636 non-null object\nfgroup          6636 non-null object\nid              6636 non-null int64\nmanufacturer    5195 non-null object\ndtypes: int64(1), object(3)\nmemory usage: 207.5+ KB\n"
          ],
          "output_type": "stream"
        }
      ],
      "source": "info.info()",
      "metadata": {
        "pycharm": {
          "metadata": false,
          "name": "#%%\n",
          "is_executing": false
        }
      }
    },
    {
      "cell_type": "code",
      "execution_count": 22,
      "outputs": [],
      "source": "nutrients\u003dnutrients.rename(columns\u003d{\u0027description\u0027:\u0027nutrient\u0027,\n                                    \u0027group\u0027:\u0027nutgroup\u0027},copy\u003dFalse)",
      "metadata": {
        "pycharm": {
          "metadata": false,
          "name": "#%%\n",
          "is_executing": false
        }
      }
    },
    {
      "cell_type": "code",
      "execution_count": 26,
      "outputs": [
        {
          "data": {
            "text/plain": "                      nutrient     nutgroup units   value\n0                      Protein  Composition     g   25.18\n1            Total lipid (fat)  Composition     g   29.20\n2  Carbohydrate, by difference  Composition     g    3.06\n3                          Ash        Other     g    3.28\n4                       Energy       Energy  kcal  376.00",
            "text/html": "\u003cdiv\u003e\n\u003cstyle scoped\u003e\n    .dataframe tbody tr th:only-of-type {\n        vertical-align: middle;\n    }\n\n    .dataframe tbody tr th {\n        vertical-align: top;\n    }\n\n    .dataframe thead th {\n        text-align: right;\n    }\n\u003c/style\u003e\n\u003ctable border\u003d\"1\" class\u003d\"dataframe\"\u003e\n  \u003cthead\u003e\n    \u003ctr style\u003d\"text-align: right;\"\u003e\n      \u003cth\u003e\u003c/th\u003e\n      \u003cth\u003enutrient\u003c/th\u003e\n      \u003cth\u003enutgroup\u003c/th\u003e\n      \u003cth\u003eunits\u003c/th\u003e\n      \u003cth\u003evalue\u003c/th\u003e\n    \u003c/tr\u003e\n  \u003c/thead\u003e\n  \u003ctbody\u003e\n    \u003ctr\u003e\n      \u003cth\u003e0\u003c/th\u003e\n      \u003ctd\u003eProtein\u003c/td\u003e\n      \u003ctd\u003eComposition\u003c/td\u003e\n      \u003ctd\u003eg\u003c/td\u003e\n      \u003ctd\u003e25.18\u003c/td\u003e\n    \u003c/tr\u003e\n    \u003ctr\u003e\n      \u003cth\u003e1\u003c/th\u003e\n      \u003ctd\u003eTotal lipid (fat)\u003c/td\u003e\n      \u003ctd\u003eComposition\u003c/td\u003e\n      \u003ctd\u003eg\u003c/td\u003e\n      \u003ctd\u003e29.20\u003c/td\u003e\n    \u003c/tr\u003e\n    \u003ctr\u003e\n      \u003cth\u003e2\u003c/th\u003e\n      \u003ctd\u003eCarbohydrate, by difference\u003c/td\u003e\n      \u003ctd\u003eComposition\u003c/td\u003e\n      \u003ctd\u003eg\u003c/td\u003e\n      \u003ctd\u003e3.06\u003c/td\u003e\n    \u003c/tr\u003e\n    \u003ctr\u003e\n      \u003cth\u003e3\u003c/th\u003e\n      \u003ctd\u003eAsh\u003c/td\u003e\n      \u003ctd\u003eOther\u003c/td\u003e\n      \u003ctd\u003eg\u003c/td\u003e\n      \u003ctd\u003e3.28\u003c/td\u003e\n    \u003c/tr\u003e\n    \u003ctr\u003e\n      \u003cth\u003e4\u003c/th\u003e\n      \u003ctd\u003eEnergy\u003c/td\u003e\n      \u003ctd\u003eEnergy\u003c/td\u003e\n      \u003ctd\u003ekcal\u003c/td\u003e\n      \u003ctd\u003e376.00\u003c/td\u003e\n    \u003c/tr\u003e\n  \u003c/tbody\u003e\n\u003c/table\u003e\n\u003c/div\u003e"
          },
          "metadata": {},
          "output_type": "execute_result",
          "execution_count": 26
        }
      ],
      "source": "nutrients.head()",
      "metadata": {
        "pycharm": {
          "metadata": false,
          "name": "#%%\n",
          "is_executing": false
        }
      }
    },
    {
      "cell_type": "code",
      "execution_count": 24,
      "outputs": [
        {
          "traceback": [
            "\u001b[1;31m---------------------------------------------------------------------------\u001b[0m",
            "\u001b[1;31mKeyError\u001b[0m                                  Traceback (most recent call last)",
            "\u001b[1;32m\u003cipython-input-24-ccbc31103552\u003e\u001b[0m in \u001b[0;36m\u003cmodule\u003e\u001b[1;34m\u001b[0m\n\u001b[1;32m----\u003e 1\u001b[1;33m \u001b[0mndata\u001b[0m\u001b[1;33m\u003d\u001b[0m\u001b[0mpd\u001b[0m\u001b[1;33m.\u001b[0m\u001b[0mmerge\u001b[0m\u001b[1;33m(\u001b[0m\u001b[0mleft\u001b[0m\u001b[1;33m\u003d\u001b[0m\u001b[0mnutrients\u001b[0m\u001b[1;33m,\u001b[0m\u001b[0mright\u001b[0m\u001b[1;33m\u003d\u001b[0m\u001b[0minfo\u001b[0m\u001b[1;33m,\u001b[0m\u001b[0mon\u001b[0m\u001b[1;33m\u003d\u001b[0m\u001b[1;34m\u0027id\u0027\u001b[0m\u001b[1;33m,\u001b[0m\u001b[0mhow\u001b[0m\u001b[1;33m\u003d\u001b[0m\u001b[1;34m\u0027outer\u0027\u001b[0m\u001b[1;33m)\u001b[0m\u001b[1;33m\u001b[0m\u001b[1;33m\u001b[0m\u001b[0m\n\u001b[0m",
            "\u001b[1;32mD:\\software\\Anaconda\\envs\\data\\lib\\site-packages\\pandas\\core\\reshape\\merge.py\u001b[0m in \u001b[0;36mmerge\u001b[1;34m(left, right, how, on, left_on, right_on, left_index, right_index, sort, suffixes, copy, indicator, validate)\u001b[0m\n\u001b[0;32m     45\u001b[0m                          \u001b[0mright_index\u001b[0m\u001b[1;33m\u003d\u001b[0m\u001b[0mright_index\u001b[0m\u001b[1;33m,\u001b[0m \u001b[0msort\u001b[0m\u001b[1;33m\u003d\u001b[0m\u001b[0msort\u001b[0m\u001b[1;33m,\u001b[0m \u001b[0msuffixes\u001b[0m\u001b[1;33m\u003d\u001b[0m\u001b[0msuffixes\u001b[0m\u001b[1;33m,\u001b[0m\u001b[1;33m\u001b[0m\u001b[1;33m\u001b[0m\u001b[0m\n\u001b[0;32m     46\u001b[0m                          \u001b[0mcopy\u001b[0m\u001b[1;33m\u003d\u001b[0m\u001b[0mcopy\u001b[0m\u001b[1;33m,\u001b[0m \u001b[0mindicator\u001b[0m\u001b[1;33m\u003d\u001b[0m\u001b[0mindicator\u001b[0m\u001b[1;33m,\u001b[0m\u001b[1;33m\u001b[0m\u001b[1;33m\u001b[0m\u001b[0m\n\u001b[1;32m---\u003e 47\u001b[1;33m                          validate\u003dvalidate)\n\u001b[0m\u001b[0;32m     48\u001b[0m     \u001b[1;32mreturn\u001b[0m \u001b[0mop\u001b[0m\u001b[1;33m.\u001b[0m\u001b[0mget_result\u001b[0m\u001b[1;33m(\u001b[0m\u001b[1;33m)\u001b[0m\u001b[1;33m\u001b[0m\u001b[1;33m\u001b[0m\u001b[0m\n\u001b[0;32m     49\u001b[0m \u001b[1;33m\u001b[0m\u001b[0m\n",
            "\u001b[1;32mD:\\software\\Anaconda\\envs\\data\\lib\\site-packages\\pandas\\core\\reshape\\merge.py\u001b[0m in \u001b[0;36m__init__\u001b[1;34m(self, left, right, how, on, left_on, right_on, axis, left_index, right_index, sort, suffixes, copy, indicator, validate)\u001b[0m\n\u001b[0;32m    527\u001b[0m         (self.left_join_keys,\n\u001b[0;32m    528\u001b[0m          \u001b[0mself\u001b[0m\u001b[1;33m.\u001b[0m\u001b[0mright_join_keys\u001b[0m\u001b[1;33m,\u001b[0m\u001b[1;33m\u001b[0m\u001b[1;33m\u001b[0m\u001b[0m\n\u001b[1;32m--\u003e 529\u001b[1;33m          self.join_names) \u003d self._get_merge_keys()\n\u001b[0m\u001b[0;32m    530\u001b[0m \u001b[1;33m\u001b[0m\u001b[0m\n\u001b[0;32m    531\u001b[0m         \u001b[1;31m# validate the merge keys dtypes. We may need to coerce\u001b[0m\u001b[1;33m\u001b[0m\u001b[1;33m\u001b[0m\u001b[1;33m\u001b[0m\u001b[0m\n",
            "\u001b[1;32mD:\\software\\Anaconda\\envs\\data\\lib\\site-packages\\pandas\\core\\reshape\\merge.py\u001b[0m in \u001b[0;36m_get_merge_keys\u001b[1;34m(self)\u001b[0m\n\u001b[0;32m    844\u001b[0m                         \u001b[0mright_keys\u001b[0m\u001b[1;33m.\u001b[0m\u001b[0mappend\u001b[0m\u001b[1;33m(\u001b[0m\u001b[0mrk\u001b[0m\u001b[1;33m)\u001b[0m\u001b[1;33m\u001b[0m\u001b[1;33m\u001b[0m\u001b[0m\n\u001b[0;32m    845\u001b[0m                     \u001b[1;32mif\u001b[0m \u001b[0mlk\u001b[0m \u001b[1;32mis\u001b[0m \u001b[1;32mnot\u001b[0m \u001b[1;32mNone\u001b[0m\u001b[1;33m:\u001b[0m\u001b[1;33m\u001b[0m\u001b[1;33m\u001b[0m\u001b[0m\n\u001b[1;32m--\u003e 846\u001b[1;33m                         \u001b[0mleft_keys\u001b[0m\u001b[1;33m.\u001b[0m\u001b[0mappend\u001b[0m\u001b[1;33m(\u001b[0m\u001b[0mleft\u001b[0m\u001b[1;33m.\u001b[0m\u001b[0m_get_label_or_level_values\u001b[0m\u001b[1;33m(\u001b[0m\u001b[0mlk\u001b[0m\u001b[1;33m)\u001b[0m\u001b[1;33m)\u001b[0m\u001b[1;33m\u001b[0m\u001b[1;33m\u001b[0m\u001b[0m\n\u001b[0m\u001b[0;32m    847\u001b[0m                         \u001b[0mjoin_names\u001b[0m\u001b[1;33m.\u001b[0m\u001b[0mappend\u001b[0m\u001b[1;33m(\u001b[0m\u001b[0mlk\u001b[0m\u001b[1;33m)\u001b[0m\u001b[1;33m\u001b[0m\u001b[1;33m\u001b[0m\u001b[0m\n\u001b[0;32m    848\u001b[0m                     \u001b[1;32melse\u001b[0m\u001b[1;33m:\u001b[0m\u001b[1;33m\u001b[0m\u001b[1;33m\u001b[0m\u001b[0m\n",
            "\u001b[1;32mD:\\software\\Anaconda\\envs\\data\\lib\\site-packages\\pandas\\core\\generic.py\u001b[0m in \u001b[0;36m_get_label_or_level_values\u001b[1;34m(self, key, axis)\u001b[0m\n\u001b[0;32m   1704\u001b[0m             \u001b[0mvalues\u001b[0m \u001b[1;33m\u003d\u001b[0m \u001b[0mself\u001b[0m\u001b[1;33m.\u001b[0m\u001b[0maxes\u001b[0m\u001b[1;33m[\u001b[0m\u001b[0maxis\u001b[0m\u001b[1;33m]\u001b[0m\u001b[1;33m.\u001b[0m\u001b[0mget_level_values\u001b[0m\u001b[1;33m(\u001b[0m\u001b[0mkey\u001b[0m\u001b[1;33m)\u001b[0m\u001b[1;33m.\u001b[0m\u001b[0m_values\u001b[0m\u001b[1;33m\u001b[0m\u001b[1;33m\u001b[0m\u001b[0m\n\u001b[0;32m   1705\u001b[0m         \u001b[1;32melse\u001b[0m\u001b[1;33m:\u001b[0m\u001b[1;33m\u001b[0m\u001b[1;33m\u001b[0m\u001b[0m\n\u001b[1;32m-\u003e 1706\u001b[1;33m             \u001b[1;32mraise\u001b[0m \u001b[0mKeyError\u001b[0m\u001b[1;33m(\u001b[0m\u001b[0mkey\u001b[0m\u001b[1;33m)\u001b[0m\u001b[1;33m\u001b[0m\u001b[1;33m\u001b[0m\u001b[0m\n\u001b[0m\u001b[0;32m   1707\u001b[0m \u001b[1;33m\u001b[0m\u001b[0m\n\u001b[0;32m   1708\u001b[0m         \u001b[1;31m# Check for duplicates\u001b[0m\u001b[1;33m\u001b[0m\u001b[1;33m\u001b[0m\u001b[1;33m\u001b[0m\u001b[0m\n",
            "\u001b[1;31mKeyError\u001b[0m: \u0027id\u0027"
          ],
          "ename": "KeyError",
          "evalue": "\u0027id\u0027",
          "output_type": "error"
        }
      ],
      "source": "ndata\u003dpd.merge(left\u003dnutrients,right\u003dinfo,on\u003d\u0027id\u0027,how\u003d\u0027outer\u0027)",
      "metadata": {
        "pycharm": {
          "metadata": false,
          "name": "#%%\n",
          "is_executing": false
        }
      }
    },
    {
      "cell_type": "code",
      "execution_count": 27,
      "outputs": [
        {
          "data": {
            "text/plain": "1008"
          },
          "metadata": {},
          "output_type": "execute_result",
          "execution_count": 27
        }
      ],
      "source": "db[0][\u0027id\u0027]",
      "metadata": {
        "pycharm": {
          "metadata": false,
          "name": "#%%\n",
          "is_executing": false
        }
      }
    },
    {
      "cell_type": "code",
      "execution_count": 30,
      "outputs": [],
      "source": "pieces\u003d[]\nfor i in range(len(db)):\n    nutrients\u003dpd.DataFrame(db[i][\u0027nutrients\u0027])\n    nutrients[\u0027id\u0027]\u003ddb[i][\u0027id\u0027]\n    pieces.append(nutrients)\nnutrients\u003dpd.concat(pieces)",
      "metadata": {
        "pycharm": {
          "metadata": false,
          "name": "#%%\n",
          "is_executing": false
        }
      }
    },
    {
      "cell_type": "code",
      "execution_count": 33,
      "outputs": [],
      "source": "nutrients\u003dnutrients.rename(columns\u003d{\n    \u0027description\u0027:\u0027nutrient\u0027,\n    \u0027group\u0027:\u0027nutgroup\u0027\n},copy\u003dFalse)",
      "metadata": {
        "pycharm": {
          "metadata": false,
          "name": "#%%\n",
          "is_executing": false
        }
      }
    },
    {
      "cell_type": "code",
      "execution_count": 40,
      "outputs": [],
      "source": "nutrients\u003dnutrients.drop_duplicates()",
      "metadata": {
        "pycharm": {
          "metadata": false,
          "name": "#%%\n",
          "is_executing": false
        }
      }
    },
    {
      "cell_type": "code",
      "execution_count": 41,
      "outputs": [],
      "source": "ndata\u003dpd.merge(left\u003dnutrients,right\u003dinfo,on\u003d\u0027id\u0027,how\u003d\u0027outer\u0027)",
      "metadata": {
        "pycharm": {
          "metadata": false,
          "name": "#%%\n",
          "is_executing": false
        }
      }
    },
    {
      "cell_type": "code",
      "execution_count": 42,
      "outputs": [
        {
          "data": {
            "text/plain": "                      nutrient     nutgroup units   value    id  \\\n0                      Protein  Composition     g   25.18  1008   \n1            Total lipid (fat)  Composition     g   29.20  1008   \n2  Carbohydrate, by difference  Composition     g    3.06  1008   \n3                          Ash        Other     g    3.28  1008   \n4                       Energy       Energy  kcal  376.00  1008   \n\n              food                  fgroup manufacturer  \n0  Cheese, caraway  Dairy and Egg Products               \n1  Cheese, caraway  Dairy and Egg Products               \n2  Cheese, caraway  Dairy and Egg Products               \n3  Cheese, caraway  Dairy and Egg Products               \n4  Cheese, caraway  Dairy and Egg Products               ",
            "text/html": "\u003cdiv\u003e\n\u003cstyle scoped\u003e\n    .dataframe tbody tr th:only-of-type {\n        vertical-align: middle;\n    }\n\n    .dataframe tbody tr th {\n        vertical-align: top;\n    }\n\n    .dataframe thead th {\n        text-align: right;\n    }\n\u003c/style\u003e\n\u003ctable border\u003d\"1\" class\u003d\"dataframe\"\u003e\n  \u003cthead\u003e\n    \u003ctr style\u003d\"text-align: right;\"\u003e\n      \u003cth\u003e\u003c/th\u003e\n      \u003cth\u003enutrient\u003c/th\u003e\n      \u003cth\u003enutgroup\u003c/th\u003e\n      \u003cth\u003eunits\u003c/th\u003e\n      \u003cth\u003evalue\u003c/th\u003e\n      \u003cth\u003eid\u003c/th\u003e\n      \u003cth\u003efood\u003c/th\u003e\n      \u003cth\u003efgroup\u003c/th\u003e\n      \u003cth\u003emanufacturer\u003c/th\u003e\n    \u003c/tr\u003e\n  \u003c/thead\u003e\n  \u003ctbody\u003e\n    \u003ctr\u003e\n      \u003cth\u003e0\u003c/th\u003e\n      \u003ctd\u003eProtein\u003c/td\u003e\n      \u003ctd\u003eComposition\u003c/td\u003e\n      \u003ctd\u003eg\u003c/td\u003e\n      \u003ctd\u003e25.18\u003c/td\u003e\n      \u003ctd\u003e1008\u003c/td\u003e\n      \u003ctd\u003eCheese, caraway\u003c/td\u003e\n      \u003ctd\u003eDairy and Egg Products\u003c/td\u003e\n      \u003ctd\u003e\u003c/td\u003e\n    \u003c/tr\u003e\n    \u003ctr\u003e\n      \u003cth\u003e1\u003c/th\u003e\n      \u003ctd\u003eTotal lipid (fat)\u003c/td\u003e\n      \u003ctd\u003eComposition\u003c/td\u003e\n      \u003ctd\u003eg\u003c/td\u003e\n      \u003ctd\u003e29.20\u003c/td\u003e\n      \u003ctd\u003e1008\u003c/td\u003e\n      \u003ctd\u003eCheese, caraway\u003c/td\u003e\n      \u003ctd\u003eDairy and Egg Products\u003c/td\u003e\n      \u003ctd\u003e\u003c/td\u003e\n    \u003c/tr\u003e\n    \u003ctr\u003e\n      \u003cth\u003e2\u003c/th\u003e\n      \u003ctd\u003eCarbohydrate, by difference\u003c/td\u003e\n      \u003ctd\u003eComposition\u003c/td\u003e\n      \u003ctd\u003eg\u003c/td\u003e\n      \u003ctd\u003e3.06\u003c/td\u003e\n      \u003ctd\u003e1008\u003c/td\u003e\n      \u003ctd\u003eCheese, caraway\u003c/td\u003e\n      \u003ctd\u003eDairy and Egg Products\u003c/td\u003e\n      \u003ctd\u003e\u003c/td\u003e\n    \u003c/tr\u003e\n    \u003ctr\u003e\n      \u003cth\u003e3\u003c/th\u003e\n      \u003ctd\u003eAsh\u003c/td\u003e\n      \u003ctd\u003eOther\u003c/td\u003e\n      \u003ctd\u003eg\u003c/td\u003e\n      \u003ctd\u003e3.28\u003c/td\u003e\n      \u003ctd\u003e1008\u003c/td\u003e\n      \u003ctd\u003eCheese, caraway\u003c/td\u003e\n      \u003ctd\u003eDairy and Egg Products\u003c/td\u003e\n      \u003ctd\u003e\u003c/td\u003e\n    \u003c/tr\u003e\n    \u003ctr\u003e\n      \u003cth\u003e4\u003c/th\u003e\n      \u003ctd\u003eEnergy\u003c/td\u003e\n      \u003ctd\u003eEnergy\u003c/td\u003e\n      \u003ctd\u003ekcal\u003c/td\u003e\n      \u003ctd\u003e376.00\u003c/td\u003e\n      \u003ctd\u003e1008\u003c/td\u003e\n      \u003ctd\u003eCheese, caraway\u003c/td\u003e\n      \u003ctd\u003eDairy and Egg Products\u003c/td\u003e\n      \u003ctd\u003e\u003c/td\u003e\n    \u003c/tr\u003e\n  \u003c/tbody\u003e\n\u003c/table\u003e\n\u003c/div\u003e"
          },
          "metadata": {},
          "output_type": "execute_result",
          "execution_count": 42
        }
      ],
      "source": "ndata.head()",
      "metadata": {
        "pycharm": {
          "metadata": false,
          "name": "#%%\n",
          "is_executing": false
        }
      }
    },
    {
      "cell_type": "code",
      "execution_count": 43,
      "outputs": [
        {
          "name": "stdout",
          "text": [
            "\u003cclass \u0027pandas.core.frame.DataFrame\u0027\u003e\nInt64Index: 375176 entries, 0 to 375175\nData columns (total 8 columns):\nnutrient        375176 non-null object\nnutgroup        375176 non-null object\nunits           375176 non-null object\nvalue           375176 non-null float64\nid              375176 non-null int64\nfood            375176 non-null object\nfgroup          375176 non-null object\nmanufacturer    293054 non-null object\ndtypes: float64(1), int64(1), object(6)\nmemory usage: 25.8+ MB\n"
          ],
          "output_type": "stream"
        }
      ],
      "source": "ndata.info()",
      "metadata": {
        "pycharm": {
          "metadata": false,
          "name": "#%%\n",
          "is_executing": false
        }
      }
    },
    {
      "cell_type": "code",
      "execution_count": 44,
      "outputs": [
        {
          "data": {
            "text/plain": "nutrient                                       Glycine\nnutgroup                                   Amino Acids\nunits                                                g\nvalue                                             0.04\nid                                                6158\nfood            Soup, tomato bisque, canned, condensed\nfgroup                      Soups, Sauces, and Gravies\nmanufacturer                                          \nName: 30000, dtype: object"
          },
          "metadata": {},
          "output_type": "execute_result",
          "execution_count": 44
        }
      ],
      "source": "ndata.iloc[30000]",
      "metadata": {
        "pycharm": {
          "metadata": false,
          "name": "#%%\n",
          "is_executing": false
        }
      }
    },
    {
      "cell_type": "code",
      "execution_count": 45,
      "outputs": [],
      "source": "result\u003dndata.groupby([\u0027nutrient\u0027,\u0027fgroup\u0027])[\u0027value\u0027].quantile(0.5)",
      "metadata": {
        "pycharm": {
          "metadata": false,
          "name": "#%%\n",
          "is_executing": false
        }
      }
    },
    {
      "cell_type": "code",
      "execution_count": 49,
      "outputs": [
        {
          "data": {
            "text/plain": "nutrient          fgroup                           \nAdjusted Protein  Sweets                               12.9000\n                  Vegetables and Vegetable Products     2.1800\nAlanine           Baby Foods                            0.0850\n                  Baked Products                        0.2480\n                  Beef Products                         1.5500\n                  Beverages                             0.0030\n                  Breakfast Cereals                     0.3110\n                  Cereal Grains and Pasta               0.3730\n                  Dairy and Egg Products                0.2710\n                  Ethnic Foods                          1.2900\n                  Fast Foods                            0.5140\n                  Fats and Oils                         0.0000\n                  Finfish and Shellfish Products        1.2180\n                  Fruits and Fruit Juices               0.0270\n                  Lamb, Veal, and Game Products         1.4080\n                  Legumes and Legume Products           0.4100\n                  Meals, Entrees, and Sidedishes        0.3270\n                  Nut and Seed Products                 0.7345\n                  Pork Products                         1.3070\n                  Poultry Products                      1.3940\n                  Restaurant Foods                      0.4650\n                  Sausages and Luncheon Meats           0.9420\n                  Snacks                                0.4335\n                  Soups, Sauces, and Gravies            0.0650\n                  Spices and Herbs                      0.5550\n                  Sweets                                0.1020\n                  Vegetables and Vegetable Products     0.0840\nAlcohol, ethyl    Baby Foods                            0.0000\n                  Baked Products                        0.0000\n                  Beef Products                         0.0000\n                                                        ...   \nWater             Snacks                                3.5200\n                  Soups, Sauces, and Gravies           85.9000\n                  Spices and Herbs                     43.6700\n                  Sweets                                9.0500\n                  Vegetables and Vegetable Products    89.1950\nZinc, Zn          Baby Foods                            0.5900\n                  Baked Products                        0.6600\n                  Beef Products                         5.3900\n                  Beverages                             0.0400\n                  Breakfast Cereals                     2.8850\n                  Cereal Grains and Pasta               1.0900\n                  Dairy and Egg Products                1.3900\n                  Ethnic Foods                          1.0450\n                  Fast Foods                            1.2500\n                  Fats and Oils                         0.0200\n                  Finfish and Shellfish Products        0.6700\n                  Fruits and Fruit Juices               0.1000\n                  Lamb, Veal, and Game Products         3.9400\n                  Legumes and Legume Products           1.1400\n                  Meals, Entrees, and Sidedishes        0.6300\n                  Nut and Seed Products                 3.2900\n                  Pork Products                         2.3200\n                  Poultry Products                      2.5000\n                  Restaurant Foods                      0.8000\n                  Sausages and Luncheon Meats           2.1300\n                  Snacks                                1.4700\n                  Soups, Sauces, and Gravies            0.2000\n                  Spices and Herbs                      2.7500\n                  Sweets                                0.3600\n                  Vegetables and Vegetable Products     0.3300\nName: value, Length: 2246, dtype: float64"
          },
          "metadata": {},
          "output_type": "execute_result",
          "execution_count": 49
        }
      ],
      "source": "result",
      "metadata": {
        "pycharm": {
          "metadata": false,
          "name": "#%%\n",
          "is_executing": false
        }
      }
    },
    {
      "cell_type": "code",
      "execution_count": 55,
      "outputs": [
        {
          "data": {
            "text/plain": "\u003cmatplotlib.axes._subplots.AxesSubplot at 0x221be536828\u003e"
          },
          "metadata": {},
          "output_type": "execute_result",
          "execution_count": 55
        },
        {
          "data": {
            "text/plain": "\u003cFigure size 432x288 with 1 Axes\u003e",
            "image/png": "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\u003d\n"
          },
          "metadata": {
            "needs_background": "light"
          },
          "output_type": "display_data"
        }
      ],
      "source": "result[\u0027Zinc, Zn\u0027].sort_values().plot(kind\u003d\u0027barh\u0027,color\u003d\u0027green\u0027)",
      "metadata": {
        "pycharm": {
          "metadata": false,
          "name": "#%%\n",
          "is_executing": false
        }
      }
    },
    {
      "cell_type": "code",
      "execution_count": null,
      "outputs": [],
      "source": "\n",
      "metadata": {
        "pycharm": {
          "metadata": false,
          "name": "#%%\n"
        }
      }
    }
  ],
  "metadata": {
    "language_info": {
      "codemirror_mode": {
        "name": "ipython",
        "version": 2
      },
      "file_extension": ".py",
      "mimetype": "text/x-python",
      "name": "python",
      "nbconvert_exporter": "python",
      "pygments_lexer": "ipython2",
      "version": "2.7.6"
    },
    "kernelspec": {
      "name": "pycharm-77c020f0",
      "language": "python",
      "display_name": "PyCharm (analysisData)"
    }
  },
  "nbformat": 4,
  "nbformat_minor": 0
}