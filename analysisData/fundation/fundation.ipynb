{
 "cells": [
  {
   "cell_type": "code",
   "execution_count": 3,
   "metadata": {
    "collapsed": true
   },
   "outputs": [],
   "source": [
    "%matplotlib inline"
   ]
  },
  {
   "cell_type": "code",
   "execution_count": 8,
   "metadata": {},
   "outputs": [
    {
     "name": "stdout",
     "output_type": "stream",
     "text": [
      "[3, 4, 5]\n"
     ]
    }
   ],
   "source": [
    "#元组的一些操作\n",
    "#拆分\n",
    "tup=[(1,2),(3,4),(5,6)]\n",
    "# for a,b in tup:\n",
    "#     print(a,b)\n",
    "# \n",
    "# for i in tup:\n",
    "#     print(i)\n",
    "#     \n",
    "# a,b=3,4\n",
    "# b,a=a,b\n",
    "# print(a,b)\n",
    "values=1,2,3,4,5\n",
    "a,b,*rest=values\n",
    "print(rest)"
   ]
  },
  {
   "cell_type": "code",
   "execution_count": 23,
   "metadata": {},
   "outputs": [
    {
     "data": {
      "text/plain": [
       "datetime.timedelta(10)"
      ]
     },
     "execution_count": 23,
     "metadata": {},
     "output_type": "execute_result"
    }
   ],
   "source": [
    "from datetime import datetime\n",
    "t1=datetime(2019,4,15)\n",
    "t2=datetime.strptime('20190425','%Y%m%d')\n",
    "t1.year\n",
    "t1.month\n",
    "t1.day\n",
    "t1.date()\n",
    "t1.time()\n",
    "\n",
    "t1.strftime('%Y-%m-%d %H:%M')\n",
    "t2.date()-t1.date()"
   ]
  },
  {
   "cell_type": "code",
   "execution_count": 27,
   "metadata": {},
   "outputs": [
    {
     "name": "stdout",
     "output_type": "stream",
     "text": [
      "['8', '6', '3', '2', '1']\n"
     ]
    }
   ],
   "source": [
    "a=['1','3','2','8','6']\n",
    "a.sort()\n",
    "a.reverse()\n",
    "print(a)"
   ]
  },
  {
   "cell_type": "code",
   "execution_count": 28,
   "metadata": {},
   "outputs": [
    {
     "name": "stdout",
     "output_type": "stream",
     "text": [
      "kirito\n"
     ]
    }
   ],
   "source": [
    "a=['kirito','xilik','lizi']\n",
    "map_test={}\n",
    "for i,name in enumerate(a):\n",
    "    map_test[i]=name\n",
    "print(map_test[0])"
   ]
  },
  {
   "cell_type": "code",
   "execution_count": 38,
   "metadata": {},
   "outputs": [
    {
     "data": {
      "text/plain": [
       "{'after': 'am', 'time': 'MIKU'}"
      ]
     },
     "execution_count": 38,
     "metadata": {},
     "output_type": "execute_result"
    }
   ],
   "source": [
    "a=['time','after','time']\n",
    "b=['I','am','MIKU']\n",
    "zipped=zip(a,b)\n",
    "# type(zipped)\n",
    "# for c,d in zipped:\n",
    "#     print(c,d)\n",
    "# for i in zipped:\n",
    "#     print(i)\n",
    "dict(zipped)"
   ]
  },
  {
   "cell_type": "code",
   "execution_count": 41,
   "metadata": {},
   "outputs": [
    {
     "name": "stdout",
     "output_type": "stream",
     "text": [
      "{1, 4, 23}\n"
     ]
    }
   ],
   "source": [
    "a=set([1,23,4])\n",
    "print(a)"
   ]
  },
  {
   "cell_type": "code",
   "execution_count": 43,
   "metadata": {},
   "outputs": [
    {
     "data": {
      "text/plain": [
       "[1, 2, 3]"
      ]
     },
     "execution_count": 43,
     "metadata": {},
     "output_type": "execute_result"
    }
   ],
   "source": [
    "list((1,2,3))"
   ]
  },
  {
   "cell_type": "code",
   "execution_count": 49,
   "metadata": {},
   "outputs": [
    {
     "data": {
      "text/plain": [
       "{'a': 'oh', 'bc': 'it is', 'cde': 'successful'}"
      ]
     },
     "execution_count": 49,
     "metadata": {},
     "output_type": "execute_result"
    }
   ],
   "source": [
    "a=['a','bc','cde','fghi']\n",
    "b=['oh','it is','successful']\n",
    "zipped=zip(a,b)\n",
    "{c:d for c,d in zipped}"
   ]
  },
  {
   "cell_type": "code",
   "execution_count": 47,
   "metadata": {},
   "outputs": [
    {
     "ename": "SyntaxError",
     "evalue": "invalid syntax (<ipython-input-47-060410ba929c>, line 1)",
     "traceback": [
      "\u001b[1;36m  File \u001b[1;32m\"<ipython-input-47-060410ba929c>\"\u001b[1;36m, line \u001b[1;32m1\u001b[0m\n\u001b[1;33m    {c :d for c,d in b,a}\u001b[0m\n\u001b[1;37m                      ^\u001b[0m\n\u001b[1;31mSyntaxError\u001b[0m\u001b[1;31m:\u001b[0m invalid syntax\n"
     ],
     "output_type": "error"
    }
   ],
   "source": [
    "{c :d for c,d in b,a}"
   ]
  },
  {
   "cell_type": "code",
   "execution_count": 50,
   "metadata": {},
   "outputs": [
    {
     "data": {
      "text/plain": [
       "['John', 'kirito', 'kilihaya']"
      ]
     },
     "execution_count": 50,
     "metadata": {},
     "output_type": "execute_result"
    }
   ],
   "source": [
    "all_data=[['John','kirito'],['kilihaya','date']]\n",
    "[name for names in all_data for name in names if name[0]=='k' or name[0]=='J']"
   ]
  },
  {
   "cell_type": "code",
   "execution_count": 51,
   "metadata": {},
   "outputs": [
    {
     "data": {
      "text/plain": [
       "9"
      ]
     },
     "execution_count": 51,
     "metadata": {},
     "output_type": "execute_result"
    }
   ],
   "source": [
    "#匿名函数的基本语法\n",
    "f=lambda x:x*x\n",
    "f(3)"
   ]
  },
  {
   "cell_type": "code",
   "execution_count": null,
   "metadata": {},
   "outputs": [],
   "source": []
  }
 ],
 "metadata": {
  "kernelspec": {
   "display_name": "Python 2",
   "language": "python",
   "name": "python2"
  },
  "language_info": {
   "codemirror_mode": {
    "name": "ipython",
    "version": 2
   },
   "file_extension": ".py",
   "mimetype": "text/x-python",
   "name": "python",
   "nbconvert_exporter": "python",
   "pygments_lexer": "ipython2",
   "version": "2.7.6"
  }
 },
 "nbformat": 4,
 "nbformat_minor": 0
}
