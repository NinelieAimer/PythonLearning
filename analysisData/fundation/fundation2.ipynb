{
 "nbformat": 4,
 "nbformat_minor": 2,
 "metadata": {
  "language_info": {
   "name": "python",
   "codemirror_mode": {
    "name": "ipython",
    "version": 3
   },
   "version": "3.7.3"
  },
  "orig_nbformat": 2,
  "file_extension": ".py",
  "mimetype": "text/x-python",
  "name": "python",
  "npconvert_exporter": "python",
  "pygments_lexer": "ipython3",
  "version": 3
 },
 "cells": [
  {
   "cell_type": "markdown",
   "execution_count": null,
   "metadata": {},
   "outputs": [],
   "source": [
    "# python一些细节补充"
   ]
  },
  {
   "cell_type": "code",
   "execution_count": 1,
   "metadata": {},
   "outputs": [
    {
     "name": "stdout",
     "output_type": "stream",
     "text": "True\nFalse\n"
    }
   ],
   "source": [
    "#python中的链式比较,A<B<C会变成(A<B and B<C)\n",
    "print(-3<-2<-1)\n",
    "print((-3<-2)<-1)"
   ]
  },
  {
   "cell_type": "code",
   "execution_count": 2,
   "metadata": {},
   "outputs": [
    {
     "name": "stdout",
     "output_type": "stream",
     "text": "1\n([1, 2, 3, 4, 5], [1, 2, 3])\n{'inter': 1, 'inter2': 2}\n"
    }
   ],
   "source": [
    "#arg,*args,**kwargs分别代表一个参数，一个元组参数，一个字典列表\n",
    "def main(arg,*args,**kwargs):\n",
    "    print(arg)\n",
    "    print(args)\n",
    "    print(kwargs)\n",
    "main(1,[1,2,3,4,5],[1,2,3],inter=1,inter2=2)"
   ]
  },
  {
   "cell_type": "markdown",
   "execution_count": null,
   "metadata": {},
   "outputs": [],
   "source": [
    "is和==区别在于一个判断一个地址是否相等，后面一个仅仅判断值相等"
   ]
  },
  {
   "cell_type": "code",
   "execution_count": 3,
   "metadata": {},
   "outputs": [
    {
     "name": "stdout",
     "output_type": "stream",
     "text": "2217876828488 2217876828488 [1, 2, 3, 4] [1, 2, 3, 4]\n"
    }
   ],
   "source": [
    "list_a=list_b=[1,2,3,4]\n",
    "print(id(list_a),id(list_b),str(list_a),str(list_b))    #一个地址一个值"
   ]
  },
  {
   "cell_type": "code",
   "execution_count": 4,
   "metadata": {},
   "outputs": [
    {
     "name": "stdout",
     "output_type": "stream",
     "text": "2217876828552 2217876828488\n"
    }
   ],
   "source": [
    "list_a=[4,5,6]\n",
    "print(id(list_a),id(list_b))    #这里a地址不同了，但是b地址没有变"
   ]
  },
  {
   "cell_type": "code",
   "execution_count": 5,
   "metadata": {},
   "outputs": [
    {
     "name": "stdout",
     "output_type": "stream",
     "text": "2217876828552\n"
    }
   ],
   "source": [
    "list_a[0]=7\n",
    "list_a[1]=8\n",
    "list_a[2]=9\n",
    "print(id(list_a))   #当对列表修改时候，内存地址不会变的，但是地址中的内容会变得"
   ]
  },
  {
   "cell_type": "markdown",
   "execution_count": null,
   "metadata": {},
   "outputs": [],
   "source": [
    "copy 和 deepcopy 在一般情况下相同的，但是在有子对象时候，子对象地址不会新生成需要小心"
   ]
  },
  {
   "cell_type": "code",
   "execution_count": 6,
   "metadata": {},
   "outputs": [
    {
     "name": "stdout",
     "output_type": "stream",
     "text": "2217875968776 2217874193160\n[1, 2, 3, 4, 5, 6] [1, 2, 3, 4, 5]\n"
    }
   ],
   "source": [
    "import copy\n",
    "list_c=[1,2,3,4,5]\n",
    "list_d=copy.copy(list_c)\n",
    "print(id(list_c),id(list_d))        #两个不同的地址\n",
    "\n",
    "list_c.append(6)\n",
    "print(list_c,list_d)        #不会受到影响"
   ]
  },
  {
   "cell_type": "code",
   "execution_count": 7,
   "metadata": {},
   "outputs": [
    {
     "name": "stdout",
     "output_type": "stream",
     "text": "2217875968456 2217860295176\n2217856292488 2217856292488\n[1, 2, 3, 4, [1, 2, 4]] [1, 2, 3, 4, [1, 2, 4]]\n"
    }
   ],
   "source": [
    "list_e=[1,2,3,4,[1,2]]\n",
    "list_f=copy.copy(list_e)\n",
    "\n",
    "print(id(list_e),id(list_f))    #这里地址是不一样的\n",
    "print(id(list_e[-1]),id(list_f[-1]))    #这个地址就是一样的了\n",
    "\n",
    "list_e[-1].append(4)\n",
    "print(list_e,list_f)    #这里都被改了"
   ]
  },
  {
   "cell_type": "markdown",
   "execution_count": null,
   "metadata": {},
   "outputs": [],
   "source": [
    ">   传递和引用传递不同是，一个传递值，另一个直接传递地址，第一个传递值相当于对副本进行更改，但是第二个相当于对于原函数进行更改。\n",
    "    值传递的有tuple,int,str，引用传递的有list和dict"
   ]
  },
  {
   "cell_type": "code",
   "execution_count": 8,
   "metadata": {},
   "outputs": [
    {
     "name": "stdout",
     "output_type": "stream",
     "text": "6\n[5, 2, 3]\n"
    }
   ],
   "source": [
    "#这里tuple,int,str等就是值传递，不会改变\n",
    "def test(number):\n",
    "    number+=1\n",
    "    return\n",
    "a=6\n",
    "test(a)\n",
    "print(a)\n",
    "\n",
    "#list和dict就是引用传递，会改变的\n",
    "def test2(ls):\n",
    "    ls[0]=5\n",
    "    return\n",
    "b=[1,2,3]\n",
    "test2(b)\n",
    "print(b)"
   ]
  },
  {
   "cell_type": "markdown",
   "execution_count": null,
   "metadata": {},
   "outputs": [],
   "source": [
    "any()的作用是用来判断一个可迭代对象中，是否有除(False,0,\"\")的元素有就是True。\n",
    "all()的作用就是判断一个可迭代对象中是否全都是(False,0,\"\")"
   ]
  },
  {
   "cell_type": "markdown",
   "execution_count": null,
   "metadata": {},
   "outputs": [],
   "source": [
    "del在python不会删除内存地址的,非常方便"
   ]
  },
  {
   "cell_type": "code",
   "execution_count": 9,
   "metadata": {},
   "outputs": [
    {
     "name": "stdout",
     "output_type": "stream",
     "text": "2217876830600\n"
    }
   ],
   "source": [
    "a=[1,2,3]\n",
    "b=a\n",
    "del a\n",
    "print(id(b))    #这里b没有被删除"
   ]
  },
  {
   "cell_type": "markdown",
   "execution_count": null,
   "metadata": {},
   "outputs": [],
   "source": [
    "format函数可以对任何变量进行赋值，但是%不能对tuple对象进行赋值"
   ]
  },
  {
   "cell_type": "code",
   "execution_count": 10,
   "metadata": {},
   "outputs": [
    {
     "name": "stdout",
     "output_type": "stream",
     "text": "time is money [1, 2]\n"
    }
   ],
   "source": [
    "a='money'\n",
    "b=[1,2]\n",
    "print('time is %s %s'%(a,b))    #这里一定要用元组传入才可以"
   ]
  },
  {
   "cell_type": "markdown",
   "execution_count": null,
   "metadata": {},
   "outputs": [],
   "source": [
    "对于数值型变量来说a=a+b和a=+b是一样的,都会生成新对象，对于**list和tuple**说a+=b**不会**改变内存地址"
   ]
  },
  {
   "cell_type": "code",
   "execution_count": 11,
   "metadata": {},
   "outputs": [
    {
     "name": "stdout",
     "output_type": "stream",
     "text": "2217887640648\n2217887640648\n"
    }
   ],
   "source": [
    "a=[1,2,3]\n",
    "b=[5,6,7]\n",
    "print(id(a))\n",
    "a+=b\n",
    "print(id(a))    #一样的地址"
   ]
  },
  {
   "cell_type": "markdown",
   "execution_count": null,
   "metadata": {},
   "outputs": [],
   "source": [
    ">关于类方法，我们重新学习一下"
   ]
  },
  {
   "cell_type": "code",
   "execution_count": 17,
   "metadata": {},
   "outputs": [
    {
     "name": "stdout",
     "output_type": "stream",
     "text": "flash back genji\n"
    }
   ],
   "source": [
    "#假设我们要定义英雄，先定义一个英雄类\n",
    "class Hero(object):\n",
    "    def __init__(self,name,slogan):\n",
    "        #实例变量\n",
    "        self.name=name\n",
    "        self.slogan=slogan\n",
    "\n",
    "    #实例方法\n",
    "    def flash(self):\n",
    "        print(\"flash back %s\" % self.name)\n",
    "genji=Hero('genji',\"ahoga\")\n",
    "genji.flash()   #这里不能用print因为本来方法就自带的Print"
   ]
  },
  {
   "cell_type": "markdown",
   "execution_count": null,
   "metadata": {},
   "outputs": [],
   "source": [
    "对象在调用方法时候会自动把对象的指针传入，所以在形参self就不需要传入数值"
   ]
  },
  {
   "cell_type": "markdown",
   "execution_count": null,
   "metadata": {},
   "outputs": [],
   "source": [
    "类变量，实例变量和局部变量。类变量所有实例都有的"
   ]
  },
  {
   "cell_type": "code",
   "execution_count": 18,
   "metadata": {},
   "outputs": [],
   "source": [
    "class HeroN:\n",
    "    game='LOL'  #这个就是类变量\n",
    "    def __init__(self,name):\n",
    "        self.name=name  #这个是实例变量\n",
    "        a=1 #这个就是局部变量\n",
    "    def flash(self):\n",
    "        print(self.name)\n",
    "        print(game)\n",
    "    def bakc():\n",
    "        print(a)\n",
    "time=HeroN('yasuo')"
   ]
  },
  {
   "cell_type": "code",
   "execution_count": 23,
   "metadata": {},
   "outputs": [],
   "source": [
    "time.game='OW'"
   ]
  },
  {
   "cell_type": "code",
   "execution_count": 24,
   "metadata": {},
   "outputs": [
    {
     "ename": "TypeError",
     "evalue": "bakc() takes 0 positional arguments but 1 was given",
     "output_type": "error",
     "traceback": [
      "\u001b[1;31m---------------------------------------------------------------------------\u001b[0m",
      "\u001b[1;31mTypeError\u001b[0m                                 Traceback (most recent call last)",
      "\u001b[1;32m<ipython-input-24-9e334064a6c8>\u001b[0m in \u001b[0;36m<module>\u001b[1;34m\u001b[0m\n\u001b[1;32m----> 1\u001b[1;33m \u001b[0mtime\u001b[0m\u001b[1;33m.\u001b[0m\u001b[0mbakc\u001b[0m\u001b[1;33m(\u001b[0m\u001b[1;33m)\u001b[0m \u001b[1;31m#会报错\u001b[0m\u001b[1;33m\u001b[0m\u001b[1;33m\u001b[0m\u001b[0m\n\u001b[0m",
      "\u001b[1;31mTypeError\u001b[0m: bakc() takes 0 positional arguments but 1 was given"
     ]
    }
   ],
   "source": [
    "time.bakc() #会报错，因为是局部变量"
   ]
  },
  {
   "cell_type": "code",
   "execution_count": 27,
   "metadata": {},
   "outputs": [
    {
     "data": {
      "text/plain": "'OW'"
     },
     "execution_count": 27,
     "metadata": {},
     "output_type": "execute_result"
    }
   ],
   "source": [
    "time.game #这里虽然改了，但是类里面的东西没有改，我们删掉这个值"
   ]
  },
  {
   "cell_type": "code",
   "execution_count": 28,
   "metadata": {},
   "outputs": [],
   "source": [
    "del time.game"
   ]
  },
  {
   "cell_type": "code",
   "execution_count": 29,
   "metadata": {},
   "outputs": [
    {
     "data": {
      "text/plain": "'LOL'"
     },
     "execution_count": 29,
     "metadata": {},
     "output_type": "execute_result"
    }
   ],
   "source": [
    "time.game   #直接又返回了LOL"
   ]
  },
  {
   "cell_type": "markdown",
   "execution_count": null,
   "metadata": {},
   "outputs": [],
   "source": [
    "##  实例方法、类方法、静态方法"
   ]
  },
  {
   "cell_type": "code",
   "execution_count": 13,
   "metadata": {},
   "outputs": [
    {
     "name": "stdout",
     "output_type": "stream",
     "text": "DNF\nLOL\n"
    }
   ],
   "source": [
    "class Hero3:\n",
    "    game='LOL'\n",
    "    def flash(self):\n",
    "        print(self.game)    #这个是实例变量\n",
    "        print(Hero3.game)    #这是调用类变量\n",
    "    \n",
    "    @classmethod\n",
    "    def heal(cls,self):\n",
    "        print(cls.game) #使用cls来调用类的变量\n",
    "        print(self.game)\n",
    "    @staticmethod\n",
    "    def ignit():    #不用型参\n",
    "        print('use light')\n",
    "        print(Hero3.game)   #需要访问类变量，直接就好\n",
    "    \n",
    "yasuo=Hero3()\n",
    "yasuo.game='DNF'\n",
    "yasuo.flash()"
   ]
  },
  {
   "cell_type": "code",
   "execution_count": 14,
   "metadata": {},
   "outputs": [
    {
     "name": "stdout",
     "output_type": "stream",
     "text": "LOL\n"
    }
   ],
   "source": [
    "Hero3.heal(yasuo)   #这样传进亚索对象，就可以调用实例方法，然后可以调用类方法，这里一定要传入对象"
   ]
  },
  {
   "cell_type": "code",
   "execution_count": 43,
   "metadata": {},
   "outputs": [
    {
     "name": "stdout",
     "output_type": "stream",
     "text": "use light\nLOL\nuse light\nLOL\n"
    }
   ],
   "source": [
    "Hero3.ignit()   #都可以使用静态方法\n",
    "yasuo.ignit()"
   ]
  },
  {
   "cell_type": "markdown",
   "execution_count": null,
   "metadata": {},
   "outputs": [],
   "source": [
    ">类方法和静态方法不用实例化就可以访问，类方法有cls参数，可以访问类属性，静态方法实际上和类没啥关系，就是用一下类的命名空间罢了"
   ]
  },
  {
   "cell_type": "code",
   "execution_count": 45,
   "metadata": {},
   "outputs": [],
   "source": [
    "class Hero4:\n",
    "    game='LOL'\n",
    "    def __init__(self,name):\n",
    "        self.name=name\n",
    "    def flash(self):\n",
    "        print('%s flash over' % self.name)\n",
    "class AD(Hero4):\n",
    "    slogan='my heart will go on'\n",
    "    def Q(self):\n",
    "        print('TTTTT')\n",
    "\n",
    "time=AD('ash')"
   ]
  },
  {
   "cell_type": "code",
   "execution_count": 49,
   "metadata": {},
   "outputs": [
    {
     "name": "stdout",
     "output_type": "stream",
     "text": "LOL\nmy heart will go on\nash\nTTTTT\nash flash over\n"
    }
   ],
   "source": [
    "print(time.game)\n",
    "print(time.slogan)\n",
    "print(time.name)\n",
    "time.Q()\n",
    "time.flash()"
   ]
  },
  {
   "cell_type": "markdown",
   "execution_count": null,
   "metadata": {},
   "outputs": [],
   "source": [
    "继承后的子类如果没有写构造函数的话，**默认会使用父类的构造函数**，如果子类写构造函数，**会默认调用子类的构造方法**，可以使用super函数继承父类的一些构造函数"
   ]
  },
  {
   "cell_type": "code",
   "execution_count": 60,
   "metadata": {},
   "outputs": [],
   "source": [
    "class Hero5:\n",
    "    def __init__(self,name):\n",
    "        self.name=name\n",
    "class ADC(Hero5):\n",
    "    def __init__(self,name,gender):\n",
    "        self.gender=gender\n",
    "        super(ADC,self).__init__(name)"
   ]
  },
  {
   "cell_type": "code",
   "execution_count": 61,
   "metadata": {},
   "outputs": [],
   "source": [
    "ash=ADC('ash','Female')"
   ]
  },
  {
   "cell_type": "code",
   "execution_count": 62,
   "metadata": {},
   "outputs": [
    {
     "name": "stdout",
     "output_type": "stream",
     "text": "ash Female\n"
    }
   ],
   "source": [
    "print(ash.name,ash.gender)"
   ]
  },
  {
   "cell_type": "markdown",
   "execution_count": null,
   "metadata": {},
   "outputs": [],
   "source": [
    "##  装饰器专题 "
   ]
  },
  {
   "cell_type": "markdown",
   "execution_count": null,
   "metadata": {},
   "outputs": [],
   "source": [
    ">装饰器作用，真的就是为了给函数装饰一下，先从闭包开始讲起"
   ]
  },
  {
   "cell_type": "markdown",
   "execution_count": 1,
   "metadata": {},
   "outputs": [],
   "source": [
    "### 闭包"
   ]
  },
  {
   "cell_type": "markdown",
   "execution_count": null,
   "metadata": {},
   "outputs": [],
   "source": [
    "- 闭包的意思就是套娃，一层套一层，返回内存函数"
   ]
  },
  {
   "cell_type": "code",
   "execution_count": 15,
   "metadata": {},
   "outputs": [],
   "source": [
    "def out(a): \n",
    "    def In():\n",
    "        print(a)\n",
    "    return In   #返回内层函数指针"
   ]
  },
  {
   "cell_type": "code",
   "execution_count": 17,
   "metadata": {},
   "outputs": [
    {
     "name": "stdout",
     "output_type": "stream",
     "text": "wo\n"
    }
   ],
   "source": [
    "out('wo')() #这就是套娃，看出来了吗"
   ]
  },
  {
   "cell_type": "markdown",
   "execution_count": null,
   "metadata": {},
   "outputs": [],
   "source": [
    "> 有时候，我们想不改变原来函数基础，对函数添加一些功能，这时候就需要装饰器。"
   ]
  },
  {
   "cell_type": "code",
   "execution_count": 28,
   "metadata": {},
   "outputs": [],
   "source": [
    "def append():   #想计算这个函数时间，我们可以使用闭包\n",
    "    a=[]\n",
    "    for i in range(1000):\n",
    "        a.append(i)\n",
    "\n",
    "import time\n",
    "def out(func):  #其实就是用这个函数去修饰这个函数\n",
    "    def In():\n",
    "        start=time.clock()\n",
    "        func()\n",
    "        end=time.clock()\n",
    "        print(end-start)\n",
    "    return In"
   ]
  },
  {
   "cell_type": "code",
   "execution_count": 29,
   "metadata": {},
   "outputs": [],
   "source": [
    "new_func=out(append)"
   ]
  },
  {
   "cell_type": "code",
   "execution_count": 30,
   "metadata": {},
   "outputs": [
    {
     "name": "stdout",
     "output_type": "stream",
     "text": "0.0001932999998643936\nD:\\software\\Anaconda\\envs\\data\\lib\\site-packages\\ipykernel_launcher.py:9: DeprecationWarning: time.clock has been deprecated in Python 3.3 and will be removed from Python 3.8: use time.perf_counter or time.process_time instead\n  if __name__ == '__main__':\nD:\\software\\Anaconda\\envs\\data\\lib\\site-packages\\ipykernel_launcher.py:11: DeprecationWarning: time.clock has been deprecated in Python 3.3 and will be removed from Python 3.8: use time.perf_counter or time.process_time instead\n  # This is added back by InteractiveShellApp.init_path()\n"
    }
   ],
   "source": [
    "new_func()  #但是这样接收，然后又重新调用很麻烦，就有了装饰器"
   ]
  },
  {
   "cell_type": "code",
   "execution_count": 31,
   "metadata": {},
   "outputs": [],
   "source": [
    "@out    #这样就对函数进行装饰了\n",
    "def append():\n",
    "    a=[]\n",
    "    for i in range(1000):\n",
    "        a.append(i)"
   ]
  },
  {
   "cell_type": "code",
   "execution_count": 32,
   "metadata": {},
   "outputs": [
    {
     "name": "stdout",
     "output_type": "stream",
     "text": "0.0002406000000974018\nD:\\software\\Anaconda\\envs\\data\\lib\\site-packages\\ipykernel_launcher.py:9: DeprecationWarning: time.clock has been deprecated in Python 3.3 and will be removed from Python 3.8: use time.perf_counter or time.process_time instead\n  if __name__ == '__main__':\nD:\\software\\Anaconda\\envs\\data\\lib\\site-packages\\ipykernel_launcher.py:11: DeprecationWarning: time.clock has been deprecated in Python 3.3 and will be removed from Python 3.8: use time.perf_counter or time.process_time instead\n  # This is added back by InteractiveShellApp.init_path()\n"
    }
   ],
   "source": [
    "append()"
   ]
  },
  {
   "cell_type": "markdown",
   "execution_count": null,
   "metadata": {},
   "outputs": [],
   "source": [
    "- 在装饰器中，可以传入参数的，举个例子"
   ]
  },
  {
   "cell_type": "code",
   "execution_count": 33,
   "metadata": {},
   "outputs": [],
   "source": [
    "#如果直接装饰这个，计算时时间\n",
    "\n",
    "@out\n",
    "def add(x,y):\n",
    "    print(x+y)"
   ]
  },
  {
   "cell_type": "code",
   "execution_count": 34,
   "metadata": {},
   "outputs": [
    {
     "ename": "TypeError",
     "evalue": "In() takes 0 positional arguments but 2 were given",
     "output_type": "error",
     "traceback": [
      "\u001b[1;31m---------------------------------------------------------------------------\u001b[0m",
      "\u001b[1;31mTypeError\u001b[0m                                 Traceback (most recent call last)",
      "\u001b[1;32m<ipython-input-34-944f4051a32c>\u001b[0m in \u001b[0;36m<module>\u001b[1;34m\u001b[0m\n\u001b[1;32m----> 1\u001b[1;33m \u001b[0madd\u001b[0m\u001b[1;33m(\u001b[0m\u001b[1;36m1\u001b[0m\u001b[1;33m,\u001b[0m\u001b[1;36m2\u001b[0m\u001b[1;33m)\u001b[0m\u001b[1;33m\u001b[0m\u001b[1;33m\u001b[0m\u001b[0m\n\u001b[0m",
      "\u001b[1;31mTypeError\u001b[0m: In() takes 0 positional arguments but 2 were given"
     ]
    }
   ],
   "source": [
    "add(1,2)    #这里报错了，说In()有两个参数被传入。这时候就要重新写函数闭包了"
   ]
  },
  {
   "cell_type": "code",
   "execution_count": 35,
   "metadata": {},
   "outputs": [],
   "source": [
    "def out(func):\n",
    "    def In(x,y):\n",
    "        start=time.clock()\n",
    "        func(x,y)\n",
    "        end=time.clock()\n",
    "        print(start-end)\n",
    "    return In\n",
    "@out\n",
    "def add(x,y):\n",
    "    print(x,y)"
   ]
  },
  {
   "cell_type": "code",
   "execution_count": 36,
   "metadata": {},
   "outputs": [
    {
     "name": "stdout",
     "output_type": "stream",
     "text": "1 2\n-0.0001208999997288629\nD:\\software\\Anaconda\\envs\\data\\lib\\site-packages\\ipykernel_launcher.py:3: DeprecationWarning: time.clock has been deprecated in Python 3.3 and will be removed from Python 3.8: use time.perf_counter or time.process_time instead\n  This is separate from the ipykernel package so we can avoid doing imports until\nD:\\software\\Anaconda\\envs\\data\\lib\\site-packages\\ipykernel_launcher.py:5: DeprecationWarning: time.clock has been deprecated in Python 3.3 and will be removed from Python 3.8: use time.perf_counter or time.process_time instead\n  \"\"\"\n"
    }
   ],
   "source": [
    "add()   #这时候就有用了"
   ]
  },
  {
   "cell_type": "markdown",
   "execution_count": null,
   "metadata": {},
   "outputs": [],
   "source": [
    "**这里要点就是，被装饰函数，对应修饰函数中传入的函数，参数对应是内层函数参数，记住了**"
   ]
  },
  {
   "cell_type": "code",
   "execution_count": 37,
   "metadata": {},
   "outputs": [],
   "source": [
    "def a(func):\n",
    "    print('excute a decorator')\n",
    "    def In():\n",
    "        print('aaaaa')\n",
    "        func()\n",
    "    return In"
   ]
  },
  {
   "cell_type": "code",
   "execution_count": 38,
   "metadata": {},
   "outputs": [
    {
     "name": "stdout",
     "output_type": "stream",
     "text": "excute a decorator\n"
    }
   ],
   "source": [
    "@a  #这里看到没，会直接调用外层函数print，因为修饰过程就是返回一个新函数，并且会执行外层函数命令\n",
    "def main():\n",
    "    print('test')"
   ]
  },
  {
   "cell_type": "code",
   "execution_count": 39,
   "metadata": {},
   "outputs": [
    {
     "name": "stdout",
     "output_type": "stream",
     "text": "aaaaa\ntest\n"
    }
   ],
   "source": [
    "main()  #这里调用了函数，就会执行内层函数东西"
   ]
  },
  {
   "cell_type": "markdown",
   "execution_count": null,
   "metadata": {},
   "outputs": [],
   "source": [
    "- 这里就稍微说一下这个装饰器执行顺序"
   ]
  },
  {
   "cell_type": "code",
   "execution_count": 42,
   "metadata": {},
   "outputs": [
    {
     "name": "stdout",
     "output_type": "stream",
     "text": "excute b decorator\nexcute a decorator\n"
    }
   ],
   "source": [
    "def b(func):\n",
    "    print('excute b decor')\n",
    "    def In():\n",
    "        print('bbbbb')\n",
    "        func()\n",
    "    return In\n",
    "@a\n",
    "@b\n",
    "def main():\n",
    "    print('test')"
   ]
  },
  {
   "cell_type": "markdown",
   "execution_count": null,
   "metadata": {},
   "outputs": [],
   "source": [
    "注意上面顺序，先装饰b，再装饰a。函数层层向上装饰的，我们先定义main函数，然后b，然后才a。"
   ]
  },
  {
   "cell_type": "code",
   "execution_count": 43,
   "metadata": {},
   "outputs": [
    {
     "name": "stdout",
     "output_type": "stream",
     "text": "aaaaa\nbbbbb\ntest\n"
    }
   ],
   "source": [
    "main()  #这里我们调用时候，就是先a后b，因为要从层层向上执行"
   ]
  },
  {
   "cell_type": "markdown",
   "execution_count": null,
   "metadata": {},
   "outputs": [],
   "source": [
    "## 类装饰器"
   ]
  },
  {
   "cell_type": "markdown",
   "execution_count": null,
   "metadata": {},
   "outputs": [],
   "source": [
    "### \\__call\\__()方法"
   ]
  },
  {
   "cell_type": "markdown",
   "execution_count": null,
   "metadata": {},
   "outputs": [],
   "source": [
    "> 在讲类装饰器之前，我们要先讲一下\\__call\\__()方法这个东西，这个方法是让实例化对象可以调用方法"
   ]
  },
  {
   "cell_type": "code",
   "execution_count": 53,
   "metadata": {},
   "outputs": [],
   "source": [
    "class B:\n",
    "    def name(self):\n",
    "        print('wadaxiw')"
   ]
  },
  {
   "cell_type": "code",
   "execution_count": 54,
   "metadata": {},
   "outputs": [
    {
     "data": {
      "text/plain": "True"
     },
     "execution_count": 54,
     "metadata": {},
     "output_type": "execute_result"
    }
   ],
   "source": [
    "#我们看看B是可调用的\n",
    "callable(B)"
   ]
  },
  {
   "cell_type": "code",
   "execution_count": 59,
   "metadata": {},
   "outputs": [
    {
     "data": {
      "text/plain": "False"
     },
     "execution_count": 59,
     "metadata": {},
     "output_type": "execute_result"
    }
   ],
   "source": [
    "#继承后就不可以调用了\n",
    "b=B()\n",
    "callable(b)"
   ]
  },
  {
   "cell_type": "markdown",
   "execution_count": 57,
   "metadata": {},
   "outputs": [
    {
     "data": {
      "text/plain": "False"
     },
     "execution_count": 57,
     "metadata": {},
     "output_type": "execute_result"
    }
   ],
   "source": [
    "这时候，我们就需要用\\__call\\__方法，这样就可以让b实例化对象，可以调用的方法"
   ]
  },
  {
   "cell_type": "code",
   "execution_count": 60,
   "metadata": {},
   "outputs": [],
   "source": [
    "class B:\n",
    "    def name(self):\n",
    "        print('wadaxiw')\n",
    "    def __call__(self):\n",
    "        print('调用函数')"
   ]
  },
  {
   "cell_type": "code",
   "execution_count": 62,
   "metadata": {},
   "outputs": [
    {
     "data": {
      "text/plain": "True"
     },
     "execution_count": 62,
     "metadata": {},
     "output_type": "execute_result"
    }
   ],
   "source": [
    "b=B()\n",
    "callable(b)"
   ]
  },
  {
   "cell_type": "code",
   "execution_count": 63,
   "metadata": {},
   "outputs": [
    {
     "name": "stdout",
     "output_type": "stream",
     "text": "调用函数\n"
    }
   ],
   "source": [
    "b() #这样就可以直接调用方法"
   ]
  },
  {
   "cell_type": "markdown",
   "execution_count": 64,
   "metadata": {},
   "outputs": [],
   "source": [
    "### 类装饰器"
   ]
  },
  {
   "cell_type": "markdown",
   "execution_count": null,
   "metadata": {},
   "outputs": [],
   "source": [
    "这时候我们来谈谈类装饰器，类也可以作为装饰器的，我们需要以下定义方法"
   ]
  },
  {
   "cell_type": "code",
   "execution_count": 85,
   "metadata": {},
   "outputs": [],
   "source": [
    "import time\n",
    "class Decorator:\n",
    "    def __init__(self,func):    #接收函数，我们都知道装饰器作用就是赋值一样的东西\n",
    "        self._func=func\n",
    "    def __call__(self,*args):         #让产生实例对象，可以调用这样的方法\n",
    "        start=time.clock()\n",
    "        self._func(*args)\n",
    "        end=time.clock()\n",
    "        print(end-start)"
   ]
  },
  {
   "cell_type": "code",
   "execution_count": 96,
   "metadata": {},
   "outputs": [],
   "source": [
    "@Decorator\n",
    "def add(*args):\n",
    "    print(args) #这里用args，代表一个元组，只有元组和可迭代对象才可以使用sum，如果写*args，会直接把1,2,3这种散东西传进去，无法求和"
   ]
  },
  {
   "cell_type": "markdown",
   "execution_count": null,
   "metadata": {},
   "outputs": [],
   "source": [
    "### 对类进行装饰"
   ]
  },
  {
   "cell_type": "markdown",
   "execution_count": null,
   "metadata": {},
   "outputs": [],
   "source": [
    "类装饰其实更加简洁明了，方便好用，而且更加简单"
   ]
  },
  {
   "cell_type": "code",
   "execution_count": 106,
   "metadata": {},
   "outputs": [],
   "source": [
    "#定义装饰函数\n",
    "def add_hw(cls):\n",
    "    cls.tall=170\n",
    "    cls.weight=60\n",
    "    return cls"
   ]
  },
  {
   "cell_type": "code",
   "execution_count": 107,
   "metadata": {},
   "outputs": [],
   "source": [
    "@add_hw #new_class=add_hw(person)\n",
    "class person:\n",
    "    pass"
   ]
  },
  {
   "cell_type": "code",
   "execution_count": 109,
   "metadata": {},
   "outputs": [
    {
     "data": {
      "text/plain": "170"
     },
     "execution_count": 109,
     "metadata": {},
     "output_type": "execute_result"
    }
   ],
   "source": [
    "person.tall #这样就可以调用"
   ]
  },
  {
   "cell_type": "markdown",
   "execution_count": null,
   "metadata": {},
   "outputs": [],
   "source": [
    "## 下划线使用"
   ]
  },
  {
   "cell_type": "markdown",
   "execution_count": null,
   "metadata": {},
   "outputs": [],
   "source": [
    "### 前置单下划线使用"
   ]
  },
  {
   "cell_type": "markdown",
   "execution_count": null,
   "metadata": {},
   "outputs": [],
   "source": [
    "前置单下划线其实就是不想让别人在外部调用使用的方法或者属性，不要乱改意思，但是还是可以强行在外面调用的"
   ]
  },
  {
   "cell_type": "markdown",
   "execution_count": null,
   "metadata": {},
   "outputs": [],
   "source": [
    "### 后置单下划线"
   ]
  },
  {
   "cell_type": "markdown",
   "execution_count": null,
   "metadata": {},
   "outputs": [],
   "source": [
    "没什么特别含义，只是有时候系统有关键字不好命名，就直接加后下划线，然后命名"
   ]
  },
  {
   "cell_type": "markdown",
   "execution_count": null,
   "metadata": {},
   "outputs": [],
   "source": [
    "### 前置双下划线"
   ]
  },
  {
   "cell_type": "markdown",
   "execution_count": 110,
   "metadata": {},
   "outputs": [
    {
     "ename": "NameError",
     "evalue": "name '双下划线无法在外部用初始名称访问' is not defined",
     "output_type": "error",
     "traceback": [
      "\u001b[1;31m---------------------------------------------------------------------------\u001b[0m",
      "\u001b[1;31mNameError\u001b[0m                                 Traceback (most recent call last)",
      "\u001b[1;32m<ipython-input-110-24d8481801bb>\u001b[0m in \u001b[0;36m<module>\u001b[1;34m\u001b[0m\n\u001b[1;32m----> 1\u001b[1;33m \u001b[0m双下划线无法在外部用初始名称访问\u001b[0m\u001b[1;33m\u001b[0m\u001b[1;33m\u001b[0m\u001b[0m\n\u001b[0m",
      "\u001b[1;31mNameError\u001b[0m: name '双下划线无法在外部用初始名称访问' is not defined"
     ]
    }
   ],
   "source": [
    "双下划线无法在外部用初始名称访问，但是**可以在类内部访问的**"
   ]
  },
  {
   "cell_type": "code",
   "execution_count": 122,
   "metadata": {},
   "outputs": [],
   "source": [
    "class Test:\n",
    "    def __init__(self,name,Chinesename):\n",
    "        self.name=name\n",
    "        self.__Chinese=Chinesename\n",
    "        "
   ]
  },
  {
   "cell_type": "code",
   "execution_count": 123,
   "metadata": {},
   "outputs": [],
   "source": [
    "hero=Test('yasuo','亚索')"
   ]
  },
  {
   "cell_type": "code",
   "execution_count": 124,
   "metadata": {},
   "outputs": [
    {
     "data": {
      "text/plain": "'yasuo'"
     },
     "execution_count": 124,
     "metadata": {},
     "output_type": "execute_result"
    }
   ],
   "source": [
    "hero.name"
   ]
  },
  {
   "cell_type": "code",
   "execution_count": 125,
   "metadata": {},
   "outputs": [
    {
     "ename": "AttributeError",
     "evalue": "'Test' object has no attribute '__Chinese'",
     "output_type": "error",
     "traceback": [
      "\u001b[1;31m---------------------------------------------------------------------------\u001b[0m",
      "\u001b[1;31mAttributeError\u001b[0m                            Traceback (most recent call last)",
      "\u001b[1;32m<ipython-input-125-55ff843398e3>\u001b[0m in \u001b[0;36m<module>\u001b[1;34m\u001b[0m\n\u001b[1;32m----> 1\u001b[1;33m \u001b[0mhero\u001b[0m\u001b[1;33m.\u001b[0m\u001b[0m__Chinese\u001b[0m   \u001b[1;31m#这里就会报错\u001b[0m\u001b[1;33m\u001b[0m\u001b[1;33m\u001b[0m\u001b[0m\n\u001b[0m",
      "\u001b[1;31mAttributeError\u001b[0m: 'Test' object has no attribute '__Chinese'"
     ]
    }
   ],
   "source": [
    "hero.__Chinese   #这里就会报错"
   ]
  },
  {
   "cell_type": "code",
   "execution_count": 126,
   "metadata": {},
   "outputs": [
    {
     "data": {
      "text/plain": "['__class__',\n '__delattr__',\n '__dict__',\n '__dir__',\n '__doc__',\n '__eq__',\n '__format__',\n '__ge__',\n '__getattribute__',\n '__gt__',\n '__hash__',\n '__init__',\n '__init_subclass__',\n '__le__',\n '__lt__',\n '__module__',\n '__ne__',\n '__new__',\n '__reduce__',\n '__reduce_ex__',\n '__repr__',\n '__setattr__',\n '__sizeof__',\n '__str__',\n '__subclasshook__',\n '__weakref__']"
     },
     "execution_count": 126,
     "metadata": {},
     "output_type": "execute_result"
    }
   ],
   "source": [
    "dir(Test)"
   ]
  },
  {
   "cell_type": "markdown",
   "execution_count": null,
   "metadata": {},
   "outputs": [],
   "source": [
    "### 数字中间下划线"
   ]
  },
  {
   "cell_type": "markdown",
   "execution_count": null,
   "metadata": {},
   "outputs": [],
   "source": [
    "> 数字中间下划线其实就是增加数字的可读性，然后字节转换时候有用"
   ]
  },
  {
   "cell_type": "code",
   "execution_count": 1,
   "metadata": {},
   "outputs": [
    {
     "name": "stdout",
     "output_type": "stream",
     "text": "1000000\n"
    }
   ],
   "source": [
    "a=100_00_00\n",
    "print(a)    #这个就是1000000"
   ]
  },
  {
   "cell_type": "markdown",
   "execution_count": null,
   "metadata": {},
   "outputs": [],
   "source": [
    "### 变量类型提示"
   ]
  },
  {
   "cell_type": "markdown",
   "execution_count": null,
   "metadata": {},
   "outputs": [],
   "source": [
    "写函数时候，可以考虑写写变量类型，这样在别人看的时候，调用函数时候提示"
   ]
  },
  {
   "cell_type": "code",
   "execution_count": 2,
   "metadata": {},
   "outputs": [],
   "source": [
    "def flash(name:str,status:bool):    #这个就是用来提示的，一个是str，一个是bool\n",
    "    if status:\n",
    "        print('我%s闪了过去'%name)\n",
    "    else:\n",
    "        print('Status is false')\n"
   ]
  },
  {
   "cell_type": "code",
   "execution_count": 3,
   "metadata": {},
   "outputs": [
    {
     "name": "stdout",
     "output_type": "stream",
     "text": "Status is false\n"
    }
   ],
   "source": [
    "flash('Kirito',False)"
   ]
  },
  {
   "cell_type": "code",
   "execution_count": 4,
   "metadata": {},
   "outputs": [],
   "source": [
    "a:str='fafa'    #这个是变量提醒"
   ]
  },
  {
   "cell_type": "code",
   "execution_count": 5,
   "metadata": {},
   "outputs": [
    {
     "data": {
      "text/plain": "'fafa'"
     },
     "execution_count": 5,
     "metadata": {},
     "output_type": "execute_result"
    }
   ],
   "source": [
    "a"
   ]
  }
 ]
}