{
 "nbformat": 4,
 "nbformat_minor": 2,
 "metadata": {
  "language_info": {
   "name": "python",
   "codemirror_mode": {
    "name": "ipython",
    "version": 3
   }
  },
  "orig_nbformat": 2,
  "file_extension": ".py",
  "mimetype": "text/x-python",
  "name": "python",
  "npconvert_exporter": "python",
  "pygments_lexer": "ipython3",
  "version": 3
 },
 "cells": [
  {
   "cell_type": "markdown",
   "execution_count": null,
   "metadata": {},
   "outputs": [],
   "source": [
    "# python一些细节补充"
   ]
  },
  {
   "cell_type": "code",
   "execution_count": 1,
   "metadata": {},
   "outputs": [
    {
     "name": "stdout",
     "output_type": "stream",
     "text": "True\nFalse\n"
    }
   ],
   "source": [
    "#python中的链式比较,A<B<C会变成(A<B and B<C)\n",
    "print(-3<-2<-1)\n",
    "print((-3<-2)<-1)"
   ]
  },
  {
   "cell_type": "code",
   "execution_count": 2,
   "metadata": {},
   "outputs": [
    {
     "name": "stdout",
     "output_type": "stream",
     "text": "1\n([1, 2, 3, 4, 5], [1, 2, 3])\n{'inter': 1, 'inter2': 2}\n"
    }
   ],
   "source": [
    "#arg,*args,**kwargs分别代表一个参数，一个元组参数，一个字典列表\n",
    "def main(arg,*args,**kwargs):\n",
    "    print(arg)\n",
    "    print(args)\n",
    "    print(kwargs)\n",
    "main(1,[1,2,3,4,5],[1,2,3],inter=1,inter2=2)"
   ]
  },
  {
   "cell_type": "markdown",
   "execution_count": null,
   "metadata": {},
   "outputs": [],
   "source": [
    "is和==区别在于一个判断一个地址是否相等，后面一个仅仅判断值相等"
   ]
  },
  {
   "cell_type": "code",
   "execution_count": 3,
   "metadata": {},
   "outputs": [
    {
     "name": "stdout",
     "output_type": "stream",
     "text": "2217876828488 2217876828488 [1, 2, 3, 4] [1, 2, 3, 4]\n"
    }
   ],
   "source": [
    "list_a=list_b=[1,2,3,4]\n",
    "print(id(list_a),id(list_b),str(list_a),str(list_b))    #一个地址一个值"
   ]
  },
  {
   "cell_type": "code",
   "execution_count": 4,
   "metadata": {},
   "outputs": [
    {
     "name": "stdout",
     "output_type": "stream",
     "text": "2217876828552 2217876828488\n"
    }
   ],
   "source": [
    "list_a=[4,5,6]\n",
    "print(id(list_a),id(list_b))    #这里a地址不同了，但是b地址没有变"
   ]
  },
  {
   "cell_type": "code",
   "execution_count": 5,
   "metadata": {},
   "outputs": [
    {
     "name": "stdout",
     "output_type": "stream",
     "text": "2217876828552\n"
    }
   ],
   "source": [
    "list_a[0]=7\n",
    "list_a[1]=8\n",
    "list_a[2]=9\n",
    "print(id(list_a))   #当对列表修改时候，内存地址不会变的，但是地址中的内容会变得"
   ]
  },
  {
   "cell_type": "markdown",
   "execution_count": null,
   "metadata": {},
   "outputs": [],
   "source": [
    "copy 和 deepcopy 在一般情况下相同的，但是在有子对象时候，子对象地址不会新生成需要小心"
   ]
  },
  {
   "cell_type": "code",
   "execution_count": 6,
   "metadata": {},
   "outputs": [
    {
     "name": "stdout",
     "output_type": "stream",
     "text": "2217875968776 2217874193160\n[1, 2, 3, 4, 5, 6] [1, 2, 3, 4, 5]\n"
    }
   ],
   "source": [
    "import copy\n",
    "list_c=[1,2,3,4,5]\n",
    "list_d=copy.copy(list_c)\n",
    "print(id(list_c),id(list_d))        #两个不同的地址\n",
    "\n",
    "list_c.append(6)\n",
    "print(list_c,list_d)        #不会受到影响"
   ]
  },
  {
   "cell_type": "code",
   "execution_count": 7,
   "metadata": {},
   "outputs": [
    {
     "name": "stdout",
     "output_type": "stream",
     "text": "2217875968456 2217860295176\n2217856292488 2217856292488\n[1, 2, 3, 4, [1, 2, 4]] [1, 2, 3, 4, [1, 2, 4]]\n"
    }
   ],
   "source": [
    "list_e=[1,2,3,4,[1,2]]\n",
    "list_f=copy.copy(list_e)\n",
    "\n",
    "print(id(list_e),id(list_f))    #这里地址是不一样的\n",
    "print(id(list_e[-1]),id(list_f[-1]))    #这个地址就是一样的了\n",
    "\n",
    "list_e[-1].append(4)\n",
    "print(list_e,list_f)    #这里都被改了"
   ]
  },
  {
   "cell_type": "markdown",
   "execution_count": null,
   "metadata": {},
   "outputs": [],
   "source": [
    ">   传递和引用传递不同是，一个传递值，另一个直接传递地址，第一个传递值相当于对副本进行更改，但是第二个相当于对于原函数进行更改。\n",
    "    值传递的有tuple,int,str，引用传递的有list和dict"
   ]
  },
  {
   "cell_type": "code",
   "execution_count": 8,
   "metadata": {},
   "outputs": [
    {
     "name": "stdout",
     "output_type": "stream",
     "text": "6\n[5, 2, 3]\n"
    }
   ],
   "source": [
    "#这里tuple,int,str等就是值传递，不会改变\n",
    "def test(number):\n",
    "    number+=1\n",
    "    return\n",
    "a=6\n",
    "test(a)\n",
    "print(a)\n",
    "\n",
    "#list和dict就是引用传递，会改变的\n",
    "def test2(ls):\n",
    "    ls[0]=5\n",
    "    return\n",
    "b=[1,2,3]\n",
    "test2(b)\n",
    "print(b)"
   ]
  },
  {
   "cell_type": "markdown",
   "execution_count": null,
   "metadata": {},
   "outputs": [],
   "source": [
    "any()的作用是用来判断一个可迭代对象中，是否有除(False,0,\"\")的元素有就是True。\n",
    "all()的作用就是判断一个可迭代对象中是否全都是(False,0,\"\")"
   ]
  },
  {
   "cell_type": "markdown",
   "execution_count": null,
   "metadata": {},
   "outputs": [],
   "source": [
    "del在python不会删除内存地址的,非常方便"
   ]
  },
  {
   "cell_type": "code",
   "execution_count": 9,
   "metadata": {},
   "outputs": [
    {
     "name": "stdout",
     "output_type": "stream",
     "text": "2217876830600\n"
    }
   ],
   "source": [
    "a=[1,2,3]\n",
    "b=a\n",
    "del a\n",
    "print(id(b))    #这里b没有被删除"
   ]
  },
  {
   "cell_type": "markdown",
   "execution_count": null,
   "metadata": {},
   "outputs": [],
   "source": [
    "format函数可以对任何变量进行赋值，但是%不能对tuple对象进行赋值"
   ]
  },
  {
   "cell_type": "code",
   "execution_count": 10,
   "metadata": {},
   "outputs": [
    {
     "name": "stdout",
     "output_type": "stream",
     "text": "time is money [1, 2]\n"
    }
   ],
   "source": [
    "a='money'\n",
    "b=[1,2]\n",
    "print('time is %s %s'%(a,b))    #这里一定要用元组传入才可以"
   ]
  },
  {
   "cell_type": "markdown",
   "execution_count": null,
   "metadata": {},
   "outputs": [],
   "source": [
    "对于数值型变量来说a=a+b和a=+b是一样的,都会生成新对象，对于**list和tuple**说a+=b**不会**改变内存地址"
   ]
  },
  {
   "cell_type": "code",
   "execution_count": 11,
   "metadata": {},
   "outputs": [
    {
     "name": "stdout",
     "output_type": "stream",
     "text": "2217887640648\n2217887640648\n"
    }
   ],
   "source": [
    "a=[1,2,3]\n",
    "b=[5,6,7]\n",
    "print(id(a))\n",
    "a+=b\n",
    "print(id(a))    #一样的地址"
   ]
  },
  {
   "cell_type": "markdown",
   "execution_count": null,
   "metadata": {},
   "outputs": [],
   "source": [
    ">关于类方法，我们重新学习一下"
   ]
  },
  {
   "cell_type": "code",
   "execution_count": 17,
   "metadata": {},
   "outputs": [
    {
     "name": "stdout",
     "output_type": "stream",
     "text": "flash back genji\n"
    }
   ],
   "source": [
    "#假设我们要定义英雄，先定义一个英雄类\n",
    "class Hero(object):\n",
    "    def __init__(self,name,slogan):\n",
    "        #实例变量\n",
    "        self.name=name\n",
    "        self.slogan=slogan\n",
    "\n",
    "    #实例方法\n",
    "    def flash(self):\n",
    "        print(\"flash back %s\" % self.name)\n",
    "genji=Hero('genji',\"ahoga\")\n",
    "genji.flash()   #这里不能用print因为本来方法就自带的Print"
   ]
  },
  {
   "cell_type": "markdown",
   "execution_count": null,
   "metadata": {},
   "outputs": [],
   "source": [
    "对象在调用方法时候会自动把对象的指针传入，所以在形参self就不需要传入数值"
   ]
  },
  {
   "cell_type": "markdown",
   "execution_count": null,
   "metadata": {},
   "outputs": [],
   "source": [
    "类变量，实例变量和局部变量。类变量所有实例都有的"
   ]
  },
  {
   "cell_type": "code",
   "execution_count": 18,
   "metadata": {},
   "outputs": [],
   "source": [
    "class HeroN:\n",
    "    game='LOL'  #这个就是类变量\n",
    "    def __init__(self,name):\n",
    "        self.name=name  #这个是实例变量\n",
    "        a=1 #这个就是局部变量\n",
    "    def flash(self):\n",
    "        print(self.name)\n",
    "        print(game)\n",
    "    def bakc():\n",
    "        print(a)\n",
    "time=HeroN('yasuo')"
   ]
  },
  {
   "cell_type": "code",
   "execution_count": 23,
   "metadata": {},
   "outputs": [],
   "source": [
    "time.game='OW'"
   ]
  },
  {
   "cell_type": "code",
   "execution_count": 24,
   "metadata": {},
   "outputs": [
    {
     "ename": "TypeError",
     "evalue": "bakc() takes 0 positional arguments but 1 was given",
     "output_type": "error",
     "traceback": [
      "\u001b[1;31m---------------------------------------------------------------------------\u001b[0m",
      "\u001b[1;31mTypeError\u001b[0m                                 Traceback (most recent call last)",
      "\u001b[1;32m<ipython-input-24-9e334064a6c8>\u001b[0m in \u001b[0;36m<module>\u001b[1;34m\u001b[0m\n\u001b[1;32m----> 1\u001b[1;33m \u001b[0mtime\u001b[0m\u001b[1;33m.\u001b[0m\u001b[0mbakc\u001b[0m\u001b[1;33m(\u001b[0m\u001b[1;33m)\u001b[0m \u001b[1;31m#会报错\u001b[0m\u001b[1;33m\u001b[0m\u001b[1;33m\u001b[0m\u001b[0m\n\u001b[0m",
      "\u001b[1;31mTypeError\u001b[0m: bakc() takes 0 positional arguments but 1 was given"
     ]
    }
   ],
   "source": [
    "time.bakc() #会报错，因为是局部变量"
   ]
  },
  {
   "cell_type": "code",
   "execution_count": 27,
   "metadata": {},
   "outputs": [
    {
     "data": {
      "text/plain": "'OW'"
     },
     "execution_count": 27,
     "metadata": {},
     "output_type": "execute_result"
    }
   ],
   "source": [
    "time.game #这里虽然改了，但是类里面的东西没有改，我们删掉这个值"
   ]
  },
  {
   "cell_type": "code",
   "execution_count": 28,
   "metadata": {},
   "outputs": [],
   "source": [
    "del time.game"
   ]
  },
  {
   "cell_type": "code",
   "execution_count": 29,
   "metadata": {},
   "outputs": [
    {
     "data": {
      "text/plain": "'LOL'"
     },
     "execution_count": 29,
     "metadata": {},
     "output_type": "execute_result"
    }
   ],
   "source": [
    "time.game   #直接又返回了LOL"
   ]
  },
  {
   "cell_type": "markdown",
   "execution_count": null,
   "metadata": {},
   "outputs": [],
   "source": [
    "实例方法、类方法、静态方法"
   ]
  },
  {
   "cell_type": "code",
   "execution_count": 41,
   "metadata": {},
   "outputs": [
    {
     "name": "stdout",
     "output_type": "stream",
     "text": "DNF\nLOL\n"
    }
   ],
   "source": [
    "class Hero3:\n",
    "    game='LOL'\n",
    "    def flash(self):\n",
    "        print(self.game)    #这个是实例变量\n",
    "        print(Hero3.game)    #这是调用类变量\n",
    "    \n",
    "    @classmethod\n",
    "    def heal(cls,self):\n",
    "        print(cls.game) #使用cls来调用类的变量\n",
    "        print(self.game)\n",
    "    @staticmethod\n",
    "    def ignit():    #不用型参\n",
    "        print('use light')\n",
    "        print(Hero3.game)   #需要访问类变量，直接就好\n",
    "    \n",
    "yasuo=Hero3()\n",
    "yasuo.game='DNF'\n",
    "yasuo.flash()"
   ]
  },
  {
   "cell_type": "code",
   "execution_count": 42,
   "metadata": {},
   "outputs": [
    {
     "name": "stdout",
     "output_type": "stream",
     "text": "LOL\nDNF\n"
    }
   ],
   "source": [
    "Hero3.heal(yasuo)   #这样传进亚索对象，就可以调用实例方法，然后可以调用类方法"
   ]
  },
  {
   "cell_type": "code",
   "execution_count": 43,
   "metadata": {},
   "outputs": [
    {
     "name": "stdout",
     "output_type": "stream",
     "text": "use light\nLOL\nuse light\nLOL\n"
    }
   ],
   "source": [
    "Hero3.ignit()   #都可以使用静态方法\n",
    "yasuo.ignit()"
   ]
  },
  {
   "cell_type": "markdown",
   "execution_count": null,
   "metadata": {},
   "outputs": [],
   "source": [
    ">类方法和静态方法不用实例化就可以访问，类方法有cls参数，可以访问类属性，静态方法实际上和类没啥关系，就是用一下类的命名空间罢了"
   ]
  },
  {
   "cell_type": "code",
   "execution_count": 45,
   "metadata": {},
   "outputs": [],
   "source": [
    "class Hero4:\n",
    "    game='LOL'\n",
    "    def __init__(self,name):\n",
    "        self.name=name\n",
    "    def flash(self):\n",
    "        print('%s flash over' % self.name)\n",
    "class AD(Hero4):\n",
    "    slogan='my heart will go on'\n",
    "    def Q(self):\n",
    "        print('TTTTT')\n",
    "\n",
    "time=AD('ash')"
   ]
  },
  {
   "cell_type": "code",
   "execution_count": 49,
   "metadata": {},
   "outputs": [
    {
     "name": "stdout",
     "output_type": "stream",
     "text": "LOL\nmy heart will go on\nash\nTTTTT\nash flash over\n"
    }
   ],
   "source": [
    "print(time.game)\n",
    "print(time.slogan)\n",
    "print(time.name\n",
    "time.Q()\n",
    "time.flash()"
   ]
  },
  {
   "cell_type": "markdown",
   "execution_count": null,
   "metadata": {},
   "outputs": [],
   "source": [
    "继承后的子类如果没有写构造函数的话，**默认会使用父类的构造函数**，如果子类写构造函数，**会默认调用子类的构造方法**，可以使用super函数继承父类的一些构造函数"
   ]
  },
  {
   "cell_type": "code",
   "execution_count": 60,
   "metadata": {},
   "outputs": [],
   "source": [
    "class Hero5:\n",
    "    def __init__(self,name):\n",
    "        self.name=name\n",
    "class ADC(Hero5):\n",
    "    def __init__(self,name,gender):\n",
    "        self.gender=gender\n",
    "        super(ADC,self).__init__(name)"
   ]
  },
  {
   "cell_type": "code",
   "execution_count": 61,
   "metadata": {},
   "outputs": [],
   "source": [
    "ash=ADC('ash','Female')"
   ]
  },
  {
   "cell_type": "code",
   "execution_count": 62,
   "metadata": {},
   "outputs": [
    {
     "name": "stdout",
     "output_type": "stream",
     "text": "ash Female\n"
    }
   ],
   "source": [
    "print(ash.name,ash.gender)"
   ]
  },
  {
   "cell_type": "code",
   "execution_count": null,
   "metadata": {},
   "outputs": [],
   "source": [
    " "
   ]
  }
 ]
}