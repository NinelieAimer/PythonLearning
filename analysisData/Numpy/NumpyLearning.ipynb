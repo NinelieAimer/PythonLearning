{
 "cells": [
  {
   "cell_type": "code",
   "execution_count": 1,
   "metadata": {
    "collapsed": true
   },
   "outputs": [],
   "source": [
    "import numpy as np"
   ]
  },
  {
   "cell_type": "code",
   "execution_count": 11,
   "metadata": {},
   "outputs": [
    {
     "data": {
      "text/plain": [
       "numpy.ndarray"
      ]
     },
     "execution_count": 11,
     "metadata": {},
     "output_type": "execute_result"
    }
   ],
   "source": [
    "#直接将列表转化为array类型\n",
    "arr1=np.array([[1,2,3,4,5],[6,7,8,9,10]])\n",
    "type(arr1)\n"
   ]
  },
  {
   "cell_type": "code",
   "execution_count": 12,
   "metadata": {},
   "outputs": [
    {
     "data": {
      "text/plain": [
       "(2, 5)"
      ]
     },
     "execution_count": 12,
     "metadata": {},
     "output_type": "execute_result"
    }
   ],
   "source": [
    "arr1.shape"
   ]
  },
  {
   "cell_type": "code",
   "execution_count": 14,
   "metadata": {},
   "outputs": [
    {
     "name": "stdout",
     "output_type": "stream",
     "text": [
      "[[ 0.  0.]\n [ 0.  0.]]\n"
     ]
    }
   ],
   "source": [
    "arr2=np.zeros(shape=(2,2))\n",
    "print(arr2)"
   ]
  },
  {
   "cell_type": "code",
   "execution_count": 16,
   "metadata": {},
   "outputs": [
    {
     "data": {
      "text/plain": [
       "array([0, 1, 2, 3, 4, 5, 6, 7, 8, 9])"
      ]
     },
     "execution_count": 16,
     "metadata": {},
     "output_type": "execute_result"
    }
   ],
   "source": [
    "np.arange(10)"
   ]
  },
  {
   "cell_type": "code",
   "execution_count": 18,
   "metadata": {},
   "outputs": [
    {
     "data": {
      "text/plain": [
       "dtype('int32')"
      ]
     },
     "execution_count": 18,
     "metadata": {},
     "output_type": "execute_result"
    }
   ],
   "source": [
    "arr1.dtype"
   ]
  },
  {
   "cell_type": "code",
   "execution_count": 20,
   "metadata": {},
   "outputs": [
    {
     "data": {
      "text/plain": [
       "array([[1, 1],\n       [2, 2]])"
      ]
     },
     "execution_count": 20,
     "metadata": {},
     "output_type": "execute_result"
    }
   ],
   "source": [
    "np.array([[1.1,1.2],[2.1,2.3]],dtype='int32')"
   ]
  },
  {
   "cell_type": "code",
   "execution_count": 27,
   "metadata": {},
   "outputs": [
    {
     "data": {
      "text/plain": [
       "array([1, 2, 3, 4], dtype=int64)"
      ]
     },
     "execution_count": 27,
     "metadata": {},
     "output_type": "execute_result"
    }
   ],
   "source": [
    "arr3=np.array(['1','2','3','4'])\n",
    "arr3=arr3.astype(np.string_)\n",
    "arr3.astype(np.int64)"
   ]
  },
  {
   "cell_type": "code",
   "execution_count": 28,
   "metadata": {},
   "outputs": [
    {
     "data": {
      "text/plain": [
       "array([[ 1,  4,  9],\n       [16, 25, 36]])"
      ]
     },
     "execution_count": 28,
     "metadata": {},
     "output_type": "execute_result"
    }
   ],
   "source": [
    "arr1=np.array([[1,2,3],[4,5,6]])\n",
    "arr2=np.array([[1,2,3],[4,5,6]])\n",
    "arr1*arr2"
   ]
  },
  {
   "cell_type": "code",
   "execution_count": 29,
   "metadata": {},
   "outputs": [
    {
     "data": {
      "text/plain": [
       "array([[2, 3, 4],\n       [5, 6, 7]])"
      ]
     },
     "execution_count": 29,
     "metadata": {},
     "output_type": "execute_result"
    }
   ],
   "source": [
    "1+arr1"
   ]
  },
  {
   "cell_type": "code",
   "execution_count": 32,
   "metadata": {},
   "outputs": [
    {
     "data": {
      "text/plain": [
       "array([[False, False, False],\n       [ True,  True,  True]], dtype=bool)"
      ]
     },
     "execution_count": 32,
     "metadata": {},
     "output_type": "execute_result"
    }
   ],
   "source": [
    "arr1=np.array([[1,3,5],[7,9,11]])\n",
    "arr2=np.array([[2,4,6],[6,8,10]])\n",
    "arr3=arr1>arr2\n",
    "arr3"
   ]
  },
  {
   "cell_type": "code",
   "execution_count": 33,
   "metadata": {},
   "outputs": [
    {
     "data": {
      "text/plain": [
       "[1, 2, 3, 4]"
      ]
     },
     "execution_count": 33,
     "metadata": {},
     "output_type": "execute_result"
    }
   ],
   "source": [
    "list1=[1,2,3,4]\n",
    "list2=list1[1:]\n",
    "list2[0]=3\n",
    "list1"
   ]
  },
  {
   "cell_type": "code",
   "execution_count": 44,
   "metadata": {},
   "outputs": [
    {
     "data": {
      "text/plain": [
       "array([2, 3])"
      ]
     },
     "execution_count": 44,
     "metadata": {},
     "output_type": "execute_result"
    }
   ],
   "source": [
    "arr1=np.array([[1,2,3],[4,5,6]])\n",
    "arr2=arr1[:,1:].copy()\n",
    "arr2[0]=[5,6]\n",
    "arr1[:,0:]\n",
    "arr1[0,1:]"
   ]
  },
  {
   "cell_type": "code",
   "execution_count": 60,
   "metadata": {},
   "outputs": [
    {
     "name": "stdout",
     "output_type": "stream",
     "text": [
      "[[-0.91293326 -1.27942019 -1.09682988]\n [-1.46805471  1.34450759 -1.11832568]\n [ 0.74090402  0.64368017 -1.26457304]\n [-1.0548294   1.01918918 -0.81496727]]\n[[-1.27942019 -1.09682988]\n [ 1.34450759 -1.11832568]]\n[[-1.46805471  1.34450759 -1.11832568]\n [ 0.74090402  0.64368017 -1.26457304]\n [-1.0548294   1.01918918 -0.81496727]]\n"
     ]
    }
   ],
   "source": [
    "#布尔索引\n",
    "names=np.array(['kirito','asuna','xilika','yuyi'])\n",
    "data=np.random.randn(4,3)\n",
    "print(data)\n",
    "print(data[(names=='kirito')|(names=='asuna'),1:])\n",
    "print(data[~(names=='kirito')])\n"
   ]
  },
  {
   "cell_type": "code",
   "execution_count": 64,
   "metadata": {},
   "outputs": [
    {
     "name": "stdout",
     "output_type": "stream",
     "text": [
      "[[ 0.  0.  0.  0.]\n [ 1.  1.  1.  1.]\n [ 2.  2.  2.  2.]\n [ 3.  3.  3.  3.]\n [ 4.  4.  4.  4.]\n [ 5.  5.  5.  5.]\n [ 6.  6.  6.  6.]\n [ 7.  7.  7.  7.]]\n[[ 3.  3.  3.  3.]\n [ 0.  0.  0.  0.]\n [ 4.  4.  4.  4.]]\n[[ 3.  3.  3.]\n [ 0.  0.  0.]\n [ 4.  4.  4.]]\n"
     ]
    }
   ],
   "source": [
    "arr=np.empty((8,4))\n",
    "for i in range(8):\n",
    "    arr[i]=i\n",
    "print(arr)\n",
    "print(arr[[3,0,4]])\n",
    "print(arr[[3,0,4]][:,[0,2,1]])"
   ]
  },
  {
   "cell_type": "code",
   "execution_count": 72,
   "metadata": {},
   "outputs": [
    {
     "data": {
      "text/plain": [
       "array([[1, 4],\n       [2, 5],\n       [3, 6]])"
      ]
     },
     "execution_count": 72,
     "metadata": {},
     "output_type": "execute_result"
    }
   ],
   "source": [
    "arr=np.array([[1,2,3],[4,5,6]])\n"
   ]
  },
  {
   "cell_type": "code",
   "execution_count": 77,
   "metadata": {},
   "outputs": [
    {
     "data": {
      "text/plain": [
       "array([ 0.        ,  1.        ,  1.41421356,  1.73205081,  2.        ,\n        2.23606798,  2.44948974,  2.64575131,  2.82842712,  3.        ])"
      ]
     },
     "execution_count": 77,
     "metadata": {},
     "output_type": "execute_result"
    }
   ],
   "source": [
    "arr=np.arange(10)\n",
    "np.sqrt(arr)\n"
   ]
  },
  {
   "cell_type": "code",
   "execution_count": 87,
   "metadata": {},
   "outputs": [
    {
     "data": {
      "text/plain": [
       "array([10, 11, 12, 13, 14, 15, 16, 17, 18, 19])"
      ]
     },
     "execution_count": 87,
     "metadata": {},
     "output_type": "execute_result"
    }
   ],
   "source": [
    "arr=np.arange(10)\n",
    "arr2=np.arange(start=10,stop=20)\n",
    "np.maximum(arr,arr2)"
   ]
  },
  {
   "cell_type": "code",
   "execution_count": 1,
   "metadata": {},
   "outputs": [
    {
     "ename": "NameError",
     "evalue": "name 'np' is not defined",
     "output_type": "error",
     "traceback": [
      "\u001b[1;31m---------------------------------------------------------------------------\u001b[0m",
      "\u001b[1;31mNameError\u001b[0m                                 Traceback (most recent call last)",
      "\u001b[1;32m<ipython-input-1-4a5dd0ac335c>\u001b[0m in \u001b[0;36m<module>\u001b[1;34m()\u001b[0m\n\u001b[1;32m----> 1\u001b[1;33m \u001b[0marr\u001b[0m\u001b[1;33m=\u001b[0m\u001b[0mnp\u001b[0m\u001b[1;33m.\u001b[0m\u001b[0mrandom\u001b[0m\u001b[1;33m.\u001b[0m\u001b[0mrandn\u001b[0m\u001b[1;33m(\u001b[0m\u001b[1;36m4\u001b[0m\u001b[1;33m,\u001b[0m\u001b[1;36m4\u001b[0m\u001b[1;33m)\u001b[0m\u001b[1;33m\u001b[0m\u001b[0m\n\u001b[0m\u001b[0;32m      2\u001b[0m \u001b[0marr2\u001b[0m\u001b[1;33m=\u001b[0m\u001b[0mnp\u001b[0m\u001b[1;33m.\u001b[0m\u001b[0marray\u001b[0m\u001b[1;33m(\u001b[0m\u001b[1;33m[\u001b[0m\u001b[1;36m1\u001b[0m\u001b[1;33m,\u001b[0m\u001b[1;36m2\u001b[0m\u001b[1;33m,\u001b[0m\u001b[1;36m3\u001b[0m\u001b[1;33m]\u001b[0m\u001b[1;33m)\u001b[0m\u001b[1;33m\u001b[0m\u001b[0m\n\u001b[0;32m      3\u001b[0m \u001b[0mnp\u001b[0m\u001b[1;33m.\u001b[0m\u001b[0mwhere\u001b[0m\u001b[1;33m(\u001b[0m\u001b[0marr\u001b[0m\u001b[1;33m>\u001b[0m\u001b[1;36m0\u001b[0m\u001b[1;33m,\u001b[0m\u001b[0marr\u001b[0m\u001b[1;33m,\u001b[0m\u001b[1;36m1\u001b[0m\u001b[1;33m)\u001b[0m\u001b[1;33m\u001b[0m\u001b[0m\n",
      "\u001b[1;31mNameError\u001b[0m: name 'np' is not defined"
     ]
    }
   ],
   "source": [
    "arr=np.random.randn(4,4)\n",
    "arr2=np.array([1,2,3])\n",
    "np.where(arr>0,arr,1)"
   ]
  },
  {
   "cell_type": "code",
   "execution_count": 4,
   "metadata": {},
   "outputs": [],
   "source": [
    "import numpy as np"
   ]
  },
  {
   "cell_type": "code",
   "execution_count": 5,
   "metadata": {},
   "outputs": [],
   "source": [
    "arr=np.random.randn(100)"
   ]
  },
  {
   "cell_type": "code",
   "execution_count": 6,
   "metadata": {},
   "outputs": [
    {
     "data": {
      "text/plain": [
       "array([ 1.84984668e+00, -6.03953432e-03,  4.34632747e-01, -5.66104407e-01,\n       -8.97271636e-01, -1.40449809e+00,  1.57121658e+00, -3.24409104e-01,\n        1.22390171e+00, -3.38530361e-01,  1.32738988e+00,  7.43073836e-01,\n        3.48761572e-01,  3.73084930e-01,  1.34328091e+00, -8.75622032e-01,\n       -1.56150522e+00, -2.04820054e+00, -7.30320878e-01, -4.93318032e-01,\n       -3.60064722e-01, -2.75800095e+00,  1.25821374e-01,  3.49130987e-01,\n       -1.93073465e+00,  9.58736213e-01, -1.18504446e+00, -5.31163160e-02,\n        9.89221459e-01, -1.62299803e-01,  2.00111733e-01, -4.55662943e-01,\n       -5.25200504e-01, -2.32250504e-01,  6.95139793e-01,  1.71517885e+00,\n        2.28166154e-02, -1.76319529e+00, -1.36781509e+00,  3.38997332e-01,\n       -9.02658179e-01,  1.53213475e-01, -4.46363684e-02, -3.59491960e-01,\n       -6.98786633e-01,  4.39745319e-01, -1.02516940e+00,  9.90179000e-01,\n       -6.36872442e-01, -3.26619568e-01, -9.64866229e-01,  5.14796015e-03,\n        1.52482753e+00,  1.53822692e-01, -6.74430882e-01, -1.51520762e-01,\n       -8.21153934e-01,  8.88939424e-01, -1.32990443e+00, -1.16078268e-01,\n        7.77976514e-01,  5.67638479e-01,  5.40513402e-01,  3.65347638e-01,\n       -1.01736746e+00,  9.39190536e-01, -5.03654973e-01,  1.28285101e+00,\n       -8.62867233e-01, -1.73852626e-01, -3.63177945e-01,  4.48144679e-01,\n        1.90485082e-01,  6.37697226e-01, -4.28548616e-01, -1.33194141e-03,\n        6.86203867e-01,  1.61187574e+00,  1.41679552e-01,  1.95043606e+00,\n       -2.27379667e+00, -6.96719660e-02,  1.26018144e-01,  6.45781165e-01,\n       -9.61372773e-02,  2.78277000e-01,  1.57836401e-01, -8.14071756e-01,\n       -4.29903394e-01, -9.84103499e-02,  3.12148427e-01, -6.18998738e-01,\n        9.51522079e-02,  1.00249360e+00,  1.23316969e+00, -1.85853638e-02,\n        1.79321772e-01, -1.09510542e+00,  3.81493820e-01, -2.62415011e+00])"
      ]
     },
     "execution_count": 6,
     "metadata": {},
     "output_type": "execute_result"
    }
   ],
   "source": [
    "arr"
   ]
  },
  {
   "cell_type": "code",
   "execution_count": 7,
   "metadata": {},
   "outputs": [
    {
     "data": {
      "text/plain": [
       "-6.26307534698422"
      ]
     },
     "execution_count": 7,
     "metadata": {},
     "output_type": "execute_result"
    }
   ],
   "source": [
    "arr.sum()"
   ]
  },
  {
   "cell_type": "code",
   "execution_count": 9,
   "metadata": {},
   "outputs": [
    {
     "data": {
      "text/plain": [
       "48"
      ]
     },
     "execution_count": 9,
     "metadata": {},
     "output_type": "execute_result"
    }
   ],
   "source": [
    "(arr>0).sum()"
   ]
  },
  {
   "cell_type": "code",
   "execution_count": 10,
   "metadata": {},
   "outputs": [
    {
     "data": {
      "text/plain": [
       "True"
      ]
     },
     "execution_count": 10,
     "metadata": {},
     "output_type": "execute_result"
    }
   ],
   "source": [
    "arr.any()"
   ]
  },
  {
   "cell_type": "code",
   "execution_count": 11,
   "metadata": {},
   "outputs": [
    {
     "data": {
      "text/plain": [
       "array([ 1.84984668e+00, -6.03953432e-03,  4.34632747e-01, -5.66104407e-01,\n       -8.97271636e-01, -1.40449809e+00,  1.57121658e+00, -3.24409104e-01,\n        1.22390171e+00, -3.38530361e-01,  1.32738988e+00,  7.43073836e-01,\n        3.48761572e-01,  3.73084930e-01,  1.34328091e+00, -8.75622032e-01,\n       -1.56150522e+00, -2.04820054e+00, -7.30320878e-01, -4.93318032e-01,\n       -3.60064722e-01, -2.75800095e+00,  1.25821374e-01,  3.49130987e-01,\n       -1.93073465e+00,  9.58736213e-01, -1.18504446e+00, -5.31163160e-02,\n        9.89221459e-01, -1.62299803e-01,  2.00111733e-01, -4.55662943e-01,\n       -5.25200504e-01, -2.32250504e-01,  6.95139793e-01,  1.71517885e+00,\n        2.28166154e-02, -1.76319529e+00, -1.36781509e+00,  3.38997332e-01,\n       -9.02658179e-01,  1.53213475e-01, -4.46363684e-02, -3.59491960e-01,\n       -6.98786633e-01,  4.39745319e-01, -1.02516940e+00,  9.90179000e-01,\n       -6.36872442e-01, -3.26619568e-01, -9.64866229e-01,  5.14796015e-03,\n        1.52482753e+00,  1.53822692e-01, -6.74430882e-01, -1.51520762e-01,\n       -8.21153934e-01,  8.88939424e-01, -1.32990443e+00, -1.16078268e-01,\n        7.77976514e-01,  5.67638479e-01,  5.40513402e-01,  3.65347638e-01,\n       -1.01736746e+00,  9.39190536e-01, -5.03654973e-01,  1.28285101e+00,\n       -8.62867233e-01, -1.73852626e-01, -3.63177945e-01,  4.48144679e-01,\n        1.90485082e-01,  6.37697226e-01, -4.28548616e-01, -1.33194141e-03,\n        6.86203867e-01,  1.61187574e+00,  1.41679552e-01,  1.95043606e+00,\n       -2.27379667e+00, -6.96719660e-02,  1.26018144e-01,  6.45781165e-01,\n       -9.61372773e-02,  2.78277000e-01,  1.57836401e-01, -8.14071756e-01,\n       -4.29903394e-01, -9.84103499e-02,  3.12148427e-01, -6.18998738e-01,\n        9.51522079e-02,  1.00249360e+00,  1.23316969e+00, -1.85853638e-02,\n        1.79321772e-01, -1.09510542e+00,  3.81493820e-01, -2.62415011e+00])"
      ]
     },
     "execution_count": 11,
     "metadata": {},
     "output_type": "execute_result"
    }
   ],
   "source": [
    "arr"
   ]
  },
  {
   "cell_type": "code",
   "execution_count": 14,
   "metadata": {},
   "outputs": [],
   "source": [
    "arr2=np.where(arr>0,True,False)"
   ]
  },
  {
   "cell_type": "code",
   "execution_count": 15,
   "metadata": {},
   "outputs": [
    {
     "data": {
      "text/plain": [
       "array([ True, False,  True, False, False, False,  True, False,  True,\n       False,  True,  True,  True,  True,  True, False, False, False,\n       False, False, False, False,  True,  True, False,  True, False,\n       False,  True, False,  True, False, False, False,  True,  True,\n        True, False, False,  True, False,  True, False, False, False,\n        True, False,  True, False, False, False,  True,  True,  True,\n       False, False, False,  True, False, False,  True,  True,  True,\n        True, False,  True, False,  True, False, False, False,  True,\n        True,  True, False, False,  True,  True,  True,  True, False,\n       False,  True,  True, False,  True,  True, False, False, False,\n        True, False,  True,  True,  True, False,  True, False,  True,\n       False])"
      ]
     },
     "execution_count": 15,
     "metadata": {},
     "output_type": "execute_result"
    }
   ],
   "source": [
    "arr2"
   ]
  },
  {
   "cell_type": "code",
   "execution_count": 16,
   "metadata": {},
   "outputs": [
    {
     "data": {
      "text/plain": [
       "48"
      ]
     },
     "execution_count": 16,
     "metadata": {},
     "output_type": "execute_result"
    }
   ],
   "source": [
    "arr2.sum()"
   ]
  },
  {
   "cell_type": "code",
   "execution_count": 17,
   "metadata": {},
   "outputs": [],
   "source": [
    "arr.sort()"
   ]
  },
  {
   "cell_type": "code",
   "execution_count": 18,
   "metadata": {},
   "outputs": [
    {
     "data": {
      "text/plain": [
       "array([-2.75800095e+00, -2.62415011e+00, -2.27379667e+00, -2.04820054e+00,\n       -1.93073465e+00, -1.76319529e+00, -1.56150522e+00, -1.40449809e+00,\n       -1.36781509e+00, -1.32990443e+00, -1.18504446e+00, -1.09510542e+00,\n       -1.02516940e+00, -1.01736746e+00, -9.64866229e-01, -9.02658179e-01,\n       -8.97271636e-01, -8.75622032e-01, -8.62867233e-01, -8.21153934e-01,\n       -8.14071756e-01, -7.30320878e-01, -6.98786633e-01, -6.74430882e-01,\n       -6.36872442e-01, -6.18998738e-01, -5.66104407e-01, -5.25200504e-01,\n       -5.03654973e-01, -4.93318032e-01, -4.55662943e-01, -4.29903394e-01,\n       -4.28548616e-01, -3.63177945e-01, -3.60064722e-01, -3.59491960e-01,\n       -3.38530361e-01, -3.26619568e-01, -3.24409104e-01, -2.32250504e-01,\n       -1.73852626e-01, -1.62299803e-01, -1.51520762e-01, -1.16078268e-01,\n       -9.84103499e-02, -9.61372773e-02, -6.96719660e-02, -5.31163160e-02,\n       -4.46363684e-02, -1.85853638e-02, -6.03953432e-03, -1.33194141e-03,\n        5.14796015e-03,  2.28166154e-02,  9.51522079e-02,  1.25821374e-01,\n        1.26018144e-01,  1.41679552e-01,  1.53213475e-01,  1.53822692e-01,\n        1.57836401e-01,  1.79321772e-01,  1.90485082e-01,  2.00111733e-01,\n        2.78277000e-01,  3.12148427e-01,  3.38997332e-01,  3.48761572e-01,\n        3.49130987e-01,  3.65347638e-01,  3.73084930e-01,  3.81493820e-01,\n        4.34632747e-01,  4.39745319e-01,  4.48144679e-01,  5.40513402e-01,\n        5.67638479e-01,  6.37697226e-01,  6.45781165e-01,  6.86203867e-01,\n        6.95139793e-01,  7.43073836e-01,  7.77976514e-01,  8.88939424e-01,\n        9.39190536e-01,  9.58736213e-01,  9.89221459e-01,  9.90179000e-01,\n        1.00249360e+00,  1.22390171e+00,  1.23316969e+00,  1.28285101e+00,\n        1.32738988e+00,  1.34328091e+00,  1.52482753e+00,  1.57121658e+00,\n        1.61187574e+00,  1.71517885e+00,  1.84984668e+00,  1.95043606e+00])"
      ]
     },
     "execution_count": 18,
     "metadata": {},
     "output_type": "execute_result"
    }
   ],
   "source": [
    "arr"
   ]
  },
  {
   "cell_type": "code",
   "execution_count": 19,
   "metadata": {},
   "outputs": [
    {
     "data": {
      "text/plain": [
       "array([-2.75800095e+00, -2.62415011e+00, -2.27379667e+00, -2.04820054e+00,\n       -1.93073465e+00, -1.76319529e+00, -1.56150522e+00, -1.40449809e+00,\n       -1.36781509e+00, -1.32990443e+00, -1.18504446e+00, -1.09510542e+00,\n       -1.02516940e+00, -1.01736746e+00, -9.64866229e-01, -9.02658179e-01,\n       -8.97271636e-01, -8.75622032e-01, -8.62867233e-01, -8.21153934e-01,\n       -8.14071756e-01, -7.30320878e-01, -6.98786633e-01, -6.74430882e-01,\n       -6.36872442e-01, -6.18998738e-01, -5.66104407e-01, -5.25200504e-01,\n       -5.03654973e-01, -4.93318032e-01, -4.55662943e-01, -4.29903394e-01,\n       -4.28548616e-01, -3.63177945e-01, -3.60064722e-01, -3.59491960e-01,\n       -3.38530361e-01, -3.26619568e-01, -3.24409104e-01, -2.32250504e-01,\n       -1.73852626e-01, -1.62299803e-01, -1.51520762e-01, -1.16078268e-01,\n       -9.84103499e-02, -9.61372773e-02, -6.96719660e-02, -5.31163160e-02,\n       -4.46363684e-02, -1.85853638e-02, -6.03953432e-03, -1.33194141e-03,\n        5.14796015e-03,  2.28166154e-02,  9.51522079e-02,  1.25821374e-01,\n        1.26018144e-01,  1.41679552e-01,  1.53213475e-01,  1.53822692e-01,\n        1.57836401e-01,  1.79321772e-01,  1.90485082e-01,  2.00111733e-01,\n        2.78277000e-01,  3.12148427e-01,  3.38997332e-01,  3.48761572e-01,\n        3.49130987e-01,  3.65347638e-01,  3.73084930e-01,  3.81493820e-01,\n        4.34632747e-01,  4.39745319e-01,  4.48144679e-01,  5.40513402e-01,\n        5.67638479e-01,  6.37697226e-01,  6.45781165e-01,  6.86203867e-01,\n        6.95139793e-01,  7.43073836e-01,  7.77976514e-01,  8.88939424e-01,\n        9.39190536e-01,  9.58736213e-01,  9.89221459e-01,  9.90179000e-01,\n        1.00249360e+00,  1.22390171e+00,  1.23316969e+00,  1.28285101e+00,\n        1.32738988e+00,  1.34328091e+00,  1.52482753e+00,  1.57121658e+00,\n        1.61187574e+00,  1.71517885e+00,  1.84984668e+00,  1.95043606e+00])"
      ]
     },
     "execution_count": 19,
     "metadata": {},
     "output_type": "execute_result"
    }
   ],
   "source": [
    "np.unique(arr)"
   ]
  },
  {
   "cell_type": "code",
   "execution_count": 20,
   "metadata": {},
   "outputs": [],
   "source": [
    "arr=np.random.randn(5,3)"
   ]
  },
  {
   "cell_type": "code",
   "execution_count": 21,
   "metadata": {},
   "outputs": [
    {
     "data": {
      "text/plain": [
       "array([[ 1.62501847, -0.08546013, -0.18432667],\n       [ 0.22045906, -0.12274378, -1.4605252 ],\n       [ 0.90225651,  0.08120726,  0.37361106],\n       [ 0.83766328,  0.24535649, -0.44322096],\n       [-0.56756442,  0.8292632 , -0.30032537]])"
      ]
     },
     "execution_count": 21,
     "metadata": {},
     "output_type": "execute_result"
    }
   ],
   "source": [
    "arr"
   ]
  },
  {
   "cell_type": "code",
   "execution_count": 22,
   "metadata": {},
   "outputs": [
    {
     "data": {
      "text/plain": [
       "array([ 0.45174389, -0.45426997,  0.45235827,  0.21326627, -0.01287553])"
      ]
     },
     "execution_count": 22,
     "metadata": {},
     "output_type": "execute_result"
    }
   ],
   "source": [
    "arr.mean(axis=1)"
   ]
  },
  {
   "cell_type": "code",
   "execution_count": 23,
   "metadata": {},
   "outputs": [
    {
     "data": {
      "text/plain": [
       "array([[ 1.62501847, -0.08546013, -0.18432667],\n       [ 0.22045906, -0.12274378, -1.4605252 ],\n       [ 0.90225651,  0.08120726,  0.37361106],\n       [ 0.83766328,  0.24535649, -0.44322096],\n       [-0.56756442,  0.8292632 , -0.30032537]])"
      ]
     },
     "execution_count": 23,
     "metadata": {},
     "output_type": "execute_result"
    }
   ],
   "source": [
    "arr"
   ]
  },
  {
   "cell_type": "code",
   "execution_count": 25,
   "metadata": {},
   "outputs": [
    {
     "data": {
      "text/plain": [
       "array([ 0.45174389, -0.45426997,  0.45235827,  0.21326627, -0.01287553])"
      ]
     },
     "execution_count": 25,
     "metadata": {},
     "output_type": "execute_result"
    }
   ],
   "source": [
    "arr2=arr.mean(axis=1)\n",
    "arr2"
   ]
  },
  {
   "cell_type": "code",
   "execution_count": 28,
   "metadata": {},
   "outputs": [
    {
     "data": {
      "text/plain": [
       "array([[-1.54263869, -0.16522276,  1.69415283,  1.50996709],\n       [-1.11339292,  0.6174794 , -0.66353242,  0.1856653 ],\n       [ 0.41832076,  0.50556986,  0.90065598,  0.73266187],\n       [-1.17191066, -0.67588965, -0.97291652,  0.52003328]])"
      ]
     },
     "execution_count": 28,
     "metadata": {},
     "output_type": "execute_result"
    }
   ],
   "source": [
    "np.random.normal(size=(4,4))"
   ]
  },
  {
   "cell_type": "code",
   "execution_count": 31,
   "metadata": {},
   "outputs": [
    {
     "data": {
      "text/plain": [
       "array([[0.02960884, 0.74002643, 0.76787667],\n       [0.80245443, 0.1819588 , 0.36769807]])"
      ]
     },
     "execution_count": 31,
     "metadata": {},
     "output_type": "execute_result"
    }
   ],
   "source": [
    "np.random.rand(2,3)"
   ]
  },
  {
   "cell_type": "code",
   "execution_count": 33,
   "metadata": {},
   "outputs": [
    {
     "data": {
      "text/plain": [
       "array([[2, 5, 9],\n       [6, 2, 7]], dtype=int64)"
      ]
     },
     "execution_count": 33,
     "metadata": {},
     "output_type": "execute_result"
    }
   ],
   "source": [
    "np.random.randint(low=2,high=10,size=(2,3),dtype='int64')"
   ]
  },
  {
   "cell_type": "code",
   "execution_count": 34,
   "metadata": {},
   "outputs": [
    {
     "data": {
      "text/plain": [
       "array([[1, 0, 1],\n       [1, 1, 0]])"
      ]
     },
     "execution_count": 34,
     "metadata": {},
     "output_type": "execute_result"
    }
   ],
   "source": [
    "np.random.binomial(3,0.1,size=(2,3))"
   ]
  },
  {
   "cell_type": "code",
   "execution_count": 35,
   "metadata": {},
   "outputs": [
    {
     "data": {
      "text/plain": [
       "array([[ 0.00294432,  1.22015084],\n       [-0.31913346, -1.05980967]])"
      ]
     },
     "execution_count": 35,
     "metadata": {},
     "output_type": "execute_result"
    }
   ],
   "source": [
    "np.random.normal(size=(2,2))"
   ]
  },
  {
   "cell_type": "code",
   "execution_count": 39,
   "metadata": {},
   "outputs": [
    {
     "data": {
      "text/plain": [
       "array([0.44604919, 0.01371454, 0.71698987, 0.36180772, 0.15096887,\n       0.28833967, 0.70917404, 0.39793463, 0.17712597, 0.50629763,\n       0.69410652, 0.09024021, 0.24435223, 0.01448121, 0.44387067,\n       0.07917509, 0.18053498, 0.17583454, 0.21095502, 0.21088388,\n       0.25059365, 0.59322124, 0.67781359, 0.80149349, 0.54086765,\n       0.70081365, 0.19720442, 0.35762082, 0.37030697, 0.12739402,\n       0.66342381, 0.14822883, 0.02828356, 0.0047534 , 0.40665701,\n       0.79764894, 0.13640797, 0.15339084, 0.39434267, 0.27380241,\n       0.02559958, 0.3175853 , 0.32523417, 0.80355653, 0.44895183,\n       0.65045016, 0.05286792, 0.00465281, 0.11401837, 0.58561718,\n       0.27916956, 0.26498057, 0.25950472, 0.25286966, 0.26283325,\n       0.08426135, 0.48171527, 0.55050451, 0.55035128, 0.10929398,\n       0.43949938, 0.85445333, 0.01055144, 0.47356409, 0.21238285,\n       0.24776301, 0.45282314, 0.12936354, 0.08065309, 0.129812  ,\n       0.63019344, 0.40238311, 0.62676231, 0.39116814, 0.38928987,\n       0.01929395, 0.17217207, 0.93481203, 0.4791545 , 0.41847779,\n       0.09213415, 0.32689906, 0.23543483, 0.05090565, 0.38527089,\n       0.00123672, 0.03748056, 0.71664598, 0.10252001, 0.18129776,\n       0.55318779, 0.25953309, 0.51745461, 0.14275511, 0.29833104,\n       0.29151455, 0.32448914, 0.11802284, 0.44055298, 0.60856666])"
      ]
     },
     "execution_count": 39,
     "metadata": {},
     "output_type": "execute_result"
    }
   ],
   "source": [
    "np.random.beta(1,2,size=100)"
   ]
  },
  {
   "cell_type": "code",
   "execution_count": 38,
   "metadata": {},
   "outputs": [
    {
     "ename": "TypeError",
     "evalue": "chisquare() takes at least 1 positional argument (0 given)",
     "output_type": "error",
     "traceback": [
      "\u001b[1;31m---------------------------------------------------------------------------\u001b[0m",
      "\u001b[1;31mTypeError\u001b[0m                                 Traceback (most recent call last)",
      "\u001b[1;32m<ipython-input-38-69e4750906e2>\u001b[0m in \u001b[0;36m<module>\u001b[1;34m()\u001b[0m\n\u001b[1;32m----> 1\u001b[1;33m \u001b[0mnp\u001b[0m\u001b[1;33m.\u001b[0m\u001b[0mrandom\u001b[0m\u001b[1;33m.\u001b[0m\u001b[0mchisquare\u001b[0m\u001b[1;33m(\u001b[0m\u001b[0msize\u001b[0m\u001b[1;33m=\u001b[0m\u001b[1;33m(\u001b[0m\u001b[1;36m2\u001b[0m\u001b[1;33m,\u001b[0m\u001b[1;36m2\u001b[0m\u001b[1;33m)\u001b[0m\u001b[1;33m)\u001b[0m\u001b[1;33m\u001b[0m\u001b[0m\n\u001b[0m",
      "\u001b[1;32mmtrand.pyx\u001b[0m in \u001b[0;36mmtrand.RandomState.chisquare\u001b[1;34m()\u001b[0m\n",
      "\u001b[1;31mTypeError\u001b[0m: chisquare() takes at least 1 positional argument (0 given)"
     ]
    }
   ],
   "source": [
    "np.random.chisquare()"
   ]
  },
  {
   "cell_type": "code",
   "execution_count": 40,
   "metadata": {},
   "outputs": [
    {
     "data": {
      "text/plain": [
       "array([0, 1, 0, 1, 1, 0, 1, 1, 1, 1])"
      ]
     },
     "execution_count": 40,
     "metadata": {},
     "output_type": "execute_result"
    }
   ],
   "source": [
    "np.random.randint(low=0,high=2,size=10)"
   ]
  },
  {
   "cell_type": "code",
   "execution_count": 46,
   "metadata": {},
   "outputs": [
    {
     "data": {
      "text/plain": [
       "array([ 9, 15, 24, 32, 36, 44, 49, 53, 57], dtype=int32)"
      ]
     },
     "execution_count": 46,
     "metadata": {},
     "output_type": "execute_result"
    }
   ],
   "source": [
    "arr=np.random.randint(1,10,size=(3,3))\n",
    "arr.cumsum()\n"
   ]
  },
  {
   "cell_type": "code",
   "execution_count": 3,
   "metadata": {},
   "outputs": [],
   "source": [
    "import numpy as np\n"
   ]
  },
  {
   "cell_type": "code",
   "execution_count": 10,
   "metadata": {},
   "outputs": [
    {
     "ename": "ValueError",
     "evalue": "invalid literal for int() with base 10: 'Smith'",
     "output_type": "error",
     "traceback": [
      "\u001b[1;31m---------------------------------------------------------------------------\u001b[0m",
      "\u001b[1;31mValueError\u001b[0m                                Traceback (most recent call last)",
      "\u001b[1;32m<ipython-input-10-358c511de9bd>\u001b[0m in \u001b[0;36m<module>\u001b[1;34m\u001b[0m\n\u001b[0;32m      3\u001b[0m     \u001b[1;33m(\u001b[0m\u001b[1;34m'Height'\u001b[0m\u001b[1;33m,\u001b[0m\u001b[1;34m'f'\u001b[0m\u001b[1;33m)\u001b[0m\u001b[1;33m,\u001b[0m\u001b[1;33m(\u001b[0m\u001b[1;34m'Children'\u001b[0m\u001b[1;33m,\u001b[0m\u001b[1;34m'i4'\u001b[0m\u001b[1;33m,\u001b[0m\u001b[1;36m2\u001b[0m\u001b[1;33m)\u001b[0m\u001b[1;33m\u001b[0m\u001b[0m\n\u001b[0;32m      4\u001b[0m ])\n\u001b[1;32m----> 5\u001b[1;33m \u001b[0ms\u001b[0m\u001b[1;33m=\u001b[0m\u001b[0mnp\u001b[0m\u001b[1;33m.\u001b[0m\u001b[0marray\u001b[0m\u001b[1;33m(\u001b[0m\u001b[1;33m[\u001b[0m\u001b[1;33m[\u001b[0m\u001b[1;34m'Smith'\u001b[0m\u001b[1;33m,\u001b[0m\u001b[1;36m45\u001b[0m\u001b[1;33m,\u001b[0m\u001b[1;36m1.83\u001b[0m\u001b[1;33m,\u001b[0m\u001b[1;33m(\u001b[0m\u001b[1;36m0\u001b[0m\u001b[1;33m,\u001b[0m\u001b[1;36m1\u001b[0m\u001b[1;33m)\u001b[0m\u001b[1;33m]\u001b[0m\u001b[1;33m]\u001b[0m\u001b[1;33m,\u001b[0m\u001b[0mdtype\u001b[0m\u001b[1;33m=\u001b[0m\u001b[0mdt\u001b[0m\u001b[1;33m)\u001b[0m\u001b[1;33m\u001b[0m\u001b[0m\n\u001b[0m",
      "\u001b[1;31mValueError\u001b[0m: invalid literal for int() with base 10: 'Smith'"
     ]
    }
   ],
   "source": [
    "dt=np.dtype([\n",
    "    ('name','S'),('age','i4'),\n",
    "    ('Height','f'),('Children','i4',2)\n",
    "])\n",
    "s=np.array([['Smith',45,1.83,(0,1)]],dtype=dt)"
   ]
  },
  {
   "cell_type": "code",
   "execution_count": 1,
   "metadata": {},
   "outputs": [],
   "source": [
    "import numpy as np"
   ]
  },
  {
   "cell_type": "code",
   "execution_count": 2,
   "metadata": {},
   "outputs": [],
   "source": [
    "arr=np.array([[3,1,1],[2,0,2],[1,3,0]])"
   ]
  },
  {
   "cell_type": "code",
   "execution_count": 3,
   "metadata": {},
   "outputs": [],
   "source": [
    "inv=np.linalg.inv(arr)"
   ]
  },
  {
   "cell_type": "code",
   "execution_count": 4,
   "metadata": {},
   "outputs": [
    {
     "data": {
      "text/plain": "array([[ 0.6, -0.3, -0.2],\n       [-0.2,  0.1,  0.4],\n       [-0.6,  0.8,  0.2]])"
     },
     "execution_count": 4,
     "metadata": {},
     "output_type": "execute_result"
    }
   ],
   "source": [
    "inv"
   ]
  },
  {
   "cell_type": "code",
   "execution_count": 5,
   "metadata": {},
   "outputs": [],
   "source": [
    "a=np.array([3,4,5])"
   ]
  },
  {
   "cell_type": "code",
   "execution_count": 6,
   "metadata": {},
   "outputs": [
    {
     "data": {
      "text/plain": "array([3, 4, 5])"
     },
     "execution_count": 6,
     "metadata": {},
     "output_type": "execute_result"
    }
   ],
   "source": [
    "a.T|"
   ]
  },
  {
   "cell_type": "code",
   "execution_count": 7,
   "metadata": {},
   "outputs": [
    {
     "data": {
      "text/plain": "array([3, 4, 5])"
     },
     "execution_count": 7,
     "metadata": {},
     "output_type": "execute_result"
    }
   ],
   "source": [
    "A"
   ]
  },
  {
   "cell_type": "code",
   "execution_count": 8,
   "metadata": {},
   "outputs": [
    {
     "data": {
      "text/plain": "array([-0.4,  1.8,  2.4])"
     },
     "execution_count": 8,
     "metadata": {},
     "output_type": "execute_result"
    }
   ],
   "source": [
    "inv@a"
   ]
  },
  {
   "cell_type": "code",
   "execution_count": 10,
   "metadata": {},
   "outputs": [
    {
     "data": {
      "text/plain": "50"
     },
     "execution_count": 10,
     "metadata": {},
     "output_type": "execute_result"
    }
   ],
   "source": [
    "a.T@a"
   ]
  },
  {
   "cell_type": "code",
   "execution_count": null,
   "metadata": {},
   "outputs": [],
   "source": []
  }
 ],
 "metadata": {
  "kernelspec": {
   "display_name": "Python 2",
   "language": "python",
   "name": "python2"
  },
  "language_info": {
   "codemirror_mode": {
    "name": "ipython",
    "version": 2
   },
   "file_extension": ".py",
   "mimetype": "text/x-python",
   "name": "python",
   "nbconvert_exporter": "python",
   "pygments_lexer": "ipython2",
   "version": "2.7.6"
  }
 },
 "nbformat": 4,
 "nbformat_minor": 0
}